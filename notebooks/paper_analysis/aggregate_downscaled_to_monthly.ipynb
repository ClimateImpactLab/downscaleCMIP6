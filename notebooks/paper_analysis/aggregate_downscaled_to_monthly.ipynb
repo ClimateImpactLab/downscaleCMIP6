{
 "cells": [
  {
   "cell_type": "markdown",
   "id": "05ff0aba-3909-486d-9839-2bf980b8b9f2",
   "metadata": {},
   "source": [
    "### This workflow resamples downscaled CMIP6 data to a monthly temporal resolution. ### "
   ]
  },
  {
   "cell_type": "markdown",
   "id": "475fd114-69ad-48b4-ac63-2779d38719a4",
   "metadata": {},
   "source": [
    "`gs://{CRS_SUPPORT_BUCKET}/internal_datasets/climate/CMIP6/gridded-climate-data` "
   ]
  },
  {
   "cell_type": "code",
   "execution_count": 1,
   "id": "7c1acbb4-c822-4691-8af2-ca3c138532d3",
   "metadata": {},
   "outputs": [],
   "source": [
    "%matplotlib inline \n",
    "import xarray as xr \n",
    "import os\n",
    "import sys\n",
    "import matplotlib.pyplot as plt\n",
    "import numpy as np\n",
    "\n",
    "sys.path.insert(1, '/home/jovyan/downscaleCMIP6/notebooks/downscaling_pipeline/post_processing_and_delivery/')\n",
    "import dc6_functions\n",
    "\n",
    "# OLD BUCKET\n",
    "bucket = os.environ['CRS_SUPPORT_BUCKET']\n",
    "\n",
    "# NEW support BUCKET\n",
    "bucket = 'support-f8a48a9e'\n",
    "\n",
    "ds_bucket = 'downscaled-48ec31ab'"
   ]
  },
  {
   "cell_type": "code",
   "execution_count": 2,
   "id": "809c07f7-f92f-4fa5-b6ce-6e1f18935a74",
   "metadata": {},
   "outputs": [
    {
     "name": "stderr",
     "output_type": "stream",
     "text": [
      "/tmp/ipykernel_17967/3435993731.py:2: DeprecationWarning: rhg_compute_tools and the associated command-line application rctools are\n",
      "deprecated on catalyst clusters. use catalyst_compute_tools instead.\n",
      "See https://gitlab.com/crs-catalyst/infrastructure/catalyst_compute_tools/-/issues/1\n",
      "  import rhg_compute_tools.kubernetes as rhgk\n"
     ]
    }
   ],
   "source": [
    "import dask\n",
    "import rhg_compute_tools.kubernetes as rhgk\n",
    "import rhg_compute_tools.utils as rhgu\n",
    "import dask.distributed as dd\n",
    "import zarr\n",
    "from tqdm.auto import tqdm"
   ]
  },
  {
   "cell_type": "code",
   "execution_count": 3,
   "id": "a4ab85a3-01be-44f7-b8ed-60cf931d85bd",
   "metadata": {},
   "outputs": [
    {
     "name": "stdout",
     "output_type": "stream",
     "text": [
      "2022.3.0\n"
     ]
    }
   ],
   "source": [
    "print(xr.__version__)"
   ]
  },
  {
   "cell_type": "code",
   "execution_count": 4,
   "id": "9ca96d95-abee-476a-b1fb-cefbab4dc1be",
   "metadata": {},
   "outputs": [
    {
     "name": "stdout",
     "output_type": "stream",
     "text": [
      "2.11.3\n"
     ]
    }
   ],
   "source": [
    "print(zarr.__version__)"
   ]
  },
  {
   "cell_type": "code",
   "execution_count": 5,
   "id": "639b52dd-4576-4622-b87b-94017627d632",
   "metadata": {},
   "outputs": [
    {
     "name": "stdout",
     "output_type": "stream",
     "text": [
      "\n"
     ]
    }
   ],
   "source": [
    "print()"
   ]
  },
  {
   "cell_type": "code",
   "execution_count": 6,
   "id": "d2f8c9f5-4ad0-4ebd-a33c-d9e12974e323",
   "metadata": {},
   "outputs": [
    {
     "data": {
      "text/plain": [
       "'support-f8a48a9e'"
      ]
     },
     "execution_count": 6,
     "metadata": {},
     "output_type": "execute_result"
    }
   ],
   "source": [
    "bucket"
   ]
  },
  {
   "cell_type": "markdown",
   "id": "fb9e08e4-8610-4c53-bb16-d4bc19fe674e",
   "metadata": {},
   "source": [
    "`downscaled-48ec31ab/derived/monthly-aggregates-v1.1/`"
   ]
  },
  {
   "cell_type": "code",
   "execution_count": 7,
   "id": "7a221414-b5c5-4547-a7ca-defce3eb937b",
   "metadata": {},
   "outputs": [],
   "source": [
    "client, cluster = rhgk.get_standard_cluster()"
   ]
  },
  {
   "cell_type": "code",
   "execution_count": 8,
   "id": "71551f93-6b89-4506-855c-7deb4dc5c279",
   "metadata": {},
   "outputs": [
    {
     "data": {
      "application/vnd.jupyter.widget-view+json": {
       "model_id": "90bba0d7e00e445d999655918cd0c923",
       "version_major": 2,
       "version_minor": 0
      },
      "text/plain": [
       "VBox(children=(HTML(value='<h2>GatewayCluster</h2>'), HBox(children=(HTML(value='\\n<div>\\n<style scoped>\\n    …"
      ]
     },
     "metadata": {},
     "output_type": "display_data"
    }
   ],
   "source": [
    "cluster"
   ]
  },
  {
   "cell_type": "code",
   "execution_count": 25,
   "id": "01d8b881-9bb9-4baf-be59-4bb9eb40e7ab",
   "metadata": {},
   "outputs": [],
   "source": [
    "variables = ['tasmax', 'tavg', 'pr']\n",
    "models = dc6_functions.get_cmip6_models()\n",
    "institutions = dc6_functions.get_cmip6_institutions()\n",
    "ensemble_members = dc6_functions.get_cmip6_ensemble_members()\n",
    "# rename variable attributes\n",
    "long_names = {'tasmax': 'Monthly mean of Daily Maximum Near-Surface Air Temperature', 'tasmin': 'Monthly mean of Daily Minimum Near-Surface Air Temperature', 'pr': 'Monthly sum of Daily Total Precipitation', 'tavg': 'Monthly mean of Daily Average Near-Surface Air Temperature'}\n",
    "\n",
    "# test zarr \n",
    "# ds = xr.open_zarr('gs://{bucket}/internal_datasets/climate/CMIP6/gridded-climate-data/R_CIL_GDPCIR-v1.1/ScenarioMIP/MIROC/MIROC-ES2L/ssp370/r1i1p1f2/day/tasmax/v1.1.zarr'.format(bucket=CRS_SUPPORT_BUCKET))"
   ]
  },
  {
   "cell_type": "markdown",
   "id": "976b82ac-27da-4053-96a6-234b81c0e5d8",
   "metadata": {},
   "source": [
    "add pattern models to workflow "
   ]
  },
  {
   "cell_type": "code",
   "execution_count": 10,
   "id": "3660b510-8287-44af-8d3f-7e78d64d0d5c",
   "metadata": {},
   "outputs": [],
   "source": [
    "CMIP6_NONCOASTAL_PATTERN_MODELS_BY_SCENARIO = {\n",
    "    \"ssp245\": [\n",
    "        \"pattern_ssp245_1_0.96_INM-CM5-0\",\n",
    "        \"pattern_ssp245_2_0.96_INM-CM4-8\",\n",
    "        \"pattern_ssp245_3_1.14_MPI-ESM1-2-LR\",\n",
    "        \"pattern_ssp245_4_1.14_NorESM2-MM\",\n",
    "        \"pattern_ssp245_5_1.29_EC-Earth3-Veg-LR\",\n",
    "        \"pattern_ssp245_6_1.29_MIROC-ES2L\",\n",
    "        \"pattern_ssp245_14_1.74_EC-Earth3\",\n",
    "    ],\n",
    "    \"ssp370\": [\n",
    "        \"pattern_ssp370_1_1.68_NorESM2-LM\",\n",
    "        \"pattern_ssp370_2_1.68_MIROC6\",\n",
    "        \"pattern_ssp370_3_1.95_INM-CM5-0\",\n",
    "        \"pattern_ssp370_4_1.95_MIROC-ES2L\",\n",
    "        \"pattern_ssp370_5_2.12_EC-Earth3-Veg\",\n",
    "        \"pattern_ssp370_6_2.12_BCC-CSM2-MR\",\n",
    "        \"pattern_ssp370_16_2.89_ACCESS-CM2\",\n",
    "        \"pattern_ssp370_17_2.89_EC-Earth3-Veg-LR\",\n",
    "    ],\n",
    "}"
   ]
  },
  {
   "cell_type": "code",
   "execution_count": 11,
   "id": "ed04bf92-60ea-43cf-9c9d-a30bcf385d5c",
   "metadata": {},
   "outputs": [
    {
     "name": "stdout",
     "output_type": "stream",
     "text": [
      "pattern_ssp245_1_0.96_INM-CM5-0\n",
      "pattern_ssp245_2_0.96_INM-CM4-8\n",
      "pattern_ssp245_3_1.14_MPI-ESM1-2-LR\n",
      "pattern_ssp245_4_1.14_NorESM2-MM\n",
      "pattern_ssp245_5_1.29_EC-Earth3-Veg-LR\n",
      "pattern_ssp245_6_1.29_MIROC-ES2L\n",
      "pattern_ssp245_14_1.74_EC-Earth3\n"
     ]
    }
   ],
   "source": [
    "for model in CMIP6_NONCOASTAL_PATTERN_MODELS_BY_SCENARIO['ssp245']:\n",
    "    print(model)"
   ]
  },
  {
   "cell_type": "markdown",
   "id": "6fa71044-63f7-427c-a86e-8be3c1fe9017",
   "metadata": {},
   "source": [
    "### previously, we updated the list of models to only include those for which we have waivers (e.g. BLK list) ### \n",
    "\n",
    "As of 4/17/2023, where this workflow is now being used for the downscaling paper, we now include all models. "
   ]
  },
  {
   "cell_type": "code",
   "execution_count": 12,
   "id": "89add357-52bc-405a-be97-10bea1236145",
   "metadata": {},
   "outputs": [],
   "source": [
    "add_models = ['CanESM5', 'CMCC-ESM2', 'CMCC-CM2-SR5']"
   ]
  },
  {
   "cell_type": "markdown",
   "id": "7736627e-9537-4c97-89fd-3bb567be45c4",
   "metadata": {},
   "source": [
    "old code from when we restricted models for BLK due to licensing restrictions, and this wasn't being used for downscaling"
   ]
  },
  {
   "cell_type": "code",
   "execution_count": 13,
   "id": "a2d84c68-be13-4e59-a436-0af4c4f8f7c7",
   "metadata": {},
   "outputs": [
    {
     "data": {
      "text/plain": [
       "\"models_to_remove = ['CanESM5', 'CMCC-ESM2', 'CMCC-CM2-SR5']\\nfor k in models_to_remove:\\n    models.pop(k, None)\\nassert len(models) == 22\""
      ]
     },
     "execution_count": 13,
     "metadata": {},
     "output_type": "execute_result"
    }
   ],
   "source": [
    "'''models_to_remove = ['CanESM5', 'CMCC-ESM2', 'CMCC-CM2-SR5']\n",
    "for k in models_to_remove:\n",
    "    models.pop(k, None)\n",
    "assert len(models) == 22'''"
   ]
  },
  {
   "cell_type": "code",
   "execution_count": 14,
   "id": "5e74568b-9558-405c-99d5-7a571c4798e0",
   "metadata": {},
   "outputs": [],
   "source": [
    "# print(models)\n",
    "\n",
    "# wanted_keys = ['BCC-CSM2-MR', 'FGOALS-g3'] # The keys you want\n",
    "wanted_keys = ['CanESM5', 'CMCC-ESM2', 'CMCC-CM2-SR5'] # The keys you want\n",
    "models_subset = dict((k, models[k]) for k in wanted_keys if k in models)"
   ]
  },
  {
   "cell_type": "code",
   "execution_count": 15,
   "id": "17f95f51-f96d-4ab4-bccc-5308bccfda4d",
   "metadata": {},
   "outputs": [
    {
     "data": {
      "text/plain": [
       "{'CanESM5': ['historical', 'ssp126', 'ssp245', 'ssp370', 'ssp585'],\n",
       " 'CMCC-ESM2': ['historical', 'ssp126', 'ssp245', 'ssp370', 'ssp585'],\n",
       " 'CMCC-CM2-SR5': ['historical', 'ssp126', 'ssp245', 'ssp370', 'ssp585']}"
      ]
     },
     "execution_count": 15,
     "metadata": {},
     "output_type": "execute_result"
    }
   ],
   "source": [
    "models_subset"
   ]
  },
  {
   "cell_type": "markdown",
   "id": "c84b1cce-3e97-4d2b-9e2b-4d23fd77853a",
   "metadata": {},
   "source": [
    "4/17/2023 update: run for models that previously had a non-commercial clause (now all are CC-BY), e.g. the above three models. Also, update all paths - downscaled data has been migrated. \n",
    "\n",
    "NOTE: pattern model paths below have not been updated, as they aren't used in the downscaling paper. So the below code for patt models will not run without paths being updated. "
   ]
  },
  {
   "cell_type": "code",
   "execution_count": null,
   "id": "9a0feae3-7916-456d-a005-6e71a0498366",
   "metadata": {},
   "outputs": [],
   "source": [
    "test_patt_model = xr.open_zarr('gs://support-data-cc7330d0/internal_datasets/climate/CMIP6/SMME/pattern-scaled-and-finalized-models/pattern-scaling-v1.0/ScenarioMIP/pattern_ssp245_1_0.96_INM-CM5-0/ssp245/day/tavg/v1.0.zarr')"
   ]
  },
  {
   "cell_type": "code",
   "execution_count": null,
   "id": "ae9330d5-09af-4130-9578-d07c6fd2f20d",
   "metadata": {},
   "outputs": [],
   "source": [
    "test_patt_model"
   ]
  },
  {
   "cell_type": "code",
   "execution_count": 24,
   "id": "b48f090f-08e7-404e-b453-129693953467",
   "metadata": {},
   "outputs": [
    {
     "name": "stdout",
     "output_type": "stream",
     "text": [
      "gs://downscaled-48ec31ab/derived/monthly-aggregates-v1.1/ScenarioMIP/INM/INM-CM5-0/ssp245/r1i1p1f1/month/\n"
     ]
    }
   ],
   "source": [
    "! gsutil ls gs://downscaled-48ec31ab/derived/monthly-aggregates-v1.1/ScenarioMIP/INM/INM-CM5-0/ssp245/*"
   ]
  },
  {
   "cell_type": "code",
   "execution_count": 17,
   "id": "00c9cb3e-5ef9-48e5-8a88-9b44ce6cf53f",
   "metadata": {},
   "outputs": [],
   "source": [
    "test_gcm_model = xr.open_zarr('gs://{ds_bucket}/derived/monthly-aggregates-v1.1/ScenarioMIP/INM/INM-CM5-0/ssp245/r1i1p1f1/month/tavg/v1.1.zarr'.format(ds_bucket=ds_bucket), consolidated=True)"
   ]
  },
  {
   "cell_type": "code",
   "execution_count": null,
   "id": "1e154a22-fb89-4d84-be43-8c252c5376b9",
   "metadata": {},
   "outputs": [],
   "source": []
  },
  {
   "cell_type": "code",
   "execution_count": 27,
   "id": "cb4c7172-fbe9-450c-a027-c60b50491fee",
   "metadata": {},
   "outputs": [],
   "source": [
    "# patt_slice = test_patt_model['tavg'].sel(time=slice(\"2015-01-01\", \"2015-07-01\")).load()"
   ]
  },
  {
   "cell_type": "code",
   "execution_count": 28,
   "id": "1d285b24-350f-4a99-a2dc-da5f9e4d22fa",
   "metadata": {},
   "outputs": [],
   "source": [
    "# test_patt_model['tavg'].resample(time=\"M\").mean()"
   ]
  },
  {
   "cell_type": "code",
   "execution_count": 18,
   "id": "a4bfe098-3dd7-40ed-aeb1-858aa92b8556",
   "metadata": {},
   "outputs": [],
   "source": [
    "def resample_monthly(ds, variable='tavg'):\n",
    "    if variable == 'pr':\n",
    "        da_monthly = ds[variable].resample(time=\"MS\").sum() # where M is for months\n",
    "    else: \n",
    "        da_monthly = ds[variable].resample(time=\"MS\").mean() # where M is for months\n",
    "    return da_monthly"
   ]
  },
  {
   "cell_type": "code",
   "execution_count": 19,
   "id": "5304f49e-cfca-49bc-96c7-367f14e6be3a",
   "metadata": {},
   "outputs": [],
   "source": [
    "# test_patt_model.isel(lat=0, lon=0).resample(time=\"M\").mean()"
   ]
  },
  {
   "cell_type": "code",
   "execution_count": 20,
   "id": "bdc2eec8-616f-44d6-bfa1-9a72c6eb220e",
   "metadata": {},
   "outputs": [],
   "source": [
    "# test_patt_model.time"
   ]
  },
  {
   "cell_type": "code",
   "execution_count": null,
   "id": "705f4f81-3952-47d2-8215-d88ea2f1ddc8",
   "metadata": {},
   "outputs": [],
   "source": [
    "time = xr.cftime_range(\"2015-01\", \"2101-01\", freq=\"M\", calendar='noleap')\n",
    "month = xr.DataArray(time.month, coords={\"time\": time}, dims=[\"time\"])\n",
    "np.random.seed(123)\n",
    "array = xr.DataArray(\n",
    "    np.random.rand(len(time), 720, 1440),\n",
    "    dims=[\"time\", \"lat\", \"lon\"],\n",
    "    coords={\"time\": time, \"lat\": test_patt_model.lat, \"lon\": test_patt_model.lon},\n",
    ").chunk({'time':12, 'lat': 90, 'lon': 90})"
   ]
  },
  {
   "cell_type": "code",
   "execution_count": null,
   "id": "b46f22d1-88fb-4e99-b67e-7ea9e71c504f",
   "metadata": {},
   "outputs": [],
   "source": [
    "test_resample = xr.map_blocks(resample_monthly, test_patt_model, template=array).compute()"
   ]
  },
  {
   "cell_type": "code",
   "execution_count": null,
   "id": "d2d4efc6-d439-4846-b746-ab2a01be58dc",
   "metadata": {},
   "outputs": [],
   "source": []
  },
  {
   "cell_type": "code",
   "execution_count": null,
   "id": "2e4cc245-38d6-436c-8c30-a5c49ea6561f",
   "metadata": {},
   "outputs": [],
   "source": [
    "test_resample = test_resample.persist()"
   ]
  },
  {
   "cell_type": "code",
   "execution_count": null,
   "id": "73352690-d126-4923-b46e-8cdd5303c3aa",
   "metadata": {},
   "outputs": [],
   "source": [
    "test_resample.to_dataset(name='tavg')"
   ]
  },
  {
   "cell_type": "markdown",
   "id": "63cff4bd-0697-4217-b1f6-1f3c87ba50b4",
   "metadata": {},
   "source": [
    "NOTE: updated `get_ds_path` function after Oregon trail migration, now using downscaling bucket vs CRS_SUPPORT_BUCKET"
   ]
  },
  {
   "cell_type": "code",
   "execution_count": 33,
   "id": "20edcd9d-1dbd-453c-a55b-c9b00de8d1f1",
   "metadata": {},
   "outputs": [],
   "source": [
    "# get downscaled zarr path (dc6_functions analog doesn't work on catalyst)\n",
    "def get_ds_path(bucket, version, institution, model, experiment, ensemble_member, variable, frequency):\n",
    "    if experiment == 'historical':\n",
    "        activity = 'CMIP'\n",
    "    else:\n",
    "        activity = 'ScenarioMIP'\n",
    "    # account for exception with historical institution being MPI-M and SSPs are DKRZ\n",
    "    if (model == 'MPI-ESM1-2-HR') and (experiment == 'historical'):\n",
    "        institution = 'MPI-M'\n",
    "    '''zarr_path = 'gs://{CRS_SUPPORT_BUCKET}/internal_datasets/climate/CMIP6/gridded-climate-data/R_CIL_GDPCIR-{version}/{activity_id}/{institution_id}/{source_id}/{experiment_id}/{member_id}/{table_id}/{variable_id}/{version}.zarr'.format(CRS_SUPPORT_BUCKET=bucket, \n",
    "    version=version, institution_id=institution, source_id=model, member_id=ensemble_member, variable_id=variable, activity_id=activity, experiment_id=experiment, table_id=frequency)'''\n",
    "    if frequency == 'day':\n",
    "        if variable == 'tavg':\n",
    "            # tavg daily data in a new location \n",
    "            zarr_path = 'gs://{ds_bucket}/derived/tavg-daily-v1.1/{activity_id}/{institution_id}/{source_id}/{experiment_id}/{member_id}/{table_id}/{variable_id}/{version}.zarr'.format(ds_bucket=ds_bucket, version=version, institution_id=institution, source_id=model, member_id=ensemble_member, variable_id=variable, activity_id=activity, experiment_id=experiment, table_id=frequency)\n",
    "        else:\n",
    "            zarr_path = 'gs://{bucket}/outputs/{activity_id}/{institution_id}/{source_id}/{experiment_id}/{member_id}/{table_id}/{variable_id}/{version}.zarr'.format(bucket=ds_bucket, \n",
    "            version=version, institution_id=institution, source_id=model, member_id=ensemble_member, variable_id=variable, activity_id=activity, experiment_id=experiment, table_id=frequency)\n",
    "    elif frequency == 'month':\n",
    "        zarr_path = 'gs://{ds_bucket}/derived/monthly-aggregates-v1.1/{activity_id}/{institution_id}/{source_id}/{experiment_id}/{member_id}/{table_id}/{variable_id}/{version}.zarr'.format(ds_bucket=ds_bucket, version=version, institution_id=institution, source_id=model, member_id=ensemble_member, variable_id=variable, activity_id=activity, experiment_id=experiment, table_id=frequency)\n",
    "    else: \n",
    "        raise ValueError(\"function not defined for this temporal frequency\")\n",
    "    \n",
    "    return zarr_path"
   ]
  },
  {
   "cell_type": "code",
   "execution_count": 17,
   "id": "252ac1a3-3d18-4020-9146-6b9fe0499788",
   "metadata": {},
   "outputs": [],
   "source": [
    "def get_patternmodel_path(bucket, pattern_model, scenario, variable, frequency):\n",
    "    \n",
    "    zarr_path = 'gs://{CRS_SUPPORT_BUCKET}/internal_datasets/climate/CMIP6/SMME/pattern-scaled-and-finalized-models/pattern-scaling-v1.0/ScenarioMIP/{pattern_model}/{scenario}/{table_id}/{variable_id}/v1.0.zarr'.format(CRS_SUPPORT_BUCKET=bucket, pattern_model=pattern_model, scenario=scenario, variable_id=variable, table_id=frequency)\n",
    "    \n",
    "    return zarr_path"
   ]
  },
  {
   "cell_type": "code",
   "execution_count": 18,
   "id": "5a344e91-3af5-4214-b958-ac65f7894b28",
   "metadata": {},
   "outputs": [],
   "source": [
    "# get_patternmodel_path(bucket, \"pattern_ssp370_1_1.68_NorESM2-LM\", \"ssp370\", \"tavg\", \"day\")"
   ]
  },
  {
   "cell_type": "code",
   "execution_count": 34,
   "id": "350f2d64-a720-4079-9a2c-c022ab30fe63",
   "metadata": {},
   "outputs": [],
   "source": [
    "def create_daily_downscaled_tavg(model, models_dict, institutions, ensemble_members, long_names):\n",
    "    \"\"\"\n",
    "    take in model and create daily tavg data for historical and SSPs  \n",
    "    \n",
    "    \"\"\"\n",
    "    \n",
    "    for scenario in models_dict[model]:\n",
    "    \n",
    "        ds_tasmax = xr.open_zarr(get_ds_path(bucket=bucket, version='v1.1', institution=institutions[model], model=model, experiment=scenario, ensemble_member=ensemble_members[model], variable='tasmax', frequency='day'), consolidated=True)\n",
    "        \n",
    "        tasmax = ds_tasmax['tasmax']\n",
    "\n",
    "        tasmin = xr.open_zarr(get_ds_path(bucket=bucket, version='v1.1', institution=institutions[model], model=model, experiment=scenario, ensemble_member=ensemble_members[model], variable='tasmin', frequency='day'), consolidated=True)['tasmin']\n",
    "\n",
    "        tavg = (tasmax + tasmin) / 2\n",
    "\n",
    "        # preserve but also update attributes \n",
    "        attrs = ds_tasmax.attrs\n",
    "        var_attrs = {'comment': 'average near-surface (usually, 2 meter) air temperature', \n",
    "                     'long_name': 'Daily Average Near-Surface Air Temperature', \n",
    "                     'standard_name': 'air_temperature', \n",
    "                     'units': 'K', \n",
    "                     'method': 'average of downscaled tasmax and downscaled tasmin'}\n",
    "\n",
    "        # update frequency and variable long_name\n",
    "        attrs['variable_id'] = 'tavg'\n",
    "\n",
    "\n",
    "        tavg = tavg.persist()\n",
    "        \n",
    "        tavg = tavg.to_dataset(name='tavg')\n",
    "        \n",
    "        tavg.attrs = attrs\n",
    "        tavg['tavg'].attrs = var_attrs\n",
    "\n",
    "        # define path for writing monthly output. same as input path except change table_id field \n",
    "        tavg_daily_path = get_ds_path(bucket=bucket, version='v1.1', institution=institutions[model], model=model, experiment=scenario, ensemble_member=ensemble_members[model], variable='tavg', frequency='day')\n",
    "\n",
    "        # write zarr\n",
    "        print(\"writing zarr to {}\".format(tavg_daily_path))\n",
    "        tavg.to_zarr(tavg_daily_path, consolidated=True, mode='w')\n",
    "        print(\"wrote zarr to {}\".format(tavg_daily_path))\n",
    "    \n",
    "    "
   ]
  },
  {
   "cell_type": "markdown",
   "id": "1d1fdefb-8de0-4035-a1df-23f8041941de",
   "metadata": {},
   "source": [
    "create downscaled tavg for new (previously non commercial, now cc-by) models "
   ]
  },
  {
   "cell_type": "code",
   "execution_count": 35,
   "id": "bc4f0145-2eac-4956-9500-769d075d3ee2",
   "metadata": {},
   "outputs": [
    {
     "data": {
      "text/plain": [
       "{'CanESM5': ['historical', 'ssp126', 'ssp245', 'ssp370', 'ssp585'],\n",
       " 'CMCC-ESM2': ['historical', 'ssp126', 'ssp245', 'ssp370', 'ssp585'],\n",
       " 'CMCC-CM2-SR5': ['historical', 'ssp126', 'ssp245', 'ssp370', 'ssp585']}"
      ]
     },
     "execution_count": 35,
     "metadata": {},
     "output_type": "execute_result"
    }
   ],
   "source": [
    "models_subset"
   ]
  },
  {
   "cell_type": "code",
   "execution_count": 23,
   "id": "3743517c-e651-4caf-967f-ab030e3f942b",
   "metadata": {},
   "outputs": [
    {
     "name": "stdout",
     "output_type": "stream",
     "text": [
      "writing zarr to gs://downscaled-48ec31ab/derived/tavg-daily-v1.1/CMIP/CMCC/CMCC-CM2-SR5/historical/r1i1p1f1/day/tavg/v1.1.zarr\n",
      "wrote zarr to gs://downscaled-48ec31ab/derived/tavg-daily-v1.1/CMIP/CMCC/CMCC-CM2-SR5/historical/r1i1p1f1/day/tavg/v1.1.zarr\n",
      "writing zarr to gs://downscaled-48ec31ab/derived/tavg-daily-v1.1/ScenarioMIP/CMCC/CMCC-CM2-SR5/ssp126/r1i1p1f1/day/tavg/v1.1.zarr\n",
      "wrote zarr to gs://downscaled-48ec31ab/derived/tavg-daily-v1.1/ScenarioMIP/CMCC/CMCC-CM2-SR5/ssp126/r1i1p1f1/day/tavg/v1.1.zarr\n",
      "writing zarr to gs://downscaled-48ec31ab/derived/tavg-daily-v1.1/ScenarioMIP/CMCC/CMCC-CM2-SR5/ssp245/r1i1p1f1/day/tavg/v1.1.zarr\n",
      "wrote zarr to gs://downscaled-48ec31ab/derived/tavg-daily-v1.1/ScenarioMIP/CMCC/CMCC-CM2-SR5/ssp245/r1i1p1f1/day/tavg/v1.1.zarr\n",
      "writing zarr to gs://downscaled-48ec31ab/derived/tavg-daily-v1.1/ScenarioMIP/CMCC/CMCC-CM2-SR5/ssp370/r1i1p1f1/day/tavg/v1.1.zarr\n",
      "wrote zarr to gs://downscaled-48ec31ab/derived/tavg-daily-v1.1/ScenarioMIP/CMCC/CMCC-CM2-SR5/ssp370/r1i1p1f1/day/tavg/v1.1.zarr\n",
      "writing zarr to gs://downscaled-48ec31ab/derived/tavg-daily-v1.1/ScenarioMIP/CMCC/CMCC-CM2-SR5/ssp585/r1i1p1f1/day/tavg/v1.1.zarr\n",
      "wrote zarr to gs://downscaled-48ec31ab/derived/tavg-daily-v1.1/ScenarioMIP/CMCC/CMCC-CM2-SR5/ssp585/r1i1p1f1/day/tavg/v1.1.zarr\n"
     ]
    }
   ],
   "source": [
    "# create_daily_downscaled_tavg(model, models_dict, institutions, ensemble_members, long_names)\n",
    "create_daily_downscaled_tavg('CMCC-CM2-SR5', models, institutions, ensemble_members, long_names)"
   ]
  },
  {
   "cell_type": "code",
   "execution_count": 26,
   "id": "646e823c-c1b8-491d-b164-edd563442fe7",
   "metadata": {},
   "outputs": [
    {
     "data": {
      "text/plain": [
       "['tasmax', 'tavg', 'pr']"
      ]
     },
     "execution_count": 26,
     "metadata": {},
     "output_type": "execute_result"
    }
   ],
   "source": [
    "variables"
   ]
  },
  {
   "cell_type": "code",
   "execution_count": 36,
   "id": "1fbea6ae-a5f4-482a-9d52-3aac9b6951d7",
   "metadata": {},
   "outputs": [],
   "source": [
    "def create_monthly_downscaled_data(model, models_dict, variables, institutions, ensemble_members, long_names):\n",
    "    \"\"\"\n",
    "    take in model and create monthly data for historical and SSPs for tas and pr  \n",
    "    \"\"\"\n",
    "    \n",
    "    # loop over variables \n",
    "    for variable in variables: \n",
    "        print(variable)\n",
    "    \n",
    "        # loop over scenarios\n",
    "        for scenario in models_dict[model]:\n",
    "\n",
    "\n",
    "            zarr_path = get_ds_path(bucket=bucket, version='v1.1', institution=institutions[model], model=model, experiment=scenario, ensemble_member=ensemble_members[model], variable=variable, frequency='day')\n",
    "\n",
    "            ds_daily = xr.open_zarr(zarr_path, consolidated=True)\n",
    "\n",
    "            if variable == 'pr':\n",
    "                ds_monthly = ds_daily.resample(time=\"M\").sum() # where M is for months\n",
    "            else: \n",
    "                ds_monthly = ds_daily.resample(time=\"M\").mean() # where M is for months\n",
    "\n",
    "            # preserve attributes \n",
    "            attrs = ds_daily.attrs\n",
    "            var_attrs = ds_daily[variable].attrs\n",
    "            \n",
    "            # update frequency and variable long_name\n",
    "            attrs['frequency'] = 'month'\n",
    "            var_attrs['long_name'] = long_names[variable]\n",
    "\n",
    "            # compute\n",
    "            ds_monthly = ds_monthly.persist()\n",
    "\n",
    "            # update attrs\n",
    "            ds_monthly.attrs = attrs\n",
    "            ds_monthly[variable].attrs = var_attrs\n",
    "\n",
    "            # define path for writing monthly output. same as input path except change table_id field \n",
    "            zarr_month_path = get_ds_path(bucket=bucket, version='v1.1', institution=institutions[model], model=model, experiment=scenario, ensemble_member=ensemble_members[model], variable=variable, frequency='month')\n",
    "\n",
    "            # write zarr\n",
    "            print(\"writing zarr to {}\".format(zarr_month_path))\n",
    "            ds_monthly.to_zarr(zarr_month_path, consolidated=True, mode='w')\n",
    "            print(\"wrote zarr to {}\".format(zarr_month_path))"
   ]
  },
  {
   "cell_type": "markdown",
   "id": "5deace5b-86ea-4908-8896-3e4f97059804",
   "metadata": {},
   "source": [
    "create monthly data for \"new\" models (4/18/2023)"
   ]
  },
  {
   "cell_type": "code",
   "execution_count": 37,
   "id": "7cf11589-1aaf-450f-a0db-5842d86fe887",
   "metadata": {},
   "outputs": [
    {
     "name": "stdout",
     "output_type": "stream",
     "text": [
      "{'CanESM5': ['historical', 'ssp126', 'ssp245', 'ssp370', 'ssp585'], 'CMCC-ESM2': ['historical', 'ssp126', 'ssp245', 'ssp370', 'ssp585'], 'CMCC-CM2-SR5': ['historical', 'ssp126', 'ssp245', 'ssp370', 'ssp585']}\n",
      "['tasmax', 'tavg', 'pr']\n"
     ]
    }
   ],
   "source": [
    "print(models_subset)\n",
    "print(variables)"
   ]
  },
  {
   "cell_type": "code",
   "execution_count": 38,
   "id": "36ff28da-344f-4532-b8e0-18c2c95a65ee",
   "metadata": {},
   "outputs": [
    {
     "data": {
      "application/vnd.jupyter.widget-view+json": {
       "model_id": "bc4ad9e6a4d24c93a4a5ebe4451aaf3f",
       "version_major": 2,
       "version_minor": 0
      },
      "text/plain": [
       "  0%|          | 0/3 [00:00<?, ?it/s]"
      ]
     },
     "metadata": {},
     "output_type": "display_data"
    },
    {
     "name": "stdout",
     "output_type": "stream",
     "text": [
      "CanESM5\n",
      "tasmax\n",
      "writing zarr to gs://downscaled-48ec31ab/derived/monthly-aggregates-v1.1/CMIP/CCCma/CanESM5/historical/r1i1p1f1/month/tasmax/v1.1.zarr\n",
      "wrote zarr to gs://downscaled-48ec31ab/derived/monthly-aggregates-v1.1/CMIP/CCCma/CanESM5/historical/r1i1p1f1/month/tasmax/v1.1.zarr\n",
      "writing zarr to gs://downscaled-48ec31ab/derived/monthly-aggregates-v1.1/ScenarioMIP/CCCma/CanESM5/ssp126/r1i1p1f1/month/tasmax/v1.1.zarr\n",
      "wrote zarr to gs://downscaled-48ec31ab/derived/monthly-aggregates-v1.1/ScenarioMIP/CCCma/CanESM5/ssp126/r1i1p1f1/month/tasmax/v1.1.zarr\n",
      "writing zarr to gs://downscaled-48ec31ab/derived/monthly-aggregates-v1.1/ScenarioMIP/CCCma/CanESM5/ssp245/r1i1p1f1/month/tasmax/v1.1.zarr\n",
      "wrote zarr to gs://downscaled-48ec31ab/derived/monthly-aggregates-v1.1/ScenarioMIP/CCCma/CanESM5/ssp245/r1i1p1f1/month/tasmax/v1.1.zarr\n",
      "writing zarr to gs://downscaled-48ec31ab/derived/monthly-aggregates-v1.1/ScenarioMIP/CCCma/CanESM5/ssp370/r1i1p1f1/month/tasmax/v1.1.zarr\n",
      "wrote zarr to gs://downscaled-48ec31ab/derived/monthly-aggregates-v1.1/ScenarioMIP/CCCma/CanESM5/ssp370/r1i1p1f1/month/tasmax/v1.1.zarr\n",
      "writing zarr to gs://downscaled-48ec31ab/derived/monthly-aggregates-v1.1/ScenarioMIP/CCCma/CanESM5/ssp585/r1i1p1f1/month/tasmax/v1.1.zarr\n",
      "wrote zarr to gs://downscaled-48ec31ab/derived/monthly-aggregates-v1.1/ScenarioMIP/CCCma/CanESM5/ssp585/r1i1p1f1/month/tasmax/v1.1.zarr\n",
      "tavg\n",
      "writing zarr to gs://downscaled-48ec31ab/derived/monthly-aggregates-v1.1/CMIP/CCCma/CanESM5/historical/r1i1p1f1/month/tavg/v1.1.zarr\n",
      "wrote zarr to gs://downscaled-48ec31ab/derived/monthly-aggregates-v1.1/CMIP/CCCma/CanESM5/historical/r1i1p1f1/month/tavg/v1.1.zarr\n",
      "writing zarr to gs://downscaled-48ec31ab/derived/monthly-aggregates-v1.1/ScenarioMIP/CCCma/CanESM5/ssp126/r1i1p1f1/month/tavg/v1.1.zarr\n",
      "wrote zarr to gs://downscaled-48ec31ab/derived/monthly-aggregates-v1.1/ScenarioMIP/CCCma/CanESM5/ssp126/r1i1p1f1/month/tavg/v1.1.zarr\n",
      "writing zarr to gs://downscaled-48ec31ab/derived/monthly-aggregates-v1.1/ScenarioMIP/CCCma/CanESM5/ssp245/r1i1p1f1/month/tavg/v1.1.zarr\n",
      "wrote zarr to gs://downscaled-48ec31ab/derived/monthly-aggregates-v1.1/ScenarioMIP/CCCma/CanESM5/ssp245/r1i1p1f1/month/tavg/v1.1.zarr\n",
      "writing zarr to gs://downscaled-48ec31ab/derived/monthly-aggregates-v1.1/ScenarioMIP/CCCma/CanESM5/ssp370/r1i1p1f1/month/tavg/v1.1.zarr\n",
      "wrote zarr to gs://downscaled-48ec31ab/derived/monthly-aggregates-v1.1/ScenarioMIP/CCCma/CanESM5/ssp370/r1i1p1f1/month/tavg/v1.1.zarr\n",
      "writing zarr to gs://downscaled-48ec31ab/derived/monthly-aggregates-v1.1/ScenarioMIP/CCCma/CanESM5/ssp585/r1i1p1f1/month/tavg/v1.1.zarr\n",
      "wrote zarr to gs://downscaled-48ec31ab/derived/monthly-aggregates-v1.1/ScenarioMIP/CCCma/CanESM5/ssp585/r1i1p1f1/month/tavg/v1.1.zarr\n",
      "pr\n",
      "writing zarr to gs://downscaled-48ec31ab/derived/monthly-aggregates-v1.1/CMIP/CCCma/CanESM5/historical/r1i1p1f1/month/pr/v1.1.zarr\n",
      "wrote zarr to gs://downscaled-48ec31ab/derived/monthly-aggregates-v1.1/CMIP/CCCma/CanESM5/historical/r1i1p1f1/month/pr/v1.1.zarr\n",
      "writing zarr to gs://downscaled-48ec31ab/derived/monthly-aggregates-v1.1/ScenarioMIP/CCCma/CanESM5/ssp126/r1i1p1f1/month/pr/v1.1.zarr\n",
      "wrote zarr to gs://downscaled-48ec31ab/derived/monthly-aggregates-v1.1/ScenarioMIP/CCCma/CanESM5/ssp126/r1i1p1f1/month/pr/v1.1.zarr\n",
      "writing zarr to gs://downscaled-48ec31ab/derived/monthly-aggregates-v1.1/ScenarioMIP/CCCma/CanESM5/ssp245/r1i1p1f1/month/pr/v1.1.zarr\n",
      "wrote zarr to gs://downscaled-48ec31ab/derived/monthly-aggregates-v1.1/ScenarioMIP/CCCma/CanESM5/ssp245/r1i1p1f1/month/pr/v1.1.zarr\n",
      "writing zarr to gs://downscaled-48ec31ab/derived/monthly-aggregates-v1.1/ScenarioMIP/CCCma/CanESM5/ssp370/r1i1p1f1/month/pr/v1.1.zarr\n",
      "wrote zarr to gs://downscaled-48ec31ab/derived/monthly-aggregates-v1.1/ScenarioMIP/CCCma/CanESM5/ssp370/r1i1p1f1/month/pr/v1.1.zarr\n",
      "writing zarr to gs://downscaled-48ec31ab/derived/monthly-aggregates-v1.1/ScenarioMIP/CCCma/CanESM5/ssp585/r1i1p1f1/month/pr/v1.1.zarr\n",
      "wrote zarr to gs://downscaled-48ec31ab/derived/monthly-aggregates-v1.1/ScenarioMIP/CCCma/CanESM5/ssp585/r1i1p1f1/month/pr/v1.1.zarr\n",
      "CMCC-ESM2\n",
      "tasmax\n",
      "writing zarr to gs://downscaled-48ec31ab/derived/monthly-aggregates-v1.1/CMIP/CMCC/CMCC-ESM2/historical/r1i1p1f1/month/tasmax/v1.1.zarr\n",
      "wrote zarr to gs://downscaled-48ec31ab/derived/monthly-aggregates-v1.1/CMIP/CMCC/CMCC-ESM2/historical/r1i1p1f1/month/tasmax/v1.1.zarr\n",
      "writing zarr to gs://downscaled-48ec31ab/derived/monthly-aggregates-v1.1/ScenarioMIP/CMCC/CMCC-ESM2/ssp126/r1i1p1f1/month/tasmax/v1.1.zarr\n",
      "wrote zarr to gs://downscaled-48ec31ab/derived/monthly-aggregates-v1.1/ScenarioMIP/CMCC/CMCC-ESM2/ssp126/r1i1p1f1/month/tasmax/v1.1.zarr\n",
      "writing zarr to gs://downscaled-48ec31ab/derived/monthly-aggregates-v1.1/ScenarioMIP/CMCC/CMCC-ESM2/ssp245/r1i1p1f1/month/tasmax/v1.1.zarr\n",
      "wrote zarr to gs://downscaled-48ec31ab/derived/monthly-aggregates-v1.1/ScenarioMIP/CMCC/CMCC-ESM2/ssp245/r1i1p1f1/month/tasmax/v1.1.zarr\n",
      "writing zarr to gs://downscaled-48ec31ab/derived/monthly-aggregates-v1.1/ScenarioMIP/CMCC/CMCC-ESM2/ssp370/r1i1p1f1/month/tasmax/v1.1.zarr\n",
      "wrote zarr to gs://downscaled-48ec31ab/derived/monthly-aggregates-v1.1/ScenarioMIP/CMCC/CMCC-ESM2/ssp370/r1i1p1f1/month/tasmax/v1.1.zarr\n",
      "writing zarr to gs://downscaled-48ec31ab/derived/monthly-aggregates-v1.1/ScenarioMIP/CMCC/CMCC-ESM2/ssp585/r1i1p1f1/month/tasmax/v1.1.zarr\n",
      "wrote zarr to gs://downscaled-48ec31ab/derived/monthly-aggregates-v1.1/ScenarioMIP/CMCC/CMCC-ESM2/ssp585/r1i1p1f1/month/tasmax/v1.1.zarr\n",
      "tavg\n",
      "writing zarr to gs://downscaled-48ec31ab/derived/monthly-aggregates-v1.1/CMIP/CMCC/CMCC-ESM2/historical/r1i1p1f1/month/tavg/v1.1.zarr\n",
      "wrote zarr to gs://downscaled-48ec31ab/derived/monthly-aggregates-v1.1/CMIP/CMCC/CMCC-ESM2/historical/r1i1p1f1/month/tavg/v1.1.zarr\n",
      "writing zarr to gs://downscaled-48ec31ab/derived/monthly-aggregates-v1.1/ScenarioMIP/CMCC/CMCC-ESM2/ssp126/r1i1p1f1/month/tavg/v1.1.zarr\n",
      "wrote zarr to gs://downscaled-48ec31ab/derived/monthly-aggregates-v1.1/ScenarioMIP/CMCC/CMCC-ESM2/ssp126/r1i1p1f1/month/tavg/v1.1.zarr\n",
      "writing zarr to gs://downscaled-48ec31ab/derived/monthly-aggregates-v1.1/ScenarioMIP/CMCC/CMCC-ESM2/ssp245/r1i1p1f1/month/tavg/v1.1.zarr\n",
      "wrote zarr to gs://downscaled-48ec31ab/derived/monthly-aggregates-v1.1/ScenarioMIP/CMCC/CMCC-ESM2/ssp245/r1i1p1f1/month/tavg/v1.1.zarr\n",
      "writing zarr to gs://downscaled-48ec31ab/derived/monthly-aggregates-v1.1/ScenarioMIP/CMCC/CMCC-ESM2/ssp370/r1i1p1f1/month/tavg/v1.1.zarr\n",
      "wrote zarr to gs://downscaled-48ec31ab/derived/monthly-aggregates-v1.1/ScenarioMIP/CMCC/CMCC-ESM2/ssp370/r1i1p1f1/month/tavg/v1.1.zarr\n",
      "writing zarr to gs://downscaled-48ec31ab/derived/monthly-aggregates-v1.1/ScenarioMIP/CMCC/CMCC-ESM2/ssp585/r1i1p1f1/month/tavg/v1.1.zarr\n",
      "wrote zarr to gs://downscaled-48ec31ab/derived/monthly-aggregates-v1.1/ScenarioMIP/CMCC/CMCC-ESM2/ssp585/r1i1p1f1/month/tavg/v1.1.zarr\n",
      "pr\n",
      "writing zarr to gs://downscaled-48ec31ab/derived/monthly-aggregates-v1.1/CMIP/CMCC/CMCC-ESM2/historical/r1i1p1f1/month/pr/v1.1.zarr\n",
      "wrote zarr to gs://downscaled-48ec31ab/derived/monthly-aggregates-v1.1/CMIP/CMCC/CMCC-ESM2/historical/r1i1p1f1/month/pr/v1.1.zarr\n",
      "writing zarr to gs://downscaled-48ec31ab/derived/monthly-aggregates-v1.1/ScenarioMIP/CMCC/CMCC-ESM2/ssp126/r1i1p1f1/month/pr/v1.1.zarr\n",
      "wrote zarr to gs://downscaled-48ec31ab/derived/monthly-aggregates-v1.1/ScenarioMIP/CMCC/CMCC-ESM2/ssp126/r1i1p1f1/month/pr/v1.1.zarr\n",
      "writing zarr to gs://downscaled-48ec31ab/derived/monthly-aggregates-v1.1/ScenarioMIP/CMCC/CMCC-ESM2/ssp245/r1i1p1f1/month/pr/v1.1.zarr\n",
      "wrote zarr to gs://downscaled-48ec31ab/derived/monthly-aggregates-v1.1/ScenarioMIP/CMCC/CMCC-ESM2/ssp245/r1i1p1f1/month/pr/v1.1.zarr\n",
      "writing zarr to gs://downscaled-48ec31ab/derived/monthly-aggregates-v1.1/ScenarioMIP/CMCC/CMCC-ESM2/ssp370/r1i1p1f1/month/pr/v1.1.zarr\n",
      "wrote zarr to gs://downscaled-48ec31ab/derived/monthly-aggregates-v1.1/ScenarioMIP/CMCC/CMCC-ESM2/ssp370/r1i1p1f1/month/pr/v1.1.zarr\n",
      "writing zarr to gs://downscaled-48ec31ab/derived/monthly-aggregates-v1.1/ScenarioMIP/CMCC/CMCC-ESM2/ssp585/r1i1p1f1/month/pr/v1.1.zarr\n",
      "wrote zarr to gs://downscaled-48ec31ab/derived/monthly-aggregates-v1.1/ScenarioMIP/CMCC/CMCC-ESM2/ssp585/r1i1p1f1/month/pr/v1.1.zarr\n",
      "CMCC-CM2-SR5\n",
      "tasmax\n",
      "writing zarr to gs://downscaled-48ec31ab/derived/monthly-aggregates-v1.1/CMIP/CMCC/CMCC-CM2-SR5/historical/r1i1p1f1/month/tasmax/v1.1.zarr\n",
      "wrote zarr to gs://downscaled-48ec31ab/derived/monthly-aggregates-v1.1/CMIP/CMCC/CMCC-CM2-SR5/historical/r1i1p1f1/month/tasmax/v1.1.zarr\n",
      "writing zarr to gs://downscaled-48ec31ab/derived/monthly-aggregates-v1.1/ScenarioMIP/CMCC/CMCC-CM2-SR5/ssp126/r1i1p1f1/month/tasmax/v1.1.zarr\n",
      "wrote zarr to gs://downscaled-48ec31ab/derived/monthly-aggregates-v1.1/ScenarioMIP/CMCC/CMCC-CM2-SR5/ssp126/r1i1p1f1/month/tasmax/v1.1.zarr\n",
      "writing zarr to gs://downscaled-48ec31ab/derived/monthly-aggregates-v1.1/ScenarioMIP/CMCC/CMCC-CM2-SR5/ssp245/r1i1p1f1/month/tasmax/v1.1.zarr\n",
      "wrote zarr to gs://downscaled-48ec31ab/derived/monthly-aggregates-v1.1/ScenarioMIP/CMCC/CMCC-CM2-SR5/ssp245/r1i1p1f1/month/tasmax/v1.1.zarr\n",
      "writing zarr to gs://downscaled-48ec31ab/derived/monthly-aggregates-v1.1/ScenarioMIP/CMCC/CMCC-CM2-SR5/ssp370/r1i1p1f1/month/tasmax/v1.1.zarr\n",
      "wrote zarr to gs://downscaled-48ec31ab/derived/monthly-aggregates-v1.1/ScenarioMIP/CMCC/CMCC-CM2-SR5/ssp370/r1i1p1f1/month/tasmax/v1.1.zarr\n",
      "writing zarr to gs://downscaled-48ec31ab/derived/monthly-aggregates-v1.1/ScenarioMIP/CMCC/CMCC-CM2-SR5/ssp585/r1i1p1f1/month/tasmax/v1.1.zarr\n",
      "wrote zarr to gs://downscaled-48ec31ab/derived/monthly-aggregates-v1.1/ScenarioMIP/CMCC/CMCC-CM2-SR5/ssp585/r1i1p1f1/month/tasmax/v1.1.zarr\n",
      "tavg\n",
      "writing zarr to gs://downscaled-48ec31ab/derived/monthly-aggregates-v1.1/CMIP/CMCC/CMCC-CM2-SR5/historical/r1i1p1f1/month/tavg/v1.1.zarr\n",
      "wrote zarr to gs://downscaled-48ec31ab/derived/monthly-aggregates-v1.1/CMIP/CMCC/CMCC-CM2-SR5/historical/r1i1p1f1/month/tavg/v1.1.zarr\n",
      "writing zarr to gs://downscaled-48ec31ab/derived/monthly-aggregates-v1.1/ScenarioMIP/CMCC/CMCC-CM2-SR5/ssp126/r1i1p1f1/month/tavg/v1.1.zarr\n",
      "wrote zarr to gs://downscaled-48ec31ab/derived/monthly-aggregates-v1.1/ScenarioMIP/CMCC/CMCC-CM2-SR5/ssp126/r1i1p1f1/month/tavg/v1.1.zarr\n",
      "writing zarr to gs://downscaled-48ec31ab/derived/monthly-aggregates-v1.1/ScenarioMIP/CMCC/CMCC-CM2-SR5/ssp245/r1i1p1f1/month/tavg/v1.1.zarr\n",
      "wrote zarr to gs://downscaled-48ec31ab/derived/monthly-aggregates-v1.1/ScenarioMIP/CMCC/CMCC-CM2-SR5/ssp245/r1i1p1f1/month/tavg/v1.1.zarr\n",
      "writing zarr to gs://downscaled-48ec31ab/derived/monthly-aggregates-v1.1/ScenarioMIP/CMCC/CMCC-CM2-SR5/ssp370/r1i1p1f1/month/tavg/v1.1.zarr\n",
      "wrote zarr to gs://downscaled-48ec31ab/derived/monthly-aggregates-v1.1/ScenarioMIP/CMCC/CMCC-CM2-SR5/ssp370/r1i1p1f1/month/tavg/v1.1.zarr\n",
      "writing zarr to gs://downscaled-48ec31ab/derived/monthly-aggregates-v1.1/ScenarioMIP/CMCC/CMCC-CM2-SR5/ssp585/r1i1p1f1/month/tavg/v1.1.zarr\n",
      "wrote zarr to gs://downscaled-48ec31ab/derived/monthly-aggregates-v1.1/ScenarioMIP/CMCC/CMCC-CM2-SR5/ssp585/r1i1p1f1/month/tavg/v1.1.zarr\n",
      "pr\n",
      "writing zarr to gs://downscaled-48ec31ab/derived/monthly-aggregates-v1.1/CMIP/CMCC/CMCC-CM2-SR5/historical/r1i1p1f1/month/pr/v1.1.zarr\n",
      "wrote zarr to gs://downscaled-48ec31ab/derived/monthly-aggregates-v1.1/CMIP/CMCC/CMCC-CM2-SR5/historical/r1i1p1f1/month/pr/v1.1.zarr\n",
      "writing zarr to gs://downscaled-48ec31ab/derived/monthly-aggregates-v1.1/ScenarioMIP/CMCC/CMCC-CM2-SR5/ssp126/r1i1p1f1/month/pr/v1.1.zarr\n",
      "wrote zarr to gs://downscaled-48ec31ab/derived/monthly-aggregates-v1.1/ScenarioMIP/CMCC/CMCC-CM2-SR5/ssp126/r1i1p1f1/month/pr/v1.1.zarr\n",
      "writing zarr to gs://downscaled-48ec31ab/derived/monthly-aggregates-v1.1/ScenarioMIP/CMCC/CMCC-CM2-SR5/ssp245/r1i1p1f1/month/pr/v1.1.zarr\n",
      "wrote zarr to gs://downscaled-48ec31ab/derived/monthly-aggregates-v1.1/ScenarioMIP/CMCC/CMCC-CM2-SR5/ssp245/r1i1p1f1/month/pr/v1.1.zarr\n",
      "writing zarr to gs://downscaled-48ec31ab/derived/monthly-aggregates-v1.1/ScenarioMIP/CMCC/CMCC-CM2-SR5/ssp370/r1i1p1f1/month/pr/v1.1.zarr\n",
      "wrote zarr to gs://downscaled-48ec31ab/derived/monthly-aggregates-v1.1/ScenarioMIP/CMCC/CMCC-CM2-SR5/ssp370/r1i1p1f1/month/pr/v1.1.zarr\n",
      "writing zarr to gs://downscaled-48ec31ab/derived/monthly-aggregates-v1.1/ScenarioMIP/CMCC/CMCC-CM2-SR5/ssp585/r1i1p1f1/month/pr/v1.1.zarr\n",
      "wrote zarr to gs://downscaled-48ec31ab/derived/monthly-aggregates-v1.1/ScenarioMIP/CMCC/CMCC-CM2-SR5/ssp585/r1i1p1f1/month/pr/v1.1.zarr\n"
     ]
    },
    {
     "name": "stderr",
     "output_type": "stream",
     "text": [
      "/srv/conda/envs/notebook/lib/python3.9/site-packages/dask_gateway/client.py:1014: RuntimeWarning: coroutine 'rpc.close_rpc' was never awaited\n",
      "  self.scheduler_comm.close_rpc()\n",
      "RuntimeWarning: Enable tracemalloc to get the object allocation traceback\n"
     ]
    }
   ],
   "source": [
    "for model in tqdm(models_subset):\n",
    "    print(model)\n",
    "    create_monthly_downscaled_data(model, models, variables, institutions, ensemble_members, long_names)"
   ]
  },
  {
   "cell_type": "code",
   "execution_count": 28,
   "id": "f2811bc9-dc20-4fad-aede-9683f1be1e2d",
   "metadata": {},
   "outputs": [],
   "source": [
    "def create_monthly_patternmodel_data(model, scenario, variable, long_names):\n",
    "    \"\"\"\n",
    "    take in model and create monthly data for historical and SSPs for tas and pr  \n",
    "    \"\"\"\n",
    "    \n",
    "    zarr_path = get_patternmodel_path(bucket, model, scenario, variable, frequency='day')\n",
    "    print(zarr_path)\n",
    "\n",
    "    ds_daily = xr.open_zarr(zarr_path, consolidated=True)\n",
    "    \n",
    "    ds_daily = ds_daily.chunk({'time': 365, 'lat': 360, 'lon': 360})\n",
    "    ds_daily = ds_daily.persist()\n",
    "\n",
    "    if variable == 'pr':\n",
    "        ds_monthly = ds_daily.resample(time=\"M\").sum() # where M is for months\n",
    "    else: \n",
    "        ds_monthly = ds_daily.resample(time=\"M\").mean() # where M is for months\n",
    "    \n",
    "    # preserve attributes \n",
    "    attrs = ds_daily.attrs\n",
    "    var_attrs = ds_daily[variable].attrs\n",
    "            \n",
    "    # update frequency and variable long_name\n",
    "    attrs['frequency'] = 'month'\n",
    "    var_attrs['long_name'] = long_names[variable]\n",
    "\n",
    "    # compute\n",
    "    ds_monthly = ds_monthly.persist()\n",
    "\n",
    "    # update attrs\n",
    "    ds_monthly.attrs = attrs\n",
    "    ds_monthly[variable].attrs = var_attrs\n",
    "\n",
    "    # define path for writing monthly output. same as input path except change table_id field \n",
    "    zarr_month_path = get_patternmodel_path(bucket, model, scenario, variable, frequency='month')\n",
    "\n",
    "    # write zarr\n",
    "    ds_monthly.to_zarr(zarr_month_path, consolidated=True, mode='w')\n",
    "    \n",
    "    print(\"wrote zarr to {}\".format(zarr_month_path))"
   ]
  },
  {
   "cell_type": "code",
   "execution_count": null,
   "id": "d2dfc1b9-f346-407d-ada4-f504e4fae9bd",
   "metadata": {},
   "outputs": [],
   "source": [
    "# test pattern models \n",
    "create_monthly_patternmodel_data('pattern_ssp245_1_0.96_INM-CM5-0', 'ssp245', 'tavg', long_names)"
   ]
  },
  {
   "cell_type": "markdown",
   "id": "88b20218-3938-4ca2-b794-266e42b15247",
   "metadata": {},
   "source": [
    "debug pattern model code"
   ]
  },
  {
   "cell_type": "code",
   "execution_count": null,
   "id": "216d0fa6-153b-47ba-9de4-de25136554d2",
   "metadata": {},
   "outputs": [],
   "source": [
    "'''for model in tqdm(models):\n",
    "    print(model)\n",
    "    create_daily_downscaled_tavg(model, models, institutions, ensemble_members, long_names)'''"
   ]
  },
  {
   "cell_type": "code",
   "execution_count": null,
   "id": "ccf3d6b5-a6cf-4477-bea8-82d50d8d265a",
   "metadata": {},
   "outputs": [],
   "source": [
    "# test pattern models \n",
    "create_monthly_patternmodel_data('pattern_ssp245_1_0.96_INM-CM5-0', 'ssp245', 'tavg', long_names)"
   ]
  },
  {
   "cell_type": "code",
   "execution_count": 25,
   "id": "7d377548-cadc-4848-8a5d-7d6450de20fe",
   "metadata": {},
   "outputs": [
    {
     "data": {
      "text/plain": [
       "'# loop over scenarios, variables and pattern models \\n\\nfor scenario in [\\'ssp245\\', \\'ssp370\\']:\\n    for model in CMIP6_NONCOASTAL_PATTERN_MODELS_BY_SCENARIO[scenario]:\\n        for variable in variables: \\n            print(\"now producing monthly data for {} {} {}\".format(scenario, model, variable))\\n            create_monthly_patternmodel_data(model, scenario, variable, long_names)'"
      ]
     },
     "execution_count": 25,
     "metadata": {},
     "output_type": "execute_result"
    }
   ],
   "source": [
    "# loop over scenarios, variables and pattern models \n",
    "\n",
    "for scenario in ['ssp245', 'ssp370']:\n",
    "    for model in CMIP6_NONCOASTAL_PATTERN_MODELS_BY_SCENARIO[scenario]:\n",
    "        for variable in variables: \n",
    "            print(\"now producing monthly data for {} {} {}\".format(scenario, model, variable))\n",
    "            create_monthly_patternmodel_data(model, scenario, variable, long_names)"
   ]
  },
  {
   "cell_type": "code",
   "execution_count": null,
   "id": "2eefa889-c648-45a1-978c-45e3a4839fa9",
   "metadata": {},
   "outputs": [],
   "source": []
  },
  {
   "cell_type": "code",
   "execution_count": null,
   "id": "920a1826-f59f-4925-a705-3eaecd153987",
   "metadata": {},
   "outputs": [],
   "source": [
    "for model in tqdm(models):\n",
    "    print(model)\n",
    "    create_monthly_downscaled_data(model, models, variables, institutions, ensemble_members, long_names)"
   ]
  },
  {
   "cell_type": "markdown",
   "id": "d7284873-1fda-4d77-af85-6575aeb10eb1",
   "metadata": {},
   "source": [
    "check tavg data "
   ]
  },
  {
   "cell_type": "code",
   "execution_count": null,
   "id": "5ce6a141-04b1-4fcc-9520-53bf93719339",
   "metadata": {},
   "outputs": [],
   "source": [
    "model = 'EC-Earth3-Veg-LR'\n",
    "scenario = 'ssp585'\n",
    "tavg_ssp585 = xr.open_zarr(get_ds_path(bucket=bucket, version='v1.1', institution=institutions[model], model=model, experiment=scenario, ensemble_member=ensemble_members[model], variable='tavg', frequency='day'), consolidated=True)\n",
    "# look at a slice \n",
    "tavg_ssp585['tavg'].isel(time=0).plot()"
   ]
  },
  {
   "cell_type": "code",
   "execution_count": 15,
   "id": "f1459a1a-8ede-4452-b717-67aadee59a2b",
   "metadata": {},
   "outputs": [],
   "source": [
    "tavg_test = xr.open_zarr('gs://support-data-cc7330d0/internal_datasets/climate/CMIP6/SMME/pattern-scaled-and-finalized-models/pattern-scaling-v1.0/ScenarioMIP/pattern_ssp370_17_2.89_EC-Earth3-Veg-LR/ssp370/month/tavg/v1.0.zarr')"
   ]
  },
  {
   "cell_type": "code",
   "execution_count": 16,
   "id": "101b4292-41de-4316-9cdc-26dc75e46e38",
   "metadata": {},
   "outputs": [
    {
     "data": {
      "text/plain": [
       "<matplotlib.collections.QuadMesh at 0x7f69f02a13a0>"
      ]
     },
     "execution_count": 16,
     "metadata": {},
     "output_type": "execute_result"
    },
    {
     "data": {
      "image/png": "[encoded data removed]",
      "text/plain": [
       "<Figure size 432x288 with 2 Axes>"
      ]
     },
     "metadata": {
      "needs_background": "light"
     },
     "output_type": "display_data"
    }
   ],
   "source": [
    "tavg_test['tavg'].isel(time=0).plot()"
   ]
  },
  {
   "cell_type": "markdown",
   "id": "4a012b44-5ebd-470b-9c2f-25a90adc918d",
   "metadata": {},
   "source": [
    "check monthly data "
   ]
  },
  {
   "cell_type": "code",
   "execution_count": null,
   "id": "2a78a361-22a8-42a2-87eb-c2e0dad1cd0c",
   "metadata": {},
   "outputs": [],
   "source": [
    "model = 'FGOALS-g3'\n",
    "scenario = 'ssp585'\n",
    "'''tavg_ssp585 = xr.open_zarr(get_ds_path(bucket=bucket, version='v1.1', institution=institutions[model], model=model, experiment=scenario, ensemble_member=ensemble_members[model], variable='tavg', frequency='month'), consolidated=True)'''\n",
    "pr_ssp585 = xr.open_zarr(get_ds_path(bucket=bucket, version='v1.1', institution=institutions[model], model=model, experiment=scenario, ensemble_member=ensemble_members[model], variable='pr', frequency='month'), consolidated=True)\n",
    "print(get_ds_path(bucket=bucket, version='v1.1', institution=institutions[model], model=model, experiment=scenario, ensemble_member=ensemble_members[model], variable='pr', frequency='month'))\n",
    "# look at a slice \n",
    "# tavg_ssp585['tavg'].isel(time=0).plot()\n",
    "pr_ssp585['pr'].isel(time=0).plot(robust=True)"
   ]
  },
  {
   "cell_type": "code",
   "execution_count": null,
   "id": "c964d8fd-fb24-4009-b19e-83cfaa9cf0ad",
   "metadata": {},
   "outputs": [],
   "source": [
    "pr_ssp585['pr']"
   ]
  },
  {
   "cell_type": "code",
   "execution_count": null,
   "id": "f4cffd86-a563-4538-b1f9-d9b4fba956f6",
   "metadata": {},
   "outputs": [],
   "source": [
    "model = 'NorESM2-LM'\n",
    "variable = 'tavg'\n",
    "version = 'v1.1'\n",
    "\n",
    "u = xr.open_zarr(get_ds_path(bucket, version, institutions[model], model, 'ssp245', ensemble_members[model], variable, 'day'))"
   ]
  },
  {
   "cell_type": "code",
   "execution_count": null,
   "id": "703ebf90-0073-45a1-b689-31ac62d00f29",
   "metadata": {},
   "outputs": [],
   "source": [
    "attrs = {'comment': 'average near-surface (usually, 2 meter) air temperature', \n",
    "        'long_name': long_names['tavg'], \n",
    "        'standard_name': 'air_temperature', \n",
    "        'units': 'K', \n",
    "        'method': 'average of downscaled tasmax and downscaled tasmin'}\n",
    "attrs"
   ]
  },
  {
   "cell_type": "code",
   "execution_count": null,
   "id": "f6d5374d-f4d3-4b48-a1fb-c7873dfd5ace",
   "metadata": {},
   "outputs": [],
   "source": [
    "u['tavg'].attrs"
   ]
  },
  {
   "cell_type": "code",
   "execution_count": null,
   "id": "aa5e9f4b-ecda-4729-bf0f-d16ac2cb47cc",
   "metadata": {},
   "outputs": [],
   "source": [
    "test_read_in = xr.open_zarr('gs://support-data-cc7330d0/internal_datasets/climate/CMIP6/SMME/pattern-scaled-and-finalized-models/pattern-scaling-v1.0/ScenarioMIP/pattern_ssp245_1_0.96_INM-CM5-0/ssp245/month/tavg/v1.0.zarr', consolidated=True)"
   ]
  },
  {
   "cell_type": "code",
   "execution_count": 17,
   "id": "16ddb68a-51e7-47e9-8883-a7c915839ea0",
   "metadata": {},
   "outputs": [
    {
     "data": {
      "text/plain": [
       "array(0)"
      ]
     },
     "execution_count": 17,
     "metadata": {},
     "output_type": "execute_result"
    }
   ],
   "source": [
    "tavg_test['tavg'].isnull().sum().values"
   ]
  },
  {
   "cell_type": "code",
   "execution_count": null,
   "id": "2928b1f3-17c1-4c2e-b885-f589ede53a92",
   "metadata": {},
   "outputs": [],
   "source": []
  }
 ],
 "metadata": {
  "kernelspec": {
   "display_name": "Python 3 (ipykernel)",
   "language": "python",
   "name": "python3"
  },
  "language_info": {
   "codemirror_mode": {
    "name": "ipython",
    "version": 3
   },
   "file_extension": ".py",
   "mimetype": "text/x-python",
   "name": "python",
   "nbconvert_exporter": "python",
   "pygments_lexer": "ipython3",
   "version": "3.9.13"
  },
  "widgets": {
   "application/vnd.jupyter.widget-state+json": {
    "state": {},
    "version_major": 2,
    "version_minor": 0
   }
  }
 },
 "nbformat": 4,
 "nbformat_minor": 5
}
