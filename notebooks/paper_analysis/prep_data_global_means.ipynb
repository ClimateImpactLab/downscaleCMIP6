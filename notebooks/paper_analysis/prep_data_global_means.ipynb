{
 "cells": [
  {
   "cell_type": "code",
   "execution_count": 1,
   "id": "97c317e2-1bc0-4ce5-9b19-4d9bc6ba99c9",
   "metadata": {},
   "outputs": [
    {
     "name": "stderr",
     "output_type": "stream",
     "text": [
      "/tmp/ipykernel_33229/3093552774.py:6: DeprecationWarning: rhg_compute_tools and the associated command-line application rctools are\n",
      "deprecated on catalyst clusters. use catalyst_compute_tools instead.\n",
      "See https://gitlab.com/crs-catalyst/infrastructure/catalyst_compute_tools/-/issues/1\n",
      "  from rhg_compute_tools import kubernetes as rhgk\n"
     ]
    }
   ],
   "source": [
    "import dask\n",
    "import xarray as xr\n",
    "import numpy as np\n",
    "import pandas as pd\n",
    "import yaml\n",
    "from rhg_compute_tools import kubernetes as rhgk\n",
    "from dodola.services import xesmf_regrid\n",
    "import matplotlib.pyplot as plt\n",
    "import cartopy.crs as ccrs\n",
    "import dask.distributed as dd\n",
    "import dask_gateway\n",
    "from tqdm import tqdm"
   ]
  },
  {
   "cell_type": "code",
   "execution_count": 2,
   "id": "48bf16c8-a3df-464e-a2f1-1086bbbaf83b",
   "metadata": {
    "tags": []
   },
   "outputs": [],
   "source": [
    "client, cluster = rhgk.get_standard_cluster()\n",
    "cluster.scale(300)"
   ]
  },
  {
   "cell_type": "code",
   "execution_count": 54,
   "id": "ea9f9c07-7c93-4c6b-88db-0fcf3cd83ee7",
   "metadata": {},
   "outputs": [
    {
     "data": {
      "text/html": [
       "<div>\n",
       "    <div style=\"width: 24px; height: 24px; background-color: #e1e1e1; border: 3px solid #9D9D9D; border-radius: 5px; position: absolute;\"> </div>\n",
       "    <div style=\"margin-left: 48px;\">\n",
       "        <h3 style=\"margin-bottom: 0px;\">Client</h3>\n",
       "        <p style=\"color: #9D9D9D; margin-bottom: 0px;\">Client-a4036126-789e-11ed-81cd-da3c7b61ed8c</p>\n",
       "        <table style=\"width: 100%; text-align: left;\">\n",
       "\n",
       "        <tr>\n",
       "        \n",
       "            <td style=\"text-align: left;\"><strong>Connection method:</strong> Cluster object</td>\n",
       "            <td style=\"text-align: left;\"><strong>Cluster type:</strong> dask_gateway.GatewayCluster</td>\n",
       "        \n",
       "        </tr>\n",
       "\n",
       "        \n",
       "            <tr>\n",
       "                <td style=\"text-align: left;\">\n",
       "                    <strong>Dashboard: </strong> <a href=\"/services/dask-gateway/clusters/jhub.3fbc8e3e769d43dd8efaf0262fb76d88/status\" target=\"_blank\">/services/dask-gateway/clusters/jhub.3fbc8e3e769d43dd8efaf0262fb76d88/status</a>\n",
       "                </td>\n",
       "                <td style=\"text-align: left;\"></td>\n",
       "            </tr>\n",
       "        \n",
       "\n",
       "        </table>\n",
       "\n",
       "        \n",
       "            <details>\n",
       "            <summary style=\"margin-bottom: 20px;\"><h3 style=\"display: inline;\">Cluster Info</h3></summary>\n",
       "            <div style='background-color: #f2f2f2; display: inline-block; padding: 10px; border: 1px solid #999999;'>\n",
       "  <h3>GatewayCluster</h3>\n",
       "  <ul>\n",
       "    <li><b>Name: </b>jhub.3fbc8e3e769d43dd8efaf0262fb76d88\n",
       "    <li><b>Dashboard: </b><a href='/services/dask-gateway/clusters/jhub.3fbc8e3e769d43dd8efaf0262fb76d88/status' target='_blank'>/services/dask-gateway/clusters/jhub.3fbc8e3e769d43dd8efaf0262fb76d88/status</a>\n",
       "  </ul>\n",
       "</div>\n",
       "\n",
       "            </details>\n",
       "        \n",
       "\n",
       "    </div>\n",
       "</div>"
      ],
      "text/plain": [
       "<Client: 'tls://10.32.1.3:8786' processes=200 threads=200, memory=2.19 TiB>"
      ]
     },
     "execution_count": 54,
     "metadata": {},
     "output_type": "execute_result"
    }
   ],
   "source": [
    "client"
   ]
  },
  {
   "cell_type": "code",
   "execution_count": 58,
   "id": "597b997c-d1bd-49d4-8e93-e14cff18edd0",
   "metadata": {},
   "outputs": [],
   "source": [
    "wtype = 'land' # type of pixel weighting for global means"
   ]
  },
  {
   "cell_type": "code",
   "execution_count": 59,
   "id": "28f5f510-ae94-43c6-8ed9-9404d5462483",
   "metadata": {},
   "outputs": [],
   "source": [
    "def read_weights(da, wtype = 'land'):\n",
    "\n",
    "    assert wtype in ['land', 'area']\n",
    "    \n",
    "    if wtype == 'land':\n",
    "        wf = \"gs://support-data-cc7330d0/public_datasets/spatial/exposure/GLOBAL/land_water_area/gpw-v4-land-water-area-rev11_landareakm_30_sec_tif/derived_datasets/coarsened/gpw-v4-land-water-area-rev11_landareakm_0.25degree.zarr\"\n",
    "\n",
    "        wda = xr.open_zarr(wf, chunks=None)\n",
    "        wda = wda.load().land_area\n",
    "        \n",
    "    else:\n",
    "        \n",
    "        lat_weights = np.cos(da['lat'] * np.pi / 180.0)\n",
    "        wda = xr.ones_like(da) * lat_weights\n",
    "    \n",
    "    return wda"
   ]
  },
  {
   "cell_type": "code",
   "execution_count": 60,
   "id": "7b0db898-8cc3-40cd-9257-36116fa7dd16",
   "metadata": {},
   "outputs": [],
   "source": [
    "with open('/home/jovyan/repositories/downscaleCMIP6/notebooks/downscaling_pipeline/post_processing_and_delivery/data_paths.yaml', 'r') as f:\n",
    "    fps = yaml.load(f, yaml.Loader)"
   ]
  },
  {
   "cell_type": "code",
   "execution_count": 61,
   "id": "9608739e-0218-4d9f-ae5b-7d9e1ff1e092",
   "metadata": {
    "tags": []
   },
   "outputs": [],
   "source": [
    "def cyclic_lon(da):\n",
    "    \"\"\"\n",
    "    [0, 360] - > [-180, 180]\n",
    "    \"\"\"\n",
    "    return da.assign_coords(\n",
    "        {\"lon\": xr.where(da.lon > 180, da.lon - 360, da.lon)}\n",
    "    ).sortby(\"lon\")"
   ]
  },
  {
   "cell_type": "code",
   "execution_count": 62,
   "id": "5c6c184f-4475-43f2-bdf7-e2842dc598d6",
   "metadata": {},
   "outputs": [],
   "source": [
    "def read_data_temporal_slice(\n",
    "    model=model,\n",
    "    scenario=fut_scenario,\n",
    "    step_label=\"downscaled_delivered\",\n",
    "    pix=None,\n",
    "    var=\"tasmax\",\n",
    "):\n",
    "    assert step_label in ['clean','downscaled_delivered']\n",
    "    assert var in ['tasmax','pr']\n",
    "    if step_label == 'clean':\n",
    "        if 'ssp' in scenario:\n",
    "            time_slice = slice(\"2080-01-01\", \"2100-12-31\")\n",
    "        elif scenario=='historical':\n",
    "            time_slice = slice(\"1995-01-01\", \"2014-12-31\")\n",
    "\n",
    "        fp = fps[f\"{model}-{var}\"][scenario][step_label]\n",
    "        print(f'reading zarr {fp}')\n",
    "        da = xr.open_zarr(fp)[var]\n",
    "        if pix is not None:\n",
    "            da = da.isel(lat=pix[\"lat\"], lon=pix[\"lon\"], drop=True)\n",
    "\n",
    "        da = da.sel(time=time_slice)\n",
    "\n",
    "        da = regrid_to_downscaled_resolution(da=da)\n",
    "    else:\n",
    "        var_diag = var if var != 'pr' else 'precip'\n",
    "        da_var_diag = 'annual_average_tasmax' if var == 'tasmax' else 'total_annual_precip'\n",
    "        da = xr.open_zarr(fps[f\"{model}-{var}\"][scenario]['downscaled_delivered'].replace('outputs', f'diagnostics/RELEASE-v1.1/annual-{var_diag}-diagnostics'))[da_var_diag] \n",
    "        \n",
    "        if 'ssp' in scenario:\n",
    "            da = da.sel(year=slice(2080, 2100))\n",
    "        else:\n",
    "            da = da.sel(year=slice(1995, 2014))\n",
    "    return da"
   ]
  },
  {
   "cell_type": "code",
   "execution_count": 63,
   "id": "fbef33dd-7e08-475e-8d7d-0051d32410ee",
   "metadata": {},
   "outputs": [],
   "source": [
    "def annual_sums(da):\n",
    "    with dask.config.set(**{'array.slicing.split_large_chunks': False}):\n",
    "        return da.groupby(\"time.year\").sum()"
   ]
  },
  {
   "cell_type": "code",
   "execution_count": 64,
   "id": "85401ade-3f55-4512-acc7-4ad13a0d8233",
   "metadata": {},
   "outputs": [],
   "source": [
    "def annual_mean(da):\n",
    "    with dask.config.set(**{'array.slicing.split_large_chunks': False}):\n",
    "        return da.groupby(\"time.year\").mean()"
   ]
  },
  {
   "cell_type": "code",
   "execution_count": 65,
   "id": "7d3e7fc4-a0cc-4e3a-9bd8-e1e4fa9a254a",
   "metadata": {},
   "outputs": [],
   "source": [
    "def regrid_to_downscaled_resolution(da, method=\"nearest_s2d\"):\n",
    "    \"\"\"\n",
    "    regrid a lat/lon dataarray to the downscaling resolution using dodola's `xesmf_regrid`.\n",
    "    \"\"\"\n",
    "    domain_ds = xr.open_zarr(\"gs://support-c23ff1a3/domain.0p25x0p25.zarr\", chunks=None)\n",
    "    da = xesmf_regrid(\n",
    "        x=xr.Dataset({\"da\": da}),\n",
    "        domain=domain_ds,\n",
    "        method=method,\n",
    "        astype=np.float32,\n",
    "        add_cyclic=None,\n",
    "        keep_attrs=True,\n",
    "    )[\"da\"]\n",
    "    return da"
   ]
  },
  {
   "cell_type": "code",
   "execution_count": 66,
   "id": "8a9481c0-118d-457e-8f2b-2157e9c8bf38",
   "metadata": {},
   "outputs": [],
   "source": [
    "def global_average_by_year(da, var, weights, step_label):\n",
    "    if step_label == 'clean':\n",
    "        da = annual_mean(da) if var == 'tasmax' else annual_sums(da)\n",
    "    if weights is not None:\n",
    "        da = da.weighted(weights)\n",
    "    da = da.mean(['lat','lon'])\n",
    "    return da"
   ]
  },
  {
   "cell_type": "code",
   "execution_count": 67,
   "id": "1888333f-a238-4eb9-b29f-b2e2001d4a94",
   "metadata": {},
   "outputs": [],
   "source": [
    "def average_across_years(da):\n",
    "    da = da.mean('year')\n",
    "    return da"
   ]
  },
  {
   "cell_type": "code",
   "execution_count": 68,
   "id": "2c49c63b-13d8-4ad9-b541-1a8d6ef3228c",
   "metadata": {},
   "outputs": [],
   "source": [
    "def do_global_computation(model, var, step_label, weights, **kwargs):\n",
    "    \n",
    "    print('historical')\n",
    "    \n",
    "    hist_da = read_data_temporal_slice(var=var, scenario='historical', model=model, step_label=step_label, **kwargs)\n",
    "    hist_da = global_average_by_year(hist_da, var=var, weights=weights, step_label=step_label)\n",
    "    hist_da = average_across_years(hist_da)\n",
    "\n",
    "    both_scens_results = []\n",
    "    for scenario in ['ssp245','ssp370']:\n",
    "        print(scenario)\n",
    "        da = read_data_temporal_slice(var=var, scenario=scenario, model=model, step_label=step_label, **kwargs)\n",
    "        da = global_average_by_year(da, var=var, weights=weights, step_label=step_label)\n",
    "        da = average_across_years(da)\n",
    "    \n",
    "        if var == 'pr':\n",
    "            trend = da/hist_da\n",
    "        else:\n",
    "            trend = da - hist_da\n",
    "\n",
    "        trend = trend.expand_dims(dict(scenario=[scenario], model=[model], step=['clean' if step_label == 'clean' else 'biascorrected_downscaled']))\n",
    "\n",
    "        trend.name = 'da'\n",
    "        \n",
    "        both_scens_results.append(trend)\n",
    "    \n",
    "    out = xr.combine_by_coords(both_scens_results)\n",
    "    \n",
    "    return out"
   ]
  },
  {
   "cell_type": "code",
   "execution_count": 69,
   "id": "e6b5706f-9526-4c9b-b9e2-6707b70cffeb",
   "metadata": {},
   "outputs": [],
   "source": [
    "weights_template = xr.open_zarr('gs://downscaled-288ec5ac/outputs/CMIP/NOAA-GFDL/GFDL-ESM4/historical/r1i1p1f1/day/pr/v1.1.zarr', chunks=None).pr.isel(time=0, drop=True).load()"
   ]
  },
  {
   "cell_type": "code",
   "execution_count": 70,
   "id": "c4628b21-f30f-44eb-867b-57aea64446d6",
   "metadata": {},
   "outputs": [],
   "source": [
    "weights = read_weights(weights_template, wtype)"
   ]
  },
  {
   "cell_type": "code",
   "execution_count": 71,
   "id": "bcad0ffa-d0ac-4f6f-ad8a-ae5e41bc0104",
   "metadata": {},
   "outputs": [],
   "source": [
    "# time it took without computations : 31 secs (mostly due to regridding)\n",
    "# import time\n",
    "# t0 = time.time()\n",
    "# test_metadata = do_global_computation(var='pr', step_label='clean', model='NorESM2-LM', weights=read_weights(weights_template, 'land'))\n",
    "# t1 = time.time()\n",
    "# print(t1-t0)"
   ]
  },
  {
   "cell_type": "code",
   "execution_count": 72,
   "id": "062d8b40-fefa-4c1e-99ad-464b2fd6c8a9",
   "metadata": {},
   "outputs": [],
   "source": [
    "# time it took to compute : around 42 secs\n",
    "# import time\n",
    "# t0 = time.time()\n",
    "# test_result = test_metadata.compute()\n",
    "# t1 = time.time()\n",
    "# print(t1-t0)"
   ]
  },
  {
   "cell_type": "markdown",
   "id": "8722ff08-4af6-4e4e-afa3-7cc2c2023704",
   "metadata": {},
   "source": [
    "## Gathering the clean data -- needs a lot of computation as it's not ready yet. "
   ]
  },
  {
   "cell_type": "markdown",
   "id": "c9544f98-a863-4479-a755-52b3ab0c38d4",
   "metadata": {},
   "source": [
    "### precip clean"
   ]
  },
  {
   "cell_type": "code",
   "execution_count": 99,
   "id": "9311da34-4851-4ff5-a993-e1cc1de144df",
   "metadata": {
    "tags": []
   },
   "outputs": [
    {
     "name": "stderr",
     "output_type": "stream",
     "text": [
      "0it [00:00, ?it/s]"
     ]
    },
    {
     "name": "stdout",
     "output_type": "stream",
     "text": [
      "ACCESS-CM2\n",
      "historical\n",
      "reading zarr gs://clean-b1dbca25/cmip6/CMIP/CSIRO-ARCCSS/ACCESS-CM2/historical/r1i1p1f1/day/pr/gn/v20191108.zarr\n",
      "ssp245\n",
      "reading zarr gs://clean-b1dbca25/cmip6/ScenarioMIP/CSIRO-ARCCSS/ACCESS-CM2/ssp245/r1i1p1f1/day/pr/gn/v20191108.zarr\n",
      "ssp370\n",
      "reading zarr gs://clean-b1dbca25/cmip6/ScenarioMIP/CSIRO-ARCCSS/ACCESS-CM2/ssp370/r1i1p1f1/day/pr/gn/v20191108.zarr\n"
     ]
    },
    {
     "name": "stderr",
     "output_type": "stream",
     "text": [
      "1it [00:22, 22.77s/it]"
     ]
    },
    {
     "name": "stdout",
     "output_type": "stream",
     "text": [
      "ACCESS-ESM1-5\n",
      "historical\n",
      "reading zarr gs://clean-b1dbca25/cmip6/CMIP/CSIRO/ACCESS-ESM1-5/historical/r1i1p1f1/day/pr/gn/v20191115.zarr\n",
      "ssp245\n",
      "reading zarr gs://clean-b1dbca25/cmip6/ScenarioMIP/CSIRO/ACCESS-ESM1-5/ssp245/r1i1p1f1/day/pr/gn/v20191115.zarr\n",
      "ssp370\n",
      "reading zarr gs://clean-b1dbca25/cmip6/ScenarioMIP/CSIRO/ACCESS-ESM1-5/ssp370/r1i1p1f1/day/pr/gn/v20191115.zarr\n"
     ]
    },
    {
     "name": "stderr",
     "output_type": "stream",
     "text": [
      "4it [00:45, 10.34s/it]"
     ]
    },
    {
     "name": "stdout",
     "output_type": "stream",
     "text": [
      "BCC-CSM2-MR\n",
      "historical\n",
      "reading zarr gs://clean-b1dbca25/cmip6/CMIP/BCC/BCC-CSM2-MR/historical/r1i1p1f1/day/pr/gn/v20181126.zarr\n",
      "ssp245\n",
      "reading zarr gs://clean-b1dbca25/cmip6/ScenarioMIP/BCC/BCC-CSM2-MR/ssp245/r1i1p1f1/day/pr/gn/v20190318.zarr\n",
      "ssp370\n",
      "reading zarr gs://clean-b1dbca25/cmip6/ScenarioMIP/BCC/BCC-CSM2-MR/ssp370/r1i1p1f1/day/pr/gn/v20190318.zarr\n"
     ]
    },
    {
     "name": "stderr",
     "output_type": "stream",
     "text": [
      "8it [01:07,  7.52s/it]"
     ]
    },
    {
     "name": "stdout",
     "output_type": "stream",
     "text": [
      "CMCC-CM2-SR5\n",
      "historical\n",
      "reading zarr gs://clean-b1dbca25/cmip6/CMIP/CMCC/CMCC-CM2-SR5/historical/r1i1p1f1/day/pr/gn/v20200616.zarr\n",
      "ssp245\n",
      "reading zarr gs://clean-b1dbca25/cmip6/ScenarioMIP/CMCC/CMCC-CM2-SR5/ssp245/r1i1p1f1/day/pr/gn/v20200617.zarr\n",
      "ssp370\n",
      "reading zarr gs://clean-b1dbca25/cmip6/ScenarioMIP/CMCC/CMCC-CM2-SR5/ssp370/r1i1p1f1/day/pr/gn/v20200622.zarr\n"
     ]
    },
    {
     "name": "stderr",
     "output_type": "stream",
     "text": [
      "12it [01:31,  6.74s/it]"
     ]
    },
    {
     "name": "stdout",
     "output_type": "stream",
     "text": [
      "CMCC-ESM2\n",
      "historical\n",
      "reading zarr gs://clean-b1dbca25/cmip6/CMIP/CMCC/CMCC-ESM2/historical/r1i1p1f1/day/pr/gn/v20210114.zarr\n",
      "ssp245\n",
      "reading zarr gs://clean-b1dbca25/cmip6/ScenarioMIP/CMCC/CMCC-ESM2/ssp245/r1i1p1f1/day/pr/gn/v20210129.zarr\n",
      "ssp370\n",
      "reading zarr gs://clean-b1dbca25/cmip6/ScenarioMIP/CMCC/CMCC-ESM2/ssp370/r1i1p1f1/day/pr/gn/v20210202.zarr\n"
     ]
    },
    {
     "name": "stderr",
     "output_type": "stream",
     "text": [
      "15it [01:54,  7.11s/it]"
     ]
    },
    {
     "name": "stdout",
     "output_type": "stream",
     "text": [
      "CanESM5\n",
      "historical\n",
      "reading zarr gs://clean-b1dbca25/cmip6/CMIP/CCCma/CanESM5/historical/r1i1p1f1/day/pr/gn/v20190429.zarr\n",
      "ssp245\n",
      "reading zarr gs://clean-b1dbca25/cmip6/ScenarioMIP/CCCma/CanESM5/ssp245/r1i1p1f1/day/pr/gn/v20190429.zarr\n",
      "ssp370\n",
      "reading zarr gs://clean-b1dbca25/cmip6/ScenarioMIP/CCCma/CanESM5/ssp370/r1i1p1f1/day/pr/gn/v20190429.zarr\n"
     ]
    },
    {
     "name": "stderr",
     "output_type": "stream",
     "text": [
      "18it [02:17,  7.26s/it]"
     ]
    },
    {
     "name": "stdout",
     "output_type": "stream",
     "text": [
      "EC-Earth3-Veg-LR\n",
      "historical\n",
      "reading zarr gs://clean-b1dbca25/cmip6/CMIP/EC-Earth-Consortium/EC-Earth3-Veg-LR/historical/r1i1p1f1/day/pr/gr/v20200217.zarr\n",
      "ssp245\n",
      "reading zarr gs://clean-b1dbca25/cmip6/ScenarioMIP/EC-Earth-Consortium/EC-Earth3-Veg-LR/ssp245/r1i1p1f1/day/pr/gr/v20201123.zarr\n",
      "ssp370\n",
      "reading zarr gs://clean-b1dbca25/cmip6/ScenarioMIP/EC-Earth-Consortium/EC-Earth3-Veg-LR/ssp370/r1i1p1f1/day/pr/gr/v20201123.zarr\n"
     ]
    },
    {
     "name": "stderr",
     "output_type": "stream",
     "text": [
      "27it [02:39,  4.48s/it]"
     ]
    },
    {
     "name": "stdout",
     "output_type": "stream",
     "text": [
      "EC-Earth3-Veg\n",
      "historical\n",
      "reading zarr gs://clean-b1dbca25/cmip6/CMIP/EC-Earth-Consortium/EC-Earth3-Veg/historical/r1i1p1f1/day/pr/gr/v20200225.zarr\n",
      "ssp245\n",
      "reading zarr gs://clean-b1dbca25/cmip6/ScenarioMIP/EC-Earth-Consortium/EC-Earth3-Veg/ssp245/r1i1p1f1/day/pr/gr/v20200225.zarr\n",
      "ssp370\n",
      "reading zarr gs://clean-b1dbca25/cmip6/ScenarioMIP/EC-Earth-Consortium/EC-Earth3-Veg/ssp370/r1i1p1f1/day/pr/gr/v20200225.zarr\n"
     ]
    },
    {
     "name": "stderr",
     "output_type": "stream",
     "text": [
      "30it [03:04,  5.27s/it]"
     ]
    },
    {
     "name": "stdout",
     "output_type": "stream",
     "text": [
      "EC-Earth3\n",
      "historical\n",
      "reading zarr gs://clean-b1dbca25/cmip6/CMIP/EC-Earth-Consortium/EC-Earth3/historical/r1i1p1f1/day/pr/gr/v20200310.zarr\n",
      "ssp245\n",
      "reading zarr gs://clean-b1dbca25/cmip6/ScenarioMIP/EC-Earth-Consortium/EC-Earth3/ssp245/r1i1p1f1/day/pr/gr/v20200310.zarr\n",
      "ssp370\n",
      "reading zarr gs://clean-b1dbca25/cmip6/ScenarioMIP/EC-Earth-Consortium/EC-Earth3/ssp370/r1i1p1f1/day/pr/gr/v20200310.zarr\n"
     ]
    },
    {
     "name": "stderr",
     "output_type": "stream",
     "text": [
      "33it [03:28,  5.94s/it]"
     ]
    },
    {
     "name": "stdout",
     "output_type": "stream",
     "text": [
      "FGOALS-g3\n",
      "historical\n",
      "reading zarr gs://clean-b1dbca25/cmip6/CMIP/CAS/FGOALS-g3/historical/r1i1p1f1/day/pr/gn/v20190826.zarr\n",
      "ssp245\n",
      "reading zarr gs://clean-b1dbca25/cmip6/ScenarioMIP/CAS/FGOALS-g3/ssp245/r1i1p1f1/day/pr/gn/v20190818.zarr\n",
      "ssp370\n",
      "reading zarr gs://clean-b1dbca25/cmip6/ScenarioMIP/CAS/FGOALS-g3/ssp370/r1i1p1f1/day/pr/gn/v20190820.zarr\n"
     ]
    },
    {
     "name": "stderr",
     "output_type": "stream",
     "text": [
      "36it [03:51,  6.36s/it]"
     ]
    },
    {
     "name": "stdout",
     "output_type": "stream",
     "text": [
      "GFDL-ESM4\n",
      "historical\n",
      "reading zarr gs://clean-b1dbca25/cmip6/CMIP/NOAA-GFDL/GFDL-ESM4/historical/r1i1p1f1/day/pr/gr1/v20190726.zarr\n",
      "ssp245\n",
      "reading zarr gs://clean-b1dbca25/cmip6/ScenarioMIP/NOAA-GFDL/GFDL-ESM4/ssp245/r1i1p1f1/day/pr/gr1/v20180701.zarr\n",
      "ssp370\n",
      "reading zarr gs://clean-b1dbca25/cmip6/ScenarioMIP/NOAA-GFDL/GFDL-ESM4/ssp370/r1i1p1f1/day/pr/gr1/v20180701.zarr\n"
     ]
    },
    {
     "name": "stderr",
     "output_type": "stream",
     "text": [
      "42it [04:14,  5.31s/it]"
     ]
    },
    {
     "name": "stdout",
     "output_type": "stream",
     "text": [
      "INM-CM4-8\n",
      "historical\n",
      "reading zarr gs://clean-b1dbca25/cmip6/CMIP/INM/INM-CM4-8/historical/r1i1p1f1/day/pr/gr1/v20190530.zarr\n",
      "ssp245\n",
      "reading zarr gs://clean-b1dbca25/cmip6/ScenarioMIP/INM/INM-CM4-8/ssp245/r1i1p1f1/day/pr/gr1/v20190603.zarr\n",
      "ssp370\n",
      "reading zarr gs://clean-b1dbca25/cmip6/ScenarioMIP/INM/INM-CM4-8/ssp370/r1i1p1f1/day/pr/gr1/v20190603.zarr\n"
     ]
    },
    {
     "name": "stderr",
     "output_type": "stream",
     "text": [
      "48it [04:37,  4.74s/it]"
     ]
    },
    {
     "name": "stdout",
     "output_type": "stream",
     "text": [
      "INM-CM5-0\n",
      "historical\n",
      "reading zarr gs://clean-b1dbca25/cmip6/CMIP/INM/INM-CM5-0/historical/r1i1p1f1/day/pr/gr1/v20190610.zarr\n",
      "ssp245\n",
      "reading zarr gs://clean-b1dbca25/cmip6/ScenarioMIP/INM/INM-CM5-0/ssp245/r1i1p1f1/day/pr/gr1/v20190619.zarr\n",
      "ssp370\n",
      "reading zarr gs://clean-b1dbca25/cmip6/ScenarioMIP/INM/INM-CM5-0/ssp370/r1i1p1f1/day/pr/gr1/v20190618.zarr\n"
     ]
    },
    {
     "name": "stderr",
     "output_type": "stream",
     "text": [
      "51it [04:59,  5.33s/it]"
     ]
    },
    {
     "name": "stdout",
     "output_type": "stream",
     "text": [
      "KACE-1-0-G\n",
      "historical\n",
      "reading zarr gs://clean-b1dbca25/cmip6/CMIP/NIMS-KMA/KACE-1-0-G/historical/r1i1p1f1/day/pr/gr/v20190911.zarr\n",
      "ssp245\n",
      "reading zarr gs://clean-b1dbca25/cmip6/ScenarioMIP/NIMS-KMA/KACE-1-0-G/ssp245/r1i1p1f1/day/pr/gr/v20191125.zarr\n",
      "ssp370\n",
      "reading zarr gs://clean-b1dbca25/cmip6/ScenarioMIP/NIMS-KMA/KACE-1-0-G/ssp370/r1i1p1f1/day/pr/gr/v20191125.zarr\n"
     ]
    },
    {
     "name": "stderr",
     "output_type": "stream",
     "text": [
      "54it [05:22,  5.87s/it]"
     ]
    },
    {
     "name": "stdout",
     "output_type": "stream",
     "text": [
      "MIROC-ES2L\n",
      "historical\n",
      "reading zarr gs://clean-b1dbca25/cmip6/CMIP/MIROC/MIROC-ES2L/historical/r1i1p1f2/day/pr/gn/v20191129.zarr\n",
      "ssp245\n",
      "reading zarr gs://clean-b1dbca25/cmip6/ScenarioMIP/MIROC/MIROC-ES2L/ssp245/r1i1p1f2/day/pr/gn/v20200318.zarr\n",
      "ssp370\n",
      "reading zarr gs://clean-b1dbca25/cmip6/ScenarioMIP/MIROC/MIROC-ES2L/ssp370/r1i1p1f2/day/pr/gn/v20200318.zarr\n"
     ]
    },
    {
     "name": "stderr",
     "output_type": "stream",
     "text": [
      "56it [05:45,  6.86s/it]"
     ]
    },
    {
     "name": "stdout",
     "output_type": "stream",
     "text": [
      "MIROC6\n",
      "historical\n",
      "reading zarr gs://clean-b1dbca25/cmip6/CMIP/MIROC/MIROC6/historical/r1i1p1f1/day/pr/gn/v20191016.zarr\n",
      "ssp245\n",
      "reading zarr gs://clean-b1dbca25/cmip6/ScenarioMIP/MIROC/MIROC6/ssp245/r1i1p1f1/day/pr/gn/v20191016.zarr\n",
      "ssp370\n",
      "reading zarr gs://clean-b1dbca25/cmip6/ScenarioMIP/MIROC/MIROC6/ssp370/r1i1p1f1/day/pr/gn/v20191016.zarr\n"
     ]
    },
    {
     "name": "stderr",
     "output_type": "stream",
     "text": [
      "59it [06:09,  7.19s/it]"
     ]
    },
    {
     "name": "stdout",
     "output_type": "stream",
     "text": [
      "MPI-ESM1-2-LR\n",
      "historical\n",
      "reading zarr gs://clean-b1dbca25/cmip6/CMIP/MPI-M/MPI-ESM1-2-LR/historical/r1i1p1f1/day/pr/gn/v20190710.zarr\n",
      "ssp245\n",
      "reading zarr gs://clean-b1dbca25/cmip6/ScenarioMIP/MPI-M/MPI-ESM1-2-LR/ssp245/r1i1p1f1/day/pr/gn/v20190710.zarr\n",
      "ssp370\n",
      "reading zarr gs://clean-b1dbca25/cmip6/ScenarioMIP/MPI-M/MPI-ESM1-2-LR/ssp370/r1i1p1f1/day/pr/gn/v20190710.zarr\n"
     ]
    },
    {
     "name": "stderr",
     "output_type": "stream",
     "text": [
      "65it [06:31,  5.65s/it]"
     ]
    },
    {
     "name": "stdout",
     "output_type": "stream",
     "text": [
      "NorESM2-LM\n",
      "historical\n",
      "reading zarr gs://clean-b1dbca25/cmip6/CMIP/NCC/NorESM2-LM/historical/r1i1p1f1/day/pr/gn/v20190815.zarr\n",
      "ssp245\n",
      "reading zarr gs://clean-b1dbca25/cmip6/ScenarioMIP/NCC/NorESM2-LM/ssp245/r1i1p1f1/day/pr/gn/v20191108.zarr\n",
      "ssp370\n",
      "reading zarr gs://clean-b1dbca25/cmip6/ScenarioMIP/NCC/NorESM2-LM/ssp370/r1i1p1f1/day/pr/gn/v20191108.zarr\n"
     ]
    },
    {
     "name": "stderr",
     "output_type": "stream",
     "text": [
      "72it [06:54,  4.62s/it]"
     ]
    },
    {
     "name": "stdout",
     "output_type": "stream",
     "text": [
      "NorESM2-MM\n",
      "historical\n",
      "reading zarr gs://clean-b1dbca25/cmip6/CMIP/NCC/NorESM2-MM/historical/r1i1p1f1/day/pr/gn/v20191108.zarr\n",
      "ssp245\n",
      "reading zarr gs://clean-b1dbca25/cmip6/ScenarioMIP/NCC/NorESM2-MM/ssp245/r1i1p1f1/day/pr/gn/v20191108.zarr\n",
      "ssp370\n",
      "reading zarr gs://clean-b1dbca25/cmip6/ScenarioMIP/NCC/NorESM2-MM/ssp370/r1i1p1f1/day/pr/gn/v20191108.zarr\n"
     ]
    },
    {
     "name": "stderr",
     "output_type": "stream",
     "text": [
      "75it [07:17,  5.28s/it]"
     ]
    },
    {
     "name": "stdout",
     "output_type": "stream",
     "text": [
      "UKESM1-0-LL\n",
      "historical\n",
      "reading zarr gs://clean-b1dbca25/cmip6/CMIP/MOHC/UKESM1-0-LL/historical/r1i1p1f2/day/pr/gn/v20190627.zarr\n",
      "ssp245\n",
      "reading zarr gs://clean-b1dbca25/cmip6/ScenarioMIP/MOHC/UKESM1-0-LL/ssp245/r1i1p1f2/day/pr/gn/v20190715.zarr\n",
      "ssp370\n",
      "reading zarr gs://clean-b1dbca25/cmip6/ScenarioMIP/MOHC/UKESM1-0-LL/ssp370/r1i1p1f2/day/pr/gn/v20190726.zarr\n"
     ]
    },
    {
     "name": "stderr",
     "output_type": "stream",
     "text": [
      "80it [07:39,  5.75s/it]\n"
     ]
    }
   ],
   "source": [
    "# we're first gathering all the graph, and then computing, to leverage a large cluster.\n",
    "precip_metadata = []\n",
    "for i,k in tqdm(enumerate(list(fps.keys()))):\n",
    "    if k[-3:] == '-pr':\n",
    "        if all(scenario_key in fps[k] for scenario_key in ['ssp245','ssp370','historical']):\n",
    "            model = k.replace('-pr', '')\n",
    "            print(model)\n",
    "            precip_metadata.append(do_global_computation(var='pr', step_label='clean', model=model, weights=weights))"
   ]
  },
  {
   "cell_type": "code",
   "execution_count": 100,
   "id": "e014a78b-b8c5-4330-90de-75a8f5ab267e",
   "metadata": {},
   "outputs": [],
   "source": [
    "precip_metadata_da = xr.combine_by_coords(precip_metadata)"
   ]
  },
  {
   "cell_type": "code",
   "execution_count": 101,
   "id": "85621bea-dbd9-43cc-accd-183da0db0335",
   "metadata": {},
   "outputs": [],
   "source": [
    "precip_results_da = precip_metadata_da.compute()"
   ]
  },
  {
   "cell_type": "code",
   "execution_count": 102,
   "id": "2f86a92d-00e2-41bb-a9c4-f3f41cf9b04e",
   "metadata": {},
   "outputs": [
    {
     "data": {
      "text/plain": [
       "<xarray.backends.zarr.ZarrStore at 0x7fb4747e3580>"
      ]
     },
     "execution_count": 102,
     "metadata": {},
     "output_type": "execute_result"
    }
   ],
   "source": [
    "precip_results_da.to_zarr('gs://downscaled-288ec5ac/diagnostics/paper_figures/global_means_gdpcir_versus_source/precip_clean.zarr')"
   ]
  },
  {
   "cell_type": "markdown",
   "id": "af0b4090-9800-459a-9f8e-50048dec758d",
   "metadata": {},
   "source": [
    "### tasmax clean"
   ]
  },
  {
   "cell_type": "code",
   "execution_count": 103,
   "id": "22881976-e85f-46c2-9877-7a23ce6ff058",
   "metadata": {
    "tags": []
   },
   "outputs": [
    {
     "name": "stderr",
     "output_type": "stream",
     "text": [
      "0it [00:00, ?it/s]"
     ]
    },
    {
     "name": "stdout",
     "output_type": "stream",
     "text": [
      "ACCESS-CM2\n",
      "historical\n",
      "reading zarr gs://clean-b1dbca25/cmip6/CMIP/CSIRO-ARCCSS/ACCESS-CM2/historical/r1i1p1f1/day/tasmax/gn/v20191108.zarr\n",
      "ssp245\n",
      "reading zarr gs://clean-b1dbca25/cmip6/ScenarioMIP/CSIRO-ARCCSS/ACCESS-CM2/ssp245/r1i1p1f1/day/tasmax/gn/v20191108.zarr\n",
      "ssp370\n",
      "reading zarr gs://clean-b1dbca25/cmip6/ScenarioMIP/CSIRO-ARCCSS/ACCESS-CM2/ssp370/r1i1p1f1/day/tasmax/gn/v20191108.zarr\n"
     ]
    },
    {
     "name": "stderr",
     "output_type": "stream",
     "text": [
      "2it [00:22, 11.43s/it]"
     ]
    },
    {
     "name": "stdout",
     "output_type": "stream",
     "text": [
      "ACCESS-ESM1-5\n",
      "historical\n",
      "reading zarr gs://clean-b1dbca25/cmip6/CMIP/CSIRO/ACCESS-ESM1-5/historical/r1i1p1f1/day/tasmax/gn/v20191115.zarr\n",
      "ssp245\n",
      "reading zarr gs://clean-b1dbca25/cmip6/ScenarioMIP/CSIRO/ACCESS-ESM1-5/ssp245/r1i1p1f1/day/tasmax/gn/v20191115.zarr\n",
      "ssp370\n",
      "reading zarr gs://clean-b1dbca25/cmip6/ScenarioMIP/CSIRO/ACCESS-ESM1-5/ssp370/r1i1p1f1/day/tasmax/gn/v20191115.zarr\n"
     ]
    },
    {
     "name": "stderr",
     "output_type": "stream",
     "text": [
      "5it [00:45,  8.89s/it]"
     ]
    },
    {
     "name": "stdout",
     "output_type": "stream",
     "text": [
      "AWI-CM-1-1-MR\n",
      "historical\n",
      "reading zarr gs://clean-b1dbca25/cmip6/CMIP/AWI/AWI-CM-1-1-MR/historical/r1i1p1f1/day/tasmax/gn/v20181218.zarr\n",
      "ssp245\n",
      "reading zarr gs://clean-b1dbca25/cmip6/ScenarioMIP/AWI/AWI-CM-1-1-MR/ssp245/r1i1p1f1/day/tasmax/gn/v20190529.zarr\n",
      "ssp370\n",
      "reading zarr gs://clean-b1dbca25/cmip6/ScenarioMIP/AWI/AWI-CM-1-1-MR/ssp370/r1i1p1f1/day/tasmax/gn/v20190529.zarr\n"
     ]
    },
    {
     "name": "stderr",
     "output_type": "stream",
     "text": [
      "7it [01:09, 10.00s/it]"
     ]
    },
    {
     "name": "stdout",
     "output_type": "stream",
     "text": [
      "BCC-CSM2-MR\n",
      "historical\n",
      "reading zarr gs://clean-b1dbca25/cmip6/CMIP/BCC/BCC-CSM2-MR/historical/r1i1p1f1/day/tasmax/gn/v20181126.zarr\n",
      "ssp245\n",
      "reading zarr gs://clean-b1dbca25/cmip6/ScenarioMIP/BCC/BCC-CSM2-MR/ssp245/r1i1p1f1/day/tasmax/gn/v20190318.zarr\n",
      "ssp370\n",
      "reading zarr gs://clean-b1dbca25/cmip6/ScenarioMIP/BCC/BCC-CSM2-MR/ssp370/r1i1p1f1/day/tasmax/gn/v20190318.zarr\n"
     ]
    },
    {
     "name": "stderr",
     "output_type": "stream",
     "text": [
      "9it [01:32, 10.62s/it]"
     ]
    },
    {
     "name": "stdout",
     "output_type": "stream",
     "text": [
      "CAMS-CSM1-0\n",
      "historical\n",
      "reading zarr gs://clean-b1dbca25/cmip6/CMIP/CAMS/CAMS-CSM1-0/historical/r2i1p1f1/day/tasmax/gn/v20201022.zarr\n",
      "ssp245\n",
      "reading zarr gs://clean-b1dbca25/cmip6/ScenarioMIP/CAMS/CAMS-CSM1-0/ssp245/r2i1p1f1/day/tasmax/gn/v20200720.zarr\n",
      "ssp370\n",
      "reading zarr gs://clean-b1dbca25/cmip6/ScenarioMIP/CAMS/CAMS-CSM1-0/ssp370/r2i1p1f1/day/tasmax/gn/v20200720.zarr\n"
     ]
    },
    {
     "name": "stderr",
     "output_type": "stream",
     "text": [
      "11it [01:56, 10.96s/it]"
     ]
    },
    {
     "name": "stdout",
     "output_type": "stream",
     "text": [
      "CMCC-CM2-SR5\n",
      "historical\n",
      "reading zarr gs://clean-b1dbca25/cmip6/CMIP/CMCC/CMCC-CM2-SR5/historical/r1i1p1f1/day/tasmax/gn/v20200616.zarr\n",
      "ssp245\n",
      "reading zarr gs://clean-b1dbca25/cmip6/ScenarioMIP/CMCC/CMCC-CM2-SR5/ssp245/r1i1p1f1/day/tasmax/gn/v20200617.zarr\n",
      "ssp370\n",
      "reading zarr gs://clean-b1dbca25/cmip6/ScenarioMIP/CMCC/CMCC-CM2-SR5/ssp370/r1i1p1f1/day/tasmax/gn/v20200622.zarr\n"
     ]
    },
    {
     "name": "stderr",
     "output_type": "stream",
     "text": [
      "13it [02:19, 11.28s/it]"
     ]
    },
    {
     "name": "stdout",
     "output_type": "stream",
     "text": [
      "CMCC-ESM2\n",
      "historical\n",
      "reading zarr gs://clean-b1dbca25/cmip6/CMIP/CMCC/CMCC-ESM2/historical/r1i1p1f1/day/tasmax/gn/v20210114.zarr\n",
      "ssp245\n",
      "reading zarr gs://clean-b1dbca25/cmip6/ScenarioMIP/CMCC/CMCC-ESM2/ssp245/r1i1p1f1/day/tasmax/gn/v20210129.zarr\n",
      "ssp370\n",
      "reading zarr gs://clean-b1dbca25/cmip6/ScenarioMIP/CMCC/CMCC-ESM2/ssp370/r1i1p1f1/day/tasmax/gn/v20210202.zarr\n"
     ]
    },
    {
     "name": "stderr",
     "output_type": "stream",
     "text": [
      "16it [02:43,  9.84s/it]"
     ]
    },
    {
     "name": "stdout",
     "output_type": "stream",
     "text": [
      "CanESM5\n",
      "historical\n",
      "reading zarr gs://clean-b1dbca25/cmip6/CMIP/CCCma/CanESM5/historical/r1i1p1f1/day/tasmax/gn/v20190429.zarr\n",
      "ssp245\n",
      "reading zarr gs://clean-b1dbca25/cmip6/ScenarioMIP/CCCma/CanESM5/ssp245/r1i1p1f1/day/tasmax/gn/v20190429.zarr\n",
      "ssp370\n",
      "reading zarr gs://clean-b1dbca25/cmip6/ScenarioMIP/CCCma/CanESM5/ssp370/r1i1p1f1/day/tasmax/gn/v20190429.zarr\n"
     ]
    },
    {
     "name": "stderr",
     "output_type": "stream",
     "text": [
      "19it [03:05,  8.96s/it]"
     ]
    },
    {
     "name": "stdout",
     "output_type": "stream",
     "text": [
      "EC-Earth3-Veg-LR\n",
      "historical\n",
      "reading zarr gs://clean-b1dbca25/cmip6/CMIP/EC-Earth-Consortium/EC-Earth3-Veg-LR/historical/r1i1p1f1/day/tasmax/gr/v20200217.zarr\n",
      "ssp245\n",
      "reading zarr gs://clean-b1dbca25/cmip6/ScenarioMIP/EC-Earth-Consortium/EC-Earth3-Veg-LR/ssp245/r1i1p1f1/day/tasmax/gr/v20201123.zarr\n",
      "ssp370\n",
      "reading zarr gs://clean-b1dbca25/cmip6/ScenarioMIP/EC-Earth-Consortium/EC-Earth3-Veg-LR/ssp370/r1i1p1f1/day/tasmax/gr/v20201123.zarr\n"
     ]
    },
    {
     "name": "stderr",
     "output_type": "stream",
     "text": [
      "28it [03:28,  5.04s/it]"
     ]
    },
    {
     "name": "stdout",
     "output_type": "stream",
     "text": [
      "EC-Earth3-Veg\n",
      "historical\n",
      "reading zarr gs://clean-b1dbca25/cmip6/CMIP/EC-Earth-Consortium/EC-Earth3-Veg/historical/r1i1p1f1/day/tasmax/gr/v20200225.zarr\n",
      "ssp245\n",
      "reading zarr gs://clean-b1dbca25/cmip6/ScenarioMIP/EC-Earth-Consortium/EC-Earth3-Veg/ssp245/r1i1p1f1/day/tasmax/gr/v20200225.zarr\n",
      "ssp370\n",
      "reading zarr gs://clean-b1dbca25/cmip6/ScenarioMIP/EC-Earth-Consortium/EC-Earth3-Veg/ssp370/r1i1p1f1/day/tasmax/gr/v20200225.zarr\n"
     ]
    },
    {
     "name": "stderr",
     "output_type": "stream",
     "text": [
      "31it [03:55,  5.89s/it]"
     ]
    },
    {
     "name": "stdout",
     "output_type": "stream",
     "text": [
      "EC-Earth3\n",
      "historical\n",
      "reading zarr gs://clean-b1dbca25/cmip6/CMIP/EC-Earth-Consortium/EC-Earth3/historical/r1i1p1f1/day/tasmax/gr/v20200310.zarr\n",
      "ssp245\n",
      "reading zarr gs://clean-b1dbca25/cmip6/ScenarioMIP/EC-Earth-Consortium/EC-Earth3/ssp245/r1i1p1f1/day/tasmax/gr/v20200310.zarr\n",
      "ssp370\n",
      "reading zarr gs://clean-b1dbca25/cmip6/ScenarioMIP/EC-Earth-Consortium/EC-Earth3/ssp370/r1i1p1f1/day/tasmax/gr/v20200310.zarr\n"
     ]
    },
    {
     "name": "stderr",
     "output_type": "stream",
     "text": [
      "34it [04:19,  6.41s/it]"
     ]
    },
    {
     "name": "stdout",
     "output_type": "stream",
     "text": [
      "FGOALS-g3\n",
      "historical\n",
      "reading zarr gs://clean-b1dbca25/cmip6/CMIP/CAS/FGOALS-g3/historical/r1i1p1f1/day/tasmax/gn/v20190826.zarr\n",
      "ssp245\n",
      "reading zarr gs://clean-b1dbca25/cmip6/ScenarioMIP/CAS/FGOALS-g3/ssp245/r1i1p1f1/day/tasmax/gn/v20190818.zarr\n",
      "ssp370\n",
      "reading zarr gs://clean-b1dbca25/cmip6/ScenarioMIP/CAS/FGOALS-g3/ssp370/r1i1p1f1/day/tasmax/gn/v20190820.zarr\n"
     ]
    },
    {
     "name": "stderr",
     "output_type": "stream",
     "text": [
      "37it [04:42,  6.71s/it]"
     ]
    },
    {
     "name": "stdout",
     "output_type": "stream",
     "text": [
      "GFDL-ESM4\n",
      "historical\n",
      "reading zarr gs://clean-b1dbca25/cmip6/CMIP/NOAA-GFDL/GFDL-ESM4/historical/r1i1p1f1/day/tasmax/gr1/v20190726.zarr\n",
      "ssp245\n",
      "reading zarr gs://clean-b1dbca25/cmip6/ScenarioMIP/NOAA-GFDL/GFDL-ESM4/ssp245/r1i1p1f1/day/tasmax/gr1/v20180701.zarr\n",
      "ssp370\n",
      "reading zarr gs://clean-b1dbca25/cmip6/ScenarioMIP/NOAA-GFDL/GFDL-ESM4/ssp370/r1i1p1f1/day/tasmax/gr1/v20180701.zarr\n"
     ]
    },
    {
     "name": "stderr",
     "output_type": "stream",
     "text": [
      "43it [05:05,  5.50s/it]"
     ]
    },
    {
     "name": "stdout",
     "output_type": "stream",
     "text": [
      "INM-CM4-8\n",
      "historical\n",
      "reading zarr gs://clean-b1dbca25/cmip6/CMIP/INM/INM-CM4-8/historical/r1i1p1f1/day/tasmax/gr1/v20190530.zarr\n",
      "ssp245\n",
      "reading zarr gs://clean-b1dbca25/cmip6/ScenarioMIP/INM/INM-CM4-8/ssp245/r1i1p1f1/day/tasmax/gr1/v20190603.zarr\n",
      "ssp370\n",
      "reading zarr gs://clean-b1dbca25/cmip6/ScenarioMIP/INM/INM-CM4-8/ssp370/r1i1p1f1/day/tasmax/gr1/v20190603.zarr\n"
     ]
    },
    {
     "name": "stderr",
     "output_type": "stream",
     "text": [
      "49it [05:28,  4.88s/it]"
     ]
    },
    {
     "name": "stdout",
     "output_type": "stream",
     "text": [
      "INM-CM5-0\n",
      "historical\n",
      "reading zarr gs://clean-b1dbca25/cmip6/CMIP/INM/INM-CM5-0/historical/r1i1p1f1/day/tasmax/gr1/v20190610.zarr\n",
      "ssp245\n",
      "reading zarr gs://clean-b1dbca25/cmip6/ScenarioMIP/INM/INM-CM5-0/ssp245/r1i1p1f1/day/tasmax/gr1/v20190619.zarr\n",
      "ssp370\n",
      "reading zarr gs://clean-b1dbca25/cmip6/ScenarioMIP/INM/INM-CM5-0/ssp370/r1i1p1f1/day/tasmax/gr1/v20190618.zarr\n"
     ]
    },
    {
     "name": "stderr",
     "output_type": "stream",
     "text": [
      "52it [05:50,  5.44s/it]"
     ]
    },
    {
     "name": "stdout",
     "output_type": "stream",
     "text": [
      "KACE-1-0-G\n",
      "historical\n",
      "reading zarr gs://clean-b1dbca25/cmip6/CMIP/NIMS-KMA/KACE-1-0-G/historical/r1i1p1f1/day/tasmax/gr/v20200316.zarr\n",
      "ssp245\n",
      "reading zarr gs://clean-b1dbca25/cmip6/ScenarioMIP/NIMS-KMA/KACE-1-0-G/ssp245/r1i1p1f1/day/tasmax/gr/v20200317.zarr\n",
      "ssp370\n",
      "reading zarr gs://clean-b1dbca25/cmip6/ScenarioMIP/NIMS-KMA/KACE-1-0-G/ssp370/r1i1p1f1/day/tasmax/gr/v20200317.zarr\n"
     ]
    },
    {
     "name": "stderr",
     "output_type": "stream",
     "text": [
      "55it [06:13,  5.97s/it]"
     ]
    },
    {
     "name": "stdout",
     "output_type": "stream",
     "text": [
      "MIROC-ES2L\n",
      "historical\n",
      "reading zarr gs://clean-b1dbca25/cmip6/CMIP/MIROC/MIROC-ES2L/historical/r1i1p1f2/day/tasmax/gn/v20191129.zarr\n",
      "ssp245\n",
      "reading zarr gs://clean-b1dbca25/cmip6/ScenarioMIP/MIROC/MIROC-ES2L/ssp245/r1i1p1f2/day/tasmax/gn/v20200318.zarr\n",
      "ssp370\n",
      "reading zarr gs://clean-b1dbca25/cmip6/ScenarioMIP/MIROC/MIROC-ES2L/ssp370/r1i1p1f2/day/tasmax/gn/v20200318.zarr\n"
     ]
    },
    {
     "name": "stderr",
     "output_type": "stream",
     "text": [
      "57it [06:35,  6.87s/it]"
     ]
    },
    {
     "name": "stdout",
     "output_type": "stream",
     "text": [
      "MIROC6\n",
      "historical\n",
      "reading zarr gs://clean-b1dbca25/cmip6/CMIP/MIROC/MIROC6/historical/r1i1p1f1/day/tasmax/gn/v20191016.zarr\n",
      "ssp245\n",
      "reading zarr gs://clean-b1dbca25/cmip6/ScenarioMIP/MIROC/MIROC6/ssp245/r1i1p1f1/day/tasmax/gn/v20191016.zarr\n",
      "ssp370\n",
      "reading zarr gs://clean-b1dbca25/cmip6/ScenarioMIP/MIROC/MIROC6/ssp370/r1i1p1f1/day/tasmax/gn/v20191016.zarr\n"
     ]
    },
    {
     "name": "stderr",
     "output_type": "stream",
     "text": [
      "60it [06:59,  7.19s/it]"
     ]
    },
    {
     "name": "stdout",
     "output_type": "stream",
     "text": [
      "MPI-ESM1-2-LR\n",
      "historical\n",
      "reading zarr gs://clean-b1dbca25/cmip6/CMIP/MPI-M/MPI-ESM1-2-LR/historical/r1i1p1f1/day/tasmax/gn/v20190710.zarr\n",
      "ssp245\n",
      "reading zarr gs://clean-b1dbca25/cmip6/ScenarioMIP/MPI-M/MPI-ESM1-2-LR/ssp245/r1i1p1f1/day/tasmax/gn/v20190710.zarr\n",
      "ssp370\n",
      "reading zarr gs://clean-b1dbca25/cmip6/ScenarioMIP/MPI-M/MPI-ESM1-2-LR/ssp370/r1i1p1f1/day/tasmax/gn/v20190710.zarr\n"
     ]
    },
    {
     "name": "stderr",
     "output_type": "stream",
     "text": [
      "66it [07:22,  5.66s/it]"
     ]
    },
    {
     "name": "stdout",
     "output_type": "stream",
     "text": [
      "MRI-ESM2-0\n",
      "historical\n",
      "reading zarr gs://clean-b1dbca25/cmip6/CMIP/MRI/MRI-ESM2-0/historical/r1i1p1f1/day/tasmax/gn/v20190603.zarr\n",
      "ssp245\n",
      "reading zarr gs://clean-b1dbca25/cmip6/ScenarioMIP/MRI/MRI-ESM2-0/ssp245/r1i1p1f1/day/tasmax/gn/v20190603.zarr\n",
      "ssp370\n",
      "reading zarr gs://clean-b1dbca25/cmip6/ScenarioMIP/MRI/MRI-ESM2-0/ssp370/r1i1p1f1/day/tasmax/gn/v20190603.zarr\n"
     ]
    },
    {
     "name": "stderr",
     "output_type": "stream",
     "text": [
      "68it [07:46,  6.74s/it]"
     ]
    },
    {
     "name": "stdout",
     "output_type": "stream",
     "text": [
      "NorESM2-LM\n",
      "historical\n",
      "reading zarr gs://clean-b1dbca25/cmip6/CMIP/NCC/NorESM2-LM/historical/r1i1p1f1/day/tasmax/gn/v20190815.zarr\n",
      "ssp245\n",
      "reading zarr gs://clean-b1dbca25/cmip6/ScenarioMIP/NCC/NorESM2-LM/ssp245/r1i1p1f1/day/tasmax/gn/v20191108.zarr\n",
      "ssp370\n",
      "reading zarr gs://clean-b1dbca25/cmip6/ScenarioMIP/NCC/NorESM2-LM/ssp370/r1i1p1f1/day/tasmax/gn/v20191108.zarr\n"
     ]
    },
    {
     "name": "stderr",
     "output_type": "stream",
     "text": [
      "73it [08:08,  5.90s/it]"
     ]
    },
    {
     "name": "stdout",
     "output_type": "stream",
     "text": [
      "NorESM2-MM\n",
      "historical\n",
      "reading zarr gs://clean-b1dbca25/cmip6/CMIP/NCC/NorESM2-MM/historical/r1i1p1f1/day/tasmax/gn/v20191108.zarr\n",
      "ssp245\n",
      "reading zarr gs://clean-b1dbca25/cmip6/ScenarioMIP/NCC/NorESM2-MM/ssp245/r1i1p1f1/day/tasmax/gn/v20191108.zarr\n",
      "ssp370\n",
      "reading zarr gs://clean-b1dbca25/cmip6/ScenarioMIP/NCC/NorESM2-MM/ssp370/r1i1p1f1/day/tasmax/gn/v20191108.zarr\n"
     ]
    },
    {
     "name": "stderr",
     "output_type": "stream",
     "text": [
      "76it [08:32,  6.36s/it]"
     ]
    },
    {
     "name": "stdout",
     "output_type": "stream",
     "text": [
      "UKESM1-0-LL\n",
      "historical\n",
      "reading zarr gs://clean-b1dbca25/cmip6/CMIP/MOHC/UKESM1-0-LL/historical/r1i1p1f2/day/tasmax/gn/v20190627.zarr\n",
      "ssp245\n",
      "reading zarr gs://clean-b1dbca25/cmip6/ScenarioMIP/MOHC/UKESM1-0-LL/ssp245/r1i1p1f2/day/tasmax/gn/v20190715.zarr\n",
      "ssp370\n",
      "reading zarr gs://clean-b1dbca25/cmip6/ScenarioMIP/MOHC/UKESM1-0-LL/ssp370/r1i1p1f2/day/tasmax/gn/v20190726.zarr\n"
     ]
    },
    {
     "name": "stderr",
     "output_type": "stream",
     "text": [
      "80it [08:54,  6.68s/it]\n"
     ]
    }
   ],
   "source": [
    "# we're first gathering all the graph, and then computing, to leverage a large cluster.\n",
    "tasmax_metadata = []\n",
    "for i,k in tqdm(enumerate(list(fps.keys()))):\n",
    "    if '-tasmax' in k:\n",
    "        if all(scenario_key in fps[k] for scenario_key in ['ssp245','ssp370','historical']):\n",
    "            model = k.replace('-tasmax', '')\n",
    "            print(model)\n",
    "            tasmax_metadata.append(do_global_computation(var='tasmax', step_label='clean', model=model, weights=weights))"
   ]
  },
  {
   "cell_type": "code",
   "execution_count": 104,
   "id": "b6c2cfe1-e91d-445e-ba66-8363d9276b2a",
   "metadata": {},
   "outputs": [],
   "source": [
    "tasmax_metadata_da = xr.combine_by_coords(tasmax_metadata)"
   ]
  },
  {
   "cell_type": "code",
   "execution_count": 105,
   "id": "9edbcab4-65f6-4da3-ad6e-5ad2f0761726",
   "metadata": {},
   "outputs": [],
   "source": [
    "tasmax_results_da = tasmax_metadata_da.compute()"
   ]
  },
  {
   "cell_type": "code",
   "execution_count": 106,
   "id": "d77e5be6-c649-4ff2-a6ef-21af265183a6",
   "metadata": {},
   "outputs": [
    {
     "data": {
      "text/plain": [
       "<xarray.backends.zarr.ZarrStore at 0x7fb4741c5270>"
      ]
     },
     "execution_count": 106,
     "metadata": {},
     "output_type": "execute_result"
    }
   ],
   "source": [
    "tasmax_results_da.to_zarr('gs://downscaled-288ec5ac/diagnostics/paper_figures/global_means_gdpcir_versus_source/tasmax_clean.zarr')"
   ]
  },
  {
   "cell_type": "markdown",
   "id": "fe5bc604-1cf7-4619-b2c3-64b11777747a",
   "metadata": {},
   "source": [
    "## Gathering the downscaled data from the already computed diagnostics -- fast"
   ]
  },
  {
   "cell_type": "code",
   "execution_count": 108,
   "id": "b01b7904-3487-4b6e-b776-dc043c2664b7",
   "metadata": {},
   "outputs": [],
   "source": [
    "MODELS_BY_LICENSE = {\n",
    "    \"cc0\": [\n",
    "        \"FGOALS-g3\",\n",
    "        \"INM-CM4-8\",\n",
    "        \"INM-CM5-0\",\n",
    "    ],\n",
    "    \"cc_by\": [\n",
    "        \"ACCESS-CM2\",\n",
    "        \"ACCESS-ESM1-5\",\n",
    "        \"BCC-CSM2-MR\",\n",
    "        \"CMCC-CM2-SR5\",\n",
    "        \"CMCC-ESM2\",\n",
    "        \"EC-Earth3-AerChem\",\n",
    "        \"EC-Earth3-CC\",\n",
    "        \"EC-Earth3-Veg-LR\",\n",
    "        \"EC-Earth3-Veg\",\n",
    "        \"EC-Earth3\",\n",
    "        \"GFDL-CM4\",\n",
    "        \"GFDL-ESM4\",\n",
    "        \"HadGEM3-GC31-LL\",\n",
    "        \"MIROC-ES2L\",\n",
    "        \"MIROC6\",\n",
    "        \"MPI-ESM1-2-HR\",\n",
    "        \"MPI-ESM1-2-LR\",\n",
    "        \"NESM3\",\n",
    "        \"NorESM2-LM\",\n",
    "        \"NorESM2-MM\",\n",
    "        \"UKESM1-0-LL\",\n",
    "    ],\n",
    "    \"cc_by_sa\": [\n",
    "        \"CanESM5\",\n",
    "    ]\n",
    "}\n",
    "\n",
    "ALL_MODELS = sum(MODELS_BY_LICENSE.values(), [])"
   ]
  },
  {
   "cell_type": "markdown",
   "id": "98112faa-5c42-40e8-95c3-6e32cb27a434",
   "metadata": {},
   "source": [
    "### precip downscaled"
   ]
  },
  {
   "cell_type": "code",
   "execution_count": 109,
   "id": "bde677c5-0ae1-4977-a677-7a1766812285",
   "metadata": {
    "tags": []
   },
   "outputs": [
    {
     "name": "stderr",
     "output_type": "stream",
     "text": [
      "0it [00:00, ?it/s]"
     ]
    },
    {
     "name": "stdout",
     "output_type": "stream",
     "text": [
      "ACCESS-CM2\n",
      "historical\n",
      "ssp245\n",
      "ssp370\n"
     ]
    },
    {
     "name": "stderr",
     "output_type": "stream",
     "text": [
      "4it [00:01,  3.60it/s]"
     ]
    },
    {
     "name": "stdout",
     "output_type": "stream",
     "text": [
      "ACCESS-ESM1-5\n",
      "historical\n",
      "ssp245\n",
      "ssp370\n",
      "BCC-CSM2-MR\n",
      "historical\n"
     ]
    },
    {
     "name": "stderr",
     "output_type": "stream",
     "text": [
      "8it [00:01,  7.34it/s]"
     ]
    },
    {
     "name": "stdout",
     "output_type": "stream",
     "text": [
      "ssp245\n",
      "ssp370\n",
      "CMCC-CM2-SR5\n",
      "historical\n",
      "ssp245\n"
     ]
    },
    {
     "name": "stderr",
     "output_type": "stream",
     "text": [
      "12it [00:01, 10.49it/s]"
     ]
    },
    {
     "name": "stdout",
     "output_type": "stream",
     "text": [
      "ssp370\n",
      "CMCC-ESM2\n",
      "historical\n",
      "ssp245\n",
      "ssp370\n"
     ]
    },
    {
     "name": "stderr",
     "output_type": "stream",
     "text": [
      "18it [00:02, 12.70it/s]"
     ]
    },
    {
     "name": "stdout",
     "output_type": "stream",
     "text": [
      "CanESM5\n",
      "historical\n",
      "ssp245\n",
      "ssp370\n",
      "EC-Earth3-Veg-LR\n",
      "historical\n"
     ]
    },
    {
     "name": "stderr",
     "output_type": "stream",
     "text": [
      "27it [00:02, 22.03it/s]"
     ]
    },
    {
     "name": "stdout",
     "output_type": "stream",
     "text": [
      "ssp245\n",
      "ssp370\n",
      "EC-Earth3-Veg\n",
      "historical\n",
      "ssp245\n"
     ]
    },
    {
     "name": "stderr",
     "output_type": "stream",
     "text": [
      "30it [00:02, 20.28it/s]"
     ]
    },
    {
     "name": "stdout",
     "output_type": "stream",
     "text": [
      "ssp370\n",
      "EC-Earth3\n",
      "historical\n",
      "ssp245\n",
      "ssp370\n"
     ]
    },
    {
     "name": "stderr",
     "output_type": "stream",
     "text": [
      "36it [00:02, 18.17it/s]"
     ]
    },
    {
     "name": "stdout",
     "output_type": "stream",
     "text": [
      "FGOALS-g3\n",
      "historical\n",
      "ssp245\n",
      "ssp370\n",
      "GFDL-ESM4\n",
      "historical\n"
     ]
    },
    {
     "name": "stderr",
     "output_type": "stream",
     "text": [
      "42it [00:03, 22.50it/s]"
     ]
    },
    {
     "name": "stdout",
     "output_type": "stream",
     "text": [
      "ssp245\n",
      "ssp370\n",
      "INM-CM4-8\n",
      "historical\n",
      "ssp245\n"
     ]
    },
    {
     "name": "stderr",
     "output_type": "stream",
     "text": [
      "48it [00:03, 25.68it/s]"
     ]
    },
    {
     "name": "stdout",
     "output_type": "stream",
     "text": [
      "ssp370\n",
      "INM-CM5-0\n",
      "historical\n",
      "ssp245\n",
      "ssp370\n"
     ]
    },
    {
     "name": "stderr",
     "output_type": "stream",
     "text": [
      "51it [00:03, 23.06it/s]"
     ]
    },
    {
     "name": "stdout",
     "output_type": "stream",
     "text": [
      "MIROC-ES2L\n",
      "historical\n",
      "ssp245\n",
      "ssp370\n"
     ]
    },
    {
     "name": "stderr",
     "output_type": "stream",
     "text": [
      "56it [00:05,  5.39it/s]"
     ]
    },
    {
     "name": "stdout",
     "output_type": "stream",
     "text": [
      "MIROC6\n",
      "historical\n",
      "ssp245\n",
      "ssp370\n"
     ]
    },
    {
     "name": "stderr",
     "output_type": "stream",
     "text": [
      "59it [00:08,  3.11it/s]"
     ]
    },
    {
     "name": "stdout",
     "output_type": "stream",
     "text": [
      "MPI-ESM1-2-LR\n",
      "historical\n",
      "ssp245\n",
      "ssp370\n"
     ]
    },
    {
     "name": "stderr",
     "output_type": "stream",
     "text": [
      "65it [00:10,  2.77it/s]"
     ]
    },
    {
     "name": "stdout",
     "output_type": "stream",
     "text": [
      "NorESM2-LM\n",
      "historical\n",
      "ssp245\n",
      "ssp370\n"
     ]
    },
    {
     "name": "stderr",
     "output_type": "stream",
     "text": [
      "72it [00:12,  3.17it/s]"
     ]
    },
    {
     "name": "stdout",
     "output_type": "stream",
     "text": [
      "NorESM2-MM\n",
      "historical\n",
      "ssp245\n",
      "ssp370\n"
     ]
    },
    {
     "name": "stderr",
     "output_type": "stream",
     "text": [
      "75it [00:14,  2.45it/s]"
     ]
    },
    {
     "name": "stdout",
     "output_type": "stream",
     "text": [
      "UKESM1-0-LL\n",
      "historical\n",
      "ssp245\n",
      "ssp370\n"
     ]
    },
    {
     "name": "stderr",
     "output_type": "stream",
     "text": [
      "80it [00:17,  4.61it/s]\n"
     ]
    }
   ],
   "source": [
    "# we're first gathering all the graph, and then computing, to leverage a large cluster.\n",
    "precip_metadata_gdpcir = []\n",
    "for i,k in tqdm(enumerate(list(fps.keys()))):\n",
    "    if k[-3:] == '-pr':\n",
    "        if all(scenario_key in fps[k] for scenario_key in ['ssp245','ssp370','historical']):\n",
    "            model = k.replace('-pr', '')\n",
    "            if model not in ALL_MODELS:\n",
    "                continue\n",
    "            print(model)\n",
    "            precip_metadata_gdpcir.append(do_global_computation(var='pr', step_label='downscaled_delivered', model=model, weights=weights))"
   ]
  },
  {
   "cell_type": "code",
   "execution_count": 110,
   "id": "05c78ab3-712d-4b1d-ace8-0acc5ea93d21",
   "metadata": {},
   "outputs": [],
   "source": [
    "precip_metadata_da_gdpcir = xr.combine_by_coords(precip_metadata_gdpcir)"
   ]
  },
  {
   "cell_type": "code",
   "execution_count": 111,
   "id": "1a1a93d3-7b91-439a-ae1b-cc84f5ab81b9",
   "metadata": {},
   "outputs": [],
   "source": [
    "precip_results_da_gdpcir = precip_metadata_da_gdpcir.compute()"
   ]
  },
  {
   "cell_type": "code",
   "execution_count": 112,
   "id": "a49f53c9-e434-44f8-99d1-7e7e78f66f1b",
   "metadata": {},
   "outputs": [
    {
     "data": {
      "text/plain": [
       "<xarray.backends.zarr.ZarrStore at 0x7fb465d7ed60>"
      ]
     },
     "execution_count": 112,
     "metadata": {},
     "output_type": "execute_result"
    }
   ],
   "source": [
    "precip_results_da_gdpcir.to_zarr('gs://downscaled-288ec5ac/diagnostics/paper_figures/global_means_gdpcir_versus_source/precip_gdpcir.zarr')"
   ]
  },
  {
   "cell_type": "markdown",
   "id": "d9d5a51d-6ca5-40cc-a2f6-59025f6f788f",
   "metadata": {},
   "source": [
    "### tasmax downscaled"
   ]
  },
  {
   "cell_type": "code",
   "execution_count": 114,
   "id": "1666800f-717e-49d7-8140-c68cda825431",
   "metadata": {
    "tags": []
   },
   "outputs": [
    {
     "name": "stderr",
     "output_type": "stream",
     "text": [
      "2it [00:00, 12.40it/s]"
     ]
    },
    {
     "name": "stdout",
     "output_type": "stream",
     "text": [
      "ACCESS-CM2\n",
      "historical\n",
      "ssp245\n",
      "ssp370\n",
      "ACCESS-ESM1-5\n",
      "historical\n"
     ]
    },
    {
     "name": "stderr",
     "output_type": "stream",
     "text": [
      "5it [00:00, 15.85it/s]"
     ]
    },
    {
     "name": "stdout",
     "output_type": "stream",
     "text": [
      "ssp245\n",
      "ssp370\n",
      "BCC-CSM2-MR\n",
      "historical\n",
      "ssp245\n",
      "ssp370\n"
     ]
    },
    {
     "name": "stderr",
     "output_type": "stream",
     "text": [
      "9it [00:03,  2.10it/s]"
     ]
    },
    {
     "name": "stdout",
     "output_type": "stream",
     "text": [
      "CMCC-CM2-SR5\n",
      "historical\n",
      "ssp245\n",
      "ssp370\n"
     ]
    },
    {
     "name": "stderr",
     "output_type": "stream",
     "text": [
      "13it [00:05,  1.90it/s]"
     ]
    },
    {
     "name": "stdout",
     "output_type": "stream",
     "text": [
      "CMCC-ESM2\n",
      "historical\n",
      "ssp245\n",
      "ssp370\n"
     ]
    },
    {
     "name": "stderr",
     "output_type": "stream",
     "text": [
      "16it [00:08,  1.66it/s]"
     ]
    },
    {
     "name": "stdout",
     "output_type": "stream",
     "text": [
      "CanESM5\n",
      "historical\n",
      "ssp245\n",
      "ssp370\n"
     ]
    },
    {
     "name": "stderr",
     "output_type": "stream",
     "text": [
      "19it [00:10,  1.49it/s]"
     ]
    },
    {
     "name": "stdout",
     "output_type": "stream",
     "text": [
      "EC-Earth3-Veg-LR\n",
      "historical\n",
      "ssp245\n",
      "ssp370\n"
     ]
    },
    {
     "name": "stderr",
     "output_type": "stream",
     "text": [
      "28it [00:13,  2.22it/s]"
     ]
    },
    {
     "name": "stdout",
     "output_type": "stream",
     "text": [
      "EC-Earth3-Veg\n",
      "historical\n",
      "ssp245\n",
      "ssp370\n"
     ]
    },
    {
     "name": "stderr",
     "output_type": "stream",
     "text": [
      "31it [00:15,  1.87it/s]"
     ]
    },
    {
     "name": "stdout",
     "output_type": "stream",
     "text": [
      "EC-Earth3\n",
      "historical\n",
      "ssp245\n",
      "ssp370\n"
     ]
    },
    {
     "name": "stderr",
     "output_type": "stream",
     "text": [
      "34it [00:18,  1.66it/s]"
     ]
    },
    {
     "name": "stdout",
     "output_type": "stream",
     "text": [
      "FGOALS-g3\n",
      "historical\n",
      "ssp245\n",
      "ssp370\n"
     ]
    },
    {
     "name": "stderr",
     "output_type": "stream",
     "text": [
      "37it [00:20,  1.53it/s]"
     ]
    },
    {
     "name": "stdout",
     "output_type": "stream",
     "text": [
      "GFDL-ESM4\n",
      "historical\n",
      "ssp245\n",
      "ssp370\n"
     ]
    },
    {
     "name": "stderr",
     "output_type": "stream",
     "text": [
      "43it [00:23,  1.80it/s]"
     ]
    },
    {
     "name": "stdout",
     "output_type": "stream",
     "text": [
      "INM-CM4-8\n",
      "historical\n",
      "ssp245\n",
      "ssp370\n"
     ]
    },
    {
     "name": "stderr",
     "output_type": "stream",
     "text": [
      "49it [00:25,  2.03it/s]"
     ]
    },
    {
     "name": "stdout",
     "output_type": "stream",
     "text": [
      "INM-CM5-0\n",
      "historical\n",
      "ssp245\n",
      "ssp370\n"
     ]
    },
    {
     "name": "stderr",
     "output_type": "stream",
     "text": [
      "52it [00:27,  1.82it/s]"
     ]
    },
    {
     "name": "stdout",
     "output_type": "stream",
     "text": [
      "MIROC-ES2L\n",
      "historical\n",
      "ssp245\n",
      "ssp370\n"
     ]
    },
    {
     "name": "stderr",
     "output_type": "stream",
     "text": [
      "57it [00:30,  1.92it/s]"
     ]
    },
    {
     "name": "stdout",
     "output_type": "stream",
     "text": [
      "MIROC6\n",
      "historical\n",
      "ssp245\n",
      "ssp370\n"
     ]
    },
    {
     "name": "stderr",
     "output_type": "stream",
     "text": [
      "60it [00:32,  1.77it/s]"
     ]
    },
    {
     "name": "stdout",
     "output_type": "stream",
     "text": [
      "MPI-ESM1-2-LR\n",
      "historical\n",
      "ssp245\n",
      "ssp370\n"
     ]
    },
    {
     "name": "stderr",
     "output_type": "stream",
     "text": [
      "66it [00:35,  1.87it/s]"
     ]
    },
    {
     "name": "stdout",
     "output_type": "stream",
     "text": [
      "NorESM2-LM\n",
      "historical\n",
      "ssp245\n",
      "ssp370\n"
     ]
    },
    {
     "name": "stderr",
     "output_type": "stream",
     "text": [
      "73it [00:37,  2.16it/s]"
     ]
    },
    {
     "name": "stdout",
     "output_type": "stream",
     "text": [
      "NorESM2-MM\n",
      "historical\n",
      "ssp245\n",
      "ssp370\n"
     ]
    },
    {
     "name": "stderr",
     "output_type": "stream",
     "text": [
      "76it [00:39,  1.91it/s]"
     ]
    },
    {
     "name": "stdout",
     "output_type": "stream",
     "text": [
      "UKESM1-0-LL\n",
      "historical\n",
      "ssp245\n",
      "ssp370\n"
     ]
    },
    {
     "name": "stderr",
     "output_type": "stream",
     "text": [
      "80it [00:42,  1.89it/s]\n"
     ]
    }
   ],
   "source": [
    "# we're first gathering all the graph, and then computing, to leverage a large cluster.\n",
    "tasmax_metadata_gdpcir = []\n",
    "for i,k in tqdm(enumerate(list(fps.keys()))):\n",
    "    if '-tasmax' in k:\n",
    "        if all(scenario_key in fps[k] for scenario_key in ['ssp245','ssp370','historical']):\n",
    "            model = k.replace('-tasmax', '')\n",
    "            if model not in ALL_MODELS:\n",
    "                continue\n",
    "            print(model)\n",
    "            tasmax_metadata_gdpcir.append(do_global_computation(var='tasmax', step_label='downscaled_delivered', model=model, weights=weights))"
   ]
  },
  {
   "cell_type": "code",
   "execution_count": 115,
   "id": "f2727328-251c-4bf6-8022-47f45284b156",
   "metadata": {},
   "outputs": [],
   "source": [
    "tasmax_metadata_da_gdpcir = xr.combine_by_coords(tasmax_metadata_gdpcir)"
   ]
  },
  {
   "cell_type": "code",
   "execution_count": 116,
   "id": "7b425c1d-8f0e-4da7-9260-308118f4d115",
   "metadata": {},
   "outputs": [],
   "source": [
    "tasmax_results_da_gdpcir = tasmax_metadata_da_gdpcir.compute()"
   ]
  },
  {
   "cell_type": "code",
   "execution_count": 117,
   "id": "d8d0c630-b608-4b0c-a685-49692a9f8ac7",
   "metadata": {},
   "outputs": [
    {
     "data": {
      "text/plain": [
       "<xarray.backends.zarr.ZarrStore at 0x7fb464b36970>"
      ]
     },
     "execution_count": 117,
     "metadata": {},
     "output_type": "execute_result"
    }
   ],
   "source": [
    "tasmax_results_da_gdpcir.to_zarr('gs://downscaled-288ec5ac/diagnostics/paper_figures/global_means_gdpcir_versus_source/tasmax_gdpcir.zarr')"
   ]
  },
  {
   "cell_type": "code",
   "execution_count": 122,
   "id": "98fbce95-69dd-4c9a-8985-7dd506d11328",
   "metadata": {},
   "outputs": [
    {
     "name": "stderr",
     "output_type": "stream",
     "text": [
      "/srv/conda/envs/notebook/lib/python3.9/site-packages/dask_gateway/client.py:1014: RuntimeWarning: coroutine 'rpc.close_rpc' was never awaited\n",
      "  self.scheduler_comm.close_rpc()\n",
      "RuntimeWarning: Enable tracemalloc to get the object allocation traceback\n"
     ]
    },
    {
     "data": {
      "text/plain": [
       "(None, None)"
      ]
     },
     "execution_count": 122,
     "metadata": {},
     "output_type": "execute_result"
    }
   ],
   "source": [
    "client.close(), cluster.close()"
   ]
  },
  {
   "cell_type": "code",
   "execution_count": null,
   "id": "abfff7e7-d759-44c6-b7c9-41ed3776ed9d",
   "metadata": {},
   "outputs": [],
   "source": []
  }
 ],
 "metadata": {
  "kernelspec": {
   "display_name": "Python 3 (ipykernel)",
   "language": "python",
   "name": "python3"
  },
  "language_info": {
   "codemirror_mode": {
    "name": "ipython",
    "version": 3
   },
   "file_extension": ".py",
   "mimetype": "text/x-python",
   "name": "python",
   "nbconvert_exporter": "python",
   "pygments_lexer": "ipython3",
   "version": "3.9.13"
  },
  "widgets": {
   "application/vnd.jupyter.widget-state+json": {
    "state": {},
    "version_major": 2,
    "version_minor": 0
   }
  }
 },
 "nbformat": 4,
 "nbformat_minor": 5
}
