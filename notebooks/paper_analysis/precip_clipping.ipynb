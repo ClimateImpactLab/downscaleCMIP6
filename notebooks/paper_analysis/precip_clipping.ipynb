{
 "cells": [
  {
   "cell_type": "code",
   "execution_count": 1,
   "id": "dfab875e-fbfe-4e2c-b603-6054bd36c1b3",
   "metadata": {},
   "outputs": [],
   "source": [
    "%matplotlib inline \n",
    "import xarray as xr\n",
    "import numpy as np\n",
    "import matplotlib.pyplot as plt\n",
    "from cartopy import config\n",
    "import cartopy.crs as ccrs\n",
    "import cartopy.feature as cfeature\n",
    "import os \n",
    "import gcsfs \n",
    "from matplotlib import cm\n",
    "import warnings \n",
    "import yaml\n",
    "\n",
    "# from science_validation_manual import *"
   ]
  },
  {
   "cell_type": "code",
   "execution_count": 2,
   "id": "bb2226ca-5454-4ad9-a013-7611f832c966",
   "metadata": {},
   "outputs": [
    {
     "name": "stderr",
     "output_type": "stream",
     "text": [
      "/tmp/ipykernel_17404/3374947116.py:4: DeprecationWarning: rhg_compute_tools and the associated command-line application rctools are\n",
      "deprecated on catalyst clusters. use catalyst_compute_tools instead.\n",
      "See https://gitlab.com/crs-catalyst/infrastructure/catalyst_compute_tools/-/issues/1\n",
      "  import rhg_compute_tools.kubernetes as rhgk\n"
     ]
    }
   ],
   "source": [
    "import dask\n",
    "import dask.array as da\n",
    "import dask.distributed as dd\n",
    "import rhg_compute_tools.kubernetes as rhgk\n",
    "import zarr\n",
    "from tqdm.auto import tqdm"
   ]
  },
  {
   "cell_type": "code",
   "execution_count": 3,
   "id": "0340eb62-f3e6-4845-b050-410f08072685",
   "metadata": {},
   "outputs": [],
   "source": [
    "bucket_mapping_oregon_trail = {\n",
    "    \"biascorrected-492e989a\": \"biascorrected-4a21ed18\",\n",
    "    \"clean-b1dbca25\": \"clean-f1e04ef5\",\n",
    "    \"downscaled-288ec5ac\": \"downscaled-48ec31ab\",\n",
    "    \"raw-305d04da\": \"raw-957d115e\",\n",
    "    \"support-c23ff1a3\": \"support-f8a48a9e\",\n",
    "}\n",
    "\n",
    "# NEW support BUCKET\n",
    "bucket = 'support-f8a48a9e'\n",
    "\n",
    "ds_bucket = 'downscaled-48ec31ab'\n",
    "\n",
    "old_ds_bucket = \"downscaled-288ec5ac\""
   ]
  },
  {
   "cell_type": "code",
   "execution_count": 4,
   "id": "cbc60971-33c5-41a5-9a72-9e3936a2cca1",
   "metadata": {},
   "outputs": [
    {
     "data": {
      "text/plain": [
       "'downscaled-48ec31ab'"
      ]
     },
     "execution_count": 4,
     "metadata": {},
     "output_type": "execute_result"
    }
   ],
   "source": [
    "bucket_mapping_oregon_trail[old_ds_bucket]"
   ]
  },
  {
   "cell_type": "code",
   "execution_count": 5,
   "id": "b2a59050-0322-48a6-a07f-4d31f4fb94f2",
   "metadata": {},
   "outputs": [],
   "source": [
    "client, cluster = rhgk.get_standard_cluster()"
   ]
  },
  {
   "cell_type": "code",
   "execution_count": 6,
   "id": "dd0cd8cf-a256-4308-a813-af702e3c4df9",
   "metadata": {},
   "outputs": [
    {
     "data": {
      "application/vnd.jupyter.widget-view+json": {
       "model_id": "13ee28d04feb4251975153ab366e8a06",
       "version_major": 2,
       "version_minor": 0
      },
      "text/plain": [
       "VBox(children=(HTML(value='<h2>GatewayCluster</h2>'), HBox(children=(HTML(value='\\n<div>\\n<style scoped>\\n    …"
      ]
     },
     "metadata": {},
     "output_type": "display_data"
    }
   ],
   "source": [
    "cluster"
   ]
  },
  {
   "cell_type": "markdown",
   "id": "fc2d4e37-4983-4123-95e4-399699f5cf91",
   "metadata": {},
   "source": [
    "get all data that is needed"
   ]
  },
  {
   "cell_type": "code",
   "execution_count": null,
   "id": "96f24053-0cb9-4bc2-9099-ff3c726e2d6d",
   "metadata": {},
   "outputs": [],
   "source": [
    "ds_del_ssp245 = xr.open_zarr('gs://downscaled-48ec31ab/outputs/ScenarioMIP/MIROC/MIROC6/ssp245/r1i1p1f1/day/pr/v1.1.zarr',consolidated=True)\n",
    "\n",
    "ds_del_hist = xr.open_zarr('gs://downscaled-48ec31ab/outputs/CMIP/MIROC/MIROC6/historical/r1i1p1f1/day/pr/v1.1.zarr', consolidated=True)\n",
    "\n",
    "ds_hist = xr.open_zarr('gs://downscaled-48ec31ab/stage/CMIP/MIROC/MIROC6/historical/r1i1p1f1/day/pr/gn/v20220204071017.zarr',consolidated=True)\n",
    "\n",
    "ds_ssp245 = xr.open_zarr('gs://downscaled-48ec31ab/stage/ScenarioMIP/MIROC/MIROC6/ssp245/r1i1p1f1/day/pr/gn/v20220204071017.zarr', consolidated=True)\n",
    "\n",
    "gcm_hist = xr.open_zarr('gs://support-f8a48a9e/regrid-cmip6/CMIP/MIROC/MIROC6/historical/r1i1p1f1/day/pr/gn/v20220309084339.zarr',consolidated=True)\n",
    "\n",
    "gcm_future = xr.open_zarr('gs://support-f8a48a9e/regrid-cmip6/ScenarioMIP/MIROC/MIROC6/ssp245/r1i1p1f1/day/pr/gn/v20220309084339.zarr',consolidated=True)\n",
    "\n",
    "ref = xr.open_zarr('gs://support-f8a48a9e/regrid-reference/regrid0p25x0p25/pr/v20220310104433.zarr/',consolidated=True)"
   ]
  },
  {
   "cell_type": "markdown",
   "id": "29418e07-036b-449b-ab78-9aca3db040cc",
   "metadata": {},
   "source": [
    "specify lat/lon location "
   ]
  },
  {
   "cell_type": "code",
   "execution_count": null,
   "id": "c0d87899-3277-4ebd-ab51-d2f12ad8d5b0",
   "metadata": {},
   "outputs": [],
   "source": [
    "'''lat = -18.5\n",
    "lon = 148.5'''"
   ]
  },
  {
   "cell_type": "code",
   "execution_count": null,
   "id": "88261d2e-79ab-49dd-ad76-abf64beff3dc",
   "metadata": {},
   "outputs": [],
   "source": []
  },
  {
   "cell_type": "code",
   "execution_count": null,
   "id": "e4c09e44-d43e-4e11-bcd0-a1f65d3ab492",
   "metadata": {},
   "outputs": [],
   "source": [
    "fig, axes = plt.subplots(2, 1, figsize=(16, 12))\n",
    "\n",
    "# Delhi \n",
    "lat = 28.6517178\n",
    "lon = 77.2219388\n",
    "\n",
    "# reference and GCM data \n",
    "ref['pr'].sel(lat=lat, lon=lon, method='nearest').plot(color='black', label='reference', ax=axes[0])\n",
    "gcm_hist['pr'].sel(lat=lat, lon=lon, method='nearest').plot(color='green', linestyle=':', label='raw, regridded GCM', ax=axes[0])\n",
    "gcm_future['pr'].sel(lat=lat, lon=lon, method='nearest').plot(color='green', label='raw, regridded GCM, SSP2-4.5', ax=axes[0])\n",
    "\n",
    "\n",
    "ds_hist['pr'].sel(lat=lat, lon=lon, method='nearest').plot(color='blue', label='downscaled, historical',linestyle=':', ax=axes[1])\n",
    "\n",
    "ds_ssp245['pr'].sel(lat=lat, lon=lon, method='nearest').plot(color='blue', label='downscaled, SSP2-4.5', ax=axes[1])\n",
    "ds_del_hist['pr'].sel(lat=lat, lon=lon, method='nearest').plot(color='orange', label='downscaled and clipped, historical',linestyle=':', ax=axes[1])\n",
    "ds_del_ssp245['pr'].sel(lat=lat, lon=lon, method='nearest').plot(color='orange', label='downscaled and clipped, SSP2-4.5', ax=axes[1])\n",
    "\n",
    "# bc_hist['pr'].sel(lat=lat, lon=lon).plot(label='bias corrected')\n",
    "axes[0].set_ylim([0, 800])\n",
    "axes[1].set_ylim([0, 800])\n",
    "axes[0].legend()\n",
    "axes[1].legend()\n",
    "axes[0].set_title('')\n",
    "axes[1].set_title('')\n",
    "\n",
    "plt.savefig(os.path.join('/home/jovyan', 'delhi_clipping.png'), \n",
    "            bbox_inches='tight', dpi=200)"
   ]
  },
  {
   "cell_type": "code",
   "execution_count": null,
   "id": "44b6c538-17ea-45ad-8162-2971d426d655",
   "metadata": {},
   "outputs": [],
   "source": [
    "fig, axes = plt.subplots(2, 1, figsize=(16, 12))\n",
    "\n",
    "# Cairo\n",
    "lat = 30.0443879\n",
    "lon = 31.2357257\n",
    "\n",
    "# reference and GCM data \n",
    "ref['pr'].sel(lat=lat, lon=lon, method='nearest').plot(color='black', label='reference', ax=axes[0])\n",
    "gcm_hist['pr'].sel(lat=lat, lon=lon, method='nearest').plot(color='green', linestyle=':', label='raw, regridded GCM', ax=axes[0])\n",
    "gcm_future['pr'].sel(lat=lat, lon=lon, method='nearest').plot(color='green', label='raw, regridded GCM, SSP2-4.5', ax=axes[0])\n",
    "\n",
    "\n",
    "ds_hist['pr'].sel(lat=lat, lon=lon, method='nearest').plot(color='blue', label='downscaled, historical',linestyle=':', ax=axes[1])\n",
    "\n",
    "ds_ssp245['pr'].sel(lat=lat, lon=lon, method='nearest').plot(color='blue', label='downscaled, SSP2-4.5', ax=axes[1])\n",
    "ds_del_hist['pr'].sel(lat=lat, lon=lon, method='nearest').plot(color='orange', label='downscaled and clipped, historical',linestyle=':', ax=axes[1])\n",
    "ds_del_ssp245['pr'].sel(lat=lat, lon=lon, method='nearest').plot(color='orange', label='downscaled and clipped, SSP2-4.5', ax=axes[1])\n",
    "\n",
    "# bc_hist['pr'].sel(lat=lat, lon=lon).plot(label='bias corrected')\n",
    "axes[0].set_ylim([0, 50])\n",
    "axes[1].set_ylim([0, 50])\n",
    "axes[0].legend()\n",
    "axes[1].legend()\n",
    "axes[0].set_title('')\n",
    "axes[1].set_title('')\n",
    "\n",
    "plt.savefig(os.path.join('/home/jovyan', 'cairo_clipping.png'), \n",
    "            bbox_inches='tight', dpi=200)"
   ]
  },
  {
   "cell_type": "markdown",
   "id": "31660004-c080-4d65-9e95-8004824e2c8b",
   "metadata": {},
   "source": [
    "summary figure of all gridcells "
   ]
  },
  {
   "cell_type": "code",
   "execution_count": null,
   "id": "abaf2803-7d7b-42e6-b869-f9bab92747d6",
   "metadata": {},
   "outputs": [],
   "source": [
    "time_start = '2080'\n",
    "time_end = '2100'\n",
    "corrs = ((ds_del_ssp245.sel(time=slice(time_start, time_end))['pr'] - ds_ssp245.sel(time=slice(time_start, time_end))['pr']) != 0).sum('time')\n"
   ]
  },
  {
   "cell_type": "code",
   "execution_count": null,
   "id": "39fee41f-a43b-490b-a2cd-1f50a45a9618",
   "metadata": {},
   "outputs": [],
   "source": [
    "corrs_eager = corrs.persist()"
   ]
  },
  {
   "cell_type": "code",
   "execution_count": null,
   "id": "c670b5e2-33cd-4c86-b29d-45c78658bb70",
   "metadata": {},
   "outputs": [],
   "source": [
    "corrs_eager.max().values"
   ]
  },
  {
   "cell_type": "code",
   "execution_count": null,
   "id": "5112d463-335f-4f70-b3e6-fccc41d71fd6",
   "metadata": {},
   "outputs": [],
   "source": [
    "corrs_eager.where(corrs_eager==corrs_eager.max(), drop=True)"
   ]
  },
  {
   "cell_type": "code",
   "execution_count": null,
   "id": "f4f03322-669d-4fb1-975b-2366e1e65c37",
   "metadata": {},
   "outputs": [],
   "source": [
    "corrs_eager.where(corrs_eager != 0).plot(robust=True)"
   ]
  },
  {
   "cell_type": "code",
   "execution_count": null,
   "id": "674aa1cb-4326-4597-94a3-5978fb6ab8a2",
   "metadata": {},
   "outputs": [],
   "source": [
    "corrs_eager.where(corrs_eager != 0).plot(vmin=1, vmax=50)"
   ]
  },
  {
   "cell_type": "markdown",
   "id": "b7fa4cf9-ec9c-4cc6-b107-a932dc4fbfda",
   "metadata": {},
   "source": [
    "create workflow to write number of timesteps clipped globally for SSP2-4.5 and SSP3-7.0 for precipitation for all models and for 2080-2100. \n",
    "\n",
    "need downscaled data from `stage` and delivered downscaled data to do this. "
   ]
  },
  {
   "cell_type": "code",
   "execution_count": 14,
   "id": "f1b41901-b5bc-4a94-a258-a91aaf38735e",
   "metadata": {},
   "outputs": [],
   "source": [
    "# load data paths\n",
    "with open('/home/jovyan/downscaleCMIP6/notebooks/downscaling_pipeline/post_processing_and_delivery/data_paths.yaml', 'r') as f:\n",
    "    fps = yaml.load(f, yaml.Loader)"
   ]
  },
  {
   "cell_type": "code",
   "execution_count": 16,
   "id": "ef18f211-be43-498c-b386-a0ba74224022",
   "metadata": {},
   "outputs": [],
   "source": [
    "# fps['EC-Earth3-pr']"
   ]
  },
  {
   "cell_type": "code",
   "execution_count": 17,
   "id": "d75f21d5-a233-48de-aed7-ec352ecdd37d",
   "metadata": {},
   "outputs": [
    {
     "data": {
      "text/plain": [
       "'downscaled-288ec5ac'"
      ]
     },
     "execution_count": 17,
     "metadata": {},
     "output_type": "execute_result"
    }
   ],
   "source": [
    "old_ds_bucket"
   ]
  },
  {
   "cell_type": "code",
   "execution_count": 18,
   "id": "0463e065-d9fb-4d72-aab8-b005aef12d2d",
   "metadata": {},
   "outputs": [],
   "source": [
    "import sys\n",
    "sys.path.insert(1, '/home/jovyan/downscaleCMIP6/notebooks/downscaling_pipeline/post_processing_and_delivery/')\n",
    "import dc6_functions\n",
    "\n",
    "models = dc6_functions.get_cmip6_models()\n",
    "institutions = dc6_functions.get_cmip6_institutions()\n",
    "ensemble_members = dc6_functions.get_cmip6_ensemble_members()\n",
    "# rename variable attributes\n",
    "long_names = {'tasmax': 'Monthly mean of Daily Maximum Near-Surface Air Temperature', 'tasmin': 'Monthly mean of Daily Minimum Near-Surface Air Temperature', 'pr': 'Monthly sum of Daily Total Precipitation', 'tavg': 'Monthly mean of Daily Average Near-Surface Air Temperature'}"
   ]
  },
  {
   "cell_type": "code",
   "execution_count": 19,
   "id": "28c1f5ee-464e-424c-8498-3d4cf19623e3",
   "metadata": {},
   "outputs": [],
   "source": [
    "def calculate_and_save_number_clipped_timesteps(model, models_dict, variable, bucket_mapping_oregon_trail, old_ds_bucket, \n",
    "                                               ):\n",
    "\n",
    "    # loop over scenarios\n",
    "    for scenario in models_dict[model]:\n",
    "        if scenario == 'historical': \n",
    "            time_start = '1960'\n",
    "            time_end = '1980'\n",
    "        \n",
    "            fp_ds = fps[f\"{model}-{variable}\"][scenario]['downscaled']\n",
    "            fp_ds_delivered = fps[f\"{model}-{variable}\"][scenario]['downscaled_delivered']\n",
    "            ds_del = xr.open_zarr(fp_ds_delivered.replace(old_ds_bucket, bucket_mapping_oregon_trail[old_ds_bucket]), consolidated=True)\n",
    "            ds = xr.open_zarr(fp_ds.replace(old_ds_bucket, bucket_mapping_oregon_trail[old_ds_bucket]), consolidated=True)\n",
    "\n",
    "            corrs = ((ds_del.sel(time=slice(time_start, time_end))[variable] - ds.sel(time=slice(time_start, time_end))[variable]) != 0).sum('time')\n",
    "            ds_corrs = corrs.to_dataset(name='num_timesteps_clipped')\n",
    "            corrs_eager = ds_corrs.persist()\n",
    "\n",
    "            zarr_path = 'gs://downscaled-48ec31ab/diagnostics/post-processing/{variable}/{model}/{scenario}/{time_start}-{time_end}/post_processed_timestep_count.zarr'.format(variable=variable, model=model, scenario=scenario, time_start=time_start, time_end=time_end)\n",
    "\n",
    "            corrs_eager.to_zarr(zarr_path, consolidated=True, mode='w')\n",
    "            print(\"wrote zarr to {}\".format(zarr_path))\n",
    "        \n",
    "        else:\n",
    "            for future_time_period in ['2030', '2090']:\n",
    "                \n",
    "                if future_time_period == '2030':\n",
    "                    time_start = '2020'\n",
    "                    time_end = '2040'\n",
    "                elif future_time_period == '2090':\n",
    "                    time_start = '2080'\n",
    "                    time_end = '2100'\n",
    "                else: \n",
    "                    raise ValueError('have not yet included this time period in analysis')\n",
    "\n",
    "                fp_ds = fps[f\"{model}-{variable}\"][scenario]['downscaled']\n",
    "                fp_ds_delivered = fps[f\"{model}-{variable}\"][scenario]['downscaled_delivered']\n",
    "                ds_del = xr.open_zarr(fp_ds_delivered.replace(old_ds_bucket, bucket_mapping_oregon_trail[old_ds_bucket]), consolidated=True)\n",
    "                ds = xr.open_zarr(fp_ds.replace(old_ds_bucket, bucket_mapping_oregon_trail[old_ds_bucket]), consolidated=True)\n",
    "\n",
    "                corrs = ((ds_del.sel(time=slice(time_start, time_end))[variable] - ds.sel(time=slice(time_start, time_end))[variable]) != 0).sum('time')\n",
    "                ds_corrs = corrs.to_dataset(name='num_timesteps_clipped')\n",
    "                corrs_eager = ds_corrs.persist()\n",
    "\n",
    "                zarr_path = 'gs://downscaled-48ec31ab/diagnostics/post-processing/{variable}/{model}/{scenario}/{time_start}-{time_end}/post_processed_timestep_count.zarr'.format(variable=variable, model=model, scenario=scenario, time_start=time_start, time_end=time_end)\n",
    "\n",
    "                corrs_eager.to_zarr(zarr_path, consolidated=True, mode='w')\n",
    "                print(\"wrote zarr to {}\".format(zarr_path))"
   ]
  },
  {
   "cell_type": "code",
   "execution_count": null,
   "id": "2a5852ac-467a-44d8-bb6b-00d388211a80",
   "metadata": {},
   "outputs": [],
   "source": [
    "models"
   ]
  },
  {
   "cell_type": "code",
   "execution_count": 20,
   "id": "714fa364-bffe-46f3-b094-80d74f991cb3",
   "metadata": {},
   "outputs": [],
   "source": [
    "'''wanted_keys = ['FGOALS-g3', \n",
    "               'ACCESS-ESM1-5', 'ACCESS-CM2', \n",
    "               'INM-CM4-8', 'INM-CM5-0'] # The keys you want'''\n",
    "wanted_keys = ['EC-Earth3'] # The keys you want\n",
    "models_subset = dict((k, models[k]) for k in wanted_keys if k in models)"
   ]
  },
  {
   "cell_type": "code",
   "execution_count": 22,
   "id": "63b82645-1d6f-414c-aa4a-d843a6364964",
   "metadata": {},
   "outputs": [
    {
     "data": {
      "text/plain": [
       "{'EC-Earth3': ['ssp585']}"
      ]
     },
     "execution_count": 22,
     "metadata": {},
     "output_type": "execute_result"
    }
   ],
   "source": [
    "# models_subset\n",
    "models_subset = {'EC-Earth3': ['ssp585']}\n",
    "models_subset"
   ]
  },
  {
   "cell_type": "code",
   "execution_count": 23,
   "id": "9f926d4c-657c-4c0f-bba9-f61d416eba0f",
   "metadata": {},
   "outputs": [
    {
     "data": {
      "application/vnd.jupyter.widget-view+json": {
       "model_id": "932e4219730c45828bbb8ad83eaee3b9",
       "version_major": 2,
       "version_minor": 0
      },
      "text/plain": [
       "  0%|          | 0/1 [00:00<?, ?it/s]"
      ]
     },
     "metadata": {},
     "output_type": "display_data"
    },
    {
     "name": "stdout",
     "output_type": "stream",
     "text": [
      "EC-Earth3\n",
      "pr\n",
      "wrote zarr to gs://downscaled-48ec31ab/diagnostics/post-processing/pr/EC-Earth3/historical/1960-1980/post_processed_timestep_count.zarr\n",
      "wrote zarr to gs://downscaled-48ec31ab/diagnostics/post-processing/pr/EC-Earth3/ssp126/2020-2040/post_processed_timestep_count.zarr\n",
      "wrote zarr to gs://downscaled-48ec31ab/diagnostics/post-processing/pr/EC-Earth3/ssp126/2080-2100/post_processed_timestep_count.zarr\n",
      "wrote zarr to gs://downscaled-48ec31ab/diagnostics/post-processing/pr/EC-Earth3/ssp245/2020-2040/post_processed_timestep_count.zarr\n",
      "wrote zarr to gs://downscaled-48ec31ab/diagnostics/post-processing/pr/EC-Earth3/ssp245/2080-2100/post_processed_timestep_count.zarr\n",
      "wrote zarr to gs://downscaled-48ec31ab/diagnostics/post-processing/pr/EC-Earth3/ssp370/2020-2040/post_processed_timestep_count.zarr\n",
      "wrote zarr to gs://downscaled-48ec31ab/diagnostics/post-processing/pr/EC-Earth3/ssp370/2080-2100/post_processed_timestep_count.zarr\n",
      "wrote zarr to gs://downscaled-48ec31ab/diagnostics/post-processing/pr/EC-Earth3/ssp585/2020-2040/post_processed_timestep_count.zarr\n",
      "wrote zarr to gs://downscaled-48ec31ab/diagnostics/post-processing/pr/EC-Earth3/ssp585/2080-2100/post_processed_timestep_count.zarr\n"
     ]
    }
   ],
   "source": [
    "# variables = ['tasmax', 'pr']\n",
    "variables = ['pr']\n",
    "for model in tqdm(models_subset):\n",
    "    for variable in variables:\n",
    "        print(model)\n",
    "        print(variable)\n",
    "        calculate_and_save_number_clipped_timesteps(model, models, variable, bucket_mapping_oregon_trail, old_ds_bucket)"
   ]
  },
  {
   "cell_type": "code",
   "execution_count": null,
   "id": "a86771be-3241-4a31-a577-2d4c030ad6bb",
   "metadata": {},
   "outputs": [],
   "source": []
  }
 ],
 "metadata": {
  "kernelspec": {
   "display_name": "Python 3 (ipykernel)",
   "language": "python",
   "name": "python3"
  },
  "language_info": {
   "codemirror_mode": {
    "name": "ipython",
    "version": 3
   },
   "file_extension": ".py",
   "mimetype": "text/x-python",
   "name": "python",
   "nbconvert_exporter": "python",
   "pygments_lexer": "ipython3",
   "version": "3.9.13"
  },
  "widgets": {
   "application/vnd.jupyter.widget-state+json": {
    "state": {},
    "version_major": 2,
    "version_minor": 0
   }
  }
 },
 "nbformat": 4,
 "nbformat_minor": 5
}
