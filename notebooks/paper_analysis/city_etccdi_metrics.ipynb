{
 "cells": [
  {
   "cell_type": "code",
   "execution_count": 1,
   "id": "33750287",
   "metadata": {},
   "outputs": [],
   "source": [
    "try:\n",
    "    import xclim\n",
    "except ModuleNotFoundError:\n",
    "    ! pip install xclim"
   ]
  },
  {
   "cell_type": "code",
   "execution_count": 2,
   "id": "04a2a452",
   "metadata": {},
   "outputs": [
    {
     "name": "stderr",
     "output_type": "stream",
     "text": [
      "/tmp/ipykernel_15822/4035997102.py:25: DeprecationWarning: rhg_compute_tools and the associated command-line application rctools are\n",
      "deprecated on catalyst clusters. use catalyst_compute_tools instead.\n",
      "See https://gitlab.com/crs-catalyst/infrastructure/catalyst_compute_tools/-/issues/1\n",
      "  import rhg_compute_tools.kubernetes as rhgk\n"
     ]
    }
   ],
   "source": [
    "%matplotlib inline \n",
    "import xarray as xr\n",
    "import numpy as np\n",
    "import matplotlib.pyplot as plt\n",
    "from cartopy import config\n",
    "import cartopy.crs as ccrs\n",
    "import cartopy.feature as cfeature\n",
    "import os \n",
    "import gcsfs \n",
    "from matplotlib import cm\n",
    "import warnings \n",
    "import seaborn as sns\n",
    "import yaml\n",
    "\n",
    "from xclim.indicators import cf \n",
    "from xclim.indicators import icclim, atmos, anuclim\n",
    "\n",
    "# from science_validation_manual import *\n",
    "from dc6_functions import * \n",
    "from scipy.stats import kstest\n",
    "\n",
    "import dask\n",
    "import dask.array as da\n",
    "import dask.distributed as dd\n",
    "import rhg_compute_tools.kubernetes as rhgk\n",
    "import pandas as pd \n",
    "\n",
    "import statsmodels.api as sm\n",
    "from statsmodels.graphics.gofplots import qqplot_2samples"
   ]
  },
  {
   "cell_type": "code",
   "execution_count": 3,
   "id": "e14f9ff3",
   "metadata": {},
   "outputs": [],
   "source": [
    "import warnings\n",
    "warnings.filterwarnings(\"ignore\")"
   ]
  },
  {
   "cell_type": "code",
   "execution_count": 4,
   "id": "ba54d1d3",
   "metadata": {},
   "outputs": [],
   "source": [
    "# plot_dir = '/gcs/impactlab-data/climate/downscaling/paper/'\n",
    "plot_dir = '/home/jovyan/paper_figures/'"
   ]
  },
  {
   "cell_type": "code",
   "execution_count": 5,
   "id": "f4316351",
   "metadata": {},
   "outputs": [],
   "source": [
    "models_dict = get_cmip6_models()\n",
    "ensemble_members = get_cmip6_ensemble_members()\n",
    "grids = get_cmip6_grids()\n",
    "institutions = get_cmip6_institutions()\n",
    "ds_institutions = get_cmip6_institutions()\n",
    "ds_institutions['MPI-ESM1-2-HR'] = 'MPI-M'"
   ]
  },
  {
   "cell_type": "code",
   "execution_count": 6,
   "id": "a809784e",
   "metadata": {},
   "outputs": [
    {
     "data": {
      "text/plain": [
       "{'BCC-CSM2-MR': 'BCC',\n",
       " 'FGOALS-g3': 'CAS',\n",
       " 'ACCESS-ESM1-5': 'CSIRO',\n",
       " 'ACCESS-CM2': 'CSIRO-ARCCSS',\n",
       " 'INM-CM4-8': 'INM',\n",
       " 'INM-CM5-0': 'INM',\n",
       " 'MIROC-ES2L': 'MIROC',\n",
       " 'MIROC6': 'MIROC',\n",
       " 'NorESM2-LM': 'NCC',\n",
       " 'NorESM2-MM': 'NCC',\n",
       " 'GFDL-ESM4': 'NOAA-GFDL',\n",
       " 'GFDL-CM4': 'NOAA-GFDL',\n",
       " 'NESM3': 'NUIST',\n",
       " 'MPI-ESM1-2-HR': 'MPI-M',\n",
       " 'HadGEM3-GC31-LL': 'MOHC',\n",
       " 'UKESM1-0-LL': 'MOHC',\n",
       " 'MPI-ESM1-2-LR': 'MPI-M',\n",
       " 'CMCC-CM2-SR5': 'CMCC',\n",
       " 'CMCC-ESM2': 'CMCC',\n",
       " 'CanESM5': 'CCCma',\n",
       " 'EC-Earth3': 'EC-Earth-Consortium',\n",
       " 'EC-Earth3-AerChem': 'EC-Earth-Consortium',\n",
       " 'EC-Earth3-CC': 'EC-Earth-Consortium',\n",
       " 'EC-Earth3-Veg': 'EC-Earth-Consortium',\n",
       " 'EC-Earth3-Veg-LR': 'EC-Earth-Consortium'}"
      ]
     },
     "execution_count": 6,
     "metadata": {},
     "output_type": "execute_result"
    }
   ],
   "source": [
    "ds_institutions"
   ]
  },
  {
   "cell_type": "code",
   "execution_count": 7,
   "id": "db33800a",
   "metadata": {},
   "outputs": [],
   "source": [
    "# ds_institutions"
   ]
  },
  {
   "cell_type": "code",
   "execution_count": 8,
   "id": "71495abf",
   "metadata": {},
   "outputs": [],
   "source": [
    "# institutions"
   ]
  },
  {
   "cell_type": "code",
   "execution_count": 9,
   "id": "96012457",
   "metadata": {},
   "outputs": [],
   "source": [
    "client, cluster = rhgk.get_standard_cluster()"
   ]
  },
  {
   "cell_type": "code",
   "execution_count": 10,
   "id": "dc7d0dec",
   "metadata": {},
   "outputs": [
    {
     "data": {
      "application/vnd.jupyter.widget-view+json": {
       "model_id": "6776b2ca665243bda688681ef174d524",
       "version_major": 2,
       "version_minor": 0
      },
      "text/plain": [
       "VBox(children=(HTML(value='<h2>GatewayCluster</h2>'), HBox(children=(HTML(value='\\n<div>\\n<style scoped>\\n    …"
      ]
     },
     "metadata": {},
     "output_type": "display_data"
    }
   ],
   "source": [
    "cluster"
   ]
  },
  {
   "cell_type": "code",
   "execution_count": 11,
   "id": "7b4b8d85",
   "metadata": {},
   "outputs": [],
   "source": [
    "with open('dcmip6_all_paths.yaml', 'r') as f:\n",
    "    all_paths = yaml.safe_load(f)"
   ]
  },
  {
   "cell_type": "code",
   "execution_count": 12,
   "id": "bcffad86",
   "metadata": {},
   "outputs": [],
   "source": [
    "def compute_etccdi(da, metric):\n",
    "    \"\"\"\n",
    "    metric: {'summer_days', 'tropical_nights', 'wet_days', 'wet_days_thresh', 'annual_precip', 'seasonal_precip', 'seasonal_tasmax', 'seasonal_tasmin', 'days_over_95', 'frost_days', 'consecutive_dry_days'}\n",
    "    \"\"\"\n",
    "    \n",
    "    if metric == 'summer_days':\n",
    "        return icclim.SU(da)\n",
    "    elif metric == 'tropical_nights':\n",
    "        return atmos.tn_days_above(da)\n",
    "    elif metric == 'wet_days':\n",
    "        return atmos.wetdays(da)\n",
    "    elif metric == 'wet_days_thresh':\n",
    "        return atmos.wetdays_prop(da, thresh='10.0 mm/day')\n",
    "    elif metric == 'annual_precip':\n",
    "        return anuclim.P12_AnnualPrecip(da)\n",
    "    elif metric == 'seasonal_precip': \n",
    "        return da.resample(time='QS-DEC').sum()\n",
    "    elif (metric == 'seasonal_tasmax') or (metric == 'seasonal_tasmin'):\n",
    "        return da.resample(time='QS-DEC').mean()\n",
    "    elif metric == 'frost_days':\n",
    "        return atmos.frost_days(da) \n",
    "    elif metric == 'days_over_95': \n",
    "        return atmos.tx_days_above(da, thresh='35.0 degC')\n",
    "    elif metric == 'days_over_90': \n",
    "        return atmos.tx_days_above(da, thresh='32.22 degC')\n",
    "    elif metric == 'consecutive_dry_days':\n",
    "        return atmos.maximum_consecutive_dry_days(da)\n",
    "    "
   ]
  },
  {
   "cell_type": "markdown",
   "id": "6bc97c99",
   "metadata": {},
   "source": [
    "downscaled data for one model "
   ]
  },
  {
   "cell_type": "markdown",
   "id": "37a2c3fa",
   "metadata": {},
   "source": [
    "Select 4 \"moderate extremes\" indicators: \n",
    "\n",
    "- \"summer days\" (SU, Number of summer days: Annual count of days when TX (daily maximum temperature) > 25oC) `atmos.tx_days_above`\n",
    "- number of tropical nights (TR, Number of tropical nights: Annual count of days when TN (daily minimum temperature) > 20oC) `atmos.tn_days_above`\n",
    "- number of wet days (per year) `atmos.wetdays`\n",
    "- number of days with precip > 10mm `atmos.wetdays_prop`\n",
    "- annual total precip `anuclim.P12_AnnualPrecip`"
   ]
  },
  {
   "cell_type": "code",
   "execution_count": 13,
   "id": "f2610508",
   "metadata": {},
   "outputs": [
    {
     "data": {
      "text/plain": [
       "{'BCC-CSM2-MR': ['historical', 'ssp126', 'ssp245', 'ssp370', 'ssp585'],\n",
       " 'FGOALS-g3': ['historical', 'ssp245', 'ssp370', 'ssp585'],\n",
       " 'ACCESS-ESM1-5': ['historical', 'ssp126', 'ssp245', 'ssp370'],\n",
       " 'ACCESS-CM2': ['historical', 'ssp245', 'ssp370'],\n",
       " 'INM-CM4-8': ['historical', 'ssp126', 'ssp245', 'ssp370', 'ssp585'],\n",
       " 'INM-CM5-0': ['historical', 'ssp126', 'ssp245', 'ssp370', 'ssp585'],\n",
       " 'MIROC-ES2L': ['historical', 'ssp126', 'ssp245', 'ssp370', 'ssp585'],\n",
       " 'MIROC6': ['historical', 'ssp126', 'ssp245', 'ssp370', 'ssp585'],\n",
       " 'NorESM2-LM': ['historical', 'ssp126', 'ssp245', 'ssp370', 'ssp585'],\n",
       " 'NorESM2-MM': ['historical', 'ssp126', 'ssp245', 'ssp370', 'ssp585'],\n",
       " 'GFDL-ESM4': ['historical', 'ssp126', 'ssp245', 'ssp370', 'ssp585'],\n",
       " 'GFDL-CM4': ['historical', 'ssp245', 'ssp585'],\n",
       " 'NESM3': ['historical', 'ssp126', 'ssp245', 'ssp585'],\n",
       " 'MPI-ESM1-2-HR': ['historical', 'ssp126', 'ssp585'],\n",
       " 'HadGEM3-GC31-LL': ['historical', 'ssp126', 'ssp245', 'ssp585'],\n",
       " 'UKESM1-0-LL': ['historical', 'ssp126', 'ssp245', 'ssp370', 'ssp585'],\n",
       " 'MPI-ESM1-2-LR': ['historical', 'ssp126', 'ssp245', 'ssp370', 'ssp585'],\n",
       " 'CMCC-CM2-SR5': ['historical', 'ssp126', 'ssp245', 'ssp370', 'ssp585'],\n",
       " 'CMCC-ESM2': ['historical', 'ssp126', 'ssp245', 'ssp370', 'ssp585'],\n",
       " 'CanESM5': ['historical', 'ssp126', 'ssp245', 'ssp370', 'ssp585'],\n",
       " 'EC-Earth3': ['historical', 'ssp126', 'ssp245', 'ssp370', 'ssp585'],\n",
       " 'EC-Earth3-AerChem': ['historical', 'ssp370'],\n",
       " 'EC-Earth3-CC': ['historical', 'ssp245', 'ssp585'],\n",
       " 'EC-Earth3-Veg': ['historical', 'ssp126', 'ssp245', 'ssp370', 'ssp585'],\n",
       " 'EC-Earth3-Veg-LR': ['historical', 'ssp126', 'ssp245', 'ssp370', 'ssp585']}"
      ]
     },
     "execution_count": 13,
     "metadata": {},
     "output_type": "execute_result"
    }
   ],
   "source": [
    "models_dict"
   ]
  },
  {
   "cell_type": "markdown",
   "id": "f340aa71",
   "metadata": {},
   "source": [
    "track which tests pass for which indices/models "
   ]
  },
  {
   "cell_type": "code",
   "execution_count": 14,
   "id": "576d9aa6",
   "metadata": {},
   "outputs": [],
   "source": [
    "gcms_indices_calibration = {}\n",
    "downscaled_indices_calibration = {}\n",
    "gcms_indices_validation = {}\n",
    "downscaled_indices_validation = {}\n",
    "\n",
    "gcms_indices_full = {}\n",
    "downscaled_indices_full = {}"
   ]
  },
  {
   "cell_type": "markdown",
   "id": "517861c1",
   "metadata": {},
   "source": [
    "### look at calibration period ### "
   ]
  },
  {
   "cell_type": "code",
   "execution_count": null,
   "id": "07296152",
   "metadata": {},
   "outputs": [],
   "source": [
    "# city = 'Miami'\n",
    "city = 'Tokyo'\n",
    "\n",
    "gcms_ks_calib = {}\n",
    "downscaled_ks_calib = {}\n",
    "\n",
    "# etccdis = ['summer_days', 'tropical_nights', 'wet_days', 'wet_days_thresh']\n",
    "'''etccdis = ['summer_days', 'tropical_nights', 'wet_days', 'wet_days_thresh', 'annual_precip', 'seasonal_precip', 'seasonal_tasmax', 'seasonal_tasmin', 'days_over_95', 'frost_days', 'consecutive_dry_days', 'days_over_90']'''\n",
    "\n",
    "etccdis = ['summer_days', 'tropical_nights', 'annual_precip', 'seasonal_precip', 'seasonal_tasmax', 'seasonal_tasmin', 'days_over_95', 'frost_days', 'consecutive_dry_days', 'days_over_90']\n",
    "# warm spell duration index, cold spell duration index, daily temperature range\n",
    "\n",
    "# models = ['MPI-ESM1-2-HR', 'GFDL-CM4']\n",
    "\n",
    "diag_type = 'city'\n",
    "data_type = 'downscaled'\n",
    "# model = 'GFDL-ESM4'\n",
    "\n",
    "for model in models_dict.keys():\n",
    "    # for model in models:\n",
    "    print(model)\n",
    "    gcm_tests = 0\n",
    "    ds_tests = 0\n",
    "\n",
    "    for etccdi in etccdis:\n",
    "\n",
    "        if (etccdi == 'summer_days') or (etccdi == 'seasonal_tasmax') or (etccdi == 'days_over_95') or (etccdi == 'days_over_90'):\n",
    "            variable = 'tasmax'\n",
    "            var_name = 'tasmax'\n",
    "        elif (etccdi == 'tropical_nights') or (etccdi == 'frost_days') or (etccdi == 'seasonal_tasmin'):\n",
    "            variable = 'tasmin'\n",
    "            var_name = 'tasmin'\n",
    "        else: \n",
    "            variable = 'precip'\n",
    "            var_name = 'pr'\n",
    "\n",
    "        ref = load_zarr(get_diagnostics_filepath(diag_type, 'reanalysis', institutions, ensemble_members, variable, model, 'historical', validation_period=False)).sel(city=city)\n",
    "        # print(get_diagnostics_filepath(diag_type, 'clean', institutions, ensemble_members, variable, model, 'historical'))\n",
    "        gcm = load_zarr(get_diagnostics_filepath(diag_type, 'clean', institutions, ensemble_members, variable, model, 'historical')).sel(city=city)\n",
    "        # print(get_diagnostics_filepath(diag_type, 'downscaled', institutions, ensemble_members, variable, model, 'historical'))\n",
    "        downscaled = load_zarr(get_diagnostics_filepath(diag_type, 'downscaled', ds_institutions, ensemble_members, variable, model, 'historical')).sel(city=city)\n",
    "\n",
    "        ks_test_gcm = kstest(compute_etccdi(ref[var_name].sel(time=slice('1995', '2014')), etccdi), \n",
    "                            compute_etccdi(gcm[var_name].sel(time=slice('1995', '2014')), etccdi))\n",
    "\n",
    "        ks_test_downscaled = kstest(compute_etccdi(ref[var_name].sel(time=slice('1995', '2014')), etccdi), \n",
    "                            compute_etccdi(downscaled[var_name].sel(time=slice('1995', '2014')), etccdi))\n",
    "        if ks_test_gcm[1] > 0.05:\n",
    "            gcm_tests += 1\n",
    "            gcms_indices_calibration[(model, etccdi)] = 1.0\n",
    "        else: \n",
    "            gcms_indices_calibration[(model, etccdi)] = 0.0\n",
    "        if ks_test_downscaled[1] > 0.05:\n",
    "            ds_tests += 1\n",
    "            downscaled_indices_calibration[(model, etccdi)] = 1.0\n",
    "        else: \n",
    "            downscaled_indices_calibration[(model, etccdi)] = 0.0\n",
    "    gcms_ks_calib[model] = gcm_tests\n",
    "    downscaled_ks_calib[model] = ds_tests"
   ]
  },
  {
   "cell_type": "markdown",
   "id": "4090f0fd",
   "metadata": {},
   "source": [
    "### compute the same but over the validation period ### \n",
    "\n",
    "For tasmax and tasmin, we have 1979 - 2020. For precip, we are missing 1983 and 2016 is buggy. Also precip is in m, needs to be converted. \n",
    "\n",
    "So for tasmax and tasmin, use 1979-1994. For precip, 1984 - 1994. Add split sample period later maybe. "
   ]
  },
  {
   "cell_type": "code",
   "execution_count": null,
   "id": "ff213496",
   "metadata": {},
   "outputs": [],
   "source": [
    "ref1 = load_zarr(get_diagnostics_filepath('city', 'reanalysis', institutions, ensemble_members, 'precip', 'BCC-CSM2-MR', 'historical', validation_period=True)).sel(city=city)\n",
    "ref1['pr'] = ref1['pr'] * 1000 # conversion to mm \n",
    "ref1['pr'].attrs['units'] = 'mm day-1'\n",
    "start_year = '1984'\n",
    "end_year = '1994'"
   ]
  },
  {
   "cell_type": "code",
   "execution_count": null,
   "id": "b0173ba9",
   "metadata": {},
   "outputs": [],
   "source": [
    "ref2 = load_zarr(get_diagnostics_filepath('city', 'reanalysis', institutions, ensemble_members, 'precip', 'BCC-CSM2-MR', 'historical')).sel(city='Miami')"
   ]
  },
  {
   "cell_type": "code",
   "execution_count": null,
   "id": "3e80295e",
   "metadata": {},
   "outputs": [],
   "source": [
    "ref_f320 = xr.open_zarr('gs://downscaled-48ec31ab/diagnostics/RELEASE-v1.1/daily-tasmax-diagnostics/reanalysis/ERA5/F320/tasmax/v1.1.zarr')"
   ]
  },
  {
   "cell_type": "code",
   "execution_count": null,
   "id": "1cb02e98-de23-4754-bf12-e6d79dda60cb",
   "metadata": {},
   "outputs": [],
   "source": [
    "ref_0p25 = xr.open_zarr('gs://downscaled-48ec31ab/diagnostics/RELEASE-v1.1/daily-tasmax-diagnostics/reanalysis/ERA5/0p25x0p25/tasmax/v1.1.zarr')"
   ]
  },
  {
   "cell_type": "code",
   "execution_count": null,
   "id": "ea31a1f7-1d30-4e03-b73a-766a1eb52c9b",
   "metadata": {},
   "outputs": [],
   "source": [
    "ref_0p25"
   ]
  },
  {
   "cell_type": "code",
   "execution_count": null,
   "id": "03d10057",
   "metadata": {},
   "outputs": [],
   "source": [
    "u = compute_etccdi(ref1['pr'].sel(time=slice(start_year, end_year)), 'wet_days')\n",
    "# ref['pr'].sel(time=slice(start_year, end_year))\n",
    "# ref['pr']"
   ]
  },
  {
   "cell_type": "code",
   "execution_count": null,
   "id": "8c790006",
   "metadata": {},
   "outputs": [],
   "source": [
    "# u"
   ]
  },
  {
   "cell_type": "code",
   "execution_count": null,
   "id": "5e9d77a2",
   "metadata": {},
   "outputs": [],
   "source": [
    "gcms_ks_valid = {}\n",
    "downscaled_ks_valid = {}\n",
    "\n",
    "start_year = '1979'\n",
    "end_year = '1994'\n",
    "\n",
    "# etccdis = ['summer_days', 'tropical_nights', 'wet_days', 'wet_days_thresh']\n",
    "etccdis = ['summer_days', 'tropical_nights', 'wet_days', 'wet_days_thresh', 'annual_precip', 'seasonal_precip', 'seasonal_tasmax', 'seasonal_tasmin', 'days_over_95', 'frost_days', 'consecutive_dry_days', 'days_over_90']\n",
    "\n",
    "# models = ['MPI-ESM1-2-HR', 'GFDL-CM4']\n",
    "\n",
    "diag_type = 'city'\n",
    "data_type = 'downscaled'\n",
    "# model = 'GFDL-ESM4'\n",
    "\n",
    "for model in models_dict.keys():\n",
    "    # for model in models:\n",
    "    print(model)\n",
    "    gcm_tests = 0\n",
    "    ds_tests = 0\n",
    "\n",
    "    for etccdi in etccdis:\n",
    "\n",
    "        if (etccdi == 'summer_days') or (etccdi == 'seasonal_tasmax') or (etccdi == 'days_over_95') or (etccdi == 'days_over_90'):\n",
    "            variable = 'tasmax'\n",
    "            var_name = 'tasmax'\n",
    "            start_year = '1979'\n",
    "            end_year = '1994'\n",
    "        elif (etccdi == 'tropical_nights') or (etccdi == 'frost_days') or (etccdi == 'seasonal_tasmin'):\n",
    "            variable = 'tasmin'\n",
    "            var_name = 'tasmin'\n",
    "            start_year = '1979'\n",
    "            end_year = '1994'\n",
    "        else: \n",
    "            variable = 'precip'\n",
    "            var_name = 'pr'\n",
    "            start_year = '1984'\n",
    "            end_year = '1994'\n",
    "\n",
    "        print(get_diagnostics_filepath(diag_type, 'reanalysis', institutions, ensemble_members, variable, model, 'historical', validation_period=True))\n",
    "        ref = load_zarr(get_diagnostics_filepath(diag_type, 'reanalysis', institutions, ensemble_members, variable, model, 'historical', validation_period=True)).sel(city=city)\n",
    "        # needs units for xclim \n",
    "        if variable == 'tasmax' or variable == 'tasmin':\n",
    "            ref[var_name].attrs['units'] = 'K'\n",
    "        else:\n",
    "            ref[var_name] = ref[var_name] * 1000 # conversion to mm /day \n",
    "            ref[var_name].attrs['units'] = 'mm day-1'\n",
    "        # print(get_diagnostics_filepath(diag_type, 'clean', institutions, ensemble_members, variable, model, 'historical'))\n",
    "        gcm = load_zarr(get_diagnostics_filepath(diag_type, 'clean', institutions, ensemble_members, variable, model, 'historical')).sel(city=city)\n",
    "        # print(get_diagnostics_filepath(diag_type, 'downscaled', institutions, ensemble_members, variable, model, 'historical'))\n",
    "        downscaled = load_zarr(get_diagnostics_filepath(diag_type, 'downscaled', ds_institutions, ensemble_members, variable, model, 'historical')).sel(city=city)\n",
    "\n",
    "        ks_test_gcm = kstest(compute_etccdi(ref[var_name].sel(time=slice(start_year, end_year)), etccdi), \n",
    "                            compute_etccdi(gcm[var_name].sel(time=slice(start_year, end_year)), etccdi))\n",
    "\n",
    "        ks_test_downscaled = kstest(compute_etccdi(ref[var_name].sel(time=slice(start_year, end_year)), etccdi), \n",
    "                            compute_etccdi(downscaled[var_name].sel(time=slice(start_year, end_year)), etccdi))\n",
    "        \n",
    "        if ks_test_gcm[1] > 0.05:\n",
    "            gcm_tests += 1\n",
    "            gcms_indices_validation[(model, etccdi)] = 1.0\n",
    "        else: \n",
    "            gcms_indices_validation[(model, etccdi)] = 0.0\n",
    "        if ks_test_downscaled[1] > 0.05:\n",
    "            ds_tests += 1\n",
    "            downscaled_indices_validation[(model, etccdi)] = 1.0\n",
    "        else: \n",
    "            downscaled_indices_validation[(model, etccdi)] = 0.0\n",
    "    \n",
    "    gcms_ks_valid[model] = gcm_tests\n",
    "    downscaled_ks_valid[model] = ds_tests"
   ]
  },
  {
   "cell_type": "code",
   "execution_count": null,
   "id": "ddae590d",
   "metadata": {},
   "outputs": [],
   "source": [
    "fig, axes = plt.subplots(1, 1, figsize=(12, 4))\n",
    "\n",
    "axes.bar(*zip(*downscaled_ks_calib.items()), width=0.8, linewidth=0.4, align='center', label='downscaled GCMs')\n",
    "axes.bar(*zip(*gcms_ks_calib.items()), width=0.4, linewidth=0.4, align='center', label='raw GCMs')\n",
    "plt.xticks(rotation=80)\n",
    "axes.legend(loc='upper center', bbox_to_anchor=(0.5, 1.15),\n",
    "          ncol=2, fancybox=True, shadow=True)\n",
    "axes.set_ylabel('Number of ETCCDI Tests Passed')\n",
    "axes.set_ylim([0, 12])\n",
    "\n",
    "plt.savefig(os.path.join(plot_dir, '{city}_etccdi_indices_calibration_MORE.png'.format(city=city)), \n",
    "            bbox_inches='tight', dpi=200)"
   ]
  },
  {
   "cell_type": "code",
   "execution_count": null,
   "id": "c098f38e",
   "metadata": {},
   "outputs": [],
   "source": [
    "fig, axes = plt.subplots(1, 1, figsize=(12, 4))\n",
    "\n",
    "axes.bar(*zip(*downscaled_ks_valid.items()), width=0.8, linewidth=0.4, align='center', label='downscaled GCMs')\n",
    "axes.bar(*zip(*gcms_ks_valid.items()), width=0.4, linewidth=0.4, align='center', label='raw GCMs')\n",
    "plt.xticks(rotation=80)\n",
    "axes.legend(loc='upper center', bbox_to_anchor=(0.5, 1.15),\n",
    "          ncol=2, fancybox=True, shadow=True)\n",
    "axes.set_ylabel('Number of Tests Passed')\n",
    "axes.set_ylim([0, 12])\n",
    "\n",
    "plt.savefig(os.path.join(plot_dir, '{city}_etccdi_indices_validation_MORE.png'.format(city=city)), \n",
    "            bbox_inches='tight', dpi=200)"
   ]
  },
  {
   "cell_type": "code",
   "execution_count": null,
   "id": "31017343",
   "metadata": {},
   "outputs": [],
   "source": [
    "fig, axes = plt.subplots(2, 1, figsize=(9, 6))\n",
    "\n",
    "axes[0].bar(*zip(*downscaled_ks_calib.items()), width=0.8, linewidth=0.4, align='center', label='bias-adjusted and downscaled GCMs')\n",
    "axes[0].bar(*zip(*gcms_ks_calib.items()), width=0.4, linewidth=0.4, align='center', label='raw GCMs')\n",
    "axes[0].axhline(y=12, linestyle=':', color='k')\n",
    "axes[0].text(0.02, 0.95, '(a)', transform=axes[0].transAxes, fontsize=14, va='top')\n",
    "\n",
    "axes[1].bar(*zip(*downscaled_ks_valid.items()), width=0.8, linewidth=0.4, align='center', label='bias-adjusted and downscaled GCMs')\n",
    "axes[1].bar(*zip(*gcms_ks_valid.items()), width=0.4, linewidth=0.4, align='center', label='raw GCMs')\n",
    "axes[1].axhline(y=12, linestyle=':', color='k')\n",
    "axes[1].text(0.02, 0.95, '(b)', transform=axes[1].transAxes, fontsize=14, va='top')\n",
    "\n",
    "plt.setp( axes[0].get_xticklabels(), visible=False)\n",
    "axes[1].set_xticklabels(downscaled_ks_valid.keys(), rotation=80)\n",
    "\n",
    "axes[0].legend(loc='upper center', bbox_to_anchor=(0.5, 1.3),\n",
    "          ncol=2, fancybox=True, shadow=True)\n",
    "axes[0].set_title('Calibration Period')\n",
    "axes[1].set_title('Validation Period')\n",
    "axes[0].set_ylabel('Number of Tests Passed')\n",
    "axes[1].set_ylabel('Number of Tests Passed')\n",
    "axes[1].set_ylim([0, 14])\n",
    "axes[0].set_ylim([0, 14])\n",
    "\n",
    "# fix for saving as EPS (bug: The PostScript backend does not support transparency; partially transparent artists will be rendered opaque.)\n",
    "# axes[0].set_rasterized(True)\n",
    "# axes[1].set_rasterized(True)\n",
    "plt.savefig(os.path.join(plot_dir, '{city}_etccdi_indices_calib_and_valid.eps'.format(city=city)), \n",
    "            bbox_inches='tight', dpi=300, format='eps')"
   ]
  },
  {
   "cell_type": "markdown",
   "id": "43903822",
   "metadata": {},
   "source": [
    "which test doesn't pass for any model? hypothesis is consecutive dry days "
   ]
  },
  {
   "cell_type": "code",
   "execution_count": null,
   "id": "4bf95fe5",
   "metadata": {},
   "outputs": [],
   "source": [
    "city = 'Miami'\n",
    "\n",
    "gcms_ks_calib = {}\n",
    "downscaled_ks_calib = {}\n",
    "\n",
    "etccdis = ['frost_days']\n",
    "'''etccdis = ['summer_days', 'tropical_nights', 'wet_days', 'wet_days_thresh', 'annual_precip', 'seasonal_precip', 'seasonal_tasmax', 'seasonal_tasmin', 'days_over_95', 'frost_days', 'consecutive_dry_days', 'days_over_90']'''\n",
    "\n",
    "models = ['GFDL-CM4']\n",
    "\n",
    "diag_type = 'city'\n",
    "data_type = 'downscaled'\n",
    "# model = 'GFDL-ESM4'\n",
    "\n",
    "# for model in models_dict.keys():\n",
    "for model in models:\n",
    "    print(model)\n",
    "    gcm_tests = 0\n",
    "    ds_tests = 0\n",
    "\n",
    "    for etccdi in etccdis:\n",
    "\n",
    "        if (etccdi == 'summer_days') or (etccdi == 'seasonal_tasmax') or (etccdi == 'days_over_95') or (etccdi == 'days_over_90'):\n",
    "            variable = 'tasmax'\n",
    "            var_name = 'tasmax'\n",
    "        elif (etccdi == 'tropical_nights') or (etccdi == 'frost_days') or (etccdi == 'seasonal_tasmin'):\n",
    "            variable = 'tasmin'\n",
    "            var_name = 'tasmin'\n",
    "        else: \n",
    "            variable = 'precip'\n",
    "            var_name = 'pr'\n",
    "\n",
    "        ref = load_zarr(get_diagnostics_filepath(diag_type, 'reanalysis', institutions, ensemble_members, variable, model, 'historical', validation_period=False)).sel(city=city)\n",
    "        # print(get_diagnostics_filepath(diag_type, 'clean', institutions, ensemble_members, variable, model, 'historical'))\n",
    "        gcm = load_zarr(get_diagnostics_filepath(diag_type, 'clean', institutions, ensemble_members, variable, model, 'historical')).sel(city=city)\n",
    "        # print(get_diagnostics_filepath(diag_type, 'downscaled', institutions, ensemble_members, variable, model, 'historical'))\n",
    "        downscaled = load_zarr(get_diagnostics_filepath(diag_type, 'downscaled', ds_institutions, ensemble_members, variable, model, 'historical')).sel(city=city)\n",
    "\n",
    "        ks_test_gcm = kstest(compute_etccdi(ref[var_name].sel(time=slice('1995', '2014')), etccdi), \n",
    "                            compute_etccdi(gcm[var_name].sel(time=slice('1995', '2014')), etccdi))\n",
    "\n",
    "        ks_test_downscaled = kstest(compute_etccdi(ref[var_name].sel(time=slice('1995', '2014')), etccdi), \n",
    "                            compute_etccdi(downscaled[var_name].sel(time=slice('1995', '2014')), etccdi))\n",
    "        if ks_test_gcm[1] < 0.05:\n",
    "            gcm_tests += 1\n",
    "        if ks_test_downscaled[1] < 0.05:\n",
    "            ds_tests += 1\n",
    "    gcms_ks_calib[model] = gcm_tests\n",
    "    downscaled_ks_calib[model] = ds_tests"
   ]
  },
  {
   "cell_type": "code",
   "execution_count": null,
   "id": "5a2f9032",
   "metadata": {},
   "outputs": [],
   "source": [
    "ks_test_gcm"
   ]
  },
  {
   "cell_type": "code",
   "execution_count": null,
   "id": "e9d6fb71",
   "metadata": {},
   "outputs": [],
   "source": [
    "ks_test_downscaled"
   ]
  },
  {
   "cell_type": "code",
   "execution_count": null,
   "id": "b44aa6dc",
   "metadata": {},
   "outputs": [],
   "source": [
    "compute_etccdi(gcm[var_name].sel(time=slice('1995', '2014')), 'frost_days').values"
   ]
  },
  {
   "cell_type": "markdown",
   "id": "6fb56f90",
   "metadata": {},
   "source": [
    "### it's frost days that never passes ### "
   ]
  },
  {
   "cell_type": "markdown",
   "id": "798407be",
   "metadata": {},
   "source": [
    "### make heatmap with passing/failing tests ### "
   ]
  },
  {
   "cell_type": "code",
   "execution_count": null,
   "id": "a3171518",
   "metadata": {},
   "outputs": [],
   "source": [
    "# gcms_indices_calibration"
   ]
  },
  {
   "cell_type": "code",
   "execution_count": null,
   "id": "9c003bd9",
   "metadata": {},
   "outputs": [],
   "source": [
    "import pandas as pd\n",
    "import seaborn as sns\n",
    "ser_gcms_calibration = pd.Series(list(gcms_indices_calibration.values()),\n",
    "                  index=pd.MultiIndex.from_tuples(gcms_indices_calibration.keys()))\n",
    "ser_gcms_validation = pd.Series(list(gcms_indices_validation.values()),\n",
    "                  index=pd.MultiIndex.from_tuples(gcms_indices_validation.keys()))\n",
    "ser_ds_calibration = pd.Series(list(downscaled_indices_calibration.values()),\n",
    "                  index=pd.MultiIndex.from_tuples(downscaled_indices_calibration.keys()))\n",
    "df_gcms_calibration = ser_gcms_calibration.unstack()\n",
    "df_gcms_validation = ser_gcms_validation.unstack()\n",
    "df_downscaled_calibration = ser_ds_calibration.unstack()"
   ]
  },
  {
   "cell_type": "code",
   "execution_count": null,
   "id": "1755c602",
   "metadata": {},
   "outputs": [],
   "source": [
    "fig, axes = plt.subplots(1, 2, figsize=(14, 4))\n",
    "cmap = 'Reds'\n",
    "sns.heatmap(df_gcms_calibration.T, ax=axes[0], cmap=cmap)\n",
    "sns.heatmap(df_gcms_validation.T, ax=axes[1], cmap=cmap)"
   ]
  },
  {
   "cell_type": "code",
   "execution_count": null,
   "id": "21b63b12",
   "metadata": {},
   "outputs": [],
   "source": [
    "# df_gcms_calibration"
   ]
  },
  {
   "cell_type": "markdown",
   "id": "672c5d96-567f-44b8-a397-3379f9837b0a",
   "metadata": {},
   "source": [
    "### switch to using full time period ### "
   ]
  },
  {
   "cell_type": "code",
   "execution_count": null,
   "id": "3bc1348d-77a8-4205-9d2a-68efdf3eb129",
   "metadata": {},
   "outputs": [],
   "source": [
    "# test_models = ['MPI-ESM1-2-HR', 'MPI-ESM1-2-LR', 'CMCC-CM2-SR5']"
   ]
  },
  {
   "cell_type": "code",
   "execution_count": 15,
   "id": "6fae57d5-8204-419b-8b90-5009eedff3d7",
   "metadata": {},
   "outputs": [
    {
     "name": "stdout",
     "output_type": "stream",
     "text": [
      "BCC-CSM2-MR\n",
      "FGOALS-g3\n",
      "ACCESS-ESM1-5\n",
      "ACCESS-CM2\n",
      "INM-CM4-8\n",
      "INM-CM5-0\n",
      "MIROC-ES2L\n",
      "MIROC6\n",
      "NorESM2-LM\n",
      "NorESM2-MM\n",
      "GFDL-ESM4\n",
      "GFDL-CM4\n",
      "NESM3\n",
      "MPI-ESM1-2-HR\n",
      "HadGEM3-GC31-LL\n",
      "UKESM1-0-LL\n",
      "MPI-ESM1-2-LR\n",
      "CMCC-CM2-SR5\n",
      "CMCC-ESM2\n",
      "CanESM5\n",
      "EC-Earth3\n",
      "EC-Earth3-AerChem\n",
      "EC-Earth3-CC\n",
      "EC-Earth3-Veg\n",
      "EC-Earth3-Veg-LR\n"
     ]
    }
   ],
   "source": [
    "city = 'Moscow'\n",
    "\n",
    "gcms_ks_full = {}\n",
    "downscaled_ks_full = {}\n",
    "\n",
    "start_year = '1979'\n",
    "end_year = '2014'\n",
    "\n",
    "# 'monthly_max', 'warm_spell_duration'\n",
    "# etccdis = ['summer_days', 'tropical_nights', 'wet_days', 'wet_days_thresh']\n",
    "etccdis = ['summer_days', 'tropical_nights', 'wet_days', 'wet_days_thresh', 'annual_precip', 'seasonal_precip', 'seasonal_tasmax', 'seasonal_tasmin', 'days_over_95', 'frost_days', 'consecutive_dry_days', 'days_over_90']\n",
    "'''etccdis = ['summer_days', 'tropical_nights', 'seasonal_tasmax', 'seasonal_tasmin', 'days_over_95', 'days_over_90']'''\n",
    "\n",
    "# models = ['MPI-ESM1-2-HR', 'GFDL-CM4']\n",
    "\n",
    "diag_type = 'city'\n",
    "data_type = 'downscaled'\n",
    "# model = 'GFDL-ESM4'\n",
    "\n",
    "for model in models_dict.keys():\n",
    "    # for model in test_models:\n",
    "    # for model in models:\n",
    "    print(model)\n",
    "    gcm_tests = 0\n",
    "    ds_tests = 0\n",
    "\n",
    "    for etccdi in etccdis:\n",
    "\n",
    "        if (etccdi == 'summer_days') or (etccdi == 'seasonal_tasmax') or (etccdi == 'days_over_95') or (etccdi == 'days_over_90'):\n",
    "            variable = 'tasmax'\n",
    "            var_name = 'tasmax'\n",
    "            start_year = '1979'\n",
    "            end_year = '2014'\n",
    "        elif (etccdi == 'tropical_nights') or (etccdi == 'frost_days') or (etccdi == 'seasonal_tasmin'):\n",
    "            variable = 'tasmin'\n",
    "            var_name = 'tasmin'\n",
    "            start_year = '1979'\n",
    "            end_year = '2014'\n",
    "        else: \n",
    "            variable = 'precip'\n",
    "            var_name = 'pr'\n",
    "            start_year = '1984'\n",
    "            end_year = '2014'\n",
    "\n",
    "        '''print(get_diagnostics_filepath(diag_type, 'reanalysis', institutions, ensemble_members, variable, model, 'historical', validation_period=True))'''\n",
    "        ref = load_zarr(get_diagnostics_filepath(diag_type, 'reanalysis', institutions, ensemble_members, variable, model, 'historical', validation_period=True)).sel(city=city)\n",
    "        # needs units for xclim \n",
    "        if variable == 'tasmax' or variable == 'tasmin':\n",
    "            ref[var_name].attrs['units'] = 'K'\n",
    "        else:\n",
    "            ref[var_name] = ref[var_name] * 1000 # conversion to mm /day \n",
    "            ref[var_name].attrs['units'] = 'mm day-1'\n",
    "        # print(get_diagnostics_filepath(diag_type, 'clean', institutions, ensemble_members, variable, model, 'historical'))\n",
    "        gcm = load_zarr(get_diagnostics_filepath(diag_type, 'clean', ds_institutions, ensemble_members, variable, model, 'historical')).sel(city=city)\n",
    "        # print(get_diagnostics_filepath(diag_type, 'downscaled', institutions, ensemble_members, variable, model, 'historical'))\n",
    "        downscaled = load_zarr(get_diagnostics_filepath(diag_type, 'downscaled', ds_institutions, ensemble_members, variable, model, 'historical')).sel(city=city)\n",
    "\n",
    "        ks_test_gcm = kstest(compute_etccdi(ref[var_name].sel(time=slice(start_year, end_year)), etccdi), \n",
    "                            compute_etccdi(gcm[var_name].sel(time=slice(start_year, end_year)), etccdi))\n",
    "\n",
    "        ks_test_downscaled = kstest(compute_etccdi(ref[var_name].sel(time=slice(start_year, end_year)), etccdi), \n",
    "                            compute_etccdi(downscaled[var_name].sel(time=slice(start_year, end_year)), etccdi))\n",
    "        \n",
    "        if ks_test_gcm[1] > 0.05:\n",
    "            gcm_tests += 1\n",
    "            gcms_indices_full[(model, etccdi)] = 1.0\n",
    "        else: \n",
    "            gcms_indices_full[(model, etccdi)] = 0.0\n",
    "        if ks_test_downscaled[1] > 0.05:\n",
    "            ds_tests += 1\n",
    "            downscaled_indices_full[(model, etccdi)] = 1.0\n",
    "        else: \n",
    "            downscaled_indices_full[(model, etccdi)] = 0.0\n",
    "    \n",
    "    gcms_ks_full[model] = gcm_tests\n",
    "    downscaled_ks_full[model] = ds_tests"
   ]
  },
  {
   "cell_type": "code",
   "execution_count": 16,
   "id": "20fb961b-6e04-494b-8fd3-bec382554878",
   "metadata": {},
   "outputs": [],
   "source": [
    "# downscaled_indices_full"
   ]
  },
  {
   "cell_type": "code",
   "execution_count": 17,
   "id": "976f54f4-317d-4bb5-bfad-3adbb1b6dd29",
   "metadata": {},
   "outputs": [],
   "source": [
    "import json\n",
    "import ujson\n",
    "\n",
    "# file.write(ujson.dumps(d))\n",
    "\n",
    "with open('/home/jovyan/paper_data/downscaled_{city}.json'.format(city=city), 'w') as fp:\n",
    "    json.dump(downscaled_ks_full, fp)\n",
    "    \n",
    "with open('/home/jovyan/paper_data/downscaled_test_descriptions_{city}.json'.format(city=city), 'w') as fp:\n",
    "    fp.write(ujson.dumps(downscaled_indices_full))\n",
    "    \n",
    "with open('/home/jovyan/paper_data/gcms_{city}.json'.format(city=city), 'w') as fp:\n",
    "    json.dump(gcms_ks_full, fp)\n",
    "    \n",
    "with open('/home/jovyan/paper_data/gcms_test_descriptions_{city}.json'.format(city=city), 'w') as fp:\n",
    "    fp.write(ujson.dumps(gcms_indices_full))"
   ]
  },
  {
   "cell_type": "code",
   "execution_count": 18,
   "id": "6d4dfcf5-97c0-4152-a172-5a57b164c64d",
   "metadata": {},
   "outputs": [
    {
     "data": {
      "text/plain": [
       "\"with open('/home/jovyan/paper_data/gcms_test_descriptions_Dhaka.json') as fp:\\n    test2 = json.load(fp)\""
      ]
     },
     "execution_count": 18,
     "metadata": {},
     "output_type": "execute_result"
    }
   ],
   "source": [
    "'''with open('/home/jovyan/paper_data/gcms_test_descriptions_Dhaka.json') as fp:\n",
    "    test2 = json.load(fp)'''"
   ]
  },
  {
   "cell_type": "code",
   "execution_count": 19,
   "id": "797d407b-41cd-4ac5-b67c-eb3c88d658bd",
   "metadata": {},
   "outputs": [
    {
     "name": "stderr",
     "output_type": "stream",
     "text": [
      "The PostScript backend does not support transparency; partially transparent artists will be rendered opaque.\n"
     ]
    },
    {
     "data": {
      "image/png": "[encoded data removed]",
      "text/plain": [
       "<Figure size 864x288 with 1 Axes>"
      ]
     },
     "metadata": {
      "needs_background": "light"
     },
     "output_type": "display_data"
    },
    {
     "name": "stderr",
     "output_type": "stream",
     "text": [
      "2023-05-31 21:11:50,610 - distributed.client - ERROR - Failed to reconnect to scheduler after 30.00 seconds, closing client\n",
      "Exception in callback None()\n",
      "handle: <Handle cancelled>\n",
      "Traceback (most recent call last):\n",
      "  File \"/srv/conda/envs/notebook/lib/python3.9/site-packages/tornado/iostream.py\", line 1389, in _do_ssl_handshake\n",
      "    self.socket.do_handshake()\n",
      "  File \"/srv/conda/envs/notebook/lib/python3.9/ssl.py\", line 1310, in do_handshake\n",
      "    self._sslobj.do_handshake()\n",
      "ssl.SSLEOFError: EOF occurred in violation of protocol (_ssl.c:1129)\n",
      "\n",
      "During handling of the above exception, another exception occurred:\n",
      "\n",
      "Traceback (most recent call last):\n",
      "  File \"/srv/conda/envs/notebook/lib/python3.9/asyncio/events.py\", line 80, in _run\n",
      "    self._context.run(self._callback, *self._args)\n",
      "  File \"/srv/conda/envs/notebook/lib/python3.9/site-packages/tornado/platform/asyncio.py\", line 206, in _handle_events\n",
      "    handler_func(fileobj, events)\n",
      "  File \"/srv/conda/envs/notebook/lib/python3.9/site-packages/tornado/iostream.py\", line 698, in _handle_events\n",
      "    self._handle_read()\n",
      "  File \"/srv/conda/envs/notebook/lib/python3.9/site-packages/tornado/iostream.py\", line 1476, in _handle_read\n",
      "    self._do_ssl_handshake()\n",
      "  File \"/srv/conda/envs/notebook/lib/python3.9/site-packages/tornado/iostream.py\", line 1398, in _do_ssl_handshake\n",
      "    return self.close(exc_info=err)\n",
      "  File \"/srv/conda/envs/notebook/lib/python3.9/site-packages/tornado/iostream.py\", line 613, in close\n",
      "    self._signal_closed()\n",
      "  File \"/srv/conda/envs/notebook/lib/python3.9/site-packages/tornado/iostream.py\", line 643, in _signal_closed\n",
      "    self._ssl_connect_future.exception()\n",
      "asyncio.exceptions.CancelledError\n"
     ]
    }
   ],
   "source": [
    "fig, axes = plt.subplots(1, 1, figsize=(12, 4))\n",
    "\n",
    "axes.bar(*zip(*downscaled_ks_full.items()), width=0.8, linewidth=0.4, align='center', label='downscaled GCMs')\n",
    "axes.bar(*zip(*gcms_ks_full.items()), width=0.4, linewidth=0.4, align='center', label='raw GCMs')\n",
    "plt.xticks(rotation=80)\n",
    "axes.legend(loc='upper center', bbox_to_anchor=(0.5, 1.15),\n",
    "          ncol=2, fancybox=True, shadow=True)\n",
    "axes.set_ylabel('Number of Tests Passed')\n",
    "axes.set_ylim([0, 12])\n",
    "\n",
    "plt.savefig(os.path.join(plot_dir, '{city}_etccdi_indices_full_MORE.eps'.format(city=city)), \n",
    "            bbox_inches='tight', dpi=200)"
   ]
  },
  {
   "cell_type": "code",
   "execution_count": null,
   "id": "722ec14f-cb1e-4f3d-b357-a340fa55b851",
   "metadata": {},
   "outputs": [],
   "source": [
    "downscaled_ks_full"
   ]
  },
  {
   "cell_type": "markdown",
   "id": "0648d6ac-8a9f-4a89-9e0f-b3a0a76868d5",
   "metadata": {},
   "source": [
    "### switch to qq plots ###"
   ]
  },
  {
   "cell_type": "code",
   "execution_count": null,
   "id": "29d4e3b7-887a-4c78-b89e-54752dc4a082",
   "metadata": {},
   "outputs": [],
   "source": [
    "ds_etccdi = []\n",
    "gcm_etccdi = []\n",
    "\n",
    "model = 'GFDL-CM4'\n",
    "etccdi = 'summer_days'\n",
    "start_year = '1995'\n",
    "end_year = '2014'\n",
    "var_name = 'tasmax'\n",
    "\n",
    "diag_type = 'city'\n",
    "ref = load_zarr(get_diagnostics_filepath(diag_type, 'reanalysis', institutions, ensemble_members, variable, model, 'historical', validation_period=True)).sel(time=slice(start_year, end_year))\n",
    "ref[var_name].attrs['units'] = 'K'\n",
    "ref_etccdi = compute_etccdi(ref['tasmax'], etccdi)\n",
    "\n",
    "for model in models_dict.keys():\n",
    "    print(model)\n",
    "    gcm = load_zarr(get_diagnostics_filepath(diag_type, 'clean', institutions, ensemble_members, variable, model, 'historical')).sel(time=slice(start_year, end_year))\n",
    "    gcm_etccdi.append(compute_etccdi(gcm[var_name], etccdi))\n",
    "    downscaled = load_zarr(get_diagnostics_filepath(diag_type, 'downscaled', ds_institutions, ensemble_members, variable, model, 'historical')).sel(time=slice(start_year, end_year))\n",
    "    ds_etccdi.append(compute_etccdi(downscaled[var_name], etccdi))"
   ]
  },
  {
   "cell_type": "code",
   "execution_count": null,
   "id": "03274f54-3f8b-47b8-a309-f5146d74ae3f",
   "metadata": {},
   "outputs": [],
   "source": [
    "# list(models_dict.keys())\n",
    "ds_etccdi_allmodels = xr.concat(ds_etccdi, pd.Index(list(models_dict.keys()), name=\"model\"))\n",
    "gcm_etccdi_allmodels = xr.concat(gcm_etccdi, pd.Index(list(models_dict.keys()), name=\"model\"))"
   ]
  },
  {
   "cell_type": "code",
   "execution_count": null,
   "id": "ee7479ce-a4b9-46a0-b880-4d5c9446f5bb",
   "metadata": {},
   "outputs": [],
   "source": [
    "'''city = 'Paris'\n",
    "fig, axes = plt.subplots(1, 1, figsize=(6, 4))\n",
    "\n",
    "qqplot_2samples(sm.ProbPlot(ref_etccdi.sel(city=city)), sm.ProbPlot(ds_etccdi_allmodels.sel(model=model, city=city)), line='45', ax=axes, **kwargs={'markerfacecolor': 'green'})\n",
    "qqplot_2samples(sm.ProbPlot(ref_etccdi.sel(city=city)), sm.ProbPlot(gcm_etccdi_allmodels.sel(model=model, city=city)), ax=axes, markerfacecolor='green')\n",
    "axes.plot(sm.ProbPlot(ref_etccdi.sel(city=city)), sm.ProbPlot(ds_etccdi_allmodels.sel(model=model, city=city)))'''"
   ]
  },
  {
   "cell_type": "code",
   "execution_count": null,
   "id": "3d426184-2116-4edd-a59b-920c3486a4ad",
   "metadata": {},
   "outputs": [],
   "source": [
    "fig, axes = plt.subplots(1, 1, figsize=(6, 4))\n",
    "city = 'Tokyo'\n",
    "\n",
    "arr = ds_etccdi_allmodels.sel(model=model, city=city)\n",
    "\n",
    "# plt.plot(np.sort(arr), np.linspace(0, 1, len(arr), endpoint=False))\n",
    "plt.plot(np.sort(ref_etccdi.sel(city=city)), np.sort(ds_etccdi_allmodels.sel(model=model, city=city)), 'bo', label='downscaled')\n",
    "\n",
    "plt.plot(np.sort(ref_etccdi.sel(city=city)), np.sort(gcm_etccdi_allmodels.sel(model=model, city=city)), 'ro', label='raw GCM')\n",
    "\n",
    "axes.axline((0, 0), slope=1)\n",
    "axes.legend(loc='lower right')\n",
    "ylim = 120\n",
    "axes.set_ylim([0, ylim])\n",
    "axes.set_xlim([0, ylim])"
   ]
  },
  {
   "cell_type": "code",
   "execution_count": null,
   "id": "670ea08e-d60f-4017-895d-09230d90b453",
   "metadata": {},
   "outputs": [],
   "source": [
    "fig, axes = plt.subplots(1, 1, figsize=(6, 4))\n",
    "city = 'Tokyo'\n",
    "\n",
    "arr = ds_etccdi_allmodels.sel(model=model, city=city)\n",
    "\n",
    "# plt.plot(np.sort(arr), np.linspace(0, 1, len(arr), endpoint=False))\n",
    "for model in models_dict.keys():\n",
    "    plt.plot(np.sort(ref_etccdi.sel(city=city)), np.sort(ds_etccdi_allmodels.sel(model=model, city=city)), 'bo', label='downscaled')\n",
    "\n",
    "    plt.plot(np.sort(ref_etccdi.sel(city=city)), np.sort(gcm_etccdi_allmodels.sel(model=model, city=city)), 'ro', label='raw GCM')\n",
    "\n",
    "axes.axline((0, 0), slope=1)\n",
    "# axes.legend(loc='lower right')\n",
    "ylim = 120\n",
    "axes.set_ylim([0, ylim])\n",
    "axes.set_xlim([0, ylim])"
   ]
  },
  {
   "cell_type": "code",
   "execution_count": null,
   "id": "955c0731-b4c4-4d89-ac34-7400fb4b6fb1",
   "metadata": {},
   "outputs": [],
   "source": [
    "np.random.seed(1234)\n",
    "df = pd.DataFrame(np.random.randn(10, 4),\n",
    "                  columns=['Col1', 'Col2', 'Col3', 'Col4'])"
   ]
  },
  {
   "cell_type": "code",
   "execution_count": null,
   "id": "ecf6dd9f-453b-4dcc-b8f6-651ac354bed7",
   "metadata": {},
   "outputs": [],
   "source": [
    "city = 'Paris'\n",
    "\n",
    "gcms_etccdi = {}\n",
    "downscaled_etccdi = {}\n",
    "ref_etccdi = {}\n",
    "\n",
    "start_year = '1979'\n",
    "end_year = '2014'\n",
    "\n",
    "# 'monthly_max', 'warm_spell_duration'\n",
    "# etccdis = ['summer_days', 'tropical_nights', 'wet_days', 'wet_days_thresh']\n",
    "etccdis = ['summer_days', 'tropical_nights', 'wet_days', 'wet_days_thresh', 'annual_precip', 'seasonal_precip', 'seasonal_tasmax', 'seasonal_tasmin', 'days_over_95', 'frost_days', 'consecutive_dry_days', 'days_over_90']\n",
    "'''etccdis = ['summer_days', 'tropical_nights', 'seasonal_tasmax', 'seasonal_tasmin', 'days_over_95', 'days_over_90']'''\n",
    "\n",
    "# models = ['MPI-ESM1-2-HR', 'GFDL-CM4']\n",
    "\n",
    "diag_type = 'city'\n",
    "data_type = 'downscaled'\n",
    "# model = 'GFDL-ESM4'\n",
    "\n",
    "for model in models_dict.keys():\n",
    "    # for model in models:\n",
    "    print(model)\n",
    "    gcm_tests = 0\n",
    "    ds_tests = 0\n",
    "\n",
    "    for etccdi in etccdis:\n",
    "\n",
    "        if (etccdi == 'summer_days') or (etccdi == 'seasonal_tasmax') or (etccdi == 'days_over_95') or (etccdi == 'days_over_90'):\n",
    "            variable = 'tasmax'\n",
    "            var_name = 'tasmax'\n",
    "            start_year = '1979'\n",
    "            end_year = '2014'\n",
    "        elif (etccdi == 'tropical_nights') or (etccdi == 'frost_days') or (etccdi == 'seasonal_tasmin'):\n",
    "            variable = 'tasmin'\n",
    "            var_name = 'tasmin'\n",
    "            start_year = '1979'\n",
    "            end_year = '2014'\n",
    "        else: \n",
    "            variable = 'precip'\n",
    "            var_name = 'pr'\n",
    "            start_year = '1984'\n",
    "            end_year = '2014'\n",
    "\n",
    "        '''print(get_diagnostics_filepath(diag_type, 'reanalysis', institutions, ensemble_members, variable, model, 'historical', validation_period=True))'''\n",
    "        ref = load_zarr(get_diagnostics_filepath(diag_type, 'reanalysis', institutions, ensemble_members, variable, model, 'historical', validation_period=True)).sel(city=city)\n",
    "        # needs units for xclim \n",
    "        if variable == 'tasmax' or variable == 'tasmin':\n",
    "            ref[var_name].attrs['units'] = 'K'\n",
    "        else:\n",
    "            ref[var_name] = ref[var_name] * 1000 # conversion to mm /day \n",
    "            ref[var_name].attrs['units'] = 'mm day-1'\n",
    "        # print(get_diagnostics_filepath(diag_type, 'clean', institutions, ensemble_members, variable, model, 'historical'))\n",
    "        gcm = load_zarr(get_diagnostics_filepath(diag_type, 'clean', institutions, ensemble_members, variable, model, 'historical')).sel(city=city)\n",
    "        # print(get_diagnostics_filepath(diag_type, 'downscaled', institutions, ensemble_members, variable, model, 'historical'))\n",
    "        downscaled = load_zarr(get_diagnostics_filepath(diag_type, 'downscaled', ds_institutions, ensemble_members, variable, model, 'historical')).sel(city=city)\n",
    "\n",
    "        ks_test_gcm = kstest(compute_etccdi(ref[var_name].sel(time=slice(start_year, end_year)), etccdi), \n",
    "                            compute_etccdi(gcm[var_name].sel(time=slice(start_year, end_year)), etccdi))\n",
    "\n",
    "        ks_test_downscaled = kstest(compute_etccdi(ref[var_name].sel(time=slice(start_year, end_year)), etccdi), \n",
    "                            compute_etccdi(downscaled[var_name].sel(time=slice(start_year, end_year)), etccdi))\n",
    "        \n",
    "        if ks_test_gcm[1] > 0.05:\n",
    "            gcm_tests += 1\n",
    "            gcms_indices_full[(model, etccdi)] = 1.0\n",
    "        else: \n",
    "            gcms_indices_full[(model, etccdi)] = 0.0\n",
    "        if ks_test_downscaled[1] > 0.05:\n",
    "            ds_tests += 1\n",
    "            downscaled_indices_full[(model, etccdi)] = 1.0\n",
    "        else: \n",
    "            downscaled_indices_full[(model, etccdi)] = 0.0\n",
    "    \n",
    "    gcms_ks_full[model] = gcm_tests\n",
    "    downscaled_ks_full[model] = ds_tests"
   ]
  }
 ],
 "metadata": {
  "kernelspec": {
   "display_name": "Python 3 (ipykernel)",
   "language": "python",
   "name": "python3"
  },
  "language_info": {
   "codemirror_mode": {
    "name": "ipython",
    "version": 3
   },
   "file_extension": ".py",
   "mimetype": "text/x-python",
   "name": "python",
   "nbconvert_exporter": "python",
   "pygments_lexer": "ipython3",
   "version": "3.9.13"
  },
  "widgets": {
   "application/vnd.jupyter.widget-state+json": {
    "state": {},
    "version_major": 2,
    "version_minor": 0
   }
  }
 },
 "nbformat": 4,
 "nbformat_minor": 5
}
