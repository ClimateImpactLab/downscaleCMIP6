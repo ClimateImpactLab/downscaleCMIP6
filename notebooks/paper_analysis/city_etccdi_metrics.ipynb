{
 "cells": [
  {
   "cell_type": "code",
   "execution_count": 1,
   "id": "d6f2bec7-5427-4569-8d5d-e334707c019e",
   "metadata": {},
   "outputs": [
    {
     "data": {
      "text/plain": [
       "'try:\\n    import xclim\\nexcept ModuleNotFoundError:\\n    ! pip install xclim'"
      ]
     },
     "execution_count": 1,
     "metadata": {},
     "output_type": "execute_result"
    }
   ],
   "source": [
    "'''try:\n",
    "    import xclim\n",
    "except ModuleNotFoundError:\n",
    "    ! pip install xclim'''"
   ]
  },
  {
   "cell_type": "code",
   "execution_count": 2,
   "id": "d5763468-9fcb-4abb-ba1a-737194cf40c3",
   "metadata": {},
   "outputs": [
    {
     "name": "stderr",
     "output_type": "stream",
     "text": [
      "/srv/conda/envs/notebook/lib/python3.9/site-packages/dask_gateway/client.py:21: FutureWarning: format_bytes is deprecated and will be removed in a future release. Please use dask.utils.format_bytes instead.\n",
      "  from distributed.utils import LoopRunner, format_bytes\n"
     ]
    }
   ],
   "source": [
    "%matplotlib inline \n",
    "import xarray as xr\n",
    "import numpy as np\n",
    "import matplotlib.pyplot as plt\n",
    "from cartopy import config\n",
    "import cartopy.crs as ccrs\n",
    "import cartopy.feature as cfeature\n",
    "import os \n",
    "import gcsfs \n",
    "from matplotlib import cm\n",
    "import warnings \n",
    "import seaborn as sns\n",
    "import yaml\n",
    "\n",
    "from xclim.indicators import cf \n",
    "from xclim.indicators import icclim, atmos, anuclim\n",
    "\n",
    "from science_validation_manual import *\n",
    "from dc6_functions import * \n",
    "from scipy.stats import kstest\n",
    "\n",
    "import dask\n",
    "import dask.array as da\n",
    "import dask.distributed as dd\n",
    "import rhg_compute_tools.kubernetes as rhgk"
   ]
  },
  {
   "cell_type": "code",
   "execution_count": 3,
   "id": "57dbb76a-40db-4df3-adc2-f08308120092",
   "metadata": {},
   "outputs": [],
   "source": [
    "import warnings\n",
    "warnings.filterwarnings(\"ignore\")"
   ]
  },
  {
   "cell_type": "code",
   "execution_count": 4,
   "id": "a1b05e46-0adf-4663-9a5d-19896949efe3",
   "metadata": {},
   "outputs": [],
   "source": [
    "plot_dir = '/gcs/impactlab-data/climate/downscaling/paper/'"
   ]
  },
  {
   "cell_type": "code",
   "execution_count": 5,
   "id": "4679ca7f-2502-4baa-89cc-c36fb8b413f4",
   "metadata": {},
   "outputs": [],
   "source": [
    "models_dict = get_cmip6_models()\n",
    "ensemble_members = get_cmip6_ensemble_members()\n",
    "grids = get_cmip6_grids()\n",
    "institutions = get_cmip6_institutions()\n",
    "ds_institutions = get_cmip6_institutions()\n",
    "ds_institutions['MPI-ESM1-2-HR'] = 'MPI-M'"
   ]
  },
  {
   "cell_type": "code",
   "execution_count": 6,
   "id": "d8d0771e-59fc-4f2e-b141-7ebf26aa96b8",
   "metadata": {},
   "outputs": [
    {
     "data": {
      "text/plain": [
       "{'BCC-CSM2-MR': 'BCC',\n",
       " 'FGOALS-g3': 'CAS',\n",
       " 'ACCESS-ESM1-5': 'CSIRO',\n",
       " 'ACCESS-CM2': 'CSIRO-ARCCSS',\n",
       " 'INM-CM4-8': 'INM',\n",
       " 'INM-CM5-0': 'INM',\n",
       " 'MIROC-ES2L': 'MIROC',\n",
       " 'MIROC6': 'MIROC',\n",
       " 'NorESM2-LM': 'NCC',\n",
       " 'NorESM2-MM': 'NCC',\n",
       " 'GFDL-ESM4': 'NOAA-GFDL',\n",
       " 'GFDL-CM4': 'NOAA-GFDL',\n",
       " 'NESM3': 'NUIST',\n",
       " 'MPI-ESM1-2-HR': 'DKRZ',\n",
       " 'HadGEM3-GC31-LL': 'MOHC',\n",
       " 'UKESM1-0-LL': 'MOHC',\n",
       " 'MPI-ESM1-2-LR': 'MPI-M',\n",
       " 'CMCC-CM2-SR5': 'CMCC',\n",
       " 'CMCC-ESM2': 'CMCC',\n",
       " 'CanESM5': 'CCCma',\n",
       " 'EC-Earth3': 'EC-Earth-Consortium',\n",
       " 'EC-Earth3-AerChem': 'EC-Earth-Consortium',\n",
       " 'EC-Earth3-CC': 'EC-Earth-Consortium',\n",
       " 'EC-Earth3-Veg': 'EC-Earth-Consortium',\n",
       " 'EC-Earth3-Veg-LR': 'EC-Earth-Consortium'}"
      ]
     },
     "execution_count": 6,
     "metadata": {},
     "output_type": "execute_result"
    }
   ],
   "source": [
    "institutions"
   ]
  },
  {
   "cell_type": "code",
   "execution_count": 7,
   "id": "a692e812-f006-4003-98c6-55dc58061bb7",
   "metadata": {},
   "outputs": [],
   "source": [
    "# ds_institutions"
   ]
  },
  {
   "cell_type": "code",
   "execution_count": 8,
   "id": "e100663e-b4c3-4af7-9080-8e8f188c2290",
   "metadata": {},
   "outputs": [],
   "source": [
    "# institutions"
   ]
  },
  {
   "cell_type": "code",
   "execution_count": 9,
   "id": "1553b96a-855a-4f92-9a76-618bc054f075",
   "metadata": {},
   "outputs": [],
   "source": [
    "client, cluster = rhgk.get_standard_cluster()"
   ]
  },
  {
   "cell_type": "code",
   "execution_count": 10,
   "id": "0dc7bc78-154f-4027-8dc7-4ec09cd3cdad",
   "metadata": {},
   "outputs": [
    {
     "data": {
      "application/vnd.jupyter.widget-view+json": {
       "model_id": "c0ab51e96e0e4d44adc886ca124fed3f",
       "version_major": 2,
       "version_minor": 0
      },
      "text/plain": [
       "VBox(children=(HTML(value='<h2>GatewayCluster</h2>'), HBox(children=(HTML(value='\\n<div>\\n<style scoped>\\n    …"
      ]
     },
     "metadata": {},
     "output_type": "display_data"
    }
   ],
   "source": [
    "cluster"
   ]
  },
  {
   "cell_type": "code",
   "execution_count": 11,
   "id": "aaafd4bc-6d80-4f23-8179-ef3b23a950d6",
   "metadata": {},
   "outputs": [],
   "source": [
    "with open('dcmip6_all_paths.yaml', 'r') as f:\n",
    "    all_paths = yaml.safe_load(f)"
   ]
  },
  {
   "cell_type": "code",
   "execution_count": 14,
   "id": "868d4d0e-e5aa-4c47-b4ed-8c2d9e4696f7",
   "metadata": {},
   "outputs": [],
   "source": [
    "def compute_etccdi(da, metric):\n",
    "    \"\"\"\n",
    "    metric: {'summer_days', 'tropical_nights', 'wet_days', 'wet_days_thresh', 'annual_precip', 'seasonal_precip', 'seasonal_tasmax', 'seasonal_tasmin', 'days_over_95', 'frost_days', 'consecutive_dry_days'}\n",
    "    \"\"\"\n",
    "    \n",
    "    if metric == 'summer_days':\n",
    "        return icclim.SU(da)\n",
    "    elif metric == 'tropical_nights':\n",
    "        return atmos.tn_days_above(da)\n",
    "    elif metric == 'wet_days':\n",
    "        return atmos.wetdays(da)\n",
    "    elif metric == 'wet_days_thresh':\n",
    "        return atmos.wetdays_prop(da, thresh='10.0 mm/day')\n",
    "    elif metric == 'annual_precip':\n",
    "        return anuclim.P12_AnnualPrecip(da)\n",
    "    elif metric == 'seasonal_precip': \n",
    "        return da.resample(time='QS-DEC').sum()\n",
    "    elif (metric == 'seasonal_tasmax') or (metric == 'seasonal_tasmin'):\n",
    "        return da.resample(time='QS-DEC').mean()\n",
    "    elif metric == 'frost_days':\n",
    "        return atmos.frost_days(da) \n",
    "    elif metric == 'days_over_95': \n",
    "        return atmos.tx_days_above(da, thresh='35.0 degC')\n",
    "    elif metric == 'days_over_90': \n",
    "        return atmos.tx_days_above(da, thresh='32.22 degC')\n",
    "    elif metric == 'consecutive_dry_days':\n",
    "        return atmos.maximum_consecutive_dry_days(da)\n",
    "    "
   ]
  },
  {
   "cell_type": "markdown",
   "id": "3e749722-a19c-4384-91c0-3a30ac6b7154",
   "metadata": {},
   "source": [
    "downscaled data for one model "
   ]
  },
  {
   "cell_type": "markdown",
   "id": "2e7d3891-bd77-4982-9718-e0c2a9826981",
   "metadata": {},
   "source": [
    "Select 4 \"moderate extremes\" indicators: \n",
    "\n",
    "- \"summer days\" (SU, Number of summer days: Annual count of days when TX (daily maximum temperature) > 25oC) `atmos.tx_days_above`\n",
    "- number of tropical nights (TR, Number of tropical nights: Annual count of days when TN (daily minimum temperature) > 20oC) `atmos.tn_days_above`\n",
    "- number of wet days (per year) `atmos.wetdays`\n",
    "- number of days with precip > 10mm `atmos.wetdays_prop`\n",
    "- annual total precip `anuclim.P12_AnnualPrecip`"
   ]
  },
  {
   "cell_type": "code",
   "execution_count": null,
   "id": "a9107bcf-e96d-4b8f-8011-2090043dc8be",
   "metadata": {},
   "outputs": [],
   "source": [
    "models_dict"
   ]
  },
  {
   "cell_type": "markdown",
   "id": "2797712a-ab85-4e7a-b01d-5a2614e0a56b",
   "metadata": {},
   "source": [
    "track which tests pass for which indices/models "
   ]
  },
  {
   "cell_type": "code",
   "execution_count": 74,
   "id": "972a6754-8453-4ea2-a715-5dcc3aa14889",
   "metadata": {},
   "outputs": [],
   "source": [
    "gcms_indices_calibration = {}\n",
    "downscaled_indices_calibration = {}\n",
    "gcms_indices_validation = {}\n",
    "downscaled_indices_validation = {}"
   ]
  },
  {
   "cell_type": "markdown",
   "id": "1d2191b4-f651-4960-9671-ca5d1b2dbb6e",
   "metadata": {},
   "source": [
    "### look at calibration period ### "
   ]
  },
  {
   "cell_type": "code",
   "execution_count": 75,
   "id": "9b74afa1-6454-4465-9898-94323c3e94ad",
   "metadata": {},
   "outputs": [
    {
     "name": "stdout",
     "output_type": "stream",
     "text": [
      "BCC-CSM2-MR\n",
      "FGOALS-g3\n",
      "ACCESS-ESM1-5\n",
      "ACCESS-CM2\n",
      "INM-CM4-8\n",
      "INM-CM5-0\n",
      "MIROC-ES2L\n",
      "MIROC6\n",
      "NorESM2-LM\n",
      "NorESM2-MM\n",
      "GFDL-ESM4\n",
      "GFDL-CM4\n",
      "NESM3\n",
      "MPI-ESM1-2-HR\n",
      "HadGEM3-GC31-LL\n",
      "UKESM1-0-LL\n",
      "MPI-ESM1-2-LR\n",
      "CMCC-CM2-SR5\n",
      "CMCC-ESM2\n",
      "CanESM5\n",
      "EC-Earth3\n",
      "EC-Earth3-AerChem\n",
      "EC-Earth3-CC\n",
      "EC-Earth3-Veg\n",
      "EC-Earth3-Veg-LR\n"
     ]
    }
   ],
   "source": [
    "city = 'Miami'\n",
    "\n",
    "gcms_ks_calib = {}\n",
    "downscaled_ks_calib = {}\n",
    "\n",
    "# etccdis = ['summer_days', 'tropical_nights', 'wet_days', 'wet_days_thresh']\n",
    "etccdis = ['summer_days', 'tropical_nights', 'wet_days', 'wet_days_thresh', 'annual_precip', 'seasonal_precip', 'seasonal_tasmax', 'seasonal_tasmin', 'days_over_95', 'frost_days', 'consecutive_dry_days', 'days_over_90']\n",
    "\n",
    "# models = ['MPI-ESM1-2-HR', 'GFDL-CM4']\n",
    "\n",
    "diag_type = 'city'\n",
    "data_type = 'downscaled'\n",
    "# model = 'GFDL-ESM4'\n",
    "\n",
    "for model in models_dict.keys():\n",
    "    # for model in models:\n",
    "    print(model)\n",
    "    gcm_tests = 0\n",
    "    ds_tests = 0\n",
    "\n",
    "    for etccdi in etccdis:\n",
    "\n",
    "        if (etccdi == 'summer_days') or (etccdi == 'seasonal_tasmax') or (etccdi == 'days_over_95') or (etccdi == 'days_over_90'):\n",
    "            variable = 'tasmax'\n",
    "            var_name = 'tasmax'\n",
    "        elif (etccdi == 'tropical_nights') or (etccdi == 'frost_days') or (etccdi == 'seasonal_tasmin'):\n",
    "            variable = 'tasmin'\n",
    "            var_name = 'tasmin'\n",
    "        else: \n",
    "            variable = 'precip'\n",
    "            var_name = 'pr'\n",
    "\n",
    "        ref = load_zarr(get_diagnostics_filepath(diag_type, 'reanalysis', institutions, ensemble_members, variable, model, 'historical', validation_period=False)).sel(city=city)\n",
    "        # print(get_diagnostics_filepath(diag_type, 'clean', institutions, ensemble_members, variable, model, 'historical'))\n",
    "        gcm = load_zarr(get_diagnostics_filepath(diag_type, 'clean', institutions, ensemble_members, variable, model, 'historical')).sel(city=city)\n",
    "        # print(get_diagnostics_filepath(diag_type, 'downscaled', institutions, ensemble_members, variable, model, 'historical'))\n",
    "        downscaled = load_zarr(get_diagnostics_filepath(diag_type, 'downscaled', ds_institutions, ensemble_members, variable, model, 'historical')).sel(city=city)\n",
    "\n",
    "        ks_test_gcm = kstest(compute_etccdi(ref[var_name].sel(time=slice('1995', '2014')), etccdi), \n",
    "                            compute_etccdi(gcm[var_name].sel(time=slice('1995', '2014')), etccdi))\n",
    "\n",
    "        ks_test_downscaled = kstest(compute_etccdi(ref[var_name].sel(time=slice('1995', '2014')), etccdi), \n",
    "                            compute_etccdi(downscaled[var_name].sel(time=slice('1995', '2014')), etccdi))\n",
    "        if ks_test_gcm[1] < 0.05:\n",
    "            gcm_tests += 1\n",
    "            gcms_indices_calibration[(model, etccdi)] = 1.0\n",
    "        else: \n",
    "            gcms_indices_calibration[(model, etccdi)] = 0.0\n",
    "        if ks_test_downscaled[1] < 0.05:\n",
    "            ds_tests += 1\n",
    "            downscaled_indices_calibration[(model, etccdi)] = 1.0\n",
    "        else: \n",
    "            downscaled_indices_calibration[(model, etccdi)] = 0.0\n",
    "    gcms_ks_calib[model] = gcm_tests\n",
    "    downscaled_ks_calib[model] = ds_tests"
   ]
  },
  {
   "cell_type": "markdown",
   "id": "a5cdf43d-3f63-4a5b-9e69-344a8bd98f97",
   "metadata": {},
   "source": [
    "### compute the same but over the validation period ### \n",
    "\n",
    "For tasmax and tasmin, we have 1979 - 2020. For precip, we are missing 1983 and 2016 is buggy. Also precip is in m, needs to be converted. \n",
    "\n",
    "So for tasmax and tasmin, use 1979-1994. For precip, 1984 - 1994. Add split sample period later maybe. "
   ]
  },
  {
   "cell_type": "code",
   "execution_count": null,
   "id": "bd7e783b-8d9e-4e01-8eed-2b0e97bce13e",
   "metadata": {},
   "outputs": [],
   "source": [
    "ref1 = load_zarr(get_diagnostics_filepath('city', 'reanalysis', institutions, ensemble_members, 'precip', 'BCC-CSM2-MR', 'historical', validation_period=True)).sel(city='Miami')\n",
    "ref1['pr'] = ref1['pr'] * 1000 # conversion to mm \n",
    "ref1['pr'].attrs['units'] = 'mm day-1'\n",
    "start_year = '1984'\n",
    "end_year = '1994'"
   ]
  },
  {
   "cell_type": "code",
   "execution_count": null,
   "id": "f8d46af9-34db-4a74-9504-000524917143",
   "metadata": {},
   "outputs": [],
   "source": [
    "ref2 = load_zarr(get_diagnostics_filepath('city', 'reanalysis', institutions, ensemble_members, 'precip', 'BCC-CSM2-MR', 'historical')).sel(city='Miami')"
   ]
  },
  {
   "cell_type": "code",
   "execution_count": null,
   "id": "59d29cd4-fd98-47c8-a791-e2eb7a2b72d2",
   "metadata": {},
   "outputs": [],
   "source": []
  },
  {
   "cell_type": "code",
   "execution_count": null,
   "id": "bf831541-8dd1-4f4d-a486-3ec716a21a86",
   "metadata": {},
   "outputs": [],
   "source": [
    "u = compute_etccdi(ref1['pr'].sel(time=slice(start_year, end_year)), 'wet_days')\n",
    "# ref['pr'].sel(time=slice(start_year, end_year))\n",
    "# ref['pr']"
   ]
  },
  {
   "cell_type": "code",
   "execution_count": null,
   "id": "bf1d5a6b-82e6-42d5-9372-4ae4c02497cd",
   "metadata": {},
   "outputs": [],
   "source": [
    "u"
   ]
  },
  {
   "cell_type": "code",
   "execution_count": 91,
   "id": "aeab2084-9777-4b97-9692-52b9cd0b600d",
   "metadata": {},
   "outputs": [
    {
     "name": "stdout",
     "output_type": "stream",
     "text": [
      "BCC-CSM2-MR\n",
      "FGOALS-g3\n",
      "ACCESS-ESM1-5\n",
      "ACCESS-CM2\n",
      "INM-CM4-8\n",
      "INM-CM5-0\n",
      "MIROC-ES2L\n",
      "MIROC6\n",
      "NorESM2-LM\n",
      "NorESM2-MM\n",
      "GFDL-ESM4\n",
      "GFDL-CM4\n",
      "NESM3\n",
      "MPI-ESM1-2-HR\n",
      "HadGEM3-GC31-LL\n",
      "UKESM1-0-LL\n",
      "MPI-ESM1-2-LR\n",
      "CMCC-CM2-SR5\n",
      "CMCC-ESM2\n",
      "CanESM5\n",
      "EC-Earth3\n",
      "EC-Earth3-AerChem\n",
      "EC-Earth3-CC\n",
      "EC-Earth3-Veg\n",
      "EC-Earth3-Veg-LR\n"
     ]
    }
   ],
   "source": [
    "city = 'Miami'\n",
    "\n",
    "gcms_ks_valid = {}\n",
    "downscaled_ks_valid = {}\n",
    "\n",
    "start_year = '1979'\n",
    "end_year = '1994'\n",
    "\n",
    "# etccdis = ['summer_days', 'tropical_nights', 'wet_days', 'wet_days_thresh']\n",
    "etccdis = ['summer_days', 'tropical_nights', 'wet_days', 'wet_days_thresh', 'annual_precip', 'seasonal_precip', 'seasonal_tasmax', 'seasonal_tasmin', 'days_over_95', 'frost_days', 'consecutive_dry_days', 'days_over_90']\n",
    "\n",
    "# models = ['MPI-ESM1-2-HR', 'GFDL-CM4']\n",
    "\n",
    "diag_type = 'city'\n",
    "data_type = 'downscaled'\n",
    "# model = 'GFDL-ESM4'\n",
    "\n",
    "for model in models_dict.keys():\n",
    "    # for model in models:\n",
    "    print(model)\n",
    "    gcm_tests = 0\n",
    "    ds_tests = 0\n",
    "\n",
    "    for etccdi in etccdis:\n",
    "\n",
    "        if (etccdi == 'summer_days') or (etccdi == 'seasonal_tasmax') or (etccdi == 'days_over_95') or (etccdi == 'days_over_90'):\n",
    "            variable = 'tasmax'\n",
    "            var_name = 'tasmax'\n",
    "            start_year = '1979'\n",
    "            end_year = '1994'\n",
    "        elif (etccdi == 'tropical_nights') or (etccdi == 'frost_days') or (etccdi == 'seasonal_tasmin'):\n",
    "            variable = 'tasmin'\n",
    "            var_name = 'tasmin'\n",
    "            start_year = '1979'\n",
    "            end_year = '1994'\n",
    "        else: \n",
    "            variable = 'precip'\n",
    "            var_name = 'pr'\n",
    "            start_year = '1984'\n",
    "            end_year = '1994'\n",
    "\n",
    "        ref = load_zarr(get_diagnostics_filepath(diag_type, 'reanalysis', institutions, ensemble_members, variable, model, 'historical', validation_period=True)).sel(city=city)\n",
    "        # needs units for xclim \n",
    "        if variable == 'tasmax' or variable == 'tasmin':\n",
    "            ref[var_name].attrs['units'] = 'K'\n",
    "        else:\n",
    "            ref[var_name] = ref[var_name] * 1000 # conversion to mm /day \n",
    "            ref[var_name].attrs['units'] = 'mm day-1'\n",
    "        # print(get_diagnostics_filepath(diag_type, 'clean', institutions, ensemble_members, variable, model, 'historical'))\n",
    "        gcm = load_zarr(get_diagnostics_filepath(diag_type, 'clean', institutions, ensemble_members, variable, model, 'historical')).sel(city=city)\n",
    "        # print(get_diagnostics_filepath(diag_type, 'downscaled', institutions, ensemble_members, variable, model, 'historical'))\n",
    "        downscaled = load_zarr(get_diagnostics_filepath(diag_type, 'downscaled', ds_institutions, ensemble_members, variable, model, 'historical')).sel(city=city)\n",
    "\n",
    "        ks_test_gcm = kstest(compute_etccdi(ref[var_name].sel(time=slice(start_year, end_year)), etccdi), \n",
    "                            compute_etccdi(gcm[var_name].sel(time=slice(start_year, end_year)), etccdi))\n",
    "\n",
    "        ks_test_downscaled = kstest(compute_etccdi(ref[var_name].sel(time=slice(start_year, end_year)), etccdi), \n",
    "                            compute_etccdi(downscaled[var_name].sel(time=slice(start_year, end_year)), etccdi))\n",
    "        \n",
    "        if ks_test_gcm[1] < 0.05:\n",
    "            gcm_tests += 1\n",
    "            gcms_indices_validation[(model, etccdi)] = 1.0\n",
    "        else: \n",
    "            gcms_indices_validation[(model, etccdi)] = 0.0\n",
    "        if ks_test_downscaled[1] < 0.05:\n",
    "            ds_tests += 1\n",
    "            downscaled_indices_validation[(model, etccdi)] = 1.0\n",
    "        else: \n",
    "            downscaled_indices_validation[(model, etccdi)] = 0.0\n",
    "    \n",
    "    gcms_ks_valid[model] = gcm_tests\n",
    "    downscaled_ks_valid[model] = ds_tests"
   ]
  },
  {
   "cell_type": "code",
   "execution_count": 19,
   "id": "b56ac489-19ca-45f5-be18-dba6e45ec15a",
   "metadata": {},
   "outputs": [
    {
     "data": {
      "image/png": "[encoded data removed]",
      "text/plain": [
       "<Figure size 864x288 with 1 Axes>"
      ]
     },
     "metadata": {
      "needs_background": "light"
     },
     "output_type": "display_data"
    }
   ],
   "source": [
    "fig, axes = plt.subplots(1, 1, figsize=(12, 4))\n",
    "\n",
    "axes.bar(*zip(*downscaled_ks_calib.items()), width=0.8, linewidth=0.4, align='center', label='downscaled GCMs')\n",
    "axes.bar(*zip(*gcms_ks_calib.items()), width=0.4, linewidth=0.4, align='center', label='raw GCMs')\n",
    "plt.xticks(rotation=80)\n",
    "axes.legend(loc='upper center', bbox_to_anchor=(0.5, 1.15),\n",
    "          ncol=2, fancybox=True, shadow=True)\n",
    "axes.set_ylabel('Number of ETCCDI Tests Passed')\n",
    "axes.set_ylim([0, 12])\n",
    "\n",
    "plt.savefig(os.path.join(plot_dir, 'miami_etccdi_indices_calibration_MORE.png'), \n",
    "            bbox_inches='tight', dpi=200)"
   ]
  },
  {
   "cell_type": "code",
   "execution_count": 17,
   "id": "e3dbe5c5-724d-4dd7-b720-c25fa0bfdcdb",
   "metadata": {},
   "outputs": [
    {
     "data": {
      "image/png": "[encoded data removed]",
      "text/plain": [
       "<Figure size 864x288 with 1 Axes>"
      ]
     },
     "metadata": {
      "needs_background": "light"
     },
     "output_type": "display_data"
    }
   ],
   "source": [
    "fig, axes = plt.subplots(1, 1, figsize=(12, 4))\n",
    "\n",
    "axes.bar(*zip(*downscaled_ks_valid.items()), width=0.8, linewidth=0.4, align='center', label='downscaled GCMs')\n",
    "axes.bar(*zip(*gcms_ks_valid.items()), width=0.4, linewidth=0.4, align='center', label='raw GCMs')\n",
    "plt.xticks(rotation=80)\n",
    "axes.legend(loc='upper center', bbox_to_anchor=(0.5, 1.15),\n",
    "          ncol=2, fancybox=True, shadow=True)\n",
    "axes.set_ylabel('Number of Tests Passed')\n",
    "axes.set_ylim([0, 12])\n",
    "\n",
    "plt.savefig(os.path.join(plot_dir, 'miami_etccdi_indices_validation_MORE.png'), \n",
    "            bbox_inches='tight', dpi=200)"
   ]
  },
  {
   "cell_type": "code",
   "execution_count": 38,
   "id": "966f3c3e-5c30-4556-a35f-fb4ae2691209",
   "metadata": {},
   "outputs": [
    {
     "data": {
      "image/png": "[encoded data removed]",
      "text/plain": [
       "<Figure size 864x576 with 2 Axes>"
      ]
     },
     "metadata": {
      "needs_background": "light"
     },
     "output_type": "display_data"
    }
   ],
   "source": [
    "fig, axes = plt.subplots(2, 1, figsize=(12, 8))\n",
    "\n",
    "axes[0].bar(*zip(*downscaled_ks_calib.items()), width=0.8, linewidth=0.4, align='center', label='downscaled GCMs')\n",
    "axes[0].bar(*zip(*gcms_ks_calib.items()), width=0.4, linewidth=0.4, align='center', label='raw GCMs')\n",
    "\n",
    "axes[1].bar(*zip(*downscaled_ks_valid.items()), width=0.8, linewidth=0.4, align='center', label='downscaled GCMs')\n",
    "axes[1].bar(*zip(*gcms_ks_valid.items()), width=0.4, linewidth=0.4, align='center', label='raw GCMs')\n",
    "\n",
    "plt.setp( axes[0].get_xticklabels(), visible=False)\n",
    "axes[1].set_xticklabels(downscaled_ks_valid.keys(), rotation=80)\n",
    "\n",
    "axes[0].legend(loc='upper center', bbox_to_anchor=(0.5, 1.25),\n",
    "          ncol=2, fancybox=True, shadow=True)\n",
    "axes[0].set_title('Calibration Period')\n",
    "axes[1].set_title('Validation Period')\n",
    "axes[0].set_ylabel('Number of Tests Passed')\n",
    "axes[1].set_ylabel('Number of Tests Passed')\n",
    "axes[1].set_ylim([0, 13])\n",
    "axes[0].set_ylim([0, 13])\n",
    "\n",
    "plt.savefig(os.path.join(plot_dir, 'miami_etccdi_indices_calib_and_valid.png'), \n",
    "            bbox_inches='tight', dpi=200)"
   ]
  },
  {
   "cell_type": "markdown",
   "id": "b1036fb1-769b-434a-9d4d-42beb5a4a30e",
   "metadata": {},
   "source": [
    "which test doesn't pass for any model? hypothesis is consecutive dry days "
   ]
  },
  {
   "cell_type": "code",
   "execution_count": 66,
   "id": "e6851449-e4a7-42c5-8194-cf1b38ac8f01",
   "metadata": {},
   "outputs": [
    {
     "name": "stdout",
     "output_type": "stream",
     "text": [
      "GFDL-CM4\n"
     ]
    }
   ],
   "source": [
    "city = 'Miami'\n",
    "\n",
    "gcms_ks_calib = {}\n",
    "downscaled_ks_calib = {}\n",
    "\n",
    "etccdis = ['frost_days']\n",
    "'''etccdis = ['summer_days', 'tropical_nights', 'wet_days', 'wet_days_thresh', 'annual_precip', 'seasonal_precip', 'seasonal_tasmax', 'seasonal_tasmin', 'days_over_95', 'frost_days', 'consecutive_dry_days', 'days_over_90']'''\n",
    "\n",
    "models = ['GFDL-CM4']\n",
    "\n",
    "diag_type = 'city'\n",
    "data_type = 'downscaled'\n",
    "# model = 'GFDL-ESM4'\n",
    "\n",
    "# for model in models_dict.keys():\n",
    "for model in models:\n",
    "    print(model)\n",
    "    gcm_tests = 0\n",
    "    ds_tests = 0\n",
    "\n",
    "    for etccdi in etccdis:\n",
    "\n",
    "        if (etccdi == 'summer_days') or (etccdi == 'seasonal_tasmax') or (etccdi == 'days_over_95') or (etccdi == 'days_over_90'):\n",
    "            variable = 'tasmax'\n",
    "            var_name = 'tasmax'\n",
    "        elif (etccdi == 'tropical_nights') or (etccdi == 'frost_days') or (etccdi == 'seasonal_tasmin'):\n",
    "            variable = 'tasmin'\n",
    "            var_name = 'tasmin'\n",
    "        else: \n",
    "            variable = 'precip'\n",
    "            var_name = 'pr'\n",
    "\n",
    "        ref = load_zarr(get_diagnostics_filepath(diag_type, 'reanalysis', institutions, ensemble_members, variable, model, 'historical', validation_period=False)).sel(city=city)\n",
    "        # print(get_diagnostics_filepath(diag_type, 'clean', institutions, ensemble_members, variable, model, 'historical'))\n",
    "        gcm = load_zarr(get_diagnostics_filepath(diag_type, 'clean', institutions, ensemble_members, variable, model, 'historical')).sel(city=city)\n",
    "        # print(get_diagnostics_filepath(diag_type, 'downscaled', institutions, ensemble_members, variable, model, 'historical'))\n",
    "        downscaled = load_zarr(get_diagnostics_filepath(diag_type, 'downscaled', ds_institutions, ensemble_members, variable, model, 'historical')).sel(city=city)\n",
    "\n",
    "        ks_test_gcm = kstest(compute_etccdi(ref[var_name].sel(time=slice('1995', '2014')), etccdi), \n",
    "                            compute_etccdi(gcm[var_name].sel(time=slice('1995', '2014')), etccdi))\n",
    "\n",
    "        ks_test_downscaled = kstest(compute_etccdi(ref[var_name].sel(time=slice('1995', '2014')), etccdi), \n",
    "                            compute_etccdi(downscaled[var_name].sel(time=slice('1995', '2014')), etccdi))\n",
    "        if ks_test_gcm[1] < 0.05:\n",
    "            gcm_tests += 1\n",
    "        if ks_test_downscaled[1] < 0.05:\n",
    "            ds_tests += 1\n",
    "    gcms_ks_calib[model] = gcm_tests\n",
    "    downscaled_ks_calib[model] = ds_tests"
   ]
  },
  {
   "cell_type": "code",
   "execution_count": 67,
   "id": "d46b5e1c-d93a-4433-b1e5-8bc6db9a0511",
   "metadata": {},
   "outputs": [
    {
     "data": {
      "text/plain": [
       "KstestResult(statistic=0.2, pvalue=0.8319696107963263)"
      ]
     },
     "execution_count": 67,
     "metadata": {},
     "output_type": "execute_result"
    }
   ],
   "source": [
    "ks_test_gcm"
   ]
  },
  {
   "cell_type": "code",
   "execution_count": 68,
   "id": "d1723009-778f-48fc-ab34-27dd330834d9",
   "metadata": {},
   "outputs": [
    {
     "data": {
      "text/plain": [
       "KstestResult(statistic=0.15, pvalue=0.9831368772656193)"
      ]
     },
     "execution_count": 68,
     "metadata": {},
     "output_type": "execute_result"
    }
   ],
   "source": [
    "ks_test_downscaled"
   ]
  },
  {
   "cell_type": "code",
   "execution_count": 73,
   "id": "ad2832d5-f6f6-45d6-a60d-e4937d5b6b0f",
   "metadata": {},
   "outputs": [
    {
     "data": {
      "text/plain": [
       "array([1., 3., 0., 0., 2., 0., 2., 0., 0., 2., 1., 0., 0., 0., 0., 0., 0.,\n",
       "       0., 0., 0.])"
      ]
     },
     "execution_count": 73,
     "metadata": {},
     "output_type": "execute_result"
    }
   ],
   "source": [
    "compute_etccdi(gcm[var_name].sel(time=slice('1995', '2014')), 'frost_days').values"
   ]
  },
  {
   "cell_type": "markdown",
   "id": "7df03d27-208b-452f-9aff-dbf214232f60",
   "metadata": {},
   "source": [
    "### it's frost days that never passes ### "
   ]
  },
  {
   "cell_type": "markdown",
   "id": "aebda3b6-c3f8-4c85-98e2-1d03b6d8204c",
   "metadata": {},
   "source": [
    "### make heatmap with passing/failing tests ### "
   ]
  },
  {
   "cell_type": "code",
   "execution_count": 90,
   "id": "2588c53d-3cd6-42f1-a872-16e7fa6d71c1",
   "metadata": {},
   "outputs": [],
   "source": [
    "# gcms_indices_calibration"
   ]
  },
  {
   "cell_type": "code",
   "execution_count": 92,
   "id": "7206e5a5-1285-487d-806e-f57b2146258e",
   "metadata": {},
   "outputs": [],
   "source": [
    "import pandas as pd\n",
    "import seaborn as sns\n",
    "ser_gcms_calibration = pd.Series(list(gcms_indices_calibration.values()),\n",
    "                  index=pd.MultiIndex.from_tuples(gcms_indices_calibration.keys()))\n",
    "ser_gcms_validation = pd.Series(list(gcms_indices_validation.values()),\n",
    "                  index=pd.MultiIndex.from_tuples(gcms_indices_validation.keys()))\n",
    "ser_ds_calibration = pd.Series(list(downscaled_indices_calibration.values()),\n",
    "                  index=pd.MultiIndex.from_tuples(downscaled_indices_calibration.keys()))\n",
    "df_gcms_calibration = ser_gcms_calibration.unstack()\n",
    "df_gcms_validation = ser_gcms_validation.unstack()\n",
    "df_downscaled_calibration = ser_ds_calibration.unstack()"
   ]
  },
  {
   "cell_type": "code",
   "execution_count": 93,
   "id": "a046387d-adc7-447a-a5b8-1a53e6523ea5",
   "metadata": {},
   "outputs": [
    {
     "data": {
      "text/plain": [
       "<AxesSubplot:>"
      ]
     },
     "execution_count": 93,
     "metadata": {},
     "output_type": "execute_result"
    },
    {
     "data": {
      "image/png": "[encoded data removed]",
      "text/plain": [
       "<Figure size 1008x288 with 4 Axes>"
      ]
     },
     "metadata": {
      "needs_background": "light"
     },
     "output_type": "display_data"
    }
   ],
   "source": [
    "fig, axes = plt.subplots(1, 2, figsize=(14, 4))\n",
    "cmap = 'Reds'\n",
    "sns.heatmap(df_gcms_calibration.T, ax=axes[0], cmap=cmap)\n",
    "sns.heatmap(df_gcms_validation.T, ax=axes[1], cmap=cmap)"
   ]
  },
  {
   "cell_type": "code",
   "execution_count": 86,
   "id": "ca93d9fa-670f-488e-b0df-8bd8a6894f00",
   "metadata": {},
   "outputs": [
    {
     "data": {
      "text/html": [
       "<div>\n",
       "<style scoped>\n",
       "    .dataframe tbody tr th:only-of-type {\n",
       "        vertical-align: middle;\n",
       "    }\n",
       "\n",
       "    .dataframe tbody tr th {\n",
       "        vertical-align: top;\n",
       "    }\n",
       "\n",
       "    .dataframe thead th {\n",
       "        text-align: right;\n",
       "    }\n",
       "</style>\n",
       "<table border=\"1\" class=\"dataframe\">\n",
       "  <thead>\n",
       "    <tr style=\"text-align: right;\">\n",
       "      <th></th>\n",
       "      <th>annual_precip</th>\n",
       "      <th>consecutive_dry_days</th>\n",
       "      <th>days_over_90</th>\n",
       "      <th>days_over_95</th>\n",
       "      <th>frost_days</th>\n",
       "      <th>seasonal_precip</th>\n",
       "      <th>seasonal_tasmax</th>\n",
       "      <th>seasonal_tasmin</th>\n",
       "      <th>summer_days</th>\n",
       "      <th>tropical_nights</th>\n",
       "      <th>wet_days</th>\n",
       "      <th>wet_days_thresh</th>\n",
       "    </tr>\n",
       "  </thead>\n",
       "  <tbody>\n",
       "    <tr>\n",
       "      <th>ACCESS-CM2</th>\n",
       "      <td>1.0</td>\n",
       "      <td>1.0</td>\n",
       "      <td>1.0</td>\n",
       "      <td>1.0</td>\n",
       "      <td>0.0</td>\n",
       "      <td>1.0</td>\n",
       "      <td>1.0</td>\n",
       "      <td>0.0</td>\n",
       "      <td>0.0</td>\n",
       "      <td>0.0</td>\n",
       "      <td>1.0</td>\n",
       "      <td>1.0</td>\n",
       "    </tr>\n",
       "    <tr>\n",
       "      <th>ACCESS-ESM1-5</th>\n",
       "      <td>1.0</td>\n",
       "      <td>1.0</td>\n",
       "      <td>1.0</td>\n",
       "      <td>1.0</td>\n",
       "      <td>0.0</td>\n",
       "      <td>1.0</td>\n",
       "      <td>1.0</td>\n",
       "      <td>1.0</td>\n",
       "      <td>1.0</td>\n",
       "      <td>1.0</td>\n",
       "      <td>1.0</td>\n",
       "      <td>0.0</td>\n",
       "    </tr>\n",
       "    <tr>\n",
       "      <th>BCC-CSM2-MR</th>\n",
       "      <td>1.0</td>\n",
       "      <td>1.0</td>\n",
       "      <td>0.0</td>\n",
       "      <td>0.0</td>\n",
       "      <td>0.0</td>\n",
       "      <td>0.0</td>\n",
       "      <td>0.0</td>\n",
       "      <td>0.0</td>\n",
       "      <td>1.0</td>\n",
       "      <td>0.0</td>\n",
       "      <td>0.0</td>\n",
       "      <td>0.0</td>\n",
       "    </tr>\n",
       "    <tr>\n",
       "      <th>CMCC-CM2-SR5</th>\n",
       "      <td>0.0</td>\n",
       "      <td>1.0</td>\n",
       "      <td>1.0</td>\n",
       "      <td>1.0</td>\n",
       "      <td>0.0</td>\n",
       "      <td>1.0</td>\n",
       "      <td>1.0</td>\n",
       "      <td>1.0</td>\n",
       "      <td>1.0</td>\n",
       "      <td>1.0</td>\n",
       "      <td>0.0</td>\n",
       "      <td>0.0</td>\n",
       "    </tr>\n",
       "    <tr>\n",
       "      <th>CMCC-ESM2</th>\n",
       "      <td>0.0</td>\n",
       "      <td>0.0</td>\n",
       "      <td>0.0</td>\n",
       "      <td>0.0</td>\n",
       "      <td>0.0</td>\n",
       "      <td>1.0</td>\n",
       "      <td>0.0</td>\n",
       "      <td>0.0</td>\n",
       "      <td>0.0</td>\n",
       "      <td>0.0</td>\n",
       "      <td>0.0</td>\n",
       "      <td>0.0</td>\n",
       "    </tr>\n",
       "    <tr>\n",
       "      <th>CanESM5</th>\n",
       "      <td>1.0</td>\n",
       "      <td>1.0</td>\n",
       "      <td>0.0</td>\n",
       "      <td>1.0</td>\n",
       "      <td>0.0</td>\n",
       "      <td>1.0</td>\n",
       "      <td>1.0</td>\n",
       "      <td>1.0</td>\n",
       "      <td>1.0</td>\n",
       "      <td>1.0</td>\n",
       "      <td>1.0</td>\n",
       "      <td>0.0</td>\n",
       "    </tr>\n",
       "    <tr>\n",
       "      <th>EC-Earth3</th>\n",
       "      <td>1.0</td>\n",
       "      <td>1.0</td>\n",
       "      <td>0.0</td>\n",
       "      <td>1.0</td>\n",
       "      <td>1.0</td>\n",
       "      <td>1.0</td>\n",
       "      <td>0.0</td>\n",
       "      <td>1.0</td>\n",
       "      <td>1.0</td>\n",
       "      <td>1.0</td>\n",
       "      <td>1.0</td>\n",
       "      <td>0.0</td>\n",
       "    </tr>\n",
       "    <tr>\n",
       "      <th>EC-Earth3-AerChem</th>\n",
       "      <td>1.0</td>\n",
       "      <td>0.0</td>\n",
       "      <td>1.0</td>\n",
       "      <td>1.0</td>\n",
       "      <td>1.0</td>\n",
       "      <td>1.0</td>\n",
       "      <td>1.0</td>\n",
       "      <td>1.0</td>\n",
       "      <td>0.0</td>\n",
       "      <td>1.0</td>\n",
       "      <td>1.0</td>\n",
       "      <td>0.0</td>\n",
       "    </tr>\n",
       "    <tr>\n",
       "      <th>EC-Earth3-CC</th>\n",
       "      <td>1.0</td>\n",
       "      <td>1.0</td>\n",
       "      <td>0.0</td>\n",
       "      <td>0.0</td>\n",
       "      <td>1.0</td>\n",
       "      <td>1.0</td>\n",
       "      <td>0.0</td>\n",
       "      <td>1.0</td>\n",
       "      <td>0.0</td>\n",
       "      <td>1.0</td>\n",
       "      <td>1.0</td>\n",
       "      <td>0.0</td>\n",
       "    </tr>\n",
       "    <tr>\n",
       "      <th>EC-Earth3-Veg</th>\n",
       "      <td>1.0</td>\n",
       "      <td>1.0</td>\n",
       "      <td>0.0</td>\n",
       "      <td>0.0</td>\n",
       "      <td>1.0</td>\n",
       "      <td>1.0</td>\n",
       "      <td>0.0</td>\n",
       "      <td>1.0</td>\n",
       "      <td>0.0</td>\n",
       "      <td>1.0</td>\n",
       "      <td>1.0</td>\n",
       "      <td>0.0</td>\n",
       "    </tr>\n",
       "    <tr>\n",
       "      <th>EC-Earth3-Veg-LR</th>\n",
       "      <td>1.0</td>\n",
       "      <td>0.0</td>\n",
       "      <td>1.0</td>\n",
       "      <td>1.0</td>\n",
       "      <td>1.0</td>\n",
       "      <td>1.0</td>\n",
       "      <td>1.0</td>\n",
       "      <td>1.0</td>\n",
       "      <td>1.0</td>\n",
       "      <td>1.0</td>\n",
       "      <td>0.0</td>\n",
       "      <td>0.0</td>\n",
       "    </tr>\n",
       "    <tr>\n",
       "      <th>FGOALS-g3</th>\n",
       "      <td>1.0</td>\n",
       "      <td>1.0</td>\n",
       "      <td>1.0</td>\n",
       "      <td>1.0</td>\n",
       "      <td>0.0</td>\n",
       "      <td>1.0</td>\n",
       "      <td>1.0</td>\n",
       "      <td>1.0</td>\n",
       "      <td>0.0</td>\n",
       "      <td>1.0</td>\n",
       "      <td>1.0</td>\n",
       "      <td>0.0</td>\n",
       "    </tr>\n",
       "    <tr>\n",
       "      <th>GFDL-CM4</th>\n",
       "      <td>0.0</td>\n",
       "      <td>0.0</td>\n",
       "      <td>1.0</td>\n",
       "      <td>1.0</td>\n",
       "      <td>0.0</td>\n",
       "      <td>1.0</td>\n",
       "      <td>1.0</td>\n",
       "      <td>0.0</td>\n",
       "      <td>1.0</td>\n",
       "      <td>1.0</td>\n",
       "      <td>0.0</td>\n",
       "      <td>0.0</td>\n",
       "    </tr>\n",
       "    <tr>\n",
       "      <th>GFDL-ESM4</th>\n",
       "      <td>0.0</td>\n",
       "      <td>0.0</td>\n",
       "      <td>1.0</td>\n",
       "      <td>1.0</td>\n",
       "      <td>0.0</td>\n",
       "      <td>0.0</td>\n",
       "      <td>1.0</td>\n",
       "      <td>1.0</td>\n",
       "      <td>0.0</td>\n",
       "      <td>0.0</td>\n",
       "      <td>0.0</td>\n",
       "      <td>0.0</td>\n",
       "    </tr>\n",
       "    <tr>\n",
       "      <th>HadGEM3-GC31-LL</th>\n",
       "      <td>1.0</td>\n",
       "      <td>1.0</td>\n",
       "      <td>0.0</td>\n",
       "      <td>0.0</td>\n",
       "      <td>0.0</td>\n",
       "      <td>1.0</td>\n",
       "      <td>0.0</td>\n",
       "      <td>1.0</td>\n",
       "      <td>1.0</td>\n",
       "      <td>1.0</td>\n",
       "      <td>1.0</td>\n",
       "      <td>0.0</td>\n",
       "    </tr>\n",
       "    <tr>\n",
       "      <th>INM-CM4-8</th>\n",
       "      <td>1.0</td>\n",
       "      <td>1.0</td>\n",
       "      <td>1.0</td>\n",
       "      <td>1.0</td>\n",
       "      <td>1.0</td>\n",
       "      <td>1.0</td>\n",
       "      <td>1.0</td>\n",
       "      <td>1.0</td>\n",
       "      <td>1.0</td>\n",
       "      <td>1.0</td>\n",
       "      <td>1.0</td>\n",
       "      <td>0.0</td>\n",
       "    </tr>\n",
       "    <tr>\n",
       "      <th>INM-CM5-0</th>\n",
       "      <td>1.0</td>\n",
       "      <td>1.0</td>\n",
       "      <td>0.0</td>\n",
       "      <td>1.0</td>\n",
       "      <td>1.0</td>\n",
       "      <td>1.0</td>\n",
       "      <td>0.0</td>\n",
       "      <td>1.0</td>\n",
       "      <td>0.0</td>\n",
       "      <td>1.0</td>\n",
       "      <td>1.0</td>\n",
       "      <td>0.0</td>\n",
       "    </tr>\n",
       "    <tr>\n",
       "      <th>MIROC-ES2L</th>\n",
       "      <td>1.0</td>\n",
       "      <td>1.0</td>\n",
       "      <td>1.0</td>\n",
       "      <td>1.0</td>\n",
       "      <td>0.0</td>\n",
       "      <td>1.0</td>\n",
       "      <td>1.0</td>\n",
       "      <td>1.0</td>\n",
       "      <td>1.0</td>\n",
       "      <td>1.0</td>\n",
       "      <td>1.0</td>\n",
       "      <td>0.0</td>\n",
       "    </tr>\n",
       "    <tr>\n",
       "      <th>MIROC6</th>\n",
       "      <td>1.0</td>\n",
       "      <td>1.0</td>\n",
       "      <td>1.0</td>\n",
       "      <td>1.0</td>\n",
       "      <td>0.0</td>\n",
       "      <td>1.0</td>\n",
       "      <td>1.0</td>\n",
       "      <td>1.0</td>\n",
       "      <td>1.0</td>\n",
       "      <td>1.0</td>\n",
       "      <td>1.0</td>\n",
       "      <td>0.0</td>\n",
       "    </tr>\n",
       "    <tr>\n",
       "      <th>MPI-ESM1-2-HR</th>\n",
       "      <td>1.0</td>\n",
       "      <td>1.0</td>\n",
       "      <td>1.0</td>\n",
       "      <td>1.0</td>\n",
       "      <td>0.0</td>\n",
       "      <td>1.0</td>\n",
       "      <td>1.0</td>\n",
       "      <td>1.0</td>\n",
       "      <td>1.0</td>\n",
       "      <td>1.0</td>\n",
       "      <td>1.0</td>\n",
       "      <td>0.0</td>\n",
       "    </tr>\n",
       "    <tr>\n",
       "      <th>MPI-ESM1-2-LR</th>\n",
       "      <td>1.0</td>\n",
       "      <td>1.0</td>\n",
       "      <td>1.0</td>\n",
       "      <td>0.0</td>\n",
       "      <td>0.0</td>\n",
       "      <td>1.0</td>\n",
       "      <td>1.0</td>\n",
       "      <td>1.0</td>\n",
       "      <td>1.0</td>\n",
       "      <td>1.0</td>\n",
       "      <td>1.0</td>\n",
       "      <td>0.0</td>\n",
       "    </tr>\n",
       "    <tr>\n",
       "      <th>NESM3</th>\n",
       "      <td>1.0</td>\n",
       "      <td>0.0</td>\n",
       "      <td>1.0</td>\n",
       "      <td>1.0</td>\n",
       "      <td>0.0</td>\n",
       "      <td>1.0</td>\n",
       "      <td>1.0</td>\n",
       "      <td>1.0</td>\n",
       "      <td>1.0</td>\n",
       "      <td>1.0</td>\n",
       "      <td>0.0</td>\n",
       "      <td>0.0</td>\n",
       "    </tr>\n",
       "    <tr>\n",
       "      <th>NorESM2-LM</th>\n",
       "      <td>1.0</td>\n",
       "      <td>1.0</td>\n",
       "      <td>1.0</td>\n",
       "      <td>0.0</td>\n",
       "      <td>0.0</td>\n",
       "      <td>1.0</td>\n",
       "      <td>1.0</td>\n",
       "      <td>0.0</td>\n",
       "      <td>1.0</td>\n",
       "      <td>0.0</td>\n",
       "      <td>1.0</td>\n",
       "      <td>0.0</td>\n",
       "    </tr>\n",
       "    <tr>\n",
       "      <th>NorESM2-MM</th>\n",
       "      <td>1.0</td>\n",
       "      <td>1.0</td>\n",
       "      <td>1.0</td>\n",
       "      <td>1.0</td>\n",
       "      <td>0.0</td>\n",
       "      <td>1.0</td>\n",
       "      <td>1.0</td>\n",
       "      <td>0.0</td>\n",
       "      <td>1.0</td>\n",
       "      <td>0.0</td>\n",
       "      <td>1.0</td>\n",
       "      <td>1.0</td>\n",
       "    </tr>\n",
       "    <tr>\n",
       "      <th>UKESM1-0-LL</th>\n",
       "      <td>1.0</td>\n",
       "      <td>1.0</td>\n",
       "      <td>0.0</td>\n",
       "      <td>0.0</td>\n",
       "      <td>1.0</td>\n",
       "      <td>1.0</td>\n",
       "      <td>0.0</td>\n",
       "      <td>1.0</td>\n",
       "      <td>1.0</td>\n",
       "      <td>1.0</td>\n",
       "      <td>1.0</td>\n",
       "      <td>1.0</td>\n",
       "    </tr>\n",
       "  </tbody>\n",
       "</table>\n",
       "</div>"
      ],
      "text/plain": [
       "                   annual_precip  consecutive_dry_days  days_over_90  \\\n",
       "ACCESS-CM2                   1.0                   1.0           1.0   \n",
       "ACCESS-ESM1-5                1.0                   1.0           1.0   \n",
       "BCC-CSM2-MR                  1.0                   1.0           0.0   \n",
       "CMCC-CM2-SR5                 0.0                   1.0           1.0   \n",
       "CMCC-ESM2                    0.0                   0.0           0.0   \n",
       "CanESM5                      1.0                   1.0           0.0   \n",
       "EC-Earth3                    1.0                   1.0           0.0   \n",
       "EC-Earth3-AerChem            1.0                   0.0           1.0   \n",
       "EC-Earth3-CC                 1.0                   1.0           0.0   \n",
       "EC-Earth3-Veg                1.0                   1.0           0.0   \n",
       "EC-Earth3-Veg-LR             1.0                   0.0           1.0   \n",
       "FGOALS-g3                    1.0                   1.0           1.0   \n",
       "GFDL-CM4                     0.0                   0.0           1.0   \n",
       "GFDL-ESM4                    0.0                   0.0           1.0   \n",
       "HadGEM3-GC31-LL              1.0                   1.0           0.0   \n",
       "INM-CM4-8                    1.0                   1.0           1.0   \n",
       "INM-CM5-0                    1.0                   1.0           0.0   \n",
       "MIROC-ES2L                   1.0                   1.0           1.0   \n",
       "MIROC6                       1.0                   1.0           1.0   \n",
       "MPI-ESM1-2-HR                1.0                   1.0           1.0   \n",
       "MPI-ESM1-2-LR                1.0                   1.0           1.0   \n",
       "NESM3                        1.0                   0.0           1.0   \n",
       "NorESM2-LM                   1.0                   1.0           1.0   \n",
       "NorESM2-MM                   1.0                   1.0           1.0   \n",
       "UKESM1-0-LL                  1.0                   1.0           0.0   \n",
       "\n",
       "                   days_over_95  frost_days  seasonal_precip  seasonal_tasmax  \\\n",
       "ACCESS-CM2                  1.0         0.0              1.0              1.0   \n",
       "ACCESS-ESM1-5               1.0         0.0              1.0              1.0   \n",
       "BCC-CSM2-MR                 0.0         0.0              0.0              0.0   \n",
       "CMCC-CM2-SR5                1.0         0.0              1.0              1.0   \n",
       "CMCC-ESM2                   0.0         0.0              1.0              0.0   \n",
       "CanESM5                     1.0         0.0              1.0              1.0   \n",
       "EC-Earth3                   1.0         1.0              1.0              0.0   \n",
       "EC-Earth3-AerChem           1.0         1.0              1.0              1.0   \n",
       "EC-Earth3-CC                0.0         1.0              1.0              0.0   \n",
       "EC-Earth3-Veg               0.0         1.0              1.0              0.0   \n",
       "EC-Earth3-Veg-LR            1.0         1.0              1.0              1.0   \n",
       "FGOALS-g3                   1.0         0.0              1.0              1.0   \n",
       "GFDL-CM4                    1.0         0.0              1.0              1.0   \n",
       "GFDL-ESM4                   1.0         0.0              0.0              1.0   \n",
       "HadGEM3-GC31-LL             0.0         0.0              1.0              0.0   \n",
       "INM-CM4-8                   1.0         1.0              1.0              1.0   \n",
       "INM-CM5-0                   1.0         1.0              1.0              0.0   \n",
       "MIROC-ES2L                  1.0         0.0              1.0              1.0   \n",
       "MIROC6                      1.0         0.0              1.0              1.0   \n",
       "MPI-ESM1-2-HR               1.0         0.0              1.0              1.0   \n",
       "MPI-ESM1-2-LR               0.0         0.0              1.0              1.0   \n",
       "NESM3                       1.0         0.0              1.0              1.0   \n",
       "NorESM2-LM                  0.0         0.0              1.0              1.0   \n",
       "NorESM2-MM                  1.0         0.0              1.0              1.0   \n",
       "UKESM1-0-LL                 0.0         1.0              1.0              0.0   \n",
       "\n",
       "                   seasonal_tasmin  summer_days  tropical_nights  wet_days  \\\n",
       "ACCESS-CM2                     0.0          0.0              0.0       1.0   \n",
       "ACCESS-ESM1-5                  1.0          1.0              1.0       1.0   \n",
       "BCC-CSM2-MR                    0.0          1.0              0.0       0.0   \n",
       "CMCC-CM2-SR5                   1.0          1.0              1.0       0.0   \n",
       "CMCC-ESM2                      0.0          0.0              0.0       0.0   \n",
       "CanESM5                        1.0          1.0              1.0       1.0   \n",
       "EC-Earth3                      1.0          1.0              1.0       1.0   \n",
       "EC-Earth3-AerChem              1.0          0.0              1.0       1.0   \n",
       "EC-Earth3-CC                   1.0          0.0              1.0       1.0   \n",
       "EC-Earth3-Veg                  1.0          0.0              1.0       1.0   \n",
       "EC-Earth3-Veg-LR               1.0          1.0              1.0       0.0   \n",
       "FGOALS-g3                      1.0          0.0              1.0       1.0   \n",
       "GFDL-CM4                       0.0          1.0              1.0       0.0   \n",
       "GFDL-ESM4                      1.0          0.0              0.0       0.0   \n",
       "HadGEM3-GC31-LL                1.0          1.0              1.0       1.0   \n",
       "INM-CM4-8                      1.0          1.0              1.0       1.0   \n",
       "INM-CM5-0                      1.0          0.0              1.0       1.0   \n",
       "MIROC-ES2L                     1.0          1.0              1.0       1.0   \n",
       "MIROC6                         1.0          1.0              1.0       1.0   \n",
       "MPI-ESM1-2-HR                  1.0          1.0              1.0       1.0   \n",
       "MPI-ESM1-2-LR                  1.0          1.0              1.0       1.0   \n",
       "NESM3                          1.0          1.0              1.0       0.0   \n",
       "NorESM2-LM                     0.0          1.0              0.0       1.0   \n",
       "NorESM2-MM                     0.0          1.0              0.0       1.0   \n",
       "UKESM1-0-LL                    1.0          1.0              1.0       1.0   \n",
       "\n",
       "                   wet_days_thresh  \n",
       "ACCESS-CM2                     1.0  \n",
       "ACCESS-ESM1-5                  0.0  \n",
       "BCC-CSM2-MR                    0.0  \n",
       "CMCC-CM2-SR5                   0.0  \n",
       "CMCC-ESM2                      0.0  \n",
       "CanESM5                        0.0  \n",
       "EC-Earth3                      0.0  \n",
       "EC-Earth3-AerChem              0.0  \n",
       "EC-Earth3-CC                   0.0  \n",
       "EC-Earth3-Veg                  0.0  \n",
       "EC-Earth3-Veg-LR               0.0  \n",
       "FGOALS-g3                      0.0  \n",
       "GFDL-CM4                       0.0  \n",
       "GFDL-ESM4                      0.0  \n",
       "HadGEM3-GC31-LL                0.0  \n",
       "INM-CM4-8                      0.0  \n",
       "INM-CM5-0                      0.0  \n",
       "MIROC-ES2L                     0.0  \n",
       "MIROC6                         0.0  \n",
       "MPI-ESM1-2-HR                  0.0  \n",
       "MPI-ESM1-2-LR                  0.0  \n",
       "NESM3                          0.0  \n",
       "NorESM2-LM                     0.0  \n",
       "NorESM2-MM                     1.0  \n",
       "UKESM1-0-LL                    1.0  "
      ]
     },
     "execution_count": 86,
     "metadata": {},
     "output_type": "execute_result"
    }
   ],
   "source": [
    "df_gcms_calibration"
   ]
  },
  {
   "cell_type": "code",
   "execution_count": null,
   "id": "170fd8a1-e2d9-4e75-afa1-e098a92edb05",
   "metadata": {},
   "outputs": [],
   "source": []
  }
 ],
 "metadata": {
  "kernelspec": {
   "display_name": "Python 3",
   "language": "python",
   "name": "python3"
  },
  "language_info": {
   "codemirror_mode": {
    "name": "ipython",
    "version": 3
   },
   "file_extension": ".py",
   "mimetype": "text/x-python",
   "name": "python",
   "nbconvert_exporter": "python",
   "pygments_lexer": "ipython3",
   "version": "3.9.10"
  },
  "widgets": {
   "application/vnd.jupyter.widget-state+json": {
    "state": {},
    "version_major": 2,
    "version_minor": 0
   }
  }
 },
 "nbformat": 4,
 "nbformat_minor": 5
}
