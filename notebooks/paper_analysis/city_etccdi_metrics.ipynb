{
 "cells": [
  {
   "cell_type": "code",
   "execution_count": 1,
   "id": "33750287",
   "metadata": {},
   "outputs": [],
   "source": [
    "try:\n",
    "    import xclim\n",
    "except ModuleNotFoundError:\n",
    "    ! pip install xclim"
   ]
  },
  {
   "cell_type": "code",
   "execution_count": 2,
   "id": "04a2a452",
   "metadata": {},
   "outputs": [
    {
     "name": "stderr",
     "output_type": "stream",
     "text": [
      "/tmp/ipykernel_22056/4035997102.py:25: DeprecationWarning: rhg_compute_tools and the associated command-line application rctools are\n",
      "deprecated on catalyst clusters. use catalyst_compute_tools instead.\n",
      "See https://gitlab.com/crs-catalyst/infrastructure/catalyst_compute_tools/-/issues/1\n",
      "  import rhg_compute_tools.kubernetes as rhgk\n"
     ]
    }
   ],
   "source": [
    "%matplotlib inline \n",
    "import xarray as xr\n",
    "import numpy as np\n",
    "import matplotlib.pyplot as plt\n",
    "from cartopy import config\n",
    "import cartopy.crs as ccrs\n",
    "import cartopy.feature as cfeature\n",
    "import os \n",
    "import gcsfs \n",
    "from matplotlib import cm\n",
    "import warnings \n",
    "import seaborn as sns\n",
    "import yaml\n",
    "\n",
    "from xclim.indicators import cf \n",
    "from xclim.indicators import icclim, atmos, anuclim\n",
    "\n",
    "# from science_validation_manual import *\n",
    "from dc6_functions import * \n",
    "from scipy.stats import kstest\n",
    "\n",
    "import dask\n",
    "import dask.array as da\n",
    "import dask.distributed as dd\n",
    "import rhg_compute_tools.kubernetes as rhgk\n",
    "import pandas as pd \n",
    "\n",
    "import statsmodels.api as sm\n",
    "from statsmodels.graphics.gofplots import qqplot_2samples"
   ]
  },
  {
   "cell_type": "code",
   "execution_count": 3,
   "id": "e14f9ff3",
   "metadata": {},
   "outputs": [],
   "source": [
    "import warnings\n",
    "warnings.filterwarnings(\"ignore\")"
   ]
  },
  {
   "cell_type": "code",
   "execution_count": 4,
   "id": "ba54d1d3",
   "metadata": {},
   "outputs": [],
   "source": [
    "# plot_dir = '/gcs/impactlab-data/climate/downscaling/paper/'\n",
    "plot_dir = '/home/jovyan/paper_figures/'"
   ]
  },
  {
   "cell_type": "code",
   "execution_count": 5,
   "id": "f4316351",
   "metadata": {},
   "outputs": [],
   "source": [
    "models_dict = get_cmip6_models()\n",
    "ensemble_members = get_cmip6_ensemble_members()\n",
    "grids = get_cmip6_grids()\n",
    "institutions = get_cmip6_institutions()\n",
    "ds_institutions = get_cmip6_institutions()\n",
    "ds_institutions['MPI-ESM1-2-HR'] = 'MPI-M'"
   ]
  },
  {
   "cell_type": "code",
   "execution_count": 6,
   "id": "a809784e",
   "metadata": {},
   "outputs": [
    {
     "data": {
      "text/plain": [
       "{'BCC-CSM2-MR': 'BCC',\n",
       " 'FGOALS-g3': 'CAS',\n",
       " 'ACCESS-ESM1-5': 'CSIRO',\n",
       " 'ACCESS-CM2': 'CSIRO-ARCCSS',\n",
       " 'INM-CM4-8': 'INM',\n",
       " 'INM-CM5-0': 'INM',\n",
       " 'MIROC-ES2L': 'MIROC',\n",
       " 'MIROC6': 'MIROC',\n",
       " 'NorESM2-LM': 'NCC',\n",
       " 'NorESM2-MM': 'NCC',\n",
       " 'GFDL-ESM4': 'NOAA-GFDL',\n",
       " 'GFDL-CM4': 'NOAA-GFDL',\n",
       " 'NESM3': 'NUIST',\n",
       " 'MPI-ESM1-2-HR': 'DKRZ',\n",
       " 'HadGEM3-GC31-LL': 'MOHC',\n",
       " 'UKESM1-0-LL': 'MOHC',\n",
       " 'MPI-ESM1-2-LR': 'MPI-M',\n",
       " 'CMCC-CM2-SR5': 'CMCC',\n",
       " 'CMCC-ESM2': 'CMCC',\n",
       " 'CanESM5': 'CCCma',\n",
       " 'EC-Earth3': 'EC-Earth-Consortium',\n",
       " 'EC-Earth3-AerChem': 'EC-Earth-Consortium',\n",
       " 'EC-Earth3-CC': 'EC-Earth-Consortium',\n",
       " 'EC-Earth3-Veg': 'EC-Earth-Consortium',\n",
       " 'EC-Earth3-Veg-LR': 'EC-Earth-Consortium'}"
      ]
     },
     "execution_count": 6,
     "metadata": {},
     "output_type": "execute_result"
    }
   ],
   "source": [
    "institutions"
   ]
  },
  {
   "cell_type": "code",
   "execution_count": 7,
   "id": "db33800a",
   "metadata": {},
   "outputs": [],
   "source": [
    "# ds_institutions"
   ]
  },
  {
   "cell_type": "code",
   "execution_count": 8,
   "id": "71495abf",
   "metadata": {},
   "outputs": [],
   "source": [
    "# institutions"
   ]
  },
  {
   "cell_type": "code",
   "execution_count": 9,
   "id": "96012457",
   "metadata": {},
   "outputs": [],
   "source": [
    "client, cluster = rhgk.get_standard_cluster()"
   ]
  },
  {
   "cell_type": "code",
   "execution_count": 10,
   "id": "dc7d0dec",
   "metadata": {},
   "outputs": [
    {
     "data": {
      "application/vnd.jupyter.widget-view+json": {
       "model_id": "73c5cb89d18e4f3e8abd018fac5cdf47",
       "version_major": 2,
       "version_minor": 0
      },
      "text/plain": [
       "VBox(children=(HTML(value='<h2>GatewayCluster</h2>'), HBox(children=(HTML(value='\\n<div>\\n<style scoped>\\n    …"
      ]
     },
     "metadata": {},
     "output_type": "display_data"
    }
   ],
   "source": [
    "cluster"
   ]
  },
  {
   "cell_type": "code",
   "execution_count": 11,
   "id": "7b4b8d85",
   "metadata": {},
   "outputs": [],
   "source": [
    "with open('dcmip6_all_paths.yaml', 'r') as f:\n",
    "    all_paths = yaml.safe_load(f)"
   ]
  },
  {
   "cell_type": "code",
   "execution_count": 12,
   "id": "bcffad86",
   "metadata": {},
   "outputs": [],
   "source": [
    "def compute_etccdi(da, metric):\n",
    "    \"\"\"\n",
    "    metric: {'summer_days', 'tropical_nights', 'wet_days', 'wet_days_thresh', 'annual_precip', 'seasonal_precip', 'seasonal_tasmax', 'seasonal_tasmin', 'days_over_95', 'frost_days', 'consecutive_dry_days'}\n",
    "    \"\"\"\n",
    "    \n",
    "    if metric == 'summer_days':\n",
    "        return icclim.SU(da)\n",
    "    elif metric == 'tropical_nights':\n",
    "        return atmos.tn_days_above(da)\n",
    "    elif metric == 'wet_days':\n",
    "        return atmos.wetdays(da)\n",
    "    elif metric == 'wet_days_thresh':\n",
    "        return atmos.wetdays_prop(da, thresh='10.0 mm/day')\n",
    "    elif metric == 'annual_precip':\n",
    "        return anuclim.P12_AnnualPrecip(da)\n",
    "    elif metric == 'seasonal_precip': \n",
    "        return da.resample(time='QS-DEC').sum()\n",
    "    elif (metric == 'seasonal_tasmax') or (metric == 'seasonal_tasmin'):\n",
    "        return da.resample(time='QS-DEC').mean()\n",
    "    elif metric == 'frost_days':\n",
    "        return atmos.frost_days(da) \n",
    "    elif metric == 'days_over_95': \n",
    "        return atmos.tx_days_above(da, thresh='35.0 degC')\n",
    "    elif metric == 'days_over_90': \n",
    "        return atmos.tx_days_above(da, thresh='32.22 degC')\n",
    "    elif metric == 'consecutive_dry_days':\n",
    "        return atmos.maximum_consecutive_dry_days(da)\n",
    "    "
   ]
  },
  {
   "cell_type": "markdown",
   "id": "6bc97c99",
   "metadata": {},
   "source": [
    "downscaled data for one model "
   ]
  },
  {
   "cell_type": "markdown",
   "id": "37a2c3fa",
   "metadata": {},
   "source": [
    "Select 4 \"moderate extremes\" indicators: \n",
    "\n",
    "- \"summer days\" (SU, Number of summer days: Annual count of days when TX (daily maximum temperature) > 25oC) `atmos.tx_days_above`\n",
    "- number of tropical nights (TR, Number of tropical nights: Annual count of days when TN (daily minimum temperature) > 20oC) `atmos.tn_days_above`\n",
    "- number of wet days (per year) `atmos.wetdays`\n",
    "- number of days with precip > 10mm `atmos.wetdays_prop`\n",
    "- annual total precip `anuclim.P12_AnnualPrecip`"
   ]
  },
  {
   "cell_type": "code",
   "execution_count": 13,
   "id": "f2610508",
   "metadata": {},
   "outputs": [
    {
     "data": {
      "text/plain": [
       "{'BCC-CSM2-MR': ['historical', 'ssp126', 'ssp245', 'ssp370', 'ssp585'],\n",
       " 'FGOALS-g3': ['historical', 'ssp245', 'ssp370', 'ssp585'],\n",
       " 'ACCESS-ESM1-5': ['historical', 'ssp126', 'ssp245', 'ssp370'],\n",
       " 'ACCESS-CM2': ['historical', 'ssp245', 'ssp370'],\n",
       " 'INM-CM4-8': ['historical', 'ssp126', 'ssp245', 'ssp370', 'ssp585'],\n",
       " 'INM-CM5-0': ['historical', 'ssp126', 'ssp245', 'ssp370', 'ssp585'],\n",
       " 'MIROC-ES2L': ['historical', 'ssp126', 'ssp245', 'ssp370', 'ssp585'],\n",
       " 'MIROC6': ['historical', 'ssp126', 'ssp245', 'ssp370', 'ssp585'],\n",
       " 'NorESM2-LM': ['historical', 'ssp126', 'ssp245', 'ssp370', 'ssp585'],\n",
       " 'NorESM2-MM': ['historical', 'ssp126', 'ssp245', 'ssp370', 'ssp585'],\n",
       " 'GFDL-ESM4': ['historical', 'ssp126', 'ssp245', 'ssp370', 'ssp585'],\n",
       " 'GFDL-CM4': ['historical', 'ssp245', 'ssp585'],\n",
       " 'NESM3': ['historical', 'ssp126', 'ssp245', 'ssp585'],\n",
       " 'MPI-ESM1-2-HR': ['historical', 'ssp126', 'ssp585'],\n",
       " 'HadGEM3-GC31-LL': ['historical', 'ssp126', 'ssp245', 'ssp585'],\n",
       " 'UKESM1-0-LL': ['historical', 'ssp126', 'ssp245', 'ssp370', 'ssp585'],\n",
       " 'MPI-ESM1-2-LR': ['historical', 'ssp126', 'ssp245', 'ssp370', 'ssp585'],\n",
       " 'CMCC-CM2-SR5': ['historical', 'ssp126', 'ssp245', 'ssp370', 'ssp585'],\n",
       " 'CMCC-ESM2': ['historical', 'ssp126', 'ssp245', 'ssp370', 'ssp585'],\n",
       " 'CanESM5': ['historical', 'ssp126', 'ssp245', 'ssp370', 'ssp585'],\n",
       " 'EC-Earth3': ['historical', 'ssp126', 'ssp245', 'ssp370', 'ssp585'],\n",
       " 'EC-Earth3-AerChem': ['historical', 'ssp370'],\n",
       " 'EC-Earth3-CC': ['historical', 'ssp245', 'ssp585'],\n",
       " 'EC-Earth3-Veg': ['historical', 'ssp126', 'ssp245', 'ssp370', 'ssp585'],\n",
       " 'EC-Earth3-Veg-LR': ['historical', 'ssp126', 'ssp245', 'ssp370', 'ssp585']}"
      ]
     },
     "execution_count": 13,
     "metadata": {},
     "output_type": "execute_result"
    }
   ],
   "source": [
    "models_dict"
   ]
  },
  {
   "cell_type": "markdown",
   "id": "f340aa71",
   "metadata": {},
   "source": [
    "track which tests pass for which indices/models "
   ]
  },
  {
   "cell_type": "code",
   "execution_count": 14,
   "id": "576d9aa6",
   "metadata": {},
   "outputs": [],
   "source": [
    "gcms_indices_calibration = {}\n",
    "downscaled_indices_calibration = {}\n",
    "gcms_indices_validation = {}\n",
    "downscaled_indices_validation = {}\n",
    "\n",
    "gcms_indices_full = {}\n",
    "downscaled_indices_full = {}"
   ]
  },
  {
   "cell_type": "markdown",
   "id": "517861c1",
   "metadata": {},
   "source": [
    "### look at calibration period ### "
   ]
  },
  {
   "cell_type": "code",
   "execution_count": null,
   "id": "07296152",
   "metadata": {},
   "outputs": [],
   "source": [
    "# city = 'Miami'\n",
    "city = 'Tokyo'\n",
    "\n",
    "gcms_ks_calib = {}\n",
    "downscaled_ks_calib = {}\n",
    "\n",
    "# etccdis = ['summer_days', 'tropical_nights', 'wet_days', 'wet_days_thresh']\n",
    "'''etccdis = ['summer_days', 'tropical_nights', 'wet_days', 'wet_days_thresh', 'annual_precip', 'seasonal_precip', 'seasonal_tasmax', 'seasonal_tasmin', 'days_over_95', 'frost_days', 'consecutive_dry_days', 'days_over_90']'''\n",
    "\n",
    "etccdis = ['summer_days', 'tropical_nights', 'annual_precip', 'seasonal_precip', 'seasonal_tasmax', 'seasonal_tasmin', 'days_over_95', 'frost_days', 'consecutive_dry_days', 'days_over_90']\n",
    "# warm spell duration index, cold spell duration index, daily temperature range\n",
    "\n",
    "# models = ['MPI-ESM1-2-HR', 'GFDL-CM4']\n",
    "\n",
    "diag_type = 'city'\n",
    "data_type = 'downscaled'\n",
    "# model = 'GFDL-ESM4'\n",
    "\n",
    "for model in models_dict.keys():\n",
    "    # for model in models:\n",
    "    print(model)\n",
    "    gcm_tests = 0\n",
    "    ds_tests = 0\n",
    "\n",
    "    for etccdi in etccdis:\n",
    "\n",
    "        if (etccdi == 'summer_days') or (etccdi == 'seasonal_tasmax') or (etccdi == 'days_over_95') or (etccdi == 'days_over_90'):\n",
    "            variable = 'tasmax'\n",
    "            var_name = 'tasmax'\n",
    "        elif (etccdi == 'tropical_nights') or (etccdi == 'frost_days') or (etccdi == 'seasonal_tasmin'):\n",
    "            variable = 'tasmin'\n",
    "            var_name = 'tasmin'\n",
    "        else: \n",
    "            variable = 'precip'\n",
    "            var_name = 'pr'\n",
    "\n",
    "        ref = load_zarr(get_diagnostics_filepath(diag_type, 'reanalysis', institutions, ensemble_members, variable, model, 'historical', validation_period=False)).sel(city=city)\n",
    "        # print(get_diagnostics_filepath(diag_type, 'clean', institutions, ensemble_members, variable, model, 'historical'))\n",
    "        gcm = load_zarr(get_diagnostics_filepath(diag_type, 'clean', institutions, ensemble_members, variable, model, 'historical')).sel(city=city)\n",
    "        # print(get_diagnostics_filepath(diag_type, 'downscaled', institutions, ensemble_members, variable, model, 'historical'))\n",
    "        downscaled = load_zarr(get_diagnostics_filepath(diag_type, 'downscaled', ds_institutions, ensemble_members, variable, model, 'historical')).sel(city=city)\n",
    "\n",
    "        ks_test_gcm = kstest(compute_etccdi(ref[var_name].sel(time=slice('1995', '2014')), etccdi), \n",
    "                            compute_etccdi(gcm[var_name].sel(time=slice('1995', '2014')), etccdi))\n",
    "\n",
    "        ks_test_downscaled = kstest(compute_etccdi(ref[var_name].sel(time=slice('1995', '2014')), etccdi), \n",
    "                            compute_etccdi(downscaled[var_name].sel(time=slice('1995', '2014')), etccdi))\n",
    "        if ks_test_gcm[1] > 0.05:\n",
    "            gcm_tests += 1\n",
    "            gcms_indices_calibration[(model, etccdi)] = 1.0\n",
    "        else: \n",
    "            gcms_indices_calibration[(model, etccdi)] = 0.0\n",
    "        if ks_test_downscaled[1] > 0.05:\n",
    "            ds_tests += 1\n",
    "            downscaled_indices_calibration[(model, etccdi)] = 1.0\n",
    "        else: \n",
    "            downscaled_indices_calibration[(model, etccdi)] = 0.0\n",
    "    gcms_ks_calib[model] = gcm_tests\n",
    "    downscaled_ks_calib[model] = ds_tests"
   ]
  },
  {
   "cell_type": "markdown",
   "id": "4090f0fd",
   "metadata": {},
   "source": [
    "### compute the same but over the validation period ### \n",
    "\n",
    "For tasmax and tasmin, we have 1979 - 2020. For precip, we are missing 1983 and 2016 is buggy. Also precip is in m, needs to be converted. \n",
    "\n",
    "So for tasmax and tasmin, use 1979-1994. For precip, 1984 - 1994. Add split sample period later maybe. "
   ]
  },
  {
   "cell_type": "code",
   "execution_count": null,
   "id": "ff213496",
   "metadata": {},
   "outputs": [],
   "source": [
    "ref1 = load_zarr(get_diagnostics_filepath('city', 'reanalysis', institutions, ensemble_members, 'precip', 'BCC-CSM2-MR', 'historical', validation_period=True)).sel(city=city)\n",
    "ref1['pr'] = ref1['pr'] * 1000 # conversion to mm \n",
    "ref1['pr'].attrs['units'] = 'mm day-1'\n",
    "start_year = '1984'\n",
    "end_year = '1994'"
   ]
  },
  {
   "cell_type": "code",
   "execution_count": null,
   "id": "b0173ba9",
   "metadata": {},
   "outputs": [],
   "source": [
    "ref2 = load_zarr(get_diagnostics_filepath('city', 'reanalysis', institutions, ensemble_members, 'precip', 'BCC-CSM2-MR', 'historical')).sel(city='Miami')"
   ]
  },
  {
   "cell_type": "code",
   "execution_count": null,
   "id": "3e80295e",
   "metadata": {},
   "outputs": [],
   "source": [
    "ref_f320 = xr.open_zarr('gs://downscaled-48ec31ab/diagnostics/RELEASE-v1.1/daily-tasmax-diagnostics/reanalysis/ERA5/F320/tasmax/v1.1.zarr')"
   ]
  },
  {
   "cell_type": "code",
   "execution_count": null,
   "id": "1cb02e98-de23-4754-bf12-e6d79dda60cb",
   "metadata": {},
   "outputs": [],
   "source": [
    "ref_0p25 = xr.open_zarr('gs://downscaled-48ec31ab/diagnostics/RELEASE-v1.1/daily-tasmax-diagnostics/reanalysis/ERA5/0p25x0p25/tasmax/v1.1.zarr')"
   ]
  },
  {
   "cell_type": "code",
   "execution_count": null,
   "id": "ea31a1f7-1d30-4e03-b73a-766a1eb52c9b",
   "metadata": {},
   "outputs": [],
   "source": [
    "ref_0p25"
   ]
  },
  {
   "cell_type": "code",
   "execution_count": null,
   "id": "03d10057",
   "metadata": {},
   "outputs": [],
   "source": [
    "u = compute_etccdi(ref1['pr'].sel(time=slice(start_year, end_year)), 'wet_days')\n",
    "# ref['pr'].sel(time=slice(start_year, end_year))\n",
    "# ref['pr']"
   ]
  },
  {
   "cell_type": "code",
   "execution_count": null,
   "id": "8c790006",
   "metadata": {},
   "outputs": [],
   "source": [
    "# u"
   ]
  },
  {
   "cell_type": "code",
   "execution_count": null,
   "id": "5e9d77a2",
   "metadata": {},
   "outputs": [],
   "source": [
    "gcms_ks_valid = {}\n",
    "downscaled_ks_valid = {}\n",
    "\n",
    "start_year = '1979'\n",
    "end_year = '1994'\n",
    "\n",
    "# etccdis = ['summer_days', 'tropical_nights', 'wet_days', 'wet_days_thresh']\n",
    "etccdis = ['summer_days', 'tropical_nights', 'wet_days', 'wet_days_thresh', 'annual_precip', 'seasonal_precip', 'seasonal_tasmax', 'seasonal_tasmin', 'days_over_95', 'frost_days', 'consecutive_dry_days', 'days_over_90']\n",
    "\n",
    "# models = ['MPI-ESM1-2-HR', 'GFDL-CM4']\n",
    "\n",
    "diag_type = 'city'\n",
    "data_type = 'downscaled'\n",
    "# model = 'GFDL-ESM4'\n",
    "\n",
    "for model in models_dict.keys():\n",
    "    # for model in models:\n",
    "    print(model)\n",
    "    gcm_tests = 0\n",
    "    ds_tests = 0\n",
    "\n",
    "    for etccdi in etccdis:\n",
    "\n",
    "        if (etccdi == 'summer_days') or (etccdi == 'seasonal_tasmax') or (etccdi == 'days_over_95') or (etccdi == 'days_over_90'):\n",
    "            variable = 'tasmax'\n",
    "            var_name = 'tasmax'\n",
    "            start_year = '1979'\n",
    "            end_year = '1994'\n",
    "        elif (etccdi == 'tropical_nights') or (etccdi == 'frost_days') or (etccdi == 'seasonal_tasmin'):\n",
    "            variable = 'tasmin'\n",
    "            var_name = 'tasmin'\n",
    "            start_year = '1979'\n",
    "            end_year = '1994'\n",
    "        else: \n",
    "            variable = 'precip'\n",
    "            var_name = 'pr'\n",
    "            start_year = '1984'\n",
    "            end_year = '1994'\n",
    "\n",
    "        print(get_diagnostics_filepath(diag_type, 'reanalysis', institutions, ensemble_members, variable, model, 'historical', validation_period=True))\n",
    "        ref = load_zarr(get_diagnostics_filepath(diag_type, 'reanalysis', institutions, ensemble_members, variable, model, 'historical', validation_period=True)).sel(city=city)\n",
    "        # needs units for xclim \n",
    "        if variable == 'tasmax' or variable == 'tasmin':\n",
    "            ref[var_name].attrs['units'] = 'K'\n",
    "        else:\n",
    "            ref[var_name] = ref[var_name] * 1000 # conversion to mm /day \n",
    "            ref[var_name].attrs['units'] = 'mm day-1'\n",
    "        # print(get_diagnostics_filepath(diag_type, 'clean', institutions, ensemble_members, variable, model, 'historical'))\n",
    "        gcm = load_zarr(get_diagnostics_filepath(diag_type, 'clean', institutions, ensemble_members, variable, model, 'historical')).sel(city=city)\n",
    "        # print(get_diagnostics_filepath(diag_type, 'downscaled', institutions, ensemble_members, variable, model, 'historical'))\n",
    "        downscaled = load_zarr(get_diagnostics_filepath(diag_type, 'downscaled', ds_institutions, ensemble_members, variable, model, 'historical')).sel(city=city)\n",
    "\n",
    "        ks_test_gcm = kstest(compute_etccdi(ref[var_name].sel(time=slice(start_year, end_year)), etccdi), \n",
    "                            compute_etccdi(gcm[var_name].sel(time=slice(start_year, end_year)), etccdi))\n",
    "\n",
    "        ks_test_downscaled = kstest(compute_etccdi(ref[var_name].sel(time=slice(start_year, end_year)), etccdi), \n",
    "                            compute_etccdi(downscaled[var_name].sel(time=slice(start_year, end_year)), etccdi))\n",
    "        \n",
    "        if ks_test_gcm[1] > 0.05:\n",
    "            gcm_tests += 1\n",
    "            gcms_indices_validation[(model, etccdi)] = 1.0\n",
    "        else: \n",
    "            gcms_indices_validation[(model, etccdi)] = 0.0\n",
    "        if ks_test_downscaled[1] > 0.05:\n",
    "            ds_tests += 1\n",
    "            downscaled_indices_validation[(model, etccdi)] = 1.0\n",
    "        else: \n",
    "            downscaled_indices_validation[(model, etccdi)] = 0.0\n",
    "    \n",
    "    gcms_ks_valid[model] = gcm_tests\n",
    "    downscaled_ks_valid[model] = ds_tests"
   ]
  },
  {
   "cell_type": "code",
   "execution_count": null,
   "id": "ddae590d",
   "metadata": {},
   "outputs": [],
   "source": [
    "fig, axes = plt.subplots(1, 1, figsize=(12, 4))\n",
    "\n",
    "axes.bar(*zip(*downscaled_ks_calib.items()), width=0.8, linewidth=0.4, align='center', label='downscaled GCMs')\n",
    "axes.bar(*zip(*gcms_ks_calib.items()), width=0.4, linewidth=0.4, align='center', label='raw GCMs')\n",
    "plt.xticks(rotation=80)\n",
    "axes.legend(loc='upper center', bbox_to_anchor=(0.5, 1.15),\n",
    "          ncol=2, fancybox=True, shadow=True)\n",
    "axes.set_ylabel('Number of ETCCDI Tests Passed')\n",
    "axes.set_ylim([0, 12])\n",
    "\n",
    "plt.savefig(os.path.join(plot_dir, '{city}_etccdi_indices_calibration_MORE.png'.format(city=city)), \n",
    "            bbox_inches='tight', dpi=200)"
   ]
  },
  {
   "cell_type": "code",
   "execution_count": null,
   "id": "c098f38e",
   "metadata": {},
   "outputs": [],
   "source": [
    "fig, axes = plt.subplots(1, 1, figsize=(12, 4))\n",
    "\n",
    "axes.bar(*zip(*downscaled_ks_valid.items()), width=0.8, linewidth=0.4, align='center', label='downscaled GCMs')\n",
    "axes.bar(*zip(*gcms_ks_valid.items()), width=0.4, linewidth=0.4, align='center', label='raw GCMs')\n",
    "plt.xticks(rotation=80)\n",
    "axes.legend(loc='upper center', bbox_to_anchor=(0.5, 1.15),\n",
    "          ncol=2, fancybox=True, shadow=True)\n",
    "axes.set_ylabel('Number of Tests Passed')\n",
    "axes.set_ylim([0, 12])\n",
    "\n",
    "plt.savefig(os.path.join(plot_dir, '{city}_etccdi_indices_validation_MORE.png'.format(city=city)), \n",
    "            bbox_inches='tight', dpi=200)"
   ]
  },
  {
   "cell_type": "code",
   "execution_count": null,
   "id": "31017343",
   "metadata": {},
   "outputs": [],
   "source": [
    "fig, axes = plt.subplots(2, 1, figsize=(9, 6))\n",
    "\n",
    "axes[0].bar(*zip(*downscaled_ks_calib.items()), width=0.8, linewidth=0.4, align='center', label='bias-adjusted and downscaled GCMs')\n",
    "axes[0].bar(*zip(*gcms_ks_calib.items()), width=0.4, linewidth=0.4, align='center', label='raw GCMs')\n",
    "axes[0].axhline(y=12, linestyle=':', color='k')\n",
    "axes[0].text(0.02, 0.95, '(a)', transform=axes[0].transAxes, fontsize=14, va='top')\n",
    "\n",
    "axes[1].bar(*zip(*downscaled_ks_valid.items()), width=0.8, linewidth=0.4, align='center', label='bias-adjusted and downscaled GCMs')\n",
    "axes[1].bar(*zip(*gcms_ks_valid.items()), width=0.4, linewidth=0.4, align='center', label='raw GCMs')\n",
    "axes[1].axhline(y=12, linestyle=':', color='k')\n",
    "axes[1].text(0.02, 0.95, '(b)', transform=axes[1].transAxes, fontsize=14, va='top')\n",
    "\n",
    "plt.setp( axes[0].get_xticklabels(), visible=False)\n",
    "axes[1].set_xticklabels(downscaled_ks_valid.keys(), rotation=80)\n",
    "\n",
    "axes[0].legend(loc='upper center', bbox_to_anchor=(0.5, 1.3),\n",
    "          ncol=2, fancybox=True, shadow=True)\n",
    "axes[0].set_title('Calibration Period')\n",
    "axes[1].set_title('Validation Period')\n",
    "axes[0].set_ylabel('Number of Tests Passed')\n",
    "axes[1].set_ylabel('Number of Tests Passed')\n",
    "axes[1].set_ylim([0, 14])\n",
    "axes[0].set_ylim([0, 14])\n",
    "\n",
    "# fix for saving as EPS (bug: The PostScript backend does not support transparency; partially transparent artists will be rendered opaque.)\n",
    "# axes[0].set_rasterized(True)\n",
    "# axes[1].set_rasterized(True)\n",
    "plt.savefig(os.path.join(plot_dir, '{city}_etccdi_indices_calib_and_valid.eps'.format(city=city)), \n",
    "            bbox_inches='tight', dpi=300, format='eps')"
   ]
  },
  {
   "cell_type": "markdown",
   "id": "43903822",
   "metadata": {},
   "source": [
    "which test doesn't pass for any model? hypothesis is consecutive dry days "
   ]
  },
  {
   "cell_type": "code",
   "execution_count": null,
   "id": "4bf95fe5",
   "metadata": {},
   "outputs": [],
   "source": [
    "city = 'Miami'\n",
    "\n",
    "gcms_ks_calib = {}\n",
    "downscaled_ks_calib = {}\n",
    "\n",
    "etccdis = ['frost_days']\n",
    "'''etccdis = ['summer_days', 'tropical_nights', 'wet_days', 'wet_days_thresh', 'annual_precip', 'seasonal_precip', 'seasonal_tasmax', 'seasonal_tasmin', 'days_over_95', 'frost_days', 'consecutive_dry_days', 'days_over_90']'''\n",
    "\n",
    "models = ['GFDL-CM4']\n",
    "\n",
    "diag_type = 'city'\n",
    "data_type = 'downscaled'\n",
    "# model = 'GFDL-ESM4'\n",
    "\n",
    "# for model in models_dict.keys():\n",
    "for model in models:\n",
    "    print(model)\n",
    "    gcm_tests = 0\n",
    "    ds_tests = 0\n",
    "\n",
    "    for etccdi in etccdis:\n",
    "\n",
    "        if (etccdi == 'summer_days') or (etccdi == 'seasonal_tasmax') or (etccdi == 'days_over_95') or (etccdi == 'days_over_90'):\n",
    "            variable = 'tasmax'\n",
    "            var_name = 'tasmax'\n",
    "        elif (etccdi == 'tropical_nights') or (etccdi == 'frost_days') or (etccdi == 'seasonal_tasmin'):\n",
    "            variable = 'tasmin'\n",
    "            var_name = 'tasmin'\n",
    "        else: \n",
    "            variable = 'precip'\n",
    "            var_name = 'pr'\n",
    "\n",
    "        ref = load_zarr(get_diagnostics_filepath(diag_type, 'reanalysis', institutions, ensemble_members, variable, model, 'historical', validation_period=False)).sel(city=city)\n",
    "        # print(get_diagnostics_filepath(diag_type, 'clean', institutions, ensemble_members, variable, model, 'historical'))\n",
    "        gcm = load_zarr(get_diagnostics_filepath(diag_type, 'clean', institutions, ensemble_members, variable, model, 'historical')).sel(city=city)\n",
    "        # print(get_diagnostics_filepath(diag_type, 'downscaled', institutions, ensemble_members, variable, model, 'historical'))\n",
    "        downscaled = load_zarr(get_diagnostics_filepath(diag_type, 'downscaled', ds_institutions, ensemble_members, variable, model, 'historical')).sel(city=city)\n",
    "\n",
    "        ks_test_gcm = kstest(compute_etccdi(ref[var_name].sel(time=slice('1995', '2014')), etccdi), \n",
    "                            compute_etccdi(gcm[var_name].sel(time=slice('1995', '2014')), etccdi))\n",
    "\n",
    "        ks_test_downscaled = kstest(compute_etccdi(ref[var_name].sel(time=slice('1995', '2014')), etccdi), \n",
    "                            compute_etccdi(downscaled[var_name].sel(time=slice('1995', '2014')), etccdi))\n",
    "        if ks_test_gcm[1] < 0.05:\n",
    "            gcm_tests += 1\n",
    "        if ks_test_downscaled[1] < 0.05:\n",
    "            ds_tests += 1\n",
    "    gcms_ks_calib[model] = gcm_tests\n",
    "    downscaled_ks_calib[model] = ds_tests"
   ]
  },
  {
   "cell_type": "code",
   "execution_count": null,
   "id": "5a2f9032",
   "metadata": {},
   "outputs": [],
   "source": [
    "ks_test_gcm"
   ]
  },
  {
   "cell_type": "code",
   "execution_count": null,
   "id": "e9d6fb71",
   "metadata": {},
   "outputs": [],
   "source": [
    "ks_test_downscaled"
   ]
  },
  {
   "cell_type": "code",
   "execution_count": null,
   "id": "b44aa6dc",
   "metadata": {},
   "outputs": [],
   "source": [
    "compute_etccdi(gcm[var_name].sel(time=slice('1995', '2014')), 'frost_days').values"
   ]
  },
  {
   "cell_type": "markdown",
   "id": "6fb56f90",
   "metadata": {},
   "source": [
    "### it's frost days that never passes ### "
   ]
  },
  {
   "cell_type": "markdown",
   "id": "798407be",
   "metadata": {},
   "source": [
    "### make heatmap with passing/failing tests ### "
   ]
  },
  {
   "cell_type": "code",
   "execution_count": null,
   "id": "a3171518",
   "metadata": {},
   "outputs": [],
   "source": [
    "# gcms_indices_calibration"
   ]
  },
  {
   "cell_type": "code",
   "execution_count": null,
   "id": "9c003bd9",
   "metadata": {},
   "outputs": [],
   "source": [
    "import pandas as pd\n",
    "import seaborn as sns\n",
    "ser_gcms_calibration = pd.Series(list(gcms_indices_calibration.values()),\n",
    "                  index=pd.MultiIndex.from_tuples(gcms_indices_calibration.keys()))\n",
    "ser_gcms_validation = pd.Series(list(gcms_indices_validation.values()),\n",
    "                  index=pd.MultiIndex.from_tuples(gcms_indices_validation.keys()))\n",
    "ser_ds_calibration = pd.Series(list(downscaled_indices_calibration.values()),\n",
    "                  index=pd.MultiIndex.from_tuples(downscaled_indices_calibration.keys()))\n",
    "df_gcms_calibration = ser_gcms_calibration.unstack()\n",
    "df_gcms_validation = ser_gcms_validation.unstack()\n",
    "df_downscaled_calibration = ser_ds_calibration.unstack()"
   ]
  },
  {
   "cell_type": "code",
   "execution_count": null,
   "id": "1755c602",
   "metadata": {},
   "outputs": [],
   "source": [
    "fig, axes = plt.subplots(1, 2, figsize=(14, 4))\n",
    "cmap = 'Reds'\n",
    "sns.heatmap(df_gcms_calibration.T, ax=axes[0], cmap=cmap)\n",
    "sns.heatmap(df_gcms_validation.T, ax=axes[1], cmap=cmap)"
   ]
  },
  {
   "cell_type": "code",
   "execution_count": null,
   "id": "21b63b12",
   "metadata": {},
   "outputs": [],
   "source": [
    "# df_gcms_calibration"
   ]
  },
  {
   "cell_type": "markdown",
   "id": "672c5d96-567f-44b8-a397-3379f9837b0a",
   "metadata": {},
   "source": [
    "### switch to using full time period ### "
   ]
  },
  {
   "cell_type": "code",
   "execution_count": 36,
   "id": "6fae57d5-8204-419b-8b90-5009eedff3d7",
   "metadata": {},
   "outputs": [
    {
     "name": "stdout",
     "output_type": "stream",
     "text": [
      "BCC-CSM2-MR\n",
      "gs://downscaled-48ec31ab/diagnostics/RELEASE-v1.1/clean-daily-tasmax-diagnostics/CMIP/BCC/BCC-CSM2-MR/historical/r1i1p1f1/day/tasmax/v1.1.zarr\n",
      "gs://downscaled-48ec31ab/diagnostics/RELEASE-v1.1/daily-tasmax-diagnostics/CMIP/BCC/BCC-CSM2-MR/historical/r1i1p1f1/day/tasmax/v1.1.zarr\n"
     ]
    },
    {
     "ename": "KeyboardInterrupt",
     "evalue": "",
     "output_type": "error",
     "traceback": [
      "\u001b[0;31m---------------------------------------------------------------------------\u001b[0m",
      "\u001b[0;31mKeyboardInterrupt\u001b[0m                         Traceback (most recent call last)",
      "Input \u001b[0;32mIn [36]\u001b[0m, in \u001b[0;36m<cell line: 20>\u001b[0;34m()\u001b[0m\n\u001b[1;32m     54\u001b[0m \u001b[38;5;28mprint\u001b[39m(get_diagnostics_filepath(diag_type, \u001b[38;5;124m'\u001b[39m\u001b[38;5;124mdownscaled\u001b[39m\u001b[38;5;124m'\u001b[39m, institutions, ensemble_members, variable, model, \u001b[38;5;124m'\u001b[39m\u001b[38;5;124mhistorical\u001b[39m\u001b[38;5;124m'\u001b[39m))\n\u001b[1;32m     55\u001b[0m downscaled \u001b[38;5;241m=\u001b[39m load_zarr(get_diagnostics_filepath(diag_type, \u001b[38;5;124m'\u001b[39m\u001b[38;5;124mdownscaled\u001b[39m\u001b[38;5;124m'\u001b[39m, ds_institutions, ensemble_members, variable, model, \u001b[38;5;124m'\u001b[39m\u001b[38;5;124mhistorical\u001b[39m\u001b[38;5;124m'\u001b[39m))\u001b[38;5;241m.\u001b[39msel(city\u001b[38;5;241m=\u001b[39mcity)\n\u001b[1;32m     57\u001b[0m ks_test_gcm \u001b[38;5;241m=\u001b[39m kstest(compute_etccdi(ref[var_name]\u001b[38;5;241m.\u001b[39msel(time\u001b[38;5;241m=\u001b[39m\u001b[38;5;28mslice\u001b[39m(start_year, end_year)), etccdi), \n\u001b[0;32m---> 58\u001b[0m                     \u001b[43mcompute_etccdi\u001b[49m\u001b[43m(\u001b[49m\u001b[43mgcm\u001b[49m\u001b[43m[\u001b[49m\u001b[43mvar_name\u001b[49m\u001b[43m]\u001b[49m\u001b[38;5;241;43m.\u001b[39;49m\u001b[43msel\u001b[49m\u001b[43m(\u001b[49m\u001b[43mtime\u001b[49m\u001b[38;5;241;43m=\u001b[39;49m\u001b[38;5;28;43mslice\u001b[39;49m\u001b[43m(\u001b[49m\u001b[43mstart_year\u001b[49m\u001b[43m,\u001b[49m\u001b[43m \u001b[49m\u001b[43mend_year\u001b[49m\u001b[43m)\u001b[49m\u001b[43m)\u001b[49m\u001b[43m,\u001b[49m\u001b[43m \u001b[49m\u001b[43metccdi\u001b[49m\u001b[43m)\u001b[49m)\n\u001b[1;32m     60\u001b[0m ks_test_downscaled \u001b[38;5;241m=\u001b[39m kstest(compute_etccdi(ref[var_name]\u001b[38;5;241m.\u001b[39msel(time\u001b[38;5;241m=\u001b[39m\u001b[38;5;28mslice\u001b[39m(start_year, end_year)), etccdi), \n\u001b[1;32m     61\u001b[0m                     compute_etccdi(downscaled[var_name]\u001b[38;5;241m.\u001b[39msel(time\u001b[38;5;241m=\u001b[39m\u001b[38;5;28mslice\u001b[39m(start_year, end_year)), etccdi))\n\u001b[1;32m     63\u001b[0m \u001b[38;5;28;01mif\u001b[39;00m ks_test_gcm[\u001b[38;5;241m1\u001b[39m] \u001b[38;5;241m>\u001b[39m \u001b[38;5;241m0.05\u001b[39m:\n",
      "Input \u001b[0;32mIn [12]\u001b[0m, in \u001b[0;36mcompute_etccdi\u001b[0;34m(da, metric)\u001b[0m\n\u001b[1;32m      2\u001b[0m \u001b[38;5;124;03m\"\"\"\u001b[39;00m\n\u001b[1;32m      3\u001b[0m \u001b[38;5;124;03mmetric: {'summer_days', 'tropical_nights', 'wet_days', 'wet_days_thresh', 'annual_precip', 'seasonal_precip', 'seasonal_tasmax', 'seasonal_tasmin', 'days_over_95', 'frost_days', 'consecutive_dry_days'}\u001b[39;00m\n\u001b[1;32m      4\u001b[0m \u001b[38;5;124;03m\"\"\"\u001b[39;00m\n\u001b[1;32m      6\u001b[0m \u001b[38;5;28;01mif\u001b[39;00m metric \u001b[38;5;241m==\u001b[39m \u001b[38;5;124m'\u001b[39m\u001b[38;5;124msummer_days\u001b[39m\u001b[38;5;124m'\u001b[39m:\n\u001b[0;32m----> 7\u001b[0m     \u001b[38;5;28;01mreturn\u001b[39;00m \u001b[43micclim\u001b[49m\u001b[38;5;241;43m.\u001b[39;49m\u001b[43mSU\u001b[49m\u001b[43m(\u001b[49m\u001b[43mda\u001b[49m\u001b[43m)\u001b[49m\n\u001b[1;32m      8\u001b[0m \u001b[38;5;28;01melif\u001b[39;00m metric \u001b[38;5;241m==\u001b[39m \u001b[38;5;124m'\u001b[39m\u001b[38;5;124mtropical_nights\u001b[39m\u001b[38;5;124m'\u001b[39m:\n\u001b[1;32m      9\u001b[0m     \u001b[38;5;28;01mreturn\u001b[39;00m atmos\u001b[38;5;241m.\u001b[39mtn_days_above(da)\n",
      "File \u001b[0;32m/srv/conda/envs/notebook/lib/python3.9/site-packages/xclim/core/indicator.py:829\u001b[0m, in \u001b[0;36mIndicator.__call__\u001b[0;34m(self, *args, **kwds)\u001b[0m\n\u001b[1;32m    826\u001b[0m     out\u001b[38;5;241m.\u001b[39mattrs\u001b[38;5;241m.\u001b[39mupdate(attrs)\n\u001b[1;32m    827\u001b[0m     out\u001b[38;5;241m.\u001b[39mname \u001b[38;5;241m=\u001b[39m var_name\n\u001b[0;32m--> 829\u001b[0m outs \u001b[38;5;241m=\u001b[39m \u001b[38;5;28;43mself\u001b[39;49m\u001b[38;5;241;43m.\u001b[39;49m\u001b[43m_postprocess\u001b[49m\u001b[43m(\u001b[49m\u001b[43mouts\u001b[49m\u001b[43m,\u001b[49m\u001b[43m \u001b[49m\u001b[43mdas\u001b[49m\u001b[43m,\u001b[49m\u001b[43m \u001b[49m\u001b[43mparams\u001b[49m\u001b[43m)\u001b[49m\n\u001b[1;32m    831\u001b[0m \u001b[38;5;66;03m# Return a single DataArray in case of single output, otherwise a tuple\u001b[39;00m\n\u001b[1;32m    832\u001b[0m \u001b[38;5;28;01mif\u001b[39;00m \u001b[38;5;28mself\u001b[39m\u001b[38;5;241m.\u001b[39mn_outs \u001b[38;5;241m==\u001b[39m \u001b[38;5;241m1\u001b[39m:\n",
      "File \u001b[0;32m/srv/conda/envs/notebook/lib/python3.9/site-packages/xclim/core/indicator.py:1345\u001b[0m, in \u001b[0;36mResamplingIndicator._postprocess\u001b[0;34m(self, outs, das, params)\u001b[0m\n\u001b[1;32m   1336\u001b[0m miss \u001b[38;5;241m=\u001b[39m (\n\u001b[1;32m   1337\u001b[0m     \u001b[38;5;28mself\u001b[39m\u001b[38;5;241m.\u001b[39m_missing(\n\u001b[1;32m   1338\u001b[0m         da, params[\u001b[38;5;124m\"\u001b[39m\u001b[38;5;124mfreq\u001b[39m\u001b[38;5;124m\"\u001b[39m], src_freq, options, params\u001b[38;5;241m.\u001b[39mget(\u001b[38;5;124m\"\u001b[39m\u001b[38;5;124mindexer\u001b[39m\u001b[38;5;124m\"\u001b[39m, {})\n\u001b[0;32m   (...)\u001b[0m\n\u001b[1;32m   1341\u001b[0m     \u001b[38;5;28;01mif\u001b[39;00m \u001b[38;5;124m\"\u001b[39m\u001b[38;5;124mtime\u001b[39m\u001b[38;5;124m\"\u001b[39m \u001b[38;5;129;01min\u001b[39;00m da\u001b[38;5;241m.\u001b[39mcoords\n\u001b[1;32m   1342\u001b[0m )\n\u001b[1;32m   1343\u001b[0m \u001b[38;5;66;03m# Reduce by or and broadcast to ensure the same length in time\u001b[39;00m\n\u001b[1;32m   1344\u001b[0m \u001b[38;5;66;03m# When indexing is used and there are no valid points in the last period, mask will not include it\u001b[39;00m\n\u001b[0;32m-> 1345\u001b[0m mask \u001b[38;5;241m=\u001b[39m \u001b[43mreduce\u001b[49m\u001b[43m(\u001b[49m\u001b[43mnp\u001b[49m\u001b[38;5;241;43m.\u001b[39;49m\u001b[43mlogical_or\u001b[49m\u001b[43m,\u001b[49m\u001b[43m \u001b[49m\u001b[43mmiss\u001b[49m\u001b[43m)\u001b[49m\n\u001b[1;32m   1346\u001b[0m \u001b[38;5;28;01mif\u001b[39;00m \u001b[38;5;28misinstance\u001b[39m(mask, DataArray) \u001b[38;5;129;01mand\u001b[39;00m mask\u001b[38;5;241m.\u001b[39mtime\u001b[38;5;241m.\u001b[39msize \u001b[38;5;241m<\u001b[39m outs[\u001b[38;5;241m0\u001b[39m]\u001b[38;5;241m.\u001b[39mtime\u001b[38;5;241m.\u001b[39msize:\n\u001b[1;32m   1347\u001b[0m     mask \u001b[38;5;241m=\u001b[39m mask\u001b[38;5;241m.\u001b[39mreindex(time\u001b[38;5;241m=\u001b[39mouts[\u001b[38;5;241m0\u001b[39m]\u001b[38;5;241m.\u001b[39mtime, fill_value\u001b[38;5;241m=\u001b[39m\u001b[38;5;28;01mTrue\u001b[39;00m)\n",
      "File \u001b[0;32m/srv/conda/envs/notebook/lib/python3.9/site-packages/xclim/core/indicator.py:1337\u001b[0m, in \u001b[0;36m<genexpr>\u001b[0;34m(.0)\u001b[0m\n\u001b[1;32m   1334\u001b[0m \u001b[38;5;66;03m# We flag periods according to the missing method. skip variables without a time coordinate.\u001b[39;00m\n\u001b[1;32m   1335\u001b[0m src_freq \u001b[38;5;241m=\u001b[39m \u001b[38;5;28mself\u001b[39m\u001b[38;5;241m.\u001b[39msrc_freq \u001b[38;5;28;01mif\u001b[39;00m \u001b[38;5;28misinstance\u001b[39m(\u001b[38;5;28mself\u001b[39m\u001b[38;5;241m.\u001b[39msrc_freq, \u001b[38;5;28mstr\u001b[39m) \u001b[38;5;28;01melse\u001b[39;00m \u001b[38;5;28;01mNone\u001b[39;00m\n\u001b[1;32m   1336\u001b[0m miss \u001b[38;5;241m=\u001b[39m (\n\u001b[0;32m-> 1337\u001b[0m     \u001b[38;5;28;43mself\u001b[39;49m\u001b[38;5;241;43m.\u001b[39;49m\u001b[43m_missing\u001b[49m\u001b[43m(\u001b[49m\n\u001b[1;32m   1338\u001b[0m \u001b[43m        \u001b[49m\u001b[43mda\u001b[49m\u001b[43m,\u001b[49m\u001b[43m \u001b[49m\u001b[43mparams\u001b[49m\u001b[43m[\u001b[49m\u001b[38;5;124;43m\"\u001b[39;49m\u001b[38;5;124;43mfreq\u001b[39;49m\u001b[38;5;124;43m\"\u001b[39;49m\u001b[43m]\u001b[49m\u001b[43m,\u001b[49m\u001b[43m \u001b[49m\u001b[43msrc_freq\u001b[49m\u001b[43m,\u001b[49m\u001b[43m \u001b[49m\u001b[43moptions\u001b[49m\u001b[43m,\u001b[49m\u001b[43m \u001b[49m\u001b[43mparams\u001b[49m\u001b[38;5;241;43m.\u001b[39;49m\u001b[43mget\u001b[49m\u001b[43m(\u001b[49m\u001b[38;5;124;43m\"\u001b[39;49m\u001b[38;5;124;43mindexer\u001b[39;49m\u001b[38;5;124;43m\"\u001b[39;49m\u001b[43m,\u001b[49m\u001b[43m \u001b[49m\u001b[43m{\u001b[49m\u001b[43m}\u001b[49m\u001b[43m)\u001b[49m\n\u001b[1;32m   1339\u001b[0m \u001b[43m    \u001b[49m\u001b[43m)\u001b[49m\n\u001b[1;32m   1340\u001b[0m     \u001b[38;5;28;01mfor\u001b[39;00m da \u001b[38;5;129;01min\u001b[39;00m das\u001b[38;5;241m.\u001b[39mvalues()\n\u001b[1;32m   1341\u001b[0m     \u001b[38;5;28;01mif\u001b[39;00m \u001b[38;5;124m\"\u001b[39m\u001b[38;5;124mtime\u001b[39m\u001b[38;5;124m\"\u001b[39m \u001b[38;5;129;01min\u001b[39;00m da\u001b[38;5;241m.\u001b[39mcoords\n\u001b[1;32m   1342\u001b[0m )\n\u001b[1;32m   1343\u001b[0m \u001b[38;5;66;03m# Reduce by or and broadcast to ensure the same length in time\u001b[39;00m\n\u001b[1;32m   1344\u001b[0m \u001b[38;5;66;03m# When indexing is used and there are no valid points in the last period, mask will not include it\u001b[39;00m\n\u001b[1;32m   1345\u001b[0m mask \u001b[38;5;241m=\u001b[39m reduce(np\u001b[38;5;241m.\u001b[39mlogical_or, miss)\n",
      "File \u001b[0;32m/srv/conda/envs/notebook/lib/python3.9/site-packages/xclim/core/missing.py:415\u001b[0m, in \u001b[0;36mFromContext.execute\u001b[0;34m(cls, da, freq, src_timestep, options, indexer)\u001b[0m\n\u001b[1;32m    412\u001b[0m kls \u001b[38;5;241m=\u001b[39m MISSING_METHODS[name]\n\u001b[1;32m    413\u001b[0m opts \u001b[38;5;241m=\u001b[39m OPTIONS[MISSING_OPTIONS][name]\n\u001b[0;32m--> 415\u001b[0m \u001b[38;5;28;01mreturn\u001b[39;00m \u001b[43mkls\u001b[49m\u001b[38;5;241;43m.\u001b[39;49m\u001b[43mexecute\u001b[49m\u001b[43m(\u001b[49m\u001b[43mda\u001b[49m\u001b[43m,\u001b[49m\u001b[43m \u001b[49m\u001b[43mfreq\u001b[49m\u001b[43m,\u001b[49m\u001b[43m \u001b[49m\u001b[43msrc_timestep\u001b[49m\u001b[43m,\u001b[49m\u001b[43m \u001b[49m\u001b[43mopts\u001b[49m\u001b[43m,\u001b[49m\u001b[43m \u001b[49m\u001b[43mindexer\u001b[49m\u001b[43m)\u001b[49m\n",
      "File \u001b[0;32m/srv/conda/envs/notebook/lib/python3.9/site-packages/xclim/core/missing.py:72\u001b[0m, in \u001b[0;36mMissingBase.execute\u001b[0;34m(cls, da, freq, src_timestep, options, indexer)\u001b[0m\n\u001b[1;32m     69\u001b[0m \u001b[38;5;129m@classmethod\u001b[39m\n\u001b[1;32m     70\u001b[0m \u001b[38;5;28;01mdef\u001b[39;00m \u001b[38;5;21mexecute\u001b[39m(\u001b[38;5;28mcls\u001b[39m, da, freq, src_timestep, options, indexer):\n\u001b[1;32m     71\u001b[0m     \u001b[38;5;124;03m\"\"\"Create the instance and call it in one operation.\"\"\"\u001b[39;00m\n\u001b[0;32m---> 72\u001b[0m     obj \u001b[38;5;241m=\u001b[39m \u001b[38;5;28;43mcls\u001b[39;49m\u001b[43m(\u001b[49m\u001b[43mda\u001b[49m\u001b[43m,\u001b[49m\u001b[43m \u001b[49m\u001b[43mfreq\u001b[49m\u001b[43m,\u001b[49m\u001b[43m \u001b[49m\u001b[43msrc_timestep\u001b[49m\u001b[43m,\u001b[49m\u001b[43m \u001b[49m\u001b[38;5;241;43m*\u001b[39;49m\u001b[38;5;241;43m*\u001b[39;49m\u001b[43mindexer\u001b[49m\u001b[43m)\u001b[49m\n\u001b[1;32m     73\u001b[0m     \u001b[38;5;28;01mreturn\u001b[39;00m obj(\u001b[38;5;241m*\u001b[39m\u001b[38;5;241m*\u001b[39moptions)\n",
      "File \u001b[0;32m/srv/conda/envs/notebook/lib/python3.9/site-packages/xclim/core/missing.py:67\u001b[0m, in \u001b[0;36mMissingBase.__init__\u001b[0;34m(self, da, freq, src_timestep, **indexer)\u001b[0m\n\u001b[1;32m     63\u001b[0m     \u001b[38;5;28;01mif\u001b[39;00m src_timestep \u001b[38;5;129;01mis\u001b[39;00m \u001b[38;5;28;01mNone\u001b[39;00m:\n\u001b[1;32m     64\u001b[0m         \u001b[38;5;28;01mraise\u001b[39;00m \u001b[38;5;167;01mValueError\u001b[39;00m(\n\u001b[1;32m     65\u001b[0m             \u001b[38;5;124m\"\u001b[39m\u001b[38;5;124m`src_timestep` must be given as it cannot be inferred.\u001b[39m\u001b[38;5;124m\"\u001b[39m\n\u001b[1;32m     66\u001b[0m         )\n\u001b[0;32m---> 67\u001b[0m \u001b[38;5;28mself\u001b[39m\u001b[38;5;241m.\u001b[39mnull, \u001b[38;5;28mself\u001b[39m\u001b[38;5;241m.\u001b[39mcount \u001b[38;5;241m=\u001b[39m \u001b[38;5;28;43mself\u001b[39;49m\u001b[38;5;241;43m.\u001b[39;49m\u001b[43mprepare\u001b[49m\u001b[43m(\u001b[49m\u001b[43mda\u001b[49m\u001b[43m,\u001b[49m\u001b[43m \u001b[49m\u001b[43mfreq\u001b[49m\u001b[43m,\u001b[49m\u001b[43m \u001b[49m\u001b[43msrc_timestep\u001b[49m\u001b[43m,\u001b[49m\u001b[43m \u001b[49m\u001b[38;5;241;43m*\u001b[39;49m\u001b[38;5;241;43m*\u001b[39;49m\u001b[43mindexer\u001b[49m\u001b[43m)\u001b[49m\n",
      "File \u001b[0;32m/srv/conda/envs/notebook/lib/python3.9/site-packages/xclim/core/missing.py:126\u001b[0m, in \u001b[0;36mMissingBase.prepare\u001b[0;34m(self, da, freq, src_timestep, **indexer)\u001b[0m\n\u001b[1;32m     99\u001b[0m \u001b[38;5;124;03m\"\"\"Prepare arrays to be fed to the `is_missing` function.\u001b[39;00m\n\u001b[1;32m    100\u001b[0m \n\u001b[1;32m    101\u001b[0m \u001b[38;5;124;03mParameters\u001b[39;00m\n\u001b[0;32m   (...)\u001b[0m\n\u001b[1;32m    123\u001b[0m \u001b[38;5;124;03mflagged.\u001b[39;00m\n\u001b[1;32m    124\u001b[0m \u001b[38;5;124;03m\"\"\"\u001b[39;00m\n\u001b[1;32m    125\u001b[0m \u001b[38;5;66;03m# This function can probably be made simpler once CFPeriodIndex is implemented.\u001b[39;00m\n\u001b[0;32m--> 126\u001b[0m null \u001b[38;5;241m=\u001b[39m \u001b[38;5;28;43mself\u001b[39;49m\u001b[38;5;241;43m.\u001b[39;49m\u001b[43mis_null\u001b[49m\u001b[43m(\u001b[49m\u001b[43mda\u001b[49m\u001b[43m,\u001b[49m\u001b[43m \u001b[49m\u001b[43mfreq\u001b[49m\u001b[43m,\u001b[49m\u001b[43m \u001b[49m\u001b[38;5;241;43m*\u001b[39;49m\u001b[38;5;241;43m*\u001b[39;49m\u001b[43mindexer\u001b[49m\u001b[43m)\u001b[49m\n\u001b[1;32m    128\u001b[0m pfreq, anchor \u001b[38;5;241m=\u001b[39m \u001b[38;5;28mself\u001b[39m\u001b[38;5;241m.\u001b[39msplit_freq(freq)\n\u001b[1;32m    130\u001b[0m c \u001b[38;5;241m=\u001b[39m null\u001b[38;5;241m.\u001b[39msum(dim\u001b[38;5;241m=\u001b[39m\u001b[38;5;124m\"\u001b[39m\u001b[38;5;124mtime\u001b[39m\u001b[38;5;124m\"\u001b[39m)\n",
      "File \u001b[0;32m/srv/conda/envs/notebook/lib/python3.9/site-packages/xclim/core/missing.py:94\u001b[0m, in \u001b[0;36mMissingBase.is_null\u001b[0;34m(da, freq, **indexer)\u001b[0m\n\u001b[1;32m     92\u001b[0m null \u001b[38;5;241m=\u001b[39m selected\u001b[38;5;241m.\u001b[39misnull()\n\u001b[1;32m     93\u001b[0m \u001b[38;5;28;01mif\u001b[39;00m freq:\n\u001b[0;32m---> 94\u001b[0m     \u001b[38;5;28;01mreturn\u001b[39;00m \u001b[43mnull\u001b[49m\u001b[38;5;241;43m.\u001b[39;49m\u001b[43mresample\u001b[49m\u001b[43m(\u001b[49m\u001b[43mtime\u001b[49m\u001b[38;5;241;43m=\u001b[39;49m\u001b[43mfreq\u001b[49m\u001b[43m)\u001b[49m\n\u001b[1;32m     96\u001b[0m \u001b[38;5;28;01mreturn\u001b[39;00m null\n",
      "File \u001b[0;32m/srv/conda/envs/notebook/lib/python3.9/site-packages/xarray/core/common.py:1166\u001b[0m, in \u001b[0;36mDataWithCoords.resample\u001b[0;34m(self, indexer, skipna, closed, label, base, keep_attrs, loffset, restore_coord_dims, **indexer_kwargs)\u001b[0m\n\u001b[1;32m   1160\u001b[0m         grouper \u001b[38;5;241m=\u001b[39m pd\u001b[38;5;241m.\u001b[39mGrouper(\n\u001b[1;32m   1161\u001b[0m             freq\u001b[38;5;241m=\u001b[39mfreq, closed\u001b[38;5;241m=\u001b[39mclosed, label\u001b[38;5;241m=\u001b[39mlabel, base\u001b[38;5;241m=\u001b[39mbase, loffset\u001b[38;5;241m=\u001b[39mloffset\n\u001b[1;32m   1162\u001b[0m         )\n\u001b[1;32m   1163\u001b[0m group \u001b[38;5;241m=\u001b[39m DataArray(\n\u001b[1;32m   1164\u001b[0m     dim_coord, coords\u001b[38;5;241m=\u001b[39mdim_coord\u001b[38;5;241m.\u001b[39mcoords, dims\u001b[38;5;241m=\u001b[39mdim_coord\u001b[38;5;241m.\u001b[39mdims, name\u001b[38;5;241m=\u001b[39mRESAMPLE_DIM\n\u001b[1;32m   1165\u001b[0m )\n\u001b[0;32m-> 1166\u001b[0m resampler \u001b[38;5;241m=\u001b[39m \u001b[38;5;28;43mself\u001b[39;49m\u001b[38;5;241;43m.\u001b[39;49m\u001b[43m_resample_cls\u001b[49m\u001b[43m(\u001b[49m\n\u001b[1;32m   1167\u001b[0m \u001b[43m    \u001b[49m\u001b[38;5;28;43mself\u001b[39;49m\u001b[43m,\u001b[49m\n\u001b[1;32m   1168\u001b[0m \u001b[43m    \u001b[49m\u001b[43mgroup\u001b[49m\u001b[38;5;241;43m=\u001b[39;49m\u001b[43mgroup\u001b[49m\u001b[43m,\u001b[49m\n\u001b[1;32m   1169\u001b[0m \u001b[43m    \u001b[49m\u001b[43mdim\u001b[49m\u001b[38;5;241;43m=\u001b[39;49m\u001b[43mdim_name\u001b[49m\u001b[43m,\u001b[49m\n\u001b[1;32m   1170\u001b[0m \u001b[43m    \u001b[49m\u001b[43mgrouper\u001b[49m\u001b[38;5;241;43m=\u001b[39;49m\u001b[43mgrouper\u001b[49m\u001b[43m,\u001b[49m\n\u001b[1;32m   1171\u001b[0m \u001b[43m    \u001b[49m\u001b[43mresample_dim\u001b[49m\u001b[38;5;241;43m=\u001b[39;49m\u001b[43mRESAMPLE_DIM\u001b[49m\u001b[43m,\u001b[49m\n\u001b[1;32m   1172\u001b[0m \u001b[43m    \u001b[49m\u001b[43mrestore_coord_dims\u001b[49m\u001b[38;5;241;43m=\u001b[39;49m\u001b[43mrestore_coord_dims\u001b[49m\u001b[43m,\u001b[49m\n\u001b[1;32m   1173\u001b[0m \u001b[43m\u001b[49m\u001b[43m)\u001b[49m\n\u001b[1;32m   1175\u001b[0m \u001b[38;5;28;01mreturn\u001b[39;00m resampler\n",
      "File \u001b[0;32m/srv/conda/envs/notebook/lib/python3.9/site-packages/xarray/core/resample.py:176\u001b[0m, in \u001b[0;36mDataArrayResample.__init__\u001b[0;34m(self, dim, resample_dim, *args, **kwargs)\u001b[0m\n\u001b[1;32m    173\u001b[0m \u001b[38;5;28mself\u001b[39m\u001b[38;5;241m.\u001b[39m_dim \u001b[38;5;241m=\u001b[39m dim\n\u001b[1;32m    174\u001b[0m \u001b[38;5;28mself\u001b[39m\u001b[38;5;241m.\u001b[39m_resample_dim \u001b[38;5;241m=\u001b[39m resample_dim\n\u001b[0;32m--> 176\u001b[0m \u001b[38;5;28;43msuper\u001b[39;49m\u001b[43m(\u001b[49m\u001b[43m)\u001b[49m\u001b[38;5;241;43m.\u001b[39;49m\u001b[38;5;21;43m__init__\u001b[39;49m\u001b[43m(\u001b[49m\u001b[38;5;241;43m*\u001b[39;49m\u001b[43margs\u001b[49m\u001b[43m,\u001b[49m\u001b[43m \u001b[49m\u001b[38;5;241;43m*\u001b[39;49m\u001b[38;5;241;43m*\u001b[39;49m\u001b[43mkwargs\u001b[49m\u001b[43m)\u001b[49m\n",
      "File \u001b[0;32m/srv/conda/envs/notebook/lib/python3.9/site-packages/xarray/core/groupby.py:345\u001b[0m, in \u001b[0;36mGroupBy.__init__\u001b[0;34m(self, obj, group, squeeze, grouper, bins, restore_coord_dims, cut_kwargs)\u001b[0m\n\u001b[1;32m    342\u001b[0m     full_index \u001b[38;5;241m=\u001b[39m binned\u001b[38;5;241m.\u001b[39mcategories\n\u001b[1;32m    344\u001b[0m \u001b[38;5;28;01mif\u001b[39;00m grouper \u001b[38;5;129;01mis\u001b[39;00m \u001b[38;5;129;01mnot\u001b[39;00m \u001b[38;5;28;01mNone\u001b[39;00m:\n\u001b[0;32m--> 345\u001b[0m     index \u001b[38;5;241m=\u001b[39m \u001b[43msafe_cast_to_index\u001b[49m\u001b[43m(\u001b[49m\u001b[43mgroup\u001b[49m\u001b[43m)\u001b[49m\n\u001b[1;32m    346\u001b[0m     \u001b[38;5;28;01mif\u001b[39;00m \u001b[38;5;129;01mnot\u001b[39;00m index\u001b[38;5;241m.\u001b[39mis_monotonic_increasing:\n\u001b[1;32m    347\u001b[0m         \u001b[38;5;66;03m# TODO: sort instead of raising an error\u001b[39;00m\n\u001b[1;32m    348\u001b[0m         \u001b[38;5;28;01mraise\u001b[39;00m \u001b[38;5;167;01mValueError\u001b[39;00m(\u001b[38;5;124m\"\u001b[39m\u001b[38;5;124mindex must be monotonic for resampling\u001b[39m\u001b[38;5;124m\"\u001b[39m)\n",
      "File \u001b[0;32m/srv/conda/envs/notebook/lib/python3.9/site-packages/xarray/core/utils.py:116\u001b[0m, in \u001b[0;36msafe_cast_to_index\u001b[0;34m(array)\u001b[0m\n\u001b[1;32m    114\u001b[0m         kwargs[\u001b[38;5;124m\"\u001b[39m\u001b[38;5;124mdtype\u001b[39m\u001b[38;5;124m\"\u001b[39m] \u001b[38;5;241m=\u001b[39m \u001b[38;5;28mobject\u001b[39m\n\u001b[1;32m    115\u001b[0m     index \u001b[38;5;241m=\u001b[39m pd\u001b[38;5;241m.\u001b[39mIndex(np\u001b[38;5;241m.\u001b[39masarray(array), \u001b[38;5;241m*\u001b[39m\u001b[38;5;241m*\u001b[39mkwargs)\n\u001b[0;32m--> 116\u001b[0m \u001b[38;5;28;01mreturn\u001b[39;00m \u001b[43m_maybe_cast_to_cftimeindex\u001b[49m\u001b[43m(\u001b[49m\u001b[43mindex\u001b[49m\u001b[43m)\u001b[49m\n",
      "File \u001b[0;32m/srv/conda/envs/notebook/lib/python3.9/site-packages/xarray/core/utils.py:65\u001b[0m, in \u001b[0;36m_maybe_cast_to_cftimeindex\u001b[0;34m(index)\u001b[0m\n\u001b[1;32m     63\u001b[0m \u001b[38;5;28;01mif\u001b[39;00m \u001b[38;5;28mlen\u001b[39m(index) \u001b[38;5;241m>\u001b[39m \u001b[38;5;241m0\u001b[39m \u001b[38;5;129;01mand\u001b[39;00m index\u001b[38;5;241m.\u001b[39mdtype \u001b[38;5;241m==\u001b[39m \u001b[38;5;124m\"\u001b[39m\u001b[38;5;124mO\u001b[39m\u001b[38;5;124m\"\u001b[39m:\n\u001b[1;32m     64\u001b[0m     \u001b[38;5;28;01mtry\u001b[39;00m:\n\u001b[0;32m---> 65\u001b[0m         \u001b[38;5;28;01mreturn\u001b[39;00m \u001b[43mCFTimeIndex\u001b[49m\u001b[43m(\u001b[49m\u001b[43mindex\u001b[49m\u001b[43m)\u001b[49m\n\u001b[1;32m     66\u001b[0m     \u001b[38;5;28;01mexcept\u001b[39;00m (\u001b[38;5;167;01mImportError\u001b[39;00m, \u001b[38;5;167;01mTypeError\u001b[39;00m):\n\u001b[1;32m     67\u001b[0m         \u001b[38;5;28;01mreturn\u001b[39;00m index\n",
      "File \u001b[0;32m/srv/conda/envs/notebook/lib/python3.9/site-packages/xarray/coding/cftimeindex.py:314\u001b[0m, in \u001b[0;36mCFTimeIndex.__new__\u001b[0;34m(cls, data, name, **kwargs)\u001b[0m\n\u001b[1;32m    313\u001b[0m \u001b[38;5;28;01mdef\u001b[39;00m \u001b[38;5;21m__new__\u001b[39m(\u001b[38;5;28mcls\u001b[39m, data, name\u001b[38;5;241m=\u001b[39m\u001b[38;5;28;01mNone\u001b[39;00m, \u001b[38;5;241m*\u001b[39m\u001b[38;5;241m*\u001b[39mkwargs):\n\u001b[0;32m--> 314\u001b[0m     \u001b[43massert_all_valid_date_type\u001b[49m\u001b[43m(\u001b[49m\u001b[43mdata\u001b[49m\u001b[43m)\u001b[49m\n\u001b[1;32m    315\u001b[0m     \u001b[38;5;28;01mif\u001b[39;00m name \u001b[38;5;129;01mis\u001b[39;00m \u001b[38;5;28;01mNone\u001b[39;00m \u001b[38;5;129;01mand\u001b[39;00m \u001b[38;5;28mhasattr\u001b[39m(data, \u001b[38;5;124m\"\u001b[39m\u001b[38;5;124mname\u001b[39m\u001b[38;5;124m\"\u001b[39m):\n\u001b[1;32m    316\u001b[0m         name \u001b[38;5;241m=\u001b[39m data\u001b[38;5;241m.\u001b[39mname\n",
      "File \u001b[0;32m/srv/conda/envs/notebook/lib/python3.9/site-packages/xarray/coding/cftimeindex.py:229\u001b[0m, in \u001b[0;36massert_all_valid_date_type\u001b[0;34m(data)\u001b[0m\n\u001b[1;32m    224\u001b[0m \u001b[38;5;28;01mif\u001b[39;00m \u001b[38;5;129;01mnot\u001b[39;00m \u001b[38;5;28misinstance\u001b[39m(sample, cftime\u001b[38;5;241m.\u001b[39mdatetime):\n\u001b[1;32m    225\u001b[0m     \u001b[38;5;28;01mraise\u001b[39;00m \u001b[38;5;167;01mTypeError\u001b[39;00m(\n\u001b[1;32m    226\u001b[0m         \u001b[38;5;124m\"\u001b[39m\u001b[38;5;124mCFTimeIndex requires cftime.datetime \u001b[39m\u001b[38;5;124m\"\u001b[39m\n\u001b[1;32m    227\u001b[0m         \u001b[38;5;124m\"\u001b[39m\u001b[38;5;124mobjects. Got object of \u001b[39m\u001b[38;5;132;01m{}\u001b[39;00m\u001b[38;5;124m.\u001b[39m\u001b[38;5;124m\"\u001b[39m\u001b[38;5;241m.\u001b[39mformat(date_type)\n\u001b[1;32m    228\u001b[0m     )\n\u001b[0;32m--> 229\u001b[0m \u001b[38;5;28;01mif\u001b[39;00m \u001b[38;5;129;01mnot\u001b[39;00m \u001b[38;5;28;43mall\u001b[39;49m\u001b[43m(\u001b[49m\u001b[38;5;28;43misinstance\u001b[39;49m\u001b[43m(\u001b[49m\u001b[43mvalue\u001b[49m\u001b[43m,\u001b[49m\u001b[43m \u001b[49m\u001b[43mdate_type\u001b[49m\u001b[43m)\u001b[49m\u001b[43m \u001b[49m\u001b[38;5;28;43;01mfor\u001b[39;49;00m\u001b[43m \u001b[49m\u001b[43mvalue\u001b[49m\u001b[43m \u001b[49m\u001b[38;5;129;43;01min\u001b[39;49;00m\u001b[43m \u001b[49m\u001b[43mdata\u001b[49m\u001b[43m)\u001b[49m:\n\u001b[1;32m    230\u001b[0m     \u001b[38;5;28;01mraise\u001b[39;00m \u001b[38;5;167;01mTypeError\u001b[39;00m(\n\u001b[1;32m    231\u001b[0m         \u001b[38;5;124m\"\u001b[39m\u001b[38;5;124mCFTimeIndex requires using datetime \u001b[39m\u001b[38;5;124m\"\u001b[39m\n\u001b[1;32m    232\u001b[0m         \u001b[38;5;124m\"\u001b[39m\u001b[38;5;124mobjects of all the same type.  Got\u001b[39m\u001b[38;5;130;01m\\n\u001b[39;00m\u001b[38;5;132;01m{}\u001b[39;00m\u001b[38;5;124m.\u001b[39m\u001b[38;5;124m\"\u001b[39m\u001b[38;5;241m.\u001b[39mformat(data)\n\u001b[1;32m    233\u001b[0m     )\n",
      "File \u001b[0;32m/srv/conda/envs/notebook/lib/python3.9/site-packages/xarray/coding/cftimeindex.py:229\u001b[0m, in \u001b[0;36m<genexpr>\u001b[0;34m(.0)\u001b[0m\n\u001b[1;32m    224\u001b[0m \u001b[38;5;28;01mif\u001b[39;00m \u001b[38;5;129;01mnot\u001b[39;00m \u001b[38;5;28misinstance\u001b[39m(sample, cftime\u001b[38;5;241m.\u001b[39mdatetime):\n\u001b[1;32m    225\u001b[0m     \u001b[38;5;28;01mraise\u001b[39;00m \u001b[38;5;167;01mTypeError\u001b[39;00m(\n\u001b[1;32m    226\u001b[0m         \u001b[38;5;124m\"\u001b[39m\u001b[38;5;124mCFTimeIndex requires cftime.datetime \u001b[39m\u001b[38;5;124m\"\u001b[39m\n\u001b[1;32m    227\u001b[0m         \u001b[38;5;124m\"\u001b[39m\u001b[38;5;124mobjects. Got object of \u001b[39m\u001b[38;5;132;01m{}\u001b[39;00m\u001b[38;5;124m.\u001b[39m\u001b[38;5;124m\"\u001b[39m\u001b[38;5;241m.\u001b[39mformat(date_type)\n\u001b[1;32m    228\u001b[0m     )\n\u001b[0;32m--> 229\u001b[0m \u001b[38;5;28;01mif\u001b[39;00m \u001b[38;5;129;01mnot\u001b[39;00m \u001b[38;5;28mall\u001b[39m(\u001b[38;5;28misinstance\u001b[39m(value, date_type) \u001b[38;5;28;01mfor\u001b[39;00m value \u001b[38;5;129;01min\u001b[39;00m data):\n\u001b[1;32m    230\u001b[0m     \u001b[38;5;28;01mraise\u001b[39;00m \u001b[38;5;167;01mTypeError\u001b[39;00m(\n\u001b[1;32m    231\u001b[0m         \u001b[38;5;124m\"\u001b[39m\u001b[38;5;124mCFTimeIndex requires using datetime \u001b[39m\u001b[38;5;124m\"\u001b[39m\n\u001b[1;32m    232\u001b[0m         \u001b[38;5;124m\"\u001b[39m\u001b[38;5;124mobjects of all the same type.  Got\u001b[39m\u001b[38;5;130;01m\\n\u001b[39;00m\u001b[38;5;132;01m{}\u001b[39;00m\u001b[38;5;124m.\u001b[39m\u001b[38;5;124m\"\u001b[39m\u001b[38;5;241m.\u001b[39mformat(data)\n\u001b[1;32m    233\u001b[0m     )\n",
      "\u001b[0;31mKeyboardInterrupt\u001b[0m: "
     ]
    }
   ],
   "source": [
    "city = 'Moscow'\n",
    "\n",
    "gcms_ks_full = {}\n",
    "downscaled_ks_full = {}\n",
    "\n",
    "start_year = '1979'\n",
    "end_year = '2014'\n",
    "\n",
    "# 'monthly_max', 'warm_spell_duration'\n",
    "# etccdis = ['summer_days', 'tropical_nights', 'wet_days', 'wet_days_thresh']\n",
    "etccdis = ['summer_days', 'tropical_nights', 'wet_days', 'wet_days_thresh', 'annual_precip', 'seasonal_precip', 'seasonal_tasmax', 'seasonal_tasmin', 'days_over_95', 'frost_days', 'consecutive_dry_days', 'days_over_90']\n",
    "'''etccdis = ['summer_days', 'tropical_nights', 'seasonal_tasmax', 'seasonal_tasmin', 'days_over_95', 'days_over_90']'''\n",
    "\n",
    "# models = ['MPI-ESM1-2-HR', 'GFDL-CM4']\n",
    "\n",
    "diag_type = 'city'\n",
    "data_type = 'downscaled'\n",
    "# model = 'GFDL-ESM4'\n",
    "\n",
    "for model in models_dict.keys():\n",
    "    # for model in models:\n",
    "    print(model)\n",
    "    gcm_tests = 0\n",
    "    ds_tests = 0\n",
    "\n",
    "    for etccdi in etccdis:\n",
    "\n",
    "        if (etccdi == 'summer_days') or (etccdi == 'seasonal_tasmax') or (etccdi == 'days_over_95') or (etccdi == 'days_over_90'):\n",
    "            variable = 'tasmax'\n",
    "            var_name = 'tasmax'\n",
    "            start_year = '1979'\n",
    "            end_year = '2014'\n",
    "        elif (etccdi == 'tropical_nights') or (etccdi == 'frost_days') or (etccdi == 'seasonal_tasmin'):\n",
    "            variable = 'tasmin'\n",
    "            var_name = 'tasmin'\n",
    "            start_year = '1979'\n",
    "            end_year = '2014'\n",
    "        else: \n",
    "            variable = 'precip'\n",
    "            var_name = 'pr'\n",
    "            start_year = '1984'\n",
    "            end_year = '2014'\n",
    "\n",
    "        '''print(get_diagnostics_filepath(diag_type, 'reanalysis', institutions, ensemble_members, variable, model, 'historical', validation_period=True))'''\n",
    "        ref = load_zarr(get_diagnostics_filepath(diag_type, 'reanalysis', institutions, ensemble_members, variable, model, 'historical', validation_period=True)).sel(city=city)\n",
    "        # needs units for xclim \n",
    "        if variable == 'tasmax' or variable == 'tasmin':\n",
    "            ref[var_name].attrs['units'] = 'K'\n",
    "        else:\n",
    "            ref[var_name] = ref[var_name] * 1000 # conversion to mm /day \n",
    "            ref[var_name].attrs['units'] = 'mm day-1'\n",
    "        print(get_diagnostics_filepath(diag_type, 'clean', institutions, ensemble_members, variable, model, 'historical'))\n",
    "        gcm = load_zarr(get_diagnostics_filepath(diag_type, 'clean', institutions, ensemble_members, variable, model, 'historical')).sel(city=city)\n",
    "        print(get_diagnostics_filepath(diag_type, 'downscaled', institutions, ensemble_members, variable, model, 'historical'))\n",
    "        downscaled = load_zarr(get_diagnostics_filepath(diag_type, 'downscaled', ds_institutions, ensemble_members, variable, model, 'historical')).sel(city=city)\n",
    "\n",
    "        ks_test_gcm = kstest(compute_etccdi(ref[var_name].sel(time=slice(start_year, end_year)), etccdi), \n",
    "                            compute_etccdi(gcm[var_name].sel(time=slice(start_year, end_year)), etccdi))\n",
    "\n",
    "        ks_test_downscaled = kstest(compute_etccdi(ref[var_name].sel(time=slice(start_year, end_year)), etccdi), \n",
    "                            compute_etccdi(downscaled[var_name].sel(time=slice(start_year, end_year)), etccdi))\n",
    "        \n",
    "        if ks_test_gcm[1] > 0.05:\n",
    "            gcm_tests += 1\n",
    "            gcms_indices_full[(model, etccdi)] = 1.0\n",
    "        else: \n",
    "            gcms_indices_full[(model, etccdi)] = 0.0\n",
    "        if ks_test_downscaled[1] > 0.05:\n",
    "            ds_tests += 1\n",
    "            downscaled_indices_full[(model, etccdi)] = 1.0\n",
    "        else: \n",
    "            downscaled_indices_full[(model, etccdi)] = 0.0\n",
    "    \n",
    "    gcms_ks_full[model] = gcm_tests\n",
    "    downscaled_ks_full[model] = ds_tests"
   ]
  },
  {
   "cell_type": "code",
   "execution_count": 31,
   "id": "20fb961b-6e04-494b-8fd3-bec382554878",
   "metadata": {},
   "outputs": [],
   "source": [
    "# downscaled_indices_full"
   ]
  },
  {
   "cell_type": "code",
   "execution_count": 32,
   "id": "976f54f4-317d-4bb5-bfad-3adbb1b6dd29",
   "metadata": {},
   "outputs": [],
   "source": [
    "import json\n",
    "import ujson\n",
    "\n",
    "# file.write(ujson.dumps(d))\n",
    "\n",
    "with open('/home/jovyan/paper_data/downscaled_{city}.json'.format(city=city), 'w') as fp:\n",
    "    json.dump(downscaled_ks_full, fp)\n",
    "    \n",
    "with open('/home/jovyan/paper_data/downscaled_test_descriptions_{city}.json'.format(city=city), 'w') as fp:\n",
    "    fp.write(ujson.dumps(downscaled_indices_full))\n",
    "    \n",
    "with open('/home/jovyan/paper_data/gcms_{city}.json'.format(city=city), 'w') as fp:\n",
    "    json.dump(gcms_ks_full, fp)\n",
    "    \n",
    "with open('/home/jovyan/paper_data/gcms_test_descriptions_{city}.json'.format(city=city), 'w') as fp:\n",
    "    fp.write(ujson.dumps(gcms_indices_full))"
   ]
  },
  {
   "cell_type": "code",
   "execution_count": 33,
   "id": "6d4dfcf5-97c0-4152-a172-5a57b164c64d",
   "metadata": {},
   "outputs": [
    {
     "data": {
      "text/plain": [
       "\"with open('/home/jovyan/paper_data/gcms_test_descriptions_Dhaka.json') as fp:\\n    test2 = json.load(fp)\""
      ]
     },
     "execution_count": 33,
     "metadata": {},
     "output_type": "execute_result"
    }
   ],
   "source": [
    "'''with open('/home/jovyan/paper_data/gcms_test_descriptions_Dhaka.json') as fp:\n",
    "    test2 = json.load(fp)'''"
   ]
  },
  {
   "cell_type": "code",
   "execution_count": 34,
   "id": "797d407b-41cd-4ac5-b67c-eb3c88d658bd",
   "metadata": {},
   "outputs": [
    {
     "name": "stderr",
     "output_type": "stream",
     "text": [
      "The PostScript backend does not support transparency; partially transparent artists will be rendered opaque.\n"
     ]
    },
    {
     "data": {
      "image/png": "[encoded data removed]",
      "text/plain": [
       "<Figure size 864x288 with 1 Axes>"
      ]
     },
     "metadata": {
      "needs_background": "light"
     },
     "output_type": "display_data"
    },
    {
     "name": "stderr",
     "output_type": "stream",
     "text": [
      "2023-05-03 03:04:50,526 - distributed.client - ERROR - Failed to reconnect to scheduler after 30.00 seconds, closing client\n",
      "Exception in callback None()\n",
      "handle: <Handle cancelled>\n",
      "Traceback (most recent call last):\n",
      "  File \"/srv/conda/envs/notebook/lib/python3.9/site-packages/tornado/iostream.py\", line 1391, in _do_ssl_handshake\n",
      "    self.socket.do_handshake()\n",
      "  File \"/srv/conda/envs/notebook/lib/python3.9/ssl.py\", line 1310, in do_handshake\n",
      "    self._sslobj.do_handshake()\n",
      "ssl.SSLEOFError: EOF occurred in violation of protocol (_ssl.c:1129)\n",
      "\n",
      "During handling of the above exception, another exception occurred:\n",
      "\n",
      "Traceback (most recent call last):\n",
      "  File \"/srv/conda/envs/notebook/lib/python3.9/asyncio/events.py\", line 80, in _run\n",
      "    self._context.run(self._callback, *self._args)\n",
      "  File \"/srv/conda/envs/notebook/lib/python3.9/site-packages/tornado/platform/asyncio.py\", line 189, in _handle_events\n",
      "    handler_func(fileobj, events)\n",
      "  File \"/srv/conda/envs/notebook/lib/python3.9/site-packages/tornado/iostream.py\", line 696, in _handle_events\n",
      "    self._handle_read()\n",
      "  File \"/srv/conda/envs/notebook/lib/python3.9/site-packages/tornado/iostream.py\", line 1478, in _handle_read\n",
      "    self._do_ssl_handshake()\n",
      "  File \"/srv/conda/envs/notebook/lib/python3.9/site-packages/tornado/iostream.py\", line 1400, in _do_ssl_handshake\n",
      "    return self.close(exc_info=err)\n",
      "  File \"/srv/conda/envs/notebook/lib/python3.9/site-packages/tornado/iostream.py\", line 611, in close\n",
      "    self._signal_closed()\n",
      "  File \"/srv/conda/envs/notebook/lib/python3.9/site-packages/tornado/iostream.py\", line 641, in _signal_closed\n",
      "    self._ssl_connect_future.exception()\n",
      "asyncio.exceptions.CancelledError\n",
      "Exception in callback None()\n",
      "handle: <Handle cancelled>\n",
      "Traceback (most recent call last):\n",
      "  File \"/srv/conda/envs/notebook/lib/python3.9/site-packages/tornado/iostream.py\", line 1391, in _do_ssl_handshake\n",
      "    self.socket.do_handshake()\n",
      "  File \"/srv/conda/envs/notebook/lib/python3.9/ssl.py\", line 1310, in do_handshake\n",
      "    self._sslobj.do_handshake()\n",
      "ssl.SSLEOFError: EOF occurred in violation of protocol (_ssl.c:1129)\n",
      "\n",
      "During handling of the above exception, another exception occurred:\n",
      "\n",
      "Traceback (most recent call last):\n",
      "  File \"/srv/conda/envs/notebook/lib/python3.9/asyncio/events.py\", line 80, in _run\n",
      "    self._context.run(self._callback, *self._args)\n",
      "  File \"/srv/conda/envs/notebook/lib/python3.9/site-packages/tornado/platform/asyncio.py\", line 189, in _handle_events\n",
      "    handler_func(fileobj, events)\n",
      "  File \"/srv/conda/envs/notebook/lib/python3.9/site-packages/tornado/iostream.py\", line 696, in _handle_events\n",
      "    self._handle_read()\n",
      "  File \"/srv/conda/envs/notebook/lib/python3.9/site-packages/tornado/iostream.py\", line 1478, in _handle_read\n",
      "    self._do_ssl_handshake()\n",
      "  File \"/srv/conda/envs/notebook/lib/python3.9/site-packages/tornado/iostream.py\", line 1400, in _do_ssl_handshake\n",
      "    return self.close(exc_info=err)\n",
      "  File \"/srv/conda/envs/notebook/lib/python3.9/site-packages/tornado/iostream.py\", line 611, in close\n",
      "    self._signal_closed()\n",
      "  File \"/srv/conda/envs/notebook/lib/python3.9/site-packages/tornado/iostream.py\", line 641, in _signal_closed\n",
      "    self._ssl_connect_future.exception()\n",
      "asyncio.exceptions.CancelledError\n"
     ]
    }
   ],
   "source": [
    "fig, axes = plt.subplots(1, 1, figsize=(12, 4))\n",
    "\n",
    "axes.bar(*zip(*downscaled_ks_full.items()), width=0.8, linewidth=0.4, align='center', label='downscaled GCMs')\n",
    "axes.bar(*zip(*gcms_ks_full.items()), width=0.4, linewidth=0.4, align='center', label='raw GCMs')\n",
    "plt.xticks(rotation=80)\n",
    "axes.legend(loc='upper center', bbox_to_anchor=(0.5, 1.15),\n",
    "          ncol=2, fancybox=True, shadow=True)\n",
    "axes.set_ylabel('Number of Tests Passed')\n",
    "axes.set_ylim([0, 12])\n",
    "\n",
    "plt.savefig(os.path.join(plot_dir, '{city}_etccdi_indices_full_MORE.eps'.format(city=city)), \n",
    "            bbox_inches='tight', dpi=200)"
   ]
  },
  {
   "cell_type": "code",
   "execution_count": null,
   "id": "722ec14f-cb1e-4f3d-b357-a340fa55b851",
   "metadata": {},
   "outputs": [],
   "source": [
    "downscaled_ks_full"
   ]
  },
  {
   "cell_type": "markdown",
   "id": "0648d6ac-8a9f-4a89-9e0f-b3a0a76868d5",
   "metadata": {},
   "source": [
    "### switch to qq plots ###"
   ]
  },
  {
   "cell_type": "code",
   "execution_count": null,
   "id": "29d4e3b7-887a-4c78-b89e-54752dc4a082",
   "metadata": {},
   "outputs": [],
   "source": [
    "ds_etccdi = []\n",
    "gcm_etccdi = []\n",
    "\n",
    "model = 'GFDL-CM4'\n",
    "etccdi = 'summer_days'\n",
    "start_year = '1995'\n",
    "end_year = '2014'\n",
    "var_name = 'tasmax'\n",
    "\n",
    "diag_type = 'city'\n",
    "ref = load_zarr(get_diagnostics_filepath(diag_type, 'reanalysis', institutions, ensemble_members, variable, model, 'historical', validation_period=True)).sel(time=slice(start_year, end_year))\n",
    "ref[var_name].attrs['units'] = 'K'\n",
    "ref_etccdi = compute_etccdi(ref['tasmax'], etccdi)\n",
    "\n",
    "for model in models_dict.keys():\n",
    "    print(model)\n",
    "    gcm = load_zarr(get_diagnostics_filepath(diag_type, 'clean', institutions, ensemble_members, variable, model, 'historical')).sel(time=slice(start_year, end_year))\n",
    "    gcm_etccdi.append(compute_etccdi(gcm[var_name], etccdi))\n",
    "    downscaled = load_zarr(get_diagnostics_filepath(diag_type, 'downscaled', ds_institutions, ensemble_members, variable, model, 'historical')).sel(time=slice(start_year, end_year))\n",
    "    ds_etccdi.append(compute_etccdi(downscaled[var_name], etccdi))"
   ]
  },
  {
   "cell_type": "code",
   "execution_count": null,
   "id": "03274f54-3f8b-47b8-a309-f5146d74ae3f",
   "metadata": {},
   "outputs": [],
   "source": [
    "# list(models_dict.keys())\n",
    "ds_etccdi_allmodels = xr.concat(ds_etccdi, pd.Index(list(models_dict.keys()), name=\"model\"))\n",
    "gcm_etccdi_allmodels = xr.concat(gcm_etccdi, pd.Index(list(models_dict.keys()), name=\"model\"))"
   ]
  },
  {
   "cell_type": "code",
   "execution_count": null,
   "id": "ee7479ce-a4b9-46a0-b880-4d5c9446f5bb",
   "metadata": {},
   "outputs": [],
   "source": [
    "'''city = 'Paris'\n",
    "fig, axes = plt.subplots(1, 1, figsize=(6, 4))\n",
    "\n",
    "qqplot_2samples(sm.ProbPlot(ref_etccdi.sel(city=city)), sm.ProbPlot(ds_etccdi_allmodels.sel(model=model, city=city)), line='45', ax=axes, **kwargs={'markerfacecolor': 'green'})\n",
    "qqplot_2samples(sm.ProbPlot(ref_etccdi.sel(city=city)), sm.ProbPlot(gcm_etccdi_allmodels.sel(model=model, city=city)), ax=axes, markerfacecolor='green')\n",
    "axes.plot(sm.ProbPlot(ref_etccdi.sel(city=city)), sm.ProbPlot(ds_etccdi_allmodels.sel(model=model, city=city)))'''"
   ]
  },
  {
   "cell_type": "code",
   "execution_count": null,
   "id": "3d426184-2116-4edd-a59b-920c3486a4ad",
   "metadata": {},
   "outputs": [],
   "source": [
    "fig, axes = plt.subplots(1, 1, figsize=(6, 4))\n",
    "city = 'Tokyo'\n",
    "\n",
    "arr = ds_etccdi_allmodels.sel(model=model, city=city)\n",
    "\n",
    "# plt.plot(np.sort(arr), np.linspace(0, 1, len(arr), endpoint=False))\n",
    "plt.plot(np.sort(ref_etccdi.sel(city=city)), np.sort(ds_etccdi_allmodels.sel(model=model, city=city)), 'bo', label='downscaled')\n",
    "\n",
    "plt.plot(np.sort(ref_etccdi.sel(city=city)), np.sort(gcm_etccdi_allmodels.sel(model=model, city=city)), 'ro', label='raw GCM')\n",
    "\n",
    "axes.axline((0, 0), slope=1)\n",
    "axes.legend(loc='lower right')\n",
    "ylim = 120\n",
    "axes.set_ylim([0, ylim])\n",
    "axes.set_xlim([0, ylim])"
   ]
  },
  {
   "cell_type": "code",
   "execution_count": null,
   "id": "670ea08e-d60f-4017-895d-09230d90b453",
   "metadata": {},
   "outputs": [],
   "source": [
    "fig, axes = plt.subplots(1, 1, figsize=(6, 4))\n",
    "city = 'Tokyo'\n",
    "\n",
    "arr = ds_etccdi_allmodels.sel(model=model, city=city)\n",
    "\n",
    "# plt.plot(np.sort(arr), np.linspace(0, 1, len(arr), endpoint=False))\n",
    "for model in models_dict.keys():\n",
    "    plt.plot(np.sort(ref_etccdi.sel(city=city)), np.sort(ds_etccdi_allmodels.sel(model=model, city=city)), 'bo', label='downscaled')\n",
    "\n",
    "    plt.plot(np.sort(ref_etccdi.sel(city=city)), np.sort(gcm_etccdi_allmodels.sel(model=model, city=city)), 'ro', label='raw GCM')\n",
    "\n",
    "axes.axline((0, 0), slope=1)\n",
    "# axes.legend(loc='lower right')\n",
    "ylim = 120\n",
    "axes.set_ylim([0, ylim])\n",
    "axes.set_xlim([0, ylim])"
   ]
  },
  {
   "cell_type": "code",
   "execution_count": null,
   "id": "955c0731-b4c4-4d89-ac34-7400fb4b6fb1",
   "metadata": {},
   "outputs": [],
   "source": [
    "np.random.seed(1234)\n",
    "df = pd.DataFrame(np.random.randn(10, 4),\n",
    "                  columns=['Col1', 'Col2', 'Col3', 'Col4'])"
   ]
  },
  {
   "cell_type": "code",
   "execution_count": null,
   "id": "ecf6dd9f-453b-4dcc-b8f6-651ac354bed7",
   "metadata": {},
   "outputs": [],
   "source": [
    "city = 'Paris'\n",
    "\n",
    "gcms_etccdi = {}\n",
    "downscaled_etccdi = {}\n",
    "ref_etccdi = {}\n",
    "\n",
    "start_year = '1979'\n",
    "end_year = '2014'\n",
    "\n",
    "# 'monthly_max', 'warm_spell_duration'\n",
    "# etccdis = ['summer_days', 'tropical_nights', 'wet_days', 'wet_days_thresh']\n",
    "etccdis = ['summer_days', 'tropical_nights', 'wet_days', 'wet_days_thresh', 'annual_precip', 'seasonal_precip', 'seasonal_tasmax', 'seasonal_tasmin', 'days_over_95', 'frost_days', 'consecutive_dry_days', 'days_over_90']\n",
    "'''etccdis = ['summer_days', 'tropical_nights', 'seasonal_tasmax', 'seasonal_tasmin', 'days_over_95', 'days_over_90']'''\n",
    "\n",
    "# models = ['MPI-ESM1-2-HR', 'GFDL-CM4']\n",
    "\n",
    "diag_type = 'city'\n",
    "data_type = 'downscaled'\n",
    "# model = 'GFDL-ESM4'\n",
    "\n",
    "for model in models_dict.keys():\n",
    "    # for model in models:\n",
    "    print(model)\n",
    "    gcm_tests = 0\n",
    "    ds_tests = 0\n",
    "\n",
    "    for etccdi in etccdis:\n",
    "\n",
    "        if (etccdi == 'summer_days') or (etccdi == 'seasonal_tasmax') or (etccdi == 'days_over_95') or (etccdi == 'days_over_90'):\n",
    "            variable = 'tasmax'\n",
    "            var_name = 'tasmax'\n",
    "            start_year = '1979'\n",
    "            end_year = '2014'\n",
    "        elif (etccdi == 'tropical_nights') or (etccdi == 'frost_days') or (etccdi == 'seasonal_tasmin'):\n",
    "            variable = 'tasmin'\n",
    "            var_name = 'tasmin'\n",
    "            start_year = '1979'\n",
    "            end_year = '2014'\n",
    "        else: \n",
    "            variable = 'precip'\n",
    "            var_name = 'pr'\n",
    "            start_year = '1984'\n",
    "            end_year = '2014'\n",
    "\n",
    "        '''print(get_diagnostics_filepath(diag_type, 'reanalysis', institutions, ensemble_members, variable, model, 'historical', validation_period=True))'''\n",
    "        ref = load_zarr(get_diagnostics_filepath(diag_type, 'reanalysis', institutions, ensemble_members, variable, model, 'historical', validation_period=True)).sel(city=city)\n",
    "        # needs units for xclim \n",
    "        if variable == 'tasmax' or variable == 'tasmin':\n",
    "            ref[var_name].attrs['units'] = 'K'\n",
    "        else:\n",
    "            ref[var_name] = ref[var_name] * 1000 # conversion to mm /day \n",
    "            ref[var_name].attrs['units'] = 'mm day-1'\n",
    "        # print(get_diagnostics_filepath(diag_type, 'clean', institutions, ensemble_members, variable, model, 'historical'))\n",
    "        gcm = load_zarr(get_diagnostics_filepath(diag_type, 'clean', institutions, ensemble_members, variable, model, 'historical')).sel(city=city)\n",
    "        # print(get_diagnostics_filepath(diag_type, 'downscaled', institutions, ensemble_members, variable, model, 'historical'))\n",
    "        downscaled = load_zarr(get_diagnostics_filepath(diag_type, 'downscaled', ds_institutions, ensemble_members, variable, model, 'historical')).sel(city=city)\n",
    "\n",
    "        ks_test_gcm = kstest(compute_etccdi(ref[var_name].sel(time=slice(start_year, end_year)), etccdi), \n",
    "                            compute_etccdi(gcm[var_name].sel(time=slice(start_year, end_year)), etccdi))\n",
    "\n",
    "        ks_test_downscaled = kstest(compute_etccdi(ref[var_name].sel(time=slice(start_year, end_year)), etccdi), \n",
    "                            compute_etccdi(downscaled[var_name].sel(time=slice(start_year, end_year)), etccdi))\n",
    "        \n",
    "        if ks_test_gcm[1] > 0.05:\n",
    "            gcm_tests += 1\n",
    "            gcms_indices_full[(model, etccdi)] = 1.0\n",
    "        else: \n",
    "            gcms_indices_full[(model, etccdi)] = 0.0\n",
    "        if ks_test_downscaled[1] > 0.05:\n",
    "            ds_tests += 1\n",
    "            downscaled_indices_full[(model, etccdi)] = 1.0\n",
    "        else: \n",
    "            downscaled_indices_full[(model, etccdi)] = 0.0\n",
    "    \n",
    "    gcms_ks_full[model] = gcm_tests\n",
    "    downscaled_ks_full[model] = ds_tests"
   ]
  }
 ],
 "metadata": {
  "kernelspec": {
   "display_name": "Python 3 (ipykernel)",
   "language": "python",
   "name": "python3"
  },
  "language_info": {
   "codemirror_mode": {
    "name": "ipython",
    "version": 3
   },
   "file_extension": ".py",
   "mimetype": "text/x-python",
   "name": "python",
   "nbconvert_exporter": "python",
   "pygments_lexer": "ipython3",
   "version": "3.9.13"
  },
  "widgets": {
   "application/vnd.jupyter.widget-state+json": {
    "state": {
     "069811d9e84e4c9c924d1a867ecc9481": {
      "model_module": "@jupyter-widgets/controls",
      "model_module_version": "1.5.0",
      "model_name": "DescriptionStyleModel",
      "state": {
       "description_width": ""
      }
     },
     "0a1210b975664c5bbdbe8e5676aee4f5": {
      "model_module": "@jupyter-widgets/controls",
      "model_module_version": "1.5.0",
      "model_name": "DescriptionStyleModel",
      "state": {
       "description_width": ""
      }
     },
     "0e99dc96aa364d73931cf4086844f6c3": {
      "model_module": "@jupyter-widgets/controls",
      "model_module_version": "1.5.0",
      "model_name": "DescriptionStyleModel",
      "state": {
       "description_width": ""
      }
     },
     "0fd69546e16c428e86dd70fc79f3266f": {
      "model_module": "@jupyter-widgets/base",
      "model_module_version": "1.2.0",
      "model_name": "LayoutModel",
      "state": {}
     },
     "2e8c83d129b8447887c3cd8ab9e7f371": {
      "model_module": "@jupyter-widgets/controls",
      "model_module_version": "1.5.0",
      "model_name": "DescriptionStyleModel",
      "state": {
       "description_width": ""
      }
     },
     "38d7152939cc4be6be19a8fd19e0dbad": {
      "model_module": "@jupyter-widgets/controls",
      "model_module_version": "1.5.0",
      "model_name": "HTMLModel",
      "state": {
       "layout": "IPY_MODEL_85b2c470a4d14d008a5aeceb44d31c54",
       "style": "IPY_MODEL_7e7e7201077846c8ac532f7d5e698181",
       "value": "\n<div>\n<style scoped>\n    .dataframe tbody tr th:only-of-type {\n        vertical-align: middle;\n    }\n\n    .dataframe tbody tr th {\n        vertical-align: top;\n    }\n\n    .dataframe thead th {\n        text-align: right;\n    }\n</style>\n<table style=\"text-align: right;\">\n    <tr><th>Workers</th> <td>0</td></tr>\n    <tr><th>Threads</th> <td>0</td></tr>\n    <tr><th>Memory</th> <td>0 B</td></tr>\n</table>\n</div>\n"
      }
     },
     "47a2566d74fb4dc4b721b36121e23f72": {
      "model_module": "@jupyter-widgets/controls",
      "model_module_version": "1.5.0",
      "model_name": "DescriptionStyleModel",
      "state": {
       "description_width": ""
      }
     },
     "481e8ed8c5c1480a9434f0673b52900f": {
      "model_module": "@jupyter-widgets/controls",
      "model_module_version": "1.5.0",
      "model_name": "IntTextModel",
      "state": {
       "description": "Maximum",
       "layout": "IPY_MODEL_b18a91e75f37404c9e6b90083f4811d5",
       "step": 1,
       "style": "IPY_MODEL_0a1210b975664c5bbdbe8e5676aee4f5"
      }
     },
     "503b522a0caf4e328a11498aee0c439d": {
      "model_module": "@jupyter-widgets/base",
      "model_module_version": "1.2.0",
      "model_name": "LayoutModel",
      "state": {
       "min_width": "500px"
      }
     },
     "5244ec29df4643a7889f4af9fc651785": {
      "model_module": "@jupyter-widgets/controls",
      "model_module_version": "1.5.0",
      "model_name": "AccordionModel",
      "state": {
       "_titles": {
        "0": "Manual Scaling",
        "1": "Adaptive Scaling"
       },
       "children": [
        "IPY_MODEL_5ef4195a7da9462d866ca6851bdc12b1",
        "IPY_MODEL_70958fd6bce24886a7b983cb434388d3"
       ],
       "layout": "IPY_MODEL_503b522a0caf4e328a11498aee0c439d"
      }
     },
     "5c835fe3bfad4062a4bf91ecb80943e9": {
      "model_module": "@jupyter-widgets/base",
      "model_module_version": "1.2.0",
      "model_name": "LayoutModel",
      "state": {}
     },
     "5ef4195a7da9462d866ca6851bdc12b1": {
      "model_module": "@jupyter-widgets/controls",
      "model_module_version": "1.5.0",
      "model_name": "HBoxModel",
      "state": {
       "children": [
        "IPY_MODEL_cd274b46a4c843a0b3fc7837131d1dae",
        "IPY_MODEL_adbbfa070efd46ceb1470c5c12badb29"
       ],
       "layout": "IPY_MODEL_0fd69546e16c428e86dd70fc79f3266f"
      }
     },
     "6f07270d3e6544ba8346f2ae1ea42f33": {
      "model_module": "@jupyter-widgets/base",
      "model_module_version": "1.2.0",
      "model_name": "LayoutModel",
      "state": {}
     },
     "70958fd6bce24886a7b983cb434388d3": {
      "model_module": "@jupyter-widgets/controls",
      "model_module_version": "1.5.0",
      "model_name": "HBoxModel",
      "state": {
       "children": [
        "IPY_MODEL_fb211fa8aa754373802f63693c31c7e0",
        "IPY_MODEL_481e8ed8c5c1480a9434f0673b52900f",
        "IPY_MODEL_fae511bf851e481192f130e173776841"
       ],
       "layout": "IPY_MODEL_5c835fe3bfad4062a4bf91ecb80943e9"
      }
     },
     "73c5cb89d18e4f3e8abd018fac5cdf47": {
      "model_module": "@jupyter-widgets/controls",
      "model_module_version": "1.5.0",
      "model_name": "VBoxModel",
      "state": {
       "children": [
        "IPY_MODEL_80eeebc600e444e7b16a6ddc7656799a",
        "IPY_MODEL_e46d5f60a5be40a083fda3ebe4d9ed4d",
        "IPY_MODEL_da3ed5973a86402a8ab67cb9f57592a2",
        "IPY_MODEL_f4d6ecf8bac54ef3bb4cc8c77ecbbf7e"
       ],
       "layout": "IPY_MODEL_ce795d6ebd2345e2b0f6c5d69a8ce20c"
      }
     },
     "7e7e7201077846c8ac532f7d5e698181": {
      "model_module": "@jupyter-widgets/controls",
      "model_module_version": "1.5.0",
      "model_name": "DescriptionStyleModel",
      "state": {
       "description_width": ""
      }
     },
     "80eeebc600e444e7b16a6ddc7656799a": {
      "model_module": "@jupyter-widgets/controls",
      "model_module_version": "1.5.0",
      "model_name": "HTMLModel",
      "state": {
       "layout": "IPY_MODEL_6f07270d3e6544ba8346f2ae1ea42f33",
       "style": "IPY_MODEL_2e8c83d129b8447887c3cd8ab9e7f371",
       "value": "<h2>GatewayCluster</h2>"
      }
     },
     "85b2c470a4d14d008a5aeceb44d31c54": {
      "model_module": "@jupyter-widgets/base",
      "model_module_version": "1.2.0",
      "model_name": "LayoutModel",
      "state": {
       "min_width": "150px"
      }
     },
     "9f59884f7a1646c2b5cf77f860cebbea": {
      "model_module": "@jupyter-widgets/controls",
      "model_module_version": "1.5.0",
      "model_name": "ButtonStyleModel",
      "state": {}
     },
     "a5f0b92f888f40b98f51cfcdac52c1b4": {
      "model_module": "@jupyter-widgets/base",
      "model_module_version": "1.2.0",
      "model_name": "LayoutModel",
      "state": {}
     },
     "adbbfa070efd46ceb1470c5c12badb29": {
      "model_module": "@jupyter-widgets/controls",
      "model_module_version": "1.5.0",
      "model_name": "ButtonModel",
      "state": {
       "description": "Scale",
       "layout": "IPY_MODEL_b18a91e75f37404c9e6b90083f4811d5",
       "style": "IPY_MODEL_c197baf71d3a4f88b6f0bd9eafb0ddd3"
      }
     },
     "b18a91e75f37404c9e6b90083f4811d5": {
      "model_module": "@jupyter-widgets/base",
      "model_module_version": "1.2.0",
      "model_name": "LayoutModel",
      "state": {
       "width": "150px"
      }
     },
     "c197baf71d3a4f88b6f0bd9eafb0ddd3": {
      "model_module": "@jupyter-widgets/controls",
      "model_module_version": "1.5.0",
      "model_name": "ButtonStyleModel",
      "state": {}
     },
     "cd274b46a4c843a0b3fc7837131d1dae": {
      "model_module": "@jupyter-widgets/controls",
      "model_module_version": "1.5.0",
      "model_name": "IntTextModel",
      "state": {
       "description": "Workers",
       "layout": "IPY_MODEL_b18a91e75f37404c9e6b90083f4811d5",
       "step": 1,
       "style": "IPY_MODEL_47a2566d74fb4dc4b721b36121e23f72",
       "value": 80
      }
     },
     "ce795d6ebd2345e2b0f6c5d69a8ce20c": {
      "model_module": "@jupyter-widgets/base",
      "model_module_version": "1.2.0",
      "model_name": "LayoutModel",
      "state": {}
     },
     "da3ed5973a86402a8ab67cb9f57592a2": {
      "model_module": "@jupyter-widgets/controls",
      "model_module_version": "1.5.0",
      "model_name": "HTMLModel",
      "state": {
       "layout": "IPY_MODEL_a5f0b92f888f40b98f51cfcdac52c1b4",
       "style": "IPY_MODEL_0e99dc96aa364d73931cf4086844f6c3",
       "value": "<p><b>Name: </b>jhub.9fe91a70b14248abbeda81bdd026b9da</p>"
      }
     },
     "e2c0844f1d7844e7b265ee4ec695708a": {
      "model_module": "@jupyter-widgets/controls",
      "model_module_version": "1.5.0",
      "model_name": "DescriptionStyleModel",
      "state": {
       "description_width": ""
      }
     },
     "e46d5f60a5be40a083fda3ebe4d9ed4d": {
      "model_module": "@jupyter-widgets/controls",
      "model_module_version": "1.5.0",
      "model_name": "HBoxModel",
      "state": {
       "children": [
        "IPY_MODEL_38d7152939cc4be6be19a8fd19e0dbad",
        "IPY_MODEL_5244ec29df4643a7889f4af9fc651785"
       ],
       "layout": "IPY_MODEL_f0f734ab046d475396f46b2008bc266c"
      }
     },
     "ee92fc971c2849c282147e29f11e41fd": {
      "model_module": "@jupyter-widgets/base",
      "model_module_version": "1.2.0",
      "model_name": "LayoutModel",
      "state": {}
     },
     "f0f734ab046d475396f46b2008bc266c": {
      "model_module": "@jupyter-widgets/base",
      "model_module_version": "1.2.0",
      "model_name": "LayoutModel",
      "state": {}
     },
     "f4d6ecf8bac54ef3bb4cc8c77ecbbf7e": {
      "model_module": "@jupyter-widgets/controls",
      "model_module_version": "1.5.0",
      "model_name": "HTMLModel",
      "state": {
       "layout": "IPY_MODEL_ee92fc971c2849c282147e29f11e41fd",
       "style": "IPY_MODEL_069811d9e84e4c9c924d1a867ecc9481",
       "value": "<p><b>Dashboard: </b><a href=\"/services/dask-gateway/clusters/jhub.9fe91a70b14248abbeda81bdd026b9da/status\" target=\"_blank\">/services/dask-gateway/clusters/jhub.9fe91a70b14248abbeda81bdd026b9da/status</a></p>\n"
      }
     },
     "fae511bf851e481192f130e173776841": {
      "model_module": "@jupyter-widgets/controls",
      "model_module_version": "1.5.0",
      "model_name": "ButtonModel",
      "state": {
       "description": "Adapt",
       "layout": "IPY_MODEL_b18a91e75f37404c9e6b90083f4811d5",
       "style": "IPY_MODEL_9f59884f7a1646c2b5cf77f860cebbea"
      }
     },
     "fb211fa8aa754373802f63693c31c7e0": {
      "model_module": "@jupyter-widgets/controls",
      "model_module_version": "1.5.0",
      "model_name": "IntTextModel",
      "state": {
       "description": "Minimum",
       "layout": "IPY_MODEL_b18a91e75f37404c9e6b90083f4811d5",
       "step": 1,
       "style": "IPY_MODEL_e2c0844f1d7844e7b265ee4ec695708a"
      }
     }
    },
    "version_major": 2,
    "version_minor": 0
   }
  }
 },
 "nbformat": 4,
 "nbformat_minor": 5
}
