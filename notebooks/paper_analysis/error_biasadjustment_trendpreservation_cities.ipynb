{
 "cells": [
  {
   "cell_type": "code",
   "execution_count": 1,
   "id": "42081239-ddda-494e-8e8a-d2261d5ec27e",
   "metadata": {
    "ExecuteTime": {
     "end_time": "2023-05-25T19:09:56.292688Z",
     "start_time": "2023-05-25T19:09:54.414134Z"
    }
   },
   "outputs": [
    {
     "name": "stdout",
     "output_type": "stream",
     "text": [
      "Requirement already satisfied: dearprudence==0.2.0 in /srv/conda/envs/notebook/lib/python3.10/site-packages (0.2.0)\r\n",
      "Note: you may need to restart the kernel to use updated packages.\n"
     ]
    }
   ],
   "source": [
    "%pip install --no-deps dearprudence==0.2.0"
   ]
  },
  {
   "cell_type": "code",
   "execution_count": 2,
   "outputs": [],
   "source": [
    "from datatree import DataTree, open_datatree\n",
    "from dearprudence import read_params, SimpleRun\n",
    "import fsspec\n",
    "from functools import cache\n",
    "import numpy as np\n",
    "import os\n",
    "import pandas as pd\n",
    "import seaborn as sns\n",
    "import xarray as xr"
   ],
   "metadata": {
    "collapsed": false,
    "ExecuteTime": {
     "end_time": "2023-05-25T19:09:56.600277Z",
     "start_time": "2023-05-25T19:09:56.292562Z"
    }
   }
  },
  {
   "cell_type": "code",
   "execution_count": 3,
   "outputs": [],
   "source": [
    "PLOT_DIR = '/gcs/impactlab-data/climate/downscaling/paper/'\n",
    "SCRATCH_PREFIX = f\"{os.environ['CIL_SCRATCH_PREFIX']}/{os.environ['JUPYTERHUB_USER']}\"\n",
    "OUTPUT_CITY_SERIES_ZARR = f\"{SCRATCH_PREFIX}/toy_cities_error_all_gcms.zarr\"\n",
    "GDPCIR_MODELS = (\n",
    "    \"ACCESS-CM2\",\n",
    "    \"ACCESS-ESM1-5\",\n",
    "    \"BCC-CSM2-MR\",\n",
    "    \"CMCC-ESM2\",\n",
    "    \"CMCC-CM2-SR5\",\n",
    "    \"CanESM5\",\n",
    "    \"EC-Earth3-Veg\",\n",
    "    \"EC-Earth3-CC\",\n",
    "    \"EC-Earth3\",\n",
    "    \"EC-Earth3-AerChem\",\n",
    "    \"EC-Earth3-Veg-LR\",\n",
    "    \"FGOALS-g3\",\n",
    "    \"GFDL-CM4\",\n",
    "    \"GFDL-ESM4\",\n",
    "    \"HadGEM3-GC31-LL\",\n",
    "    \"UKESM1-0-LL\",\n",
    "    \"INM-CM4-8\",\n",
    "    \"INM-CM5-0\",\n",
    "    \"MIROC6\",\n",
    "    \"MIROC-ES2L\",\n",
    "    \"MPI-ESM1-2-HR\",\n",
    "    \"MPI-ESM1-2-LR\",\n",
    "    \"NESM3\",\n",
    "    \"NorESM2-LM\",\n",
    "    \"NorESM2-MM\",\n",
    ")"
   ],
   "metadata": {
    "collapsed": false,
    "ExecuteTime": {
     "end_time": "2023-05-25T19:09:56.602242Z",
     "start_time": "2023-05-25T19:09:56.600501Z"
    }
   }
  },
  {
   "cell_type": "code",
   "execution_count": 4,
   "outputs": [],
   "source": [
    "@cache\n",
    "def dc6run_parameters() -> list[list[SimpleRun]]:\n",
    "    \"\"\"Gets a list of all the project's run metadata from parameter files in repo\n",
    "    \"\"\"\n",
    "    fs = fsspec.filesystem(\n",
    "        \"github\",\n",
    "        org=\"climateimpactlab\",\n",
    "        repo=\"downscaleCMIP6\",\n",
    "        branch=\"master\",\n",
    "    )\n",
    "    paths = fs.glob(\"workflows/parameters/*.yaml\")\n",
    "    return [read_params(fs.open(fl)) for fl in paths]\n",
    "\n",
    "\n",
    "def clean_input_data() -> DataTree:\n",
    "    \"\"\"Clean and standardize input data\n",
    "\n",
    "    This takes around 5-10 minutes to run on my notebook server without dask-distributed.\n",
    "\n",
    "    Returns\n",
    "    -------\n",
    "    DataTree\n",
    "        A DataTree with data required for error stats, ready for analysis.\n",
    "        It has nodes for each of the terms we need for the calculation:\n",
    "        ``y_sim_fut``, ``x_sim_fut``, `y_sim_hist``, ``x_sim_hist``,\n",
    "        ``x_obs_hist``.\n",
    "    \"\"\"\n",
    "    # Grab all the metadata we need from the runs used in the GDPCIR.\n",
    "    targets = []\n",
    "    for fl_params in dc6run_parameters():\n",
    "        for run in fl_params:\n",
    "            # NOTE: We only want info from the historical runs that are\n",
    "            # actually in the GDPCIR release. The historical runs include\n",
    "            # information for the future SSP experiments we need.\n",
    "            if run.historical.source_id in GDPCIR_MODELS and run.target == \"historical\":\n",
    "                targets.append((run.historical, run.ssp))\n",
    "\n",
    "    # Use the targets metadata to grab the diagnostic data we need and standardize it into a\n",
    "    # DataTree for all GCMs.\n",
    "    all_ds = {\n",
    "        \"y_sim_fut\": [],\n",
    "        \"x_sim_fut\": [],\n",
    "        \"y_sim_hist\": [],\n",
    "        \"x_sim_hist\": [],\n",
    "        \"x_obs_hist\": [],\n",
    "    }\n",
    "    for historical, ssp in targets:\n",
    "        # Deal with inconsistent diagnostic city files names for\n",
    "        # precipitation data.\n",
    "        file_var_name = historical.variable_id\n",
    "        variable = historical.variable_id\n",
    "        if variable == \"pr\":\n",
    "            variable = \"precip\"\n",
    "\n",
    "        # And yes, someone made a mistake and x_sim_hist needs its\n",
    "        # institution_id from the ssp (not historical) otherwise it\n",
    "        # will throw an error.\n",
    "        input_urls = dict(\n",
    "            y_sim_fut=f'gs://downscaled-48ec31ab/diagnostics/RELEASE-v1.1/daily-{variable}-diagnostics/{ssp.activity_id}/{ssp.institution_id}/{ssp.source_id}/{ssp.experiment_id}/{ssp.member_id}/day/{file_var_name}/v1.1.zarr',\n",
    "            y_sim_hist=f'gs://downscaled-48ec31ab/diagnostics/RELEASE-v1.1/daily-{variable}-diagnostics/{historical.activity_id}/{historical.institution_id}/{historical.source_id}/{historical.experiment_id}/{historical.member_id}/day/{file_var_name}/v1.1.zarr',\n",
    "            x_sim_fut=f'gs://downscaled-48ec31ab/diagnostics/RELEASE-v1.1/clean-daily-{variable}-diagnostics/{ssp.activity_id}/{ssp.institution_id}/{ssp.source_id}/{ssp.experiment_id}/{ssp.member_id}/day/{file_var_name}/v1.1.zarr',\n",
    "            x_sim_hist=f'gs://downscaled-48ec31ab/diagnostics/RELEASE-v1.1/clean-daily-{variable}-diagnostics/{historical.activity_id}/{ssp.institution_id}/{historical.source_id}/{historical.experiment_id}/{historical.member_id}/day/{file_var_name}/v1.1.zarr',\n",
    "        )\n",
    "\n",
    "        for series_name, url in input_urls.items():\n",
    "            ds = xr.open_zarr(url)\n",
    "            # Squeeze and reset because have extra bnd and lat,lon coords that\n",
    "            # make merging difficult later.\n",
    "            ds = ds.squeeze(drop=True)\n",
    "            ds = ds.reset_coords(drop=True)\n",
    "            ds = ds.expand_dims({\n",
    "                \"source_id\": [historical.source_id],\n",
    "            })\n",
    "            all_ds[series_name].append(ds)\n",
    "\n",
    "    # Now parse the reference (reanalysis) data.\n",
    "    series_name = \"x_obs_hist\"\n",
    "    for file_var_name in (\"pr\", \"tasmax\", \"tasmin\"):\n",
    "        variable = file_var_name\n",
    "        if variable == \"pr\":\n",
    "            variable = \"precip\"\n",
    "        input_url = f\"gs://downscaled-48ec31ab/diagnostics/RELEASE-v1.1/daily-{variable}-diagnostics/reanalysis/ERA5/F320/{file_var_name}/v1.1.zarr\"\n",
    "        ds = xr.open_zarr(input_url)\n",
    "        ds = ds.squeeze(drop=True)\n",
    "        ds = ds.reset_coords(drop=True)\n",
    "        all_ds[series_name].append(ds)\n",
    "\n",
    "    dt = DataTree.from_dict({k: xr.merge(v) for k, v in all_ds.items()})\n",
    "    return dt"
   ],
   "metadata": {
    "collapsed": false,
    "ExecuteTime": {
     "end_time": "2023-05-25T19:09:56.643278Z",
     "start_time": "2023-05-25T19:09:56.600829Z"
    }
   }
  },
  {
   "cell_type": "code",
   "execution_count": 5,
   "outputs": [],
   "source": [
    "dt = clean_input_data()\n",
    "# Stash in scratch so we don't need to run this a bunch of times while we\n",
    "# play with the math and plots below.\n",
    "dt.to_zarr(OUTPUT_CITY_SERIES_ZARR, mode=\"w\")"
   ],
   "metadata": {
    "collapsed": false,
    "ExecuteTime": {
     "end_time": "2023-05-25T19:21:35.747242Z",
     "start_time": "2023-05-25T19:09:56.643535Z"
    }
   }
  },
  {
   "cell_type": "code",
   "execution_count": 6,
   "outputs": [],
   "source": [
    "# Compute errors for cities on cleaned data.\n",
    "dt = open_datatree(OUTPUT_CITY_SERIES_ZARR, engine=\"zarr\")\n",
    "\n",
    "# Slice future and historical periods for each of the input series.\n",
    "fut = slice(\"2079-12-16\",\"2100-01-15\")\n",
    "hist = slice(\"1994-12-16\",\"2015-01-15\")\n",
    "for series in (\"y_sim_hist\", \"x_sim_hist\", \"x_obs_hist\"):\n",
    "    dt[series] = dt[series].sel(time=hist)\n",
    "for series in (\"y_sim_fut\", \"x_sim_fut\"):\n",
    "    dt[series] = dt[series].sel(time=fut)\n",
    "\n",
    "# Aggregate across time to dayofyear. Need to do this with\n",
    "# \"map_over_subtree()\" because datatree doesn't yet support rolling.\n",
    "dt = dt.map_over_subtree(\n",
    "    lambda ds: ds.rolling(dim={\"time\":31}, center=True).mean().groupby(\"time.dayofyear\").mean()\n",
    ")"
   ],
   "metadata": {
    "collapsed": false,
    "ExecuteTime": {
     "end_time": "2023-05-25T19:21:42.960003Z",
     "start_time": "2023-05-25T19:21:35.751280Z"
    }
   }
  },
  {
   "cell_type": "code",
   "execution_count": 7,
   "outputs": [],
   "source": [
    "y_dif = dt[\"y_sim_fut\"] - dt[\"y_sim_hist\"]\n",
    "x_dif = dt[\"x_sim_fut\"] - dt[\"x_sim_hist\"]\n",
    "y_obs_dif = dt[\"y_sim_hist\"] - dt[\"x_obs_hist\"]\n",
    "\n",
    "y_ratio = dt[\"y_sim_fut\"] / dt[\"y_sim_hist\"]\n",
    "x_ratio = dt[\"x_sim_fut\"] / dt[\"x_sim_hist\"]\n",
    "y_obs_ratio = dt[\"y_sim_hist\"] / dt[\"x_obs_hist\"]"
   ],
   "metadata": {
    "collapsed": false,
    "ExecuteTime": {
     "end_time": "2023-05-25T19:21:42.966549Z",
     "start_time": "2023-05-25T19:21:42.961725Z"
    }
   }
  },
  {
   "cell_type": "code",
   "execution_count": 8,
   "outputs": [],
   "source": [
    "e_trend = np.abs(y_dif - x_dif).median(dim=\"dayofyear\")\n",
    "e_bias = np.abs(y_obs_dif).median(dim=\"dayofyear\")\n",
    "\n",
    "\n",
    "# Doing ratios for precipitation, only.\n",
    "e_trend[\"pr\"] = np.abs(y_ratio / x_ratio).median(dim=\"dayofyear\")[\"pr\"]\n",
    "e_bias[\"pr\"] = np.abs(y_obs_ratio).median(dim=\"dayofyear\")[\"pr\"]"
   ],
   "metadata": {
    "collapsed": false,
    "ExecuteTime": {
     "end_time": "2023-05-25T19:21:42.993514Z",
     "start_time": "2023-05-25T19:21:42.963174Z"
    }
   }
  },
  {
   "cell_type": "code",
   "execution_count": 9,
   "outputs": [],
   "source": [
    "# Now reformat the stats so we can plot it in seaborn.\n",
    "all_df = []\n",
    "for var_name in e_trend.data_vars:\n",
    "    trend_df = e_trend.ds[var_name].to_pandas()\n",
    "    trend_df = trend_df.reset_index().melt(id_vars=\"source_id\")\n",
    "    trend_df[\"variable\"] = var_name\n",
    "    trend_df[\"stat_name\"] = \"Trend Preservation\"\n",
    "    all_df.append(trend_df)\n",
    "\n",
    "    bias_df = e_bias.ds[var_name].to_pandas()\n",
    "    bias_df = bias_df.reset_index().melt(id_vars=\"source_id\")\n",
    "    bias_df[\"variable\"] = var_name\n",
    "    bias_df[\"stat_name\"] = \"Bias Adjustment\"\n",
    "    all_df.append(bias_df)\n",
    "e_df = pd.concat(all_df)\n",
    "\n",
    "for c in (\"source_id\", \"city\", \"variable\", \"stat_name\"):\n",
    "    e_df[c] = e_df[c].astype(\"category\")\n",
    "\n",
    "e_df[\"variable_name\"] = e_df[\"variable\"].map(\n",
    "    {\n",
    "        \"tasmax\": \"Maximum Temperature\",\n",
    "        \"tasmin\": \"Minimum Temperature\",\n",
    "        \"pr\": \"Precipitation\",\n",
    "    }\n",
    ")"
   ],
   "metadata": {
    "collapsed": false,
    "ExecuteTime": {
     "end_time": "2023-05-25T19:21:43.030448Z",
     "start_time": "2023-05-25T19:21:43.014708Z"
    }
   }
  },
  {
   "cell_type": "code",
   "execution_count": 10,
   "outputs": [
    {
     "data": {
      "text/plain": "       source_id   city     value variable           stat_name   \n227  BCC-CSM2-MR  Miami  0.580622       pr  Trend Preservation  \\\n227  BCC-CSM2-MR  Miami  0.963698       pr     Bias Adjustment   \n227  BCC-CSM2-MR  Miami  1.924103   tasmax  Trend Preservation   \n227  BCC-CSM2-MR  Miami  0.030396   tasmax     Bias Adjustment   \n227  BCC-CSM2-MR  Miami  2.313843   tasmin  Trend Preservation   \n227  BCC-CSM2-MR  Miami  0.128326   tasmin     Bias Adjustment   \n\n           variable_name  \n227        Precipitation  \n227        Precipitation  \n227  Maximum Temperature  \n227  Maximum Temperature  \n227  Minimum Temperature  \n227  Minimum Temperature  ",
      "text/html": "<div>\n<style scoped>\n    .dataframe tbody tr th:only-of-type {\n        vertical-align: middle;\n    }\n\n    .dataframe tbody tr th {\n        vertical-align: top;\n    }\n\n    .dataframe thead th {\n        text-align: right;\n    }\n</style>\n<table border=\"1\" class=\"dataframe\">\n  <thead>\n    <tr style=\"text-align: right;\">\n      <th></th>\n      <th>source_id</th>\n      <th>city</th>\n      <th>value</th>\n      <th>variable</th>\n      <th>stat_name</th>\n      <th>variable_name</th>\n    </tr>\n  </thead>\n  <tbody>\n    <tr>\n      <th>227</th>\n      <td>BCC-CSM2-MR</td>\n      <td>Miami</td>\n      <td>0.580622</td>\n      <td>pr</td>\n      <td>Trend Preservation</td>\n      <td>Precipitation</td>\n    </tr>\n    <tr>\n      <th>227</th>\n      <td>BCC-CSM2-MR</td>\n      <td>Miami</td>\n      <td>0.963698</td>\n      <td>pr</td>\n      <td>Bias Adjustment</td>\n      <td>Precipitation</td>\n    </tr>\n    <tr>\n      <th>227</th>\n      <td>BCC-CSM2-MR</td>\n      <td>Miami</td>\n      <td>1.924103</td>\n      <td>tasmax</td>\n      <td>Trend Preservation</td>\n      <td>Maximum Temperature</td>\n    </tr>\n    <tr>\n      <th>227</th>\n      <td>BCC-CSM2-MR</td>\n      <td>Miami</td>\n      <td>0.030396</td>\n      <td>tasmax</td>\n      <td>Bias Adjustment</td>\n      <td>Maximum Temperature</td>\n    </tr>\n    <tr>\n      <th>227</th>\n      <td>BCC-CSM2-MR</td>\n      <td>Miami</td>\n      <td>2.313843</td>\n      <td>tasmin</td>\n      <td>Trend Preservation</td>\n      <td>Minimum Temperature</td>\n    </tr>\n    <tr>\n      <th>227</th>\n      <td>BCC-CSM2-MR</td>\n      <td>Miami</td>\n      <td>0.128326</td>\n      <td>tasmin</td>\n      <td>Bias Adjustment</td>\n      <td>Minimum Temperature</td>\n    </tr>\n  </tbody>\n</table>\n</div>"
     },
     "execution_count": 10,
     "metadata": {},
     "output_type": "execute_result"
    }
   ],
   "source": [
    "# Sanity check:\n",
    "e_df.query(\"city == 'Miami' and source_id == 'BCC-CSM2-MR'\")"
   ],
   "metadata": {
    "collapsed": false,
    "ExecuteTime": {
     "end_time": "2023-05-25T19:21:43.051957Z",
     "start_time": "2023-05-25T19:21:43.038060Z"
    }
   }
  },
  {
   "cell_type": "code",
   "execution_count": 11,
   "outputs": [
    {
     "data": {
      "text/plain": "<Figure size 1118.13x800 with 3 Axes>",
      "image/png": "[encoded data removed]"
     },
     "metadata": {},
     "output_type": "display_data"
    }
   ],
   "source": [
    "sns.set_style(style=\"ticks\")\n",
    "sns.set_context(\"paper\")\n",
    "g = sns.FacetGrid(\n",
    "    e_df,\n",
    "    col=\"variable_name\",\n",
    "    height=8,\n",
    "    aspect=0.4,\n",
    "    legend_out=True,\n",
    ")\n",
    "g.map_dataframe(\n",
    "    sns.boxplot,\n",
    "    x=\"value\",\n",
    "    y=\"city\",\n",
    "    orient=\"h\",\n",
    "    hue=\"stat_name\",\n",
    "    showfliers=False,\n",
    "    width=0.4,\n",
    ")\n",
    "g.set_titles(col_template=\"{col_name}\")\n",
    "g.set_ylabels(\"\")\n",
    "g.set_xlabels(\"Median Absolute Error\")\n",
    "g.axes[0, 0].set_xlabel(\"Median Absolute Error (ratio)\")\n",
    "g.axes[0, 1].set_xlabel(\"Median Absolute Error (°C)\")\n",
    "g.axes[0, 2].set_xlabel(\"Median Absolute Error (°C)\")\n",
    "\n",
    "g.add_legend()\n",
    "for x, ax in g.axes_dict.items():\n",
    "    ax.xaxis.grid(True)\n",
    "\n",
    "g.despine(left=False, trim=True)\n",
    "g.fig.savefig(os.path.join(PLOT_DIR, 'cities_abs_rel_daily_error.png'),\n",
    "              bbox_inches='tight', dpi=200)"
   ],
   "metadata": {
    "collapsed": false,
    "ExecuteTime": {
     "end_time": "2023-05-25T19:21:46.869145Z",
     "start_time": "2023-05-25T19:21:43.057226Z"
    }
   }
  },
  {
   "cell_type": "markdown",
   "source": [
    "y-axis:\n",
    "- rolling 31 day mean for future 20 year period, then daily climatology from that\n",
    "- subtract the same object but for the historical period\n",
    "- this will give the daily average \"trend\", or difference in daily value from the historical to future period for a given city\n",
    "- plot the `median` of the daily errors\n",
    "    - try `mean` instead? different quantiles of errors?\n",
    "- we're comparing the mean \"trend\" we get from the cleaned data (so it's been regridded) to the final downscaled data to see how well these trends are being maintained\n",
    "  - try doing quantiles instead of climatology/rolling means?\n",
    "\n",
    "x-axis:\n",
    "- rolling 31 day mean for GCM historical period, then daily climatology from that\n",
    "- subtract the same object from the REFERENCE\n",
    "- this will give the historcial bias *after adjustment*, so the remaining bias *of the mean* in the historical period\n",
    "\n",
    "---\n",
    "\n",
    "Let $\\hat{}$ represent a rolling 31-day mean, and $\\bar{}$ represent the 20-year mean for each day, then the 20-year daily mean of the rolling 31-day mean of the bias-adjusted historical GCM is $\\hat{\\bar{y}}^{sim}_{hist}$ and of the reference data is $\\hat{\\bar{x}}^{obs}_{hist}$. The result is a daily climatology of the smoothed daily time series.\n",
    "\n",
    "\n",
    "Then the error between the bias-adjusted historical data is the median of daily errors:\n",
    "\n",
    "$$ e = median(|\\hat{\\bar{y}}^{sim}_{hist} - \\hat{\\bar{x}}^{obs}_{hist}|)$$\n",
    "\n",
    "\n",
    "----\n",
    "Parking Lot\n",
    "\n",
    "\n",
    "Rolling mean:\n",
    "$$ \\hat{y_t} = (1/31 \\sum_{t=i-15}^{i+15} y_t ) \\forall t \\in time series$$\n",
    "\n",
    "Daily average over years:\n",
    "$$ y^{sim}_{hist} = 1/20 \\sum_{t=1995}^{2014} \\hat{y_{td}} \\forall d \\in [1,365] $$\n",
    "$$ x^{obs}_{hist} = 1/20 \\sum_{t=1995}^{2014} \\hat{x_{td}} \\forall d \\in [1,365] $$\n",
    "\n",
    "Error:\n",
    "$$ e = |y^{sim}_{hist} - x^{obs}_{hist}|$$\n",
    "\n",
    "---\n",
    "RESULTS\n",
    "\n",
    "How to read:\n",
    "- points greater than 1:1 line have trend bias that is > historical bias (this is preferred to the reverse)\n",
    "    - TODO articulate why ----\n",
    "\n",
    "\n",
    "\n",
    "- Max temperature\n",
    "    - trends are mostly < 0.25C different. That's great preservation of mean trends\n",
    "    - there are 3 locations with >1C errors though. Perhaps not bad for a median (of daily) error 100 years later?\n",
    "- Min temperature\n",
    "    - very similar story to max temp\n",
    "- Precip"
   ],
   "metadata": {
    "collapsed": false
   }
  },
  {
   "cell_type": "code",
   "execution_count": 11,
   "outputs": [],
   "source": [],
   "metadata": {
    "collapsed": false,
    "ExecuteTime": {
     "end_time": "2023-05-25T19:21:46.874815Z",
     "start_time": "2023-05-25T19:21:46.869965Z"
    }
   }
  }
 ],
 "metadata": {
  "kernelspec": {
   "display_name": "Python 3 (ipykernel)",
   "language": "python",
   "name": "python3"
  },
  "language_info": {
   "codemirror_mode": {
    "name": "ipython",
    "version": 3
   },
   "file_extension": ".py",
   "mimetype": "text/x-python",
   "name": "python",
   "nbconvert_exporter": "python",
   "pygments_lexer": "ipython3",
   "version": "3.10.10"
  },
  "widgets": {
   "application/vnd.jupyter.widget-state+json": {
    "state": {},
    "version_major": 2,
    "version_minor": 0
   }
  }
 },
 "nbformat": 4,
 "nbformat_minor": 5
}
