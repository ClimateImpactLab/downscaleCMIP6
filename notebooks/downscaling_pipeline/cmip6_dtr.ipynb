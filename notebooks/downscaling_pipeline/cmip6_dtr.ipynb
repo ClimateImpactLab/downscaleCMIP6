{
 "cells": [
  {
   "cell_type": "code",
   "execution_count": null,
   "metadata": {},
   "outputs": [],
   "source": [
    "# !pip install intake==0.6.2\n",
    "# ! pip install intake-esm==2021.1.15"
   ]
  },
  {
   "cell_type": "code",
   "execution_count": 1,
   "metadata": {},
   "outputs": [],
   "source": [
    "%matplotlib inline\n",
    "import intake\n",
    "import xarray as xr\n",
    "import os \n",
    "import pandas as pd\n",
    "import numpy as np\n",
    "import zarr \n",
    "import gcsfs\n",
    "from xarray.ufuncs import maximum, minimum\n",
    "import rhg_compute_tools.kubernetes as rhgk\n",
    "\n",
    "import matplotlib.pyplot as plt\n",
    "import re\n",
    "import yaml\n",
    "import ast\n",
    "import warnings "
   ]
  },
  {
   "cell_type": "markdown",
   "metadata": {},
   "source": [
    "### Note that `intake` and `intake-esm` versions must be `0.6.2` and `2021.1.15` respectively for `bnds`, `lat_bnds`, and `lon_bnds` to be preserved in the CMIP6 data. "
   ]
  },
  {
   "cell_type": "code",
   "execution_count": 15,
   "metadata": {},
   "outputs": [
    {
     "name": "stdout",
     "output_type": "stream",
     "text": [
      "0.6.2\n"
     ]
    }
   ],
   "source": [
    "print(intake.__version__)"
   ]
  },
  {
   "cell_type": "code",
   "execution_count": 66,
   "metadata": {},
   "outputs": [
    {
     "name": "stderr",
     "output_type": "stream",
     "text": [
      "<ipython-input-66-a4ebb10b4b70>:3: UserWarning: Double check that you have installed intake-esm (the 2021.1.15 version specified above), otherwise the bnds, lat_bnds, and lon_bdns will not be loaded               in any Pangeo CMIP6 datasets in the cat.to_dataset_dict step\n",
      "  warnings.warn(\"Double check that you have installed intake-esm (the 2021.1.15 version specified above), otherwise the bnds, lat_bnds, and lon_bdns will not be loaded \\\n"
     ]
    }
   ],
   "source": [
    "if intake.__version__ != '0.6.2':\n",
    "    raise AssertionError(\"this workflow requires version 0.6.2 of intake\")\n",
    "warnings.warn(\"Double check that you have installed intake-esm (the 2021.1.15 version specified above), otherwise the bnds, lat_bnds, and lon_bdns will not be loaded \\\n",
    "              in any Pangeo CMIP6 datasets in the cat.to_dataset_dict step\")"
   ]
  },
  {
   "cell_type": "code",
   "execution_count": 3,
   "metadata": {},
   "outputs": [],
   "source": [
    "from science_validation_manual import read_gcs_zarr"
   ]
  },
  {
   "cell_type": "code",
   "execution_count": 4,
   "metadata": {},
   "outputs": [],
   "source": [
    "fs = gcsfs.GCSFileSystem(token='/opt/gcsfuse_tokens/impactlab-data.json')"
   ]
  },
  {
   "cell_type": "code",
   "execution_count": 6,
   "metadata": {},
   "outputs": [],
   "source": [
    "# col = intake.open_esm_datastore(\"https://storage.googleapis.com/cmip6/pangeo-cmip6.json\")\n",
    "col = intake.open_esm_datastore(\"https://storage.googleapis.com/cmip6/pangeo-cmip6-noQC.json\")"
   ]
  },
  {
   "cell_type": "code",
   "execution_count": 7,
   "metadata": {},
   "outputs": [],
   "source": [
    "def _paramfile_to_tuple(model, variable):\n",
    "    \"\"\"\n",
    "    takes in a model and variable, returns tuple from parameter file. \n",
    "    \"\"\"\n",
    "    param_file = '/home/jovyan/downscaling/downscale/workflows/parameters/{}-{}.yaml'.format(model, variable)\n",
    "    with open(param_file, 'r') as f:\n",
    "        var_dict = yaml.full_load(f)\n",
    "    # some string parsing \n",
    "    line = var_dict['jobs']\n",
    "    line1 = re.sub(r\"\\n\", \"\", line)\n",
    "    line2 = re.sub(r\"[\\[\\]]\", \"\", line1)\n",
    "    return ast.literal_eval(line2.strip())\n",
    "\n",
    "def _get_cmip6_dataset(model, variable, tuple_id, period='ssp'):\n",
    "    d_ssp = _paramfile_to_tuple(model, variable)[tuple_id][period]\n",
    "    cat = col.search(\n",
    "              activity_id=d_ssp['activity_id'],\n",
    "              experiment_id=d_ssp['experiment_id'],\n",
    "              table_id=d_ssp['table_id'],\n",
    "              variable_id=d_ssp['variable_id'],\n",
    "              source_id=d_ssp['source_id'],\n",
    "              member_id=d_ssp['member_id'],\n",
    "              grid_label=d_ssp['grid_label'],\n",
    "              version=int(d_ssp['version']),\n",
    "          )\n",
    "    return cat.to_dataset_dict(progressbar=False)\n",
    "\n",
    "def compute_dtr(model, tuple_id=1):\n",
    "    \"\"\"\n",
    "    takes in tasmax and tasmin Datasets, computes DTR (returns it lazily)\n",
    "    \"\"\"\n",
    "    tasmax = _get_cmip6_dataset(model, 'tasmax', tuple_id)\n",
    "    k_tasmax = list(tasmax.keys())\n",
    "    if len(k_tasmax) != 1:\n",
    "        raise ValueError(\"there is likely an issue with {} tasmax\".format(model))\n",
    "    tasmin = _get_cmip6_dataset(model, 'tasmin', tuple_id)\n",
    "    k_tasmin = list(tasmin.keys())\n",
    "    if len(k_tasmin) != 1:\n",
    "        raise ValueError(\"there is likely an issue with {} tasmin\".format(model))\n",
    "    return tasmax[k_tasmax[0]]['tasmax'] - tasmin[k_tasmin[0]]['tasmin'] \n",
    "\n",
    "def check_dtr(dtr, model):\n",
    "    \"\"\"\n",
    "    \"\"\"\n",
    "    min_dtr = dtr.min('time')\n",
    "    neg_count = min_dtr.where(min_dtr < 0).count().values\n",
    "    zero_count = min_dtr.where(min_dtr == 0).count().values\n",
    "    if neg_count > 0:\n",
    "        warnings.warn(\"DTR has {} negative values for {}, {} needs tasmin/tasmax swapping\".format(neg_count, model, model))\n",
    "    if zero_count > 0:\n",
    "        warnings.warn(\"DTR has {} zero values for {}\".format(zero_count, model))"
   ]
  },
  {
   "cell_type": "markdown",
   "metadata": {},
   "source": [
    "checking models "
   ]
  },
  {
   "cell_type": "markdown",
   "metadata": {},
   "source": [
    "DTR negative: \n",
    "- GFDL-ESM4\n",
    "- GFDL-CM4\n",
    "\n",
    "DTR positive: \n",
    "- CanESM5\n",
    "- INM-CM4-8\n",
    "- INM-CM5-0\n",
    "- NorESM2-MM\n",
    "- NorESM2-LM\n",
    "- MIROC6\n",
    "- EC-Earth3-Veg-LR\n",
    "- EC-Earth3-Veg\n",
    "- EC-Earth3\n",
    "- KIOST-ESM\n",
    "- MIROC-ES2L\n",
    "- MPI-ESM1-2-LR\n",
    "- MPI-ESM1-2-HR\n",
    "- NESM3\n",
    "- MRI-ESM2-0\n",
    "- FGOALS-g3\n",
    "- CMCC-ESM2\n",
    "- BCC-CSM2-MR\n",
    "- AWI-CM-1-1-MR\n",
    "- ACCESS-CM2\n",
    "\n",
    "Parameter files to add or fix (could not check DTR): \n",
    "- UKESM1-0-LL\n",
    "- ACCESS-ESM1-5\n",
    "\n",
    "Tasmin parameter files to add (could not check DTR): \n",
    "- CAMS-CSM1-0"
   ]
  },
  {
   "cell_type": "code",
   "execution_count": 52,
   "metadata": {},
   "outputs": [
    {
     "data": {
      "text/plain": [
       "{'cell_measures': 'area: areacella',\n",
       " 'cell_methods': 'area: mean time: maximum',\n",
       " 'interp_method': 'conserve_order2',\n",
       " 'long_name': 'Daily Maximum Near-Surface Air Temperature',\n",
       " 'original_name': 'tasmax',\n",
       " 'standard_name': 'air_temperature',\n",
       " 'units': 'K'}"
      ]
     },
     "execution_count": 52,
     "metadata": {},
     "output_type": "execute_result"
    }
   ],
   "source": [
    "model = 'GFDL-CM4'\n",
    "'''dtr = compute_dtr(model, tuple_id=0)\n",
    "check_dtr(dtr, model)'''\n",
    "tasmax = _get_cmip6_dataset(model, 'tasmax', 1, period='ssp')\n",
    "k_tasmax = list(tasmax.keys())"
   ]
  },
  {
   "cell_type": "markdown",
   "metadata": {},
   "source": [
    "### For models with negative DTR, swap tasmax and tasmin ### \n",
    "\n",
    "GFDL-CM4: historical, ssp245, ssp585\n",
    "\n",
    "GFDL-ESM4: historical, ssp126, ssp245, ssp370, ssp585"
   ]
  },
  {
   "cell_type": "code",
   "execution_count": 53,
   "metadata": {},
   "outputs": [],
   "source": [
    "def _compute_max_or_min_temperature(model, tuple_id=1, variable='tasmax', ssp_or_historical='ssp'):\n",
    "    \"\"\"\n",
    "    takes in a model source_id, pulls in the required parameter file info, \n",
    "    gets the tasmax and tasmin Datasets from the CMIP6 archive, computes tasmax or tasmin (returns it lazily)\n",
    "    \"\"\"\n",
    "    tasmax = _get_cmip6_dataset(model, 'tasmax', tuple_id, period=ssp_or_historical)\n",
    "    k_tasmax = list(tasmax.keys())\n",
    "    if len(k_tasmax) != 1:\n",
    "        raise ValueError(\"there is likely an issue with {} tasmax\".format(model))\n",
    "    tasmin = _get_cmip6_dataset(model, 'tasmin', tuple_id, period=ssp_or_historical)\n",
    "    k_tasmin = list(tasmin.keys())\n",
    "    if len(k_tasmin) != 1:\n",
    "        raise ValueError(\"there is likely an issue with {} tasmin\".format(model))\n",
    "    ds_tmax = tasmax[k_tasmax[0]].copy()\n",
    "    ds_tmin = tasmin[k_tasmin[0]].copy()\n",
    "        \n",
    "    # compute max or min \n",
    "    if variable == 'tasmax':\n",
    "        tmax = maximum(ds_tmax['tasmax'], ds_tmin['tasmin'])\n",
    "        tmax.attrs = tasmax[k_tasmax[0]]['tasmax'].attrs\n",
    "        ds_tmax['tasmax'] = tmax\n",
    "        return ds_tmax\n",
    "    \n",
    "    elif variable == 'tasmin':\n",
    "        tmin = minimum(ds_tmax['tasmax'], ds_tmin['tasmin'])\n",
    "        tmin.attrs = tasmin[k_tasmin[0]]['tasmin'].attrs\n",
    "        ds_tmin['tasmin'].values = tmin \n",
    "        \n",
    "        return ds_tmin\n",
    "\n",
    "def swap_cmip6_tasmax_or_tasmin(model, tuple_id, variable, ssp='ssp245', target_run='ssp'):\n",
    "    \"\"\"\n",
    "    for select GCMs with negative DTR, this swaps tasmax and tasmin so that tasmax > tasmin \n",
    "    \"\"\"\n",
    "    temp_var = _compute_max_or_min_temperature(model, tuple_id=tuple_id, \n",
    "                                                          variable=variable, ssp_or_historical=target_run)\n",
    "    ds_temp = temp_var.persist()\n",
    "    \n",
    "    if target_run == 'historical':\n",
    "        activity_id = 'CMIP'\n",
    "    else:\n",
    "        activity_id = 'ScenarioMIP'\n",
    "    if model == 'GFDL-CM4':\n",
    "        version = '20180701'\n",
    "    elif model == 'GFDL-ESM4':\n",
    "        if target_run == 'ssp':\n",
    "            version = '20180701'\n",
    "        else:\n",
    "            version = '20190726'\n",
    "\n",
    "    store_filename = ('gs://raw-305d04da/cmip6/{}/NOAA-GFDL/{}/{}/r1i1p1f1/day/{}/gr1/v{}.zarr'.format(activity_id, model, ssp, variable, version))\n",
    "    store = fs.get_mapper(store_filename, check=False)\n",
    "    \n",
    "    ds_temp.chunk({'member_id': 1, 'time': 830, 'lat': len(ds_temp.lat), 'lon': len(ds_temp.lon)}).to_zarr(store, consolidated=True, mode=\"w\")\n",
    "    \n",
    "    print(\"zarr store for {} {} saved to {}\".format(model, ssp, store_filename))"
   ]
  },
  {
   "cell_type": "code",
   "execution_count": 54,
   "metadata": {},
   "outputs": [
    {
     "name": "stderr",
     "output_type": "stream",
     "text": [
      "<ipython-input-53-0429f515085c>:19: FutureWarning: xarray.ufuncs is deprecated. Instead, use numpy ufuncs directly.\n",
      "  tmax = maximum(ds_tmax['tasmax'], ds_tmin['tasmin'])\n",
      "/srv/conda/envs/notebook/lib/python3.8/site-packages/xarray/core/dataarray.py:3081: FutureWarning: xarray.ufuncs is deprecated. Instead, use numpy ufuncs directly.\n",
      "  f(self.variable, other_variable)\n",
      "/srv/conda/envs/notebook/lib/python3.8/site-packages/xarray/core/variable.py:2409: FutureWarning: xarray.ufuncs is deprecated. Instead, use numpy ufuncs directly.\n",
      "  f(self_data, other_data) if not reflexive else f(other_data, self_data)\n"
     ]
    },
    {
     "name": "stdout",
     "output_type": "stream",
     "text": [
      "zarr store for GFDL-CM4 ssp245 saved to gs://raw-305d04da/cmip6/ScenarioMIP/NOAA-GFDL/GFDL-CM4/ssp245/r1i1p1f1/day/tasmax/gr1/v20180701.zarr\n"
     ]
    }
   ],
   "source": [
    "swap_cmip6_tasmax_or_tasmin('GFDL-CM4', 1, 'tasmax', 'ssp245', target_run='ssp')"
   ]
  },
  {
   "cell_type": "code",
   "execution_count": 58,
   "metadata": {},
   "outputs": [
    {
     "name": "stderr",
     "output_type": "stream",
     "text": [
      "<ipython-input-53-0429f515085c>:26: FutureWarning: xarray.ufuncs is deprecated. Instead, use numpy ufuncs directly.\n",
      "  tmin = minimum(ds_tmax['tasmax'], ds_tmin['tasmin'])\n",
      "/srv/conda/envs/notebook/lib/python3.8/site-packages/xarray/core/dataarray.py:3081: FutureWarning: xarray.ufuncs is deprecated. Instead, use numpy ufuncs directly.\n",
      "  f(self.variable, other_variable)\n",
      "/srv/conda/envs/notebook/lib/python3.8/site-packages/xarray/core/variable.py:2409: FutureWarning: xarray.ufuncs is deprecated. Instead, use numpy ufuncs directly.\n",
      "  f(self_data, other_data) if not reflexive else f(other_data, self_data)\n"
     ]
    },
    {
     "name": "stdout",
     "output_type": "stream",
     "text": [
      "zarr store for GFDL-ESM4 historical saved to gs://raw-305d04da/cmip6/CMIP/NOAA-GFDL/GFDL-ESM4/historical/r1i1p1f1/day/tasmin/gr1/v20190726.zarr\n"
     ]
    },
    {
     "name": "stderr",
     "output_type": "stream",
     "text": [
      "<ipython-input-53-0429f515085c>:26: FutureWarning: xarray.ufuncs is deprecated. Instead, use numpy ufuncs directly.\n",
      "  tmin = minimum(ds_tmax['tasmax'], ds_tmin['tasmin'])\n",
      "/srv/conda/envs/notebook/lib/python3.8/site-packages/xarray/core/dataarray.py:3081: FutureWarning: xarray.ufuncs is deprecated. Instead, use numpy ufuncs directly.\n",
      "  f(self.variable, other_variable)\n",
      "/srv/conda/envs/notebook/lib/python3.8/site-packages/xarray/core/variable.py:2409: FutureWarning: xarray.ufuncs is deprecated. Instead, use numpy ufuncs directly.\n",
      "  f(self_data, other_data) if not reflexive else f(other_data, self_data)\n"
     ]
    },
    {
     "name": "stdout",
     "output_type": "stream",
     "text": [
      "zarr store for GFDL-ESM4 ssp370 saved to gs://raw-305d04da/cmip6/ScenarioMIP/NOAA-GFDL/GFDL-ESM4/ssp370/r1i1p1f1/day/tasmin/gr1/v20180701.zarr\n"
     ]
    },
    {
     "name": "stderr",
     "output_type": "stream",
     "text": [
      "<ipython-input-53-0429f515085c>:26: FutureWarning: xarray.ufuncs is deprecated. Instead, use numpy ufuncs directly.\n",
      "  tmin = minimum(ds_tmax['tasmax'], ds_tmin['tasmin'])\n",
      "/srv/conda/envs/notebook/lib/python3.8/site-packages/xarray/core/dataarray.py:3081: FutureWarning: xarray.ufuncs is deprecated. Instead, use numpy ufuncs directly.\n",
      "  f(self.variable, other_variable)\n",
      "/srv/conda/envs/notebook/lib/python3.8/site-packages/xarray/core/variable.py:2409: FutureWarning: xarray.ufuncs is deprecated. Instead, use numpy ufuncs directly.\n",
      "  f(self_data, other_data) if not reflexive else f(other_data, self_data)\n"
     ]
    },
    {
     "name": "stdout",
     "output_type": "stream",
     "text": [
      "zarr store for GFDL-ESM4 ssp245 saved to gs://raw-305d04da/cmip6/ScenarioMIP/NOAA-GFDL/GFDL-ESM4/ssp245/r1i1p1f1/day/tasmin/gr1/v20180701.zarr\n"
     ]
    },
    {
     "name": "stderr",
     "output_type": "stream",
     "text": [
      "<ipython-input-53-0429f515085c>:26: FutureWarning: xarray.ufuncs is deprecated. Instead, use numpy ufuncs directly.\n",
      "  tmin = minimum(ds_tmax['tasmax'], ds_tmin['tasmin'])\n",
      "/srv/conda/envs/notebook/lib/python3.8/site-packages/xarray/core/dataarray.py:3081: FutureWarning: xarray.ufuncs is deprecated. Instead, use numpy ufuncs directly.\n",
      "  f(self.variable, other_variable)\n",
      "/srv/conda/envs/notebook/lib/python3.8/site-packages/xarray/core/variable.py:2409: FutureWarning: xarray.ufuncs is deprecated. Instead, use numpy ufuncs directly.\n",
      "  f(self_data, other_data) if not reflexive else f(other_data, self_data)\n"
     ]
    },
    {
     "name": "stdout",
     "output_type": "stream",
     "text": [
      "zarr store for GFDL-ESM4 ssp126 saved to gs://raw-305d04da/cmip6/ScenarioMIP/NOAA-GFDL/GFDL-ESM4/ssp126/r1i1p1f1/day/tasmin/gr1/v20180701.zarr\n"
     ]
    },
    {
     "name": "stderr",
     "output_type": "stream",
     "text": [
      "<ipython-input-53-0429f515085c>:26: FutureWarning: xarray.ufuncs is deprecated. Instead, use numpy ufuncs directly.\n",
      "  tmin = minimum(ds_tmax['tasmax'], ds_tmin['tasmin'])\n",
      "/srv/conda/envs/notebook/lib/python3.8/site-packages/xarray/core/dataarray.py:3081: FutureWarning: xarray.ufuncs is deprecated. Instead, use numpy ufuncs directly.\n",
      "  f(self.variable, other_variable)\n",
      "/srv/conda/envs/notebook/lib/python3.8/site-packages/xarray/core/variable.py:2409: FutureWarning: xarray.ufuncs is deprecated. Instead, use numpy ufuncs directly.\n",
      "  f(self_data, other_data) if not reflexive else f(other_data, self_data)\n"
     ]
    },
    {
     "name": "stdout",
     "output_type": "stream",
     "text": [
      "zarr store for GFDL-ESM4 ssp585 saved to gs://raw-305d04da/cmip6/ScenarioMIP/NOAA-GFDL/GFDL-ESM4/ssp585/r1i1p1f1/day/tasmin/gr1/v20180701.zarr\n"
     ]
    },
    {
     "name": "stderr",
     "output_type": "stream",
     "text": [
      "<ipython-input-53-0429f515085c>:19: FutureWarning: xarray.ufuncs is deprecated. Instead, use numpy ufuncs directly.\n",
      "  tmax = maximum(ds_tmax['tasmax'], ds_tmin['tasmin'])\n",
      "/srv/conda/envs/notebook/lib/python3.8/site-packages/xarray/core/dataarray.py:3081: FutureWarning: xarray.ufuncs is deprecated. Instead, use numpy ufuncs directly.\n",
      "  f(self.variable, other_variable)\n",
      "/srv/conda/envs/notebook/lib/python3.8/site-packages/xarray/core/variable.py:2409: FutureWarning: xarray.ufuncs is deprecated. Instead, use numpy ufuncs directly.\n",
      "  f(self_data, other_data) if not reflexive else f(other_data, self_data)\n"
     ]
    },
    {
     "name": "stdout",
     "output_type": "stream",
     "text": [
      "zarr store for GFDL-ESM4 historical saved to gs://raw-305d04da/cmip6/CMIP/NOAA-GFDL/GFDL-ESM4/historical/r1i1p1f1/day/tasmax/gr1/v20190726.zarr\n"
     ]
    },
    {
     "name": "stderr",
     "output_type": "stream",
     "text": [
      "<ipython-input-53-0429f515085c>:19: FutureWarning: xarray.ufuncs is deprecated. Instead, use numpy ufuncs directly.\n",
      "  tmax = maximum(ds_tmax['tasmax'], ds_tmin['tasmin'])\n",
      "/srv/conda/envs/notebook/lib/python3.8/site-packages/xarray/core/dataarray.py:3081: FutureWarning: xarray.ufuncs is deprecated. Instead, use numpy ufuncs directly.\n",
      "  f(self.variable, other_variable)\n",
      "/srv/conda/envs/notebook/lib/python3.8/site-packages/xarray/core/variable.py:2409: FutureWarning: xarray.ufuncs is deprecated. Instead, use numpy ufuncs directly.\n",
      "  f(self_data, other_data) if not reflexive else f(other_data, self_data)\n"
     ]
    },
    {
     "name": "stdout",
     "output_type": "stream",
     "text": [
      "zarr store for GFDL-ESM4 ssp370 saved to gs://raw-305d04da/cmip6/ScenarioMIP/NOAA-GFDL/GFDL-ESM4/ssp370/r1i1p1f1/day/tasmax/gr1/v20180701.zarr\n"
     ]
    },
    {
     "name": "stderr",
     "output_type": "stream",
     "text": [
      "<ipython-input-53-0429f515085c>:19: FutureWarning: xarray.ufuncs is deprecated. Instead, use numpy ufuncs directly.\n",
      "  tmax = maximum(ds_tmax['tasmax'], ds_tmin['tasmin'])\n",
      "/srv/conda/envs/notebook/lib/python3.8/site-packages/xarray/core/dataarray.py:3081: FutureWarning: xarray.ufuncs is deprecated. Instead, use numpy ufuncs directly.\n",
      "  f(self.variable, other_variable)\n",
      "/srv/conda/envs/notebook/lib/python3.8/site-packages/xarray/core/variable.py:2409: FutureWarning: xarray.ufuncs is deprecated. Instead, use numpy ufuncs directly.\n",
      "  f(self_data, other_data) if not reflexive else f(other_data, self_data)\n"
     ]
    },
    {
     "name": "stdout",
     "output_type": "stream",
     "text": [
      "zarr store for GFDL-ESM4 ssp245 saved to gs://raw-305d04da/cmip6/ScenarioMIP/NOAA-GFDL/GFDL-ESM4/ssp245/r1i1p1f1/day/tasmax/gr1/v20180701.zarr\n"
     ]
    },
    {
     "name": "stderr",
     "output_type": "stream",
     "text": [
      "<ipython-input-53-0429f515085c>:19: FutureWarning: xarray.ufuncs is deprecated. Instead, use numpy ufuncs directly.\n",
      "  tmax = maximum(ds_tmax['tasmax'], ds_tmin['tasmin'])\n",
      "/srv/conda/envs/notebook/lib/python3.8/site-packages/xarray/core/dataarray.py:3081: FutureWarning: xarray.ufuncs is deprecated. Instead, use numpy ufuncs directly.\n",
      "  f(self.variable, other_variable)\n",
      "/srv/conda/envs/notebook/lib/python3.8/site-packages/xarray/core/variable.py:2409: FutureWarning: xarray.ufuncs is deprecated. Instead, use numpy ufuncs directly.\n",
      "  f(self_data, other_data) if not reflexive else f(other_data, self_data)\n"
     ]
    },
    {
     "name": "stdout",
     "output_type": "stream",
     "text": [
      "zarr store for GFDL-ESM4 ssp126 saved to gs://raw-305d04da/cmip6/ScenarioMIP/NOAA-GFDL/GFDL-ESM4/ssp126/r1i1p1f1/day/tasmax/gr1/v20180701.zarr\n"
     ]
    },
    {
     "name": "stderr",
     "output_type": "stream",
     "text": [
      "<ipython-input-53-0429f515085c>:19: FutureWarning: xarray.ufuncs is deprecated. Instead, use numpy ufuncs directly.\n",
      "  tmax = maximum(ds_tmax['tasmax'], ds_tmin['tasmin'])\n",
      "/srv/conda/envs/notebook/lib/python3.8/site-packages/xarray/core/dataarray.py:3081: FutureWarning: xarray.ufuncs is deprecated. Instead, use numpy ufuncs directly.\n",
      "  f(self.variable, other_variable)\n",
      "/srv/conda/envs/notebook/lib/python3.8/site-packages/xarray/core/variable.py:2409: FutureWarning: xarray.ufuncs is deprecated. Instead, use numpy ufuncs directly.\n",
      "  f(self_data, other_data) if not reflexive else f(other_data, self_data)\n"
     ]
    },
    {
     "name": "stdout",
     "output_type": "stream",
     "text": [
      "zarr store for GFDL-ESM4 ssp585 saved to gs://raw-305d04da/cmip6/ScenarioMIP/NOAA-GFDL/GFDL-ESM4/ssp585/r1i1p1f1/day/tasmax/gr1/v20180701.zarr\n"
     ]
    }
   ],
   "source": [
    "# variables: tasmin and tasmax\n",
    "# models: GFDL-ESM4 (all ssps included in downscaling) and GFDL-CM4 (ssps 245 and 585)\n",
    "model = 'GFDL-ESM4'\n",
    "\n",
    "gfdlcm4_scens = ['historical', 'ssp245', 'ssp585']\n",
    "gfdlesm4_scens = ['historical', 'ssp370', 'ssp245', 'ssp126', 'ssp585']\n",
    "for variable in ['tasmin', 'tasmax']:\n",
    "    for i, tuple_id in enumerate([0, 1, 2, 3, 4]):\n",
    "        if tuple_id != 0:\n",
    "            target_run = 'ssp'\n",
    "        else:\n",
    "            target_run = 'historical'\n",
    "        swap_cmip6_tasmax_or_tasmin(model, tuple_id, variable, gfdlesm4_scens[i], target_run=target_run)"
   ]
  },
  {
   "cell_type": "code",
   "execution_count": 60,
   "metadata": {},
   "outputs": [
    {
     "data": {
      "text/plain": [
       "{'cell_measures': 'area: areacella',\n",
       " 'cell_methods': 'area: mean time: maximum',\n",
       " 'interp_method': 'conserve_order2',\n",
       " 'long_name': 'Daily Maximum Near-Surface Air Temperature',\n",
       " 'original_name': 'tasmax',\n",
       " 'standard_name': 'air_temperature',\n",
       " 'units': 'K'}"
      ]
     },
     "execution_count": 60,
     "metadata": {},
     "output_type": "execute_result"
    }
   ],
   "source": [
    "# ds = read_gcs_zarr('gs://raw-305d04da/cmip6/ScenarioMIP/NOAA-GFDL/GFDL-CM4/ssp245/r1i1p1f1/day/tasmin/gr1/v20180701.zarr')\n",
    "ds = read_gcs_zarr('gs://raw-305d04da/cmip6/ScenarioMIP/NOAA-GFDL/GFDL-ESM4/ssp585/r1i1p1f1/day/tasmax/gr1/v20180701.zarr')\n",
    "ds['tasmax'].attrs"
   ]
  },
  {
   "cell_type": "markdown",
   "metadata": {},
   "source": [
    "check original raw DTR for `GFDL-CM4` ssp245 and then \"updated\" DTR for the same model/ssp "
   ]
  },
  {
   "cell_type": "code",
   "execution_count": 61,
   "metadata": {},
   "outputs": [],
   "source": [
    "ds_tmax = read_gcs_zarr('gs://raw-305d04da/cmip6/ScenarioMIP/NOAA-GFDL/GFDL-CM4/ssp585/r1i1p1f1/day/tasmax/gr1/v20180701.zarr')\n",
    "ds_tmin = read_gcs_zarr('gs://raw-305d04da/cmip6/ScenarioMIP/NOAA-GFDL/GFDL-CM4/ssp585/r1i1p1f1/day/tasmin/gr1/v20180701.zarr')\n",
    "dtr_gfdlcm4_ssp585 = ds_tmax['tasmax'] - ds_tmin['tasmin']"
   ]
  },
  {
   "cell_type": "code",
   "execution_count": 36,
   "metadata": {},
   "outputs": [
    {
     "name": "stdout",
     "output_type": "stream",
     "text": [
      "original raw CMIP6 data\n"
     ]
    },
    {
     "name": "stderr",
     "output_type": "stream",
     "text": [
      "<ipython-input-7-3735fe96e8b7>:49: UserWarning: DTR has 9661 negative values for GFDL-CM4, GFDL-CM4 needs tasmin/tasmax swapping\n",
      "  warnings.warn(\"DTR has {} negative values for {}, {} needs tasmin/tasmax swapping\".format(neg_count, model, model))\n",
      "<ipython-input-7-3735fe96e8b7>:51: UserWarning: DTR has 1 zero values for GFDL-CM4\n",
      "  warnings.warn(\"DTR has {} zero values for {}\".format(zero_count, model))\n"
     ]
    }
   ],
   "source": [
    "print(\"original raw CMIP6 data\")\n",
    "model = 'GFDL-CM4'\n",
    "# _get_cmip6_dataset(model, variable, tuple_id, period='ssp')\n",
    "dtr = compute_dtr(model, tuple_id=2)\n",
    "check_dtr(dtr, model)"
   ]
  },
  {
   "cell_type": "code",
   "execution_count": 62,
   "metadata": {},
   "outputs": [
    {
     "name": "stdout",
     "output_type": "stream",
     "text": [
      "pre-processed CMIP6 data\n"
     ]
    },
    {
     "name": "stderr",
     "output_type": "stream",
     "text": [
      "<ipython-input-7-3735fe96e8b7>:51: UserWarning: DTR has 95 zero values for GFDL-CM4\n",
      "  warnings.warn(\"DTR has {} zero values for {}\".format(zero_count, model))\n"
     ]
    }
   ],
   "source": [
    "print(\"pre-processed CMIP6 data\")\n",
    "model = 'GFDL-CM4'\n",
    "\n",
    "check_dtr(dtr_gfdlcm4_ssp585, model)"
   ]
  },
  {
   "cell_type": "code",
   "execution_count": null,
   "metadata": {},
   "outputs": [],
   "source": []
  }
 ],
 "metadata": {
  "kernelspec": {
   "display_name": "Python 3",
   "language": "python",
   "name": "python3"
  },
  "language_info": {
   "codemirror_mode": {
    "name": "ipython",
    "version": 3
   },
   "file_extension": ".py",
   "mimetype": "text/x-python",
   "name": "python",
   "nbconvert_exporter": "python",
   "pygments_lexer": "ipython3",
   "version": "3.8.6"
  }
 },
 "nbformat": 4,
 "nbformat_minor": 4
}
