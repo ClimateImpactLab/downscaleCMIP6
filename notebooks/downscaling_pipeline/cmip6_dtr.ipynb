{
 "cells": [
  {
   "cell_type": "code",
   "execution_count": 1,
   "metadata": {},
   "outputs": [],
   "source": [
    "%matplotlib inline\n",
    "import intake\n",
    "import xarray as xr\n",
    "import os \n",
    "import pandas as pd\n",
    "import numpy as np\n",
    "import zarr \n",
    "import gcsfs\n",
    "from xarray.ufuncs import maximum, minimum\n",
    "import rhg_compute_tools.kubernetes as rhgk\n",
    "\n",
    "import matplotlib.pyplot as plt\n",
    "import re\n",
    "import yaml\n",
    "import ast\n",
    "import warnings "
   ]
  },
  {
   "cell_type": "code",
   "execution_count": 2,
   "metadata": {},
   "outputs": [],
   "source": [
    "from science_validation_manual import read_gcs_zarr"
   ]
  },
  {
   "cell_type": "code",
   "execution_count": 3,
   "metadata": {},
   "outputs": [],
   "source": [
    "fs = gcsfs.GCSFileSystem(token='/opt/gcsfuse_tokens/impactlab-data.json')"
   ]
  },
  {
   "cell_type": "code",
   "execution_count": 4,
   "metadata": {},
   "outputs": [
    {
     "data": {
      "text/plain": [
       "'client, cluster = rhgk.get_standard_cluster()\\ncluster'"
      ]
     },
     "execution_count": 4,
     "metadata": {},
     "output_type": "execute_result"
    }
   ],
   "source": [
    "'''client, cluster = rhgk.get_standard_cluster()\n",
    "cluster'''"
   ]
  },
  {
   "cell_type": "code",
   "execution_count": 5,
   "metadata": {},
   "outputs": [],
   "source": [
    "col = intake.open_esm_datastore(\"https://storage.googleapis.com/cmip6/pangeo-cmip6.json\")"
   ]
  },
  {
   "cell_type": "code",
   "execution_count": 33,
   "metadata": {},
   "outputs": [],
   "source": [
    "def _paramfile_to_tuple(model, variable):\n",
    "    \"\"\"\n",
    "    takes in a model and variable, returns tuple from parameter file. \n",
    "    \"\"\"\n",
    "    param_file = '/home/jovyan/downscaling/downscale/workflows/parameters/{}-{}.yaml'.format(model, variable)\n",
    "    with open(param_file, 'r') as f:\n",
    "        var_dict = yaml.full_load(f)\n",
    "    # some string parsing \n",
    "    line = var_dict['jobs']\n",
    "    line1 = re.sub(r\"\\n\", \"\", line)\n",
    "    line2 = re.sub(r\"[\\[\\]]\", \"\", line1)\n",
    "    return ast.literal_eval(line2.strip())\n",
    "\n",
    "def _get_cmip6_dataset(model, variable, tuple_id, period='ssp'):\n",
    "    d_ssp = _paramfile_to_tuple(model, variable)[tuple_id][period]\n",
    "    cat = col.search(\n",
    "              activity_id=d_ssp['activity_id'],\n",
    "              experiment_id=d_ssp['experiment_id'],\n",
    "              table_id=d_ssp['table_id'],\n",
    "              variable_id=d_ssp['variable_id'],\n",
    "              source_id=d_ssp['source_id'],\n",
    "              member_id=d_ssp['member_id'],\n",
    "              grid_label=d_ssp['grid_label'],\n",
    "              version=int(d_ssp['version']),\n",
    "          )\n",
    "    return cat.to_dataset_dict(progressbar=False)\n",
    "\n",
    "def compute_dtr(model, tuple_id=1):\n",
    "    \"\"\"\n",
    "    takes in tasmax and tasmin Datasets, computes DTR (returns it lazily)\n",
    "    \"\"\"\n",
    "    tasmax = _get_cmip6_dataset(model, 'tasmax', tuple_id)\n",
    "    k_tasmax = list(tasmax.keys())\n",
    "    if len(k_tasmax) != 1:\n",
    "        raise ValueError(\"there is likely an issue with {} tasmax\".format(model))\n",
    "    tasmin = _get_cmip6_dataset(model, 'tasmin', tuple_id)\n",
    "    k_tasmin = list(tasmin.keys())\n",
    "    if len(k_tasmin) != 1:\n",
    "        raise ValueError(\"there is likely an issue with {} tasmin\".format(model))\n",
    "    return tasmax[k_tasmax[0]]['tasmax'] - tasmin[k_tasmin[0]]['tasmin'] \n",
    "\n",
    "def check_dtr(dtr, model):\n",
    "    \"\"\"\n",
    "    \"\"\"\n",
    "    min_dtr = dtr.min('time')\n",
    "    neg_count = min_dtr.where(min_dtr < 0).count().values\n",
    "    zero_count = min_dtr.where(min_dtr == 0).count().values\n",
    "    if neg_count > 0:\n",
    "        warnings.warn(\"DTR has {} negative values for {}, {} needs tasmin/tasmax swapping\".format(neg_count, model, model))\n",
    "    if zero_count > 0:\n",
    "        warnings.warn(\"DTR has {} zero values for {}\".format(zero_count, model))"
   ]
  },
  {
   "cell_type": "markdown",
   "metadata": {},
   "source": [
    "checking models "
   ]
  },
  {
   "cell_type": "markdown",
   "metadata": {},
   "source": [
    "DTR negative: \n",
    "- GFDL-ESM4\n",
    "- GFDL-CM4\n",
    "\n",
    "DTR positive: \n",
    "- CanESM5\n",
    "- INM-CM4-8\n",
    "- INM-CM5-0\n",
    "- NorESM2-MM\n",
    "- NorESM2-LM\n",
    "- MIROC6\n",
    "- EC-Earth3-Veg-LR\n",
    "- EC-Earth3-Veg\n",
    "- EC-Earth3\n",
    "- KIOST-ESM\n",
    "- MIROC-ES2L\n",
    "- MPI-ESM1-2-LR\n",
    "- MPI-ESM1-2-HR\n",
    "- NESM3\n",
    "- MRI-ESM2-0\n",
    "- FGOALS-g3\n",
    "- CMCC-ESM2\n",
    "- BCC-CSM2-MR\n",
    "- AWI-CM-1-1-MR\n",
    "- ACCESS-CM2\n",
    "\n",
    "Parameter files to add or fix (could not check DTR): \n",
    "- UKESM1-0-LL\n",
    "- ACCESS-ESM1-5\n",
    "\n",
    "Tasmin parameter files to add (could not check DTR): \n",
    "- CAMS-CSM1-0"
   ]
  },
  {
   "cell_type": "code",
   "execution_count": null,
   "metadata": {},
   "outputs": [],
   "source": [
    "model = 'NorESM2-MM'\n",
    "# _get_cmip6_dataset(model, variable, tuple_id, period='ssp')\n",
    "dtr = compute_dtr(model, tuple_id=0)\n",
    "check_dtr(dtr, model)"
   ]
  },
  {
   "cell_type": "markdown",
   "metadata": {},
   "source": [
    "### For models with negative DTR, swap tasmax and tasmin ### \n",
    "\n",
    "GFDL-CM4: historical, ssp245, ssp585\n",
    "\n",
    "GFDL-ESM4: historical, ssp126, ssp245, ssp370, ssp585"
   ]
  },
  {
   "cell_type": "code",
   "execution_count": 107,
   "metadata": {},
   "outputs": [],
   "source": [
    "def _compute_max_or_min_temperature(model, tuple_id=1, variable='tasmax', ssp_or_historical='ssp'):\n",
    "    \"\"\"\n",
    "    takes in a model source_id, pulls in the required parameter file info, \n",
    "    gets the tasmax and tasmin Datasets from the CMIP6 archive, computes tasmax or tasmin (returns it lazily)\n",
    "    \"\"\"\n",
    "    tasmax = _get_cmip6_dataset(model, 'tasmax', tuple_id, period=ssp_or_historical)\n",
    "    k_tasmax = list(tasmax.keys())\n",
    "    if len(k_tasmax) != 1:\n",
    "        raise ValueError(\"there is likely an issue with {} tasmax\".format(model))\n",
    "    tasmin = _get_cmip6_dataset(model, 'tasmin', tuple_id, period=ssp_or_historical)\n",
    "    k_tasmin = list(tasmin.keys())\n",
    "    if len(k_tasmin) != 1:\n",
    "        raise ValueError(\"there is likely an issue with {} tasmin\".format(model))\n",
    "        \n",
    "    # compute max or min \n",
    "    if variable == 'tasmax':\n",
    "        return (maximum(tasmax[k_tasmax[0]]['tasmax'], tasmin[k_tasmin[0]]['tasmin']), tasmax[k_tasmax[0]].attrs)\n",
    "    elif variable == 'tasmin':\n",
    "        return (minimum(tasmax[k_tasmax[0]]['tasmax'], tasmin[k_tasmin[0]]['tasmin']), tasmin[k_tasmin[0]].attrs)\n",
    "\n",
    "def swap_cmip6_tasmax_or_tasmin(model, tuple_id, variable, ssp='ssp245', target_run='ssp'):\n",
    "    \"\"\"\n",
    "    for select GCMs with negative DTR, this swaps tasmax and tasmin so that tasmax > tasmin \n",
    "    \"\"\"\n",
    "    temp_var, attribs = _compute_max_or_min_temperature(model, tuple_id=tuple_id, variable=variable, ssp_or_historical=target_run)\n",
    "    temp_var_computed = temp_var.persist()\n",
    "    \n",
    "    if target_run == 'historical':\n",
    "        activity_id = 'CMIP'\n",
    "    else:\n",
    "        activity_id = 'ScenarioMIP'\n",
    "    if model == 'GFDL-CM4':\n",
    "        version = '20180701'\n",
    "    elif model == 'GFDL-ESM4':\n",
    "        if target_run == 'ssp':\n",
    "            version = '20180701'\n",
    "        else:\n",
    "            version = '20190726'\n",
    "    # store_filename = 'gs://impactlab-data/climate/source_data/CMIP6/{}-{}-{}.zarr'.format(model, variable, ssp)\n",
    "    store_filename = ('gs://raw-305d04da/cmip6/{}/NOAA-GFDL/{}/{}/r1i1p1f1/day/{}/gr1/v{}.zarr'.format(activity_id, model, ssp, variable, version))\n",
    "    store = fs.get_mapper(store_filename, check=False)\n",
    "    \n",
    "    ds_temp = temp_var_computed.to_dataset(name=variable)\n",
    "    ds_temp.attrs = attribs\n",
    "    \n",
    "    ds_temp.chunk({'member_id': 1, 'time': 830, 'lat': len(ds_temp.lat), 'lon': len(ds_temp.lon)}).to_zarr(store, consolidated=True, mode=\"w\")\n",
    "    \n",
    "    print(\"zarr store for {} {} saved to {}\".format(model, ssp, store_filename))"
   ]
  },
  {
   "cell_type": "code",
   "execution_count": 145,
   "metadata": {},
   "outputs": [],
   "source": [
    "# historical: _get_cmip6_dataset('GFDL-CM4', 'tasmin', 0, period='historical')\n",
    "# ssp245: _get_cmip6_dataset('GFDL-CM4', 'tasmin', 1, period='ssp')\n",
    "# _get_cmip6_dataset('GFDL-ESM4', 'tasmin', 0, period='historical')"
   ]
  },
  {
   "cell_type": "code",
   "execution_count": 144,
   "metadata": {},
   "outputs": [
    {
     "data": {
      "text/plain": [
       "\"# variables: tasmin and tasmax\\n# models: GFDL-ESM4 (all ssps included in downscaling) and GFDL-CM4 (ssps 245 and 585)\\nmodel = 'GFDL-ESM4'\\ngfdlcm4_scens = ['historical', 'ssp245', 'ssp585']\\ngfdlesm4_scens = ['historical', 'ssp370', 'ssp245', 'ssp126', 'ssp585']\\nfor variable in ['tasmin', 'tasmax']:\\n    for i, tuple_id in enumerate([0, 1, 2, 3, 4]):\\n        if tuple_id != 0:\\n            target_run = 'ssp'\\n        else:\\n            target_run = 'historical'\\n        swap_cmip6_tasmax_or_tasmin(model, tuple_id, variable, gfdlesm4_scens[i], target_run=target_run)\""
      ]
     },
     "execution_count": 144,
     "metadata": {},
     "output_type": "execute_result"
    }
   ],
   "source": [
    "# variables: tasmin and tasmax\n",
    "# models: GFDL-ESM4 (all ssps included in downscaling) and GFDL-CM4 (ssps 245 and 585)\n",
    "model = 'GFDL-ESM4'\n",
    "gfdlcm4_scens = ['historical', 'ssp245', 'ssp585']\n",
    "gfdlesm4_scens = ['historical', 'ssp370', 'ssp245', 'ssp126', 'ssp585']\n",
    "for variable in ['tasmin', 'tasmax']:\n",
    "    for i, tuple_id in enumerate([0, 1, 2, 3, 4]):\n",
    "        if tuple_id != 0:\n",
    "            target_run = 'ssp'\n",
    "        else:\n",
    "            target_run = 'historical'\n",
    "        swap_cmip6_tasmax_or_tasmin(model, tuple_id, variable, gfdlesm4_scens[i], target_run=target_run)"
   ]
  },
  {
   "cell_type": "code",
   "execution_count": 142,
   "metadata": {},
   "outputs": [],
   "source": [
    "ds = read_gcs_zarr('gs://raw-305d04da/cmip6/CMIP/NOAA-GFDL/GFDL-ESM4/historical/r1i1p1f1/day/tasmax/gr1/v20190726.zarr')"
   ]
  },
  {
   "cell_type": "markdown",
   "metadata": {},
   "source": [
    "check original raw DTR for `GFDL-CM4` ssp245 and then \"updated\" DTR for the same model/ssp "
   ]
  },
  {
   "cell_type": "code",
   "execution_count": 34,
   "metadata": {},
   "outputs": [
    {
     "name": "stdout",
     "output_type": "stream",
     "text": [
      "original raw CMIP6 data\n"
     ]
    },
    {
     "name": "stderr",
     "output_type": "stream",
     "text": [
      "<ipython-input-33-3735fe96e8b7>:49: UserWarning: DTR has 9670 negative values for GFDL-CM4, GFDL-CM4 needs tasmin/tasmax swapping\n",
      "  warnings.warn(\"DTR has {} negative values for {}, {} needs tasmin/tasmax swapping\".format(neg_count, model, model))\n"
     ]
    }
   ],
   "source": [
    "print(\"original raw CMIP6 data\")\n",
    "model = 'GFDL-CM4'\n",
    "# _get_cmip6_dataset(model, variable, tuple_id, period='ssp')\n",
    "dtr = compute_dtr(model, tuple_id=1)\n",
    "check_dtr(dtr, model)"
   ]
  },
  {
   "cell_type": "code",
   "execution_count": 35,
   "metadata": {},
   "outputs": [
    {
     "name": "stdout",
     "output_type": "stream",
     "text": [
      "pre-processed CMIP6 data\n"
     ]
    },
    {
     "name": "stderr",
     "output_type": "stream",
     "text": [
      "<ipython-input-33-3735fe96e8b7>:51: UserWarning: DTR has 83 zero values for GFDL-CM4\n",
      "  warnings.warn(\"DTR has {} zero values for {}\".format(zero_count, model))\n"
     ]
    }
   ],
   "source": [
    "print(\"pre-processed CMIP6 data\")\n",
    "model = 'GFDL-CM4'\n",
    "\n",
    "check_dtr(dtr_gfdlcm4_ssp245, model)"
   ]
  },
  {
   "cell_type": "code",
   "execution_count": 26,
   "metadata": {},
   "outputs": [],
   "source": [
    "min_dtr = dtr_gfdlcm4_ssp245.min('time')\n",
    "neg_count = min_dtr.where(min_dtr < 0).count().values\n",
    "if neg_count > 0:\n",
    "    warnings.warn(\"DTR has negative values for {} STILL\".format('GFDL-CM4 ssp245'))"
   ]
  },
  {
   "cell_type": "code",
   "execution_count": null,
   "metadata": {},
   "outputs": [],
   "source": []
  }
 ],
 "metadata": {
  "kernelspec": {
   "display_name": "Python 3",
   "language": "python",
   "name": "python3"
  },
  "language_info": {
   "codemirror_mode": {
    "name": "ipython",
    "version": 3
   },
   "file_extension": ".py",
   "mimetype": "text/x-python",
   "name": "python",
   "nbconvert_exporter": "python",
   "pygments_lexer": "ipython3",
   "version": "3.8.6"
  }
 },
 "nbformat": 4,
 "nbformat_minor": 4
}
