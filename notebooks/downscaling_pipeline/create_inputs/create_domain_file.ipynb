{
 "cells": [
  {
   "cell_type": "code",
   "execution_count": 1,
   "metadata": {
    "collapsed": true,
    "gather": {
     "logged": 1619057281299
    },
    "jupyter": {
     "outputs_hidden": true,
     "source_hidden": false
    },
    "nteract": {
     "transient": {
      "deleting": false
     }
    }
   },
   "outputs": [],
   "source": [
    "%matplotlib inline\n",
    "import xarray as xr\n",
    "import numpy as np \n",
    "import pandas as pd\n",
    "import matplotlib.pyplot as plt\n",
    "import os \n",
    "\n",
    "from adlfs import AzureBlobFileSystem\n",
    "import xesmf as xe\n",
    "from time import gmtime, strftime"
   ]
  },
  {
   "cell_type": "markdown",
   "metadata": {
    "nteract": {
     "transient": {
      "deleting": false
     }
    }
   },
   "source": [
    "define fs mapper below (fill in acct key)"
   ]
  },
  {
   "cell_type": "code",
   "execution_count": 2,
   "metadata": {
    "gather": {
     "logged": 1619057288020
    }
   },
   "outputs": [],
   "source": [
    "fs = AzureBlobFileSystem(\n",
    "    account_name=None,\n",
    "    account_key=None,\n",
    "    client_id=os.environ.get(\"AZURE_CLIENT_ID\", None),\n",
    "    client_secret=os.environ.get(\"AZURE_CLIENT_SECRET\", None),\n",
    "    tenant_id=os.environ.get(\"AZURE_TENANT_ID\", None),\n",
    ")"
   ]
  },
  {
   "cell_type": "markdown",
   "metadata": {},
   "source": [
    "load example domain file (from RASM, but it's essentially the same as CESM - RASM has the same structure as CESM, just different component models)"
   ]
  },
  {
   "cell_type": "code",
   "execution_count": 3,
   "metadata": {},
   "outputs": [],
   "source": [
    "domain_rasm = xr.open_dataset('./domain.lnd.wr50a_ar9v4.100920.nc')"
   ]
  },
  {
   "cell_type": "markdown",
   "metadata": {},
   "source": [
    "define domain grids using `xesmf`"
   ]
  },
  {
   "cell_type": "code",
   "execution_count": 3,
   "metadata": {
    "gather": {
     "logged": 1619057300279
    }
   },
   "outputs": [],
   "source": [
    "def create_domain_dataset(resolution=1, lat_name='lat', lon_name='lon'):\n",
    "    grid_global = xe.util.grid_global(resolution, resolution)\n",
    "    domain = grid_global.rename({\"x\": lon_name, \"y\": lat_name})\n",
    "\n",
    "    domain[lat_name] = np.unique(domain[lat_name].values)\n",
    "    domain[lon_name] = np.unique(domain[lon_name].values)\n",
    "    domain['lon_b'] = np.unique(domain['lon_b'].values)\n",
    "    domain['lat_b'] = np.unique(domain['lat_b'].values)\n",
    "    \n",
    "    attrs = {'title': 'Rhodium/CIL bias correction and downscaling %s-degree grid' %str(resolution), \n",
    "         'history': 'created by Diana Gergel, %s' %strftime(\"%Y-%m-%d %H:%M:%S\", gmtime()), \n",
    "         'source code': 'grid specified by xesmf, xe.util.grid_global(%s, %s)' %(resolution, resolution)}\n",
    "    domain.attrs.update(attrs)\n",
    "    domain['lon'].attrs.update({'long_name': 'longitude of grid cell center', 'units': 'degrees_east'})\n",
    "    domain['lat'].attrs.update({'long_name': 'latitude of grid cell center', 'units': 'degrees_north'})\n",
    "    domain['lon_b'].attrs.update({'long_name': 'longitude bounds', 'units': 'degrees_east'})\n",
    "    domain['lat_b'].attrs.update({'long_name': 'latitude bounds', 'units': 'degrees_north'})\n",
    "    \n",
    "    return domain "
   ]
  },
  {
   "cell_type": "code",
   "execution_count": 4,
   "metadata": {
    "gather": {
     "logged": 1619057304287
    }
   },
   "outputs": [],
   "source": [
    "domain_coarse = create_domain_dataset(resolution=1)"
   ]
  },
  {
   "cell_type": "code",
   "execution_count": 5,
   "metadata": {
    "gather": {
     "logged": 1619057305669
    }
   },
   "outputs": [],
   "source": [
    "domain_fine = create_domain_dataset(resolution=0.25)"
   ]
  },
  {
   "cell_type": "markdown",
   "metadata": {},
   "source": [
    "save as NetCDFs and zarrs "
   ]
  },
  {
   "cell_type": "code",
   "execution_count": 6,
   "metadata": {
    "gather": {
     "logged": 1619057311028
    }
   },
   "outputs": [],
   "source": [
    "domain_coarse_filename = '/home/azureuser/cloudfiles/code/Users/dgergel/domain.1x1.nc'\n",
    "domain_fine_filename = '/home/azureuser/cloudfiles/code/Users/dgergel/domain.0p25x0p25.nc'"
   ]
  },
  {
   "cell_type": "code",
   "execution_count": 7,
   "metadata": {
    "gather": {
     "logged": 1619057325075
    }
   },
   "outputs": [],
   "source": [
    "coarse_zarr = \"support/domain.1x1.zarr\"\n",
    "fine_zarr = \"support/domain.0p25x0p25.zarr\"\n",
    "coarse_store = fs.get_mapper(coarse_zarr, check=False)\n",
    "fine_store = fs.get_mapper(fine_zarr, check=False)"
   ]
  },
  {
   "cell_type": "code",
   "execution_count": 8,
   "metadata": {
    "gather": {
     "logged": 1619057350939
    }
   },
   "outputs": [
    {
     "data": {
      "text/plain": [
       "<xarray.backends.zarr.ZarrStore at 0x7fcaf1fdfc90>"
      ]
     },
     "execution_count": 8,
     "metadata": {},
     "output_type": "execute_result"
    }
   ],
   "source": [
    "domain_coarse.to_netcdf(domain_coarse_filename)\n",
    "domain_fine.to_netcdf(domain_fine_filename)\n",
    "\n",
    "domain_coarse.to_zarr(coarse_store, consolidated=True, mode=\"w\")\n",
    "domain_fine.to_zarr(fine_store, consolidated=True, mode=\"w\")"
   ]
  },
  {
   "cell_type": "markdown",
   "metadata": {},
   "source": [
    "test regridding and saved domain file to ensure that regridder service updates in dodola will address rechunking service issues "
   ]
  },
  {
   "cell_type": "code",
   "execution_count": 9,
   "metadata": {
    "gather": {
     "logged": 1619059190624
    }
   },
   "outputs": [],
   "source": [
    "# regrid an ERA-5 file to the domain file grid \n",
    "era5 = xr.open_dataset(os.path.join('/home/azureuser/cloudfiles/code/Users/dgergel', 'temp_hourly_example.nc'))"
   ]
  },
  {
   "cell_type": "code",
   "execution_count": 12,
   "metadata": {
    "gather": {
     "logged": 1619059272452
    }
   },
   "outputs": [],
   "source": [
    "def validate_domain_file(filepath, test_ds, zarr=False):\n",
    "    if zarr:\n",
    "        domain = xr.open_zarr(filepath)\n",
    "    else: \n",
    "        domain = xr.open_dataset(filepath)\n",
    "        \n",
    "    regridder = xe.Regridder(test_ds.rename({'latitude': 'lat', 'longitude': 'lon'}), domain, method='bilinear')\n",
    "    regridded_ds = regridder(test_ds['t2m'])\n",
    "    \n",
    "    return regridded_ds"
   ]
  },
  {
   "cell_type": "code",
   "execution_count": 13,
   "metadata": {
    "gather": {
     "logged": 1619059323120
    }
   },
   "outputs": [
    {
     "name": "stderr",
     "output_type": "stream",
     "text": [
      "/anaconda/envs/downscale/lib/python3.7/site-packages/xesmf/frontend.py:527: UserWarning: Using dimensions ('latitude', 'longitude') from data variable t2m as the horizontal dimensions for the regridding.\n",
      "  UserWarning,\n",
      "/anaconda/envs/downscale/lib/python3.7/site-packages/xesmf/frontend.py:476: FutureWarning: ``output_sizes`` should be given in the ``dask_gufunc_kwargs`` parameter. It will be removed as direct parameter in a future version.\n",
      "  keep_attrs=keep_attrs,\n"
     ]
    }
   ],
   "source": [
    "era5_regridded_fine = validate_domain_file(domain_fine_filename, era5)"
   ]
  },
  {
   "cell_type": "code",
   "execution_count": 14,
   "metadata": {
    "gather": {
     "logged": 1619059389084
    }
   },
   "outputs": [
    {
     "name": "stderr",
     "output_type": "stream",
     "text": [
      "/anaconda/envs/downscale/lib/python3.7/site-packages/xesmf/frontend.py:527: UserWarning: Using dimensions ('latitude', 'longitude') from data variable t2m as the horizontal dimensions for the regridding.\n",
      "  UserWarning,\n",
      "/anaconda/envs/downscale/lib/python3.7/site-packages/xesmf/frontend.py:476: FutureWarning: ``output_sizes`` should be given in the ``dask_gufunc_kwargs`` parameter. It will be removed as direct parameter in a future version.\n",
      "  keep_attrs=keep_attrs,\n"
     ]
    }
   ],
   "source": [
    "era5_regridded_zarr_fine = validate_domain_file(fine_zarr, era5, zarr=True)"
   ]
  },
  {
   "cell_type": "code",
   "execution_count": 18,
   "metadata": {
    "collapsed": true,
    "gather": {
     "logged": 1619059540385
    },
    "jupyter": {
     "outputs_hidden": true,
     "source_hidden": false
    },
    "nteract": {
     "transient": {
      "deleting": false
     }
    }
   },
   "outputs": [
    {
     "name": "stderr",
     "output_type": "stream",
     "text": [
      "/anaconda/envs/downscale/lib/python3.7/site-packages/xesmf/frontend.py:527: UserWarning: Using dimensions ('latitude', 'longitude') from data variable t2m as the horizontal dimensions for the regridding.\n",
      "  UserWarning,\n",
      "/anaconda/envs/downscale/lib/python3.7/site-packages/xesmf/frontend.py:476: FutureWarning: ``output_sizes`` should be given in the ``dask_gufunc_kwargs`` parameter. It will be removed as direct parameter in a future version.\n",
      "  keep_attrs=keep_attrs,\n"
     ]
    }
   ],
   "source": [
    "era5_regridded_zarr_coarse = validate_domain_file(coarse_zarr, era5, zarr=True)"
   ]
  },
  {
   "cell_type": "code",
   "execution_count": null,
   "metadata": {
    "collapsed": true,
    "jupyter": {
     "outputs_hidden": true,
     "source_hidden": false
    },
    "nteract": {
     "transient": {
      "deleting": false
     }
    }
   },
   "outputs": [],
   "source": [
    "era5_regridded_coarse = validate_domain_file(domain_coarse_filename, era5)"
   ]
  },
  {
   "cell_type": "code",
   "execution_count": 15,
   "metadata": {
    "collapsed": true,
    "gather": {
     "logged": 1619059404352
    },
    "jupyter": {
     "outputs_hidden": true,
     "source_hidden": false
    },
    "nteract": {
     "transient": {
      "deleting": false
     }
    }
   },
   "outputs": [
    {
     "data": {
      "text/html": [
       "<div><svg style=\"position: absolute; width: 0; height: 0; overflow: hidden\">\n",
       "<defs>\n",
       "<symbol id=\"icon-database\" viewBox=\"0 0 32 32\">\n",
       "<path d=\"M16 0c-8.837 0-16 2.239-16 5v4c0 2.761 7.163 5 16 5s16-2.239 16-5v-4c0-2.761-7.163-5-16-5z\"></path>\n",
       "<path d=\"M16 17c-8.837 0-16-2.239-16-5v6c0 2.761 7.163 5 16 5s16-2.239 16-5v-6c0 2.761-7.163 5-16 5z\"></path>\n",
       "<path d=\"M16 26c-8.837 0-16-2.239-16-5v6c0 2.761 7.163 5 16 5s16-2.239 16-5v-6c0 2.761-7.163 5-16 5z\"></path>\n",
       "</symbol>\n",
       "<symbol id=\"icon-file-text2\" viewBox=\"0 0 32 32\">\n",
       "<path d=\"M28.681 7.159c-0.694-0.947-1.662-2.053-2.724-3.116s-2.169-2.030-3.116-2.724c-1.612-1.182-2.393-1.319-2.841-1.319h-15.5c-1.378 0-2.5 1.121-2.5 2.5v27c0 1.378 1.122 2.5 2.5 2.5h23c1.378 0 2.5-1.122 2.5-2.5v-19.5c0-0.448-0.137-1.23-1.319-2.841zM24.543 5.457c0.959 0.959 1.712 1.825 2.268 2.543h-4.811v-4.811c0.718 0.556 1.584 1.309 2.543 2.268zM28 29.5c0 0.271-0.229 0.5-0.5 0.5h-23c-0.271 0-0.5-0.229-0.5-0.5v-27c0-0.271 0.229-0.5 0.5-0.5 0 0 15.499-0 15.5 0v7c0 0.552 0.448 1 1 1h7v19.5z\"></path>\n",
       "<path d=\"M23 26h-14c-0.552 0-1-0.448-1-1s0.448-1 1-1h14c0.552 0 1 0.448 1 1s-0.448 1-1 1z\"></path>\n",
       "<path d=\"M23 22h-14c-0.552 0-1-0.448-1-1s0.448-1 1-1h14c0.552 0 1 0.448 1 1s-0.448 1-1 1z\"></path>\n",
       "<path d=\"M23 18h-14c-0.552 0-1-0.448-1-1s0.448-1 1-1h14c0.552 0 1 0.448 1 1s-0.448 1-1 1z\"></path>\n",
       "</symbol>\n",
       "</defs>\n",
       "</svg>\n",
       "<style>/* CSS stylesheet for displaying xarray objects in jupyterlab.\n",
       " *\n",
       " */\n",
       "\n",
       ":root {\n",
       "  --xr-font-color0: var(--jp-content-font-color0, rgba(0, 0, 0, 1));\n",
       "  --xr-font-color2: var(--jp-content-font-color2, rgba(0, 0, 0, 0.54));\n",
       "  --xr-font-color3: var(--jp-content-font-color3, rgba(0, 0, 0, 0.38));\n",
       "  --xr-border-color: var(--jp-border-color2, #e0e0e0);\n",
       "  --xr-disabled-color: var(--jp-layout-color3, #bdbdbd);\n",
       "  --xr-background-color: var(--jp-layout-color0, white);\n",
       "  --xr-background-color-row-even: var(--jp-layout-color1, white);\n",
       "  --xr-background-color-row-odd: var(--jp-layout-color2, #eeeeee);\n",
       "}\n",
       "\n",
       "html[theme=dark],\n",
       "body.vscode-dark {\n",
       "  --xr-font-color0: rgba(255, 255, 255, 1);\n",
       "  --xr-font-color2: rgba(255, 255, 255, 0.54);\n",
       "  --xr-font-color3: rgba(255, 255, 255, 0.38);\n",
       "  --xr-border-color: #1F1F1F;\n",
       "  --xr-disabled-color: #515151;\n",
       "  --xr-background-color: #111111;\n",
       "  --xr-background-color-row-even: #111111;\n",
       "  --xr-background-color-row-odd: #313131;\n",
       "}\n",
       "\n",
       ".xr-wrap {\n",
       "  display: block;\n",
       "  min-width: 300px;\n",
       "  max-width: 700px;\n",
       "}\n",
       "\n",
       ".xr-text-repr-fallback {\n",
       "  /* fallback to plain text repr when CSS is not injected (untrusted notebook) */\n",
       "  display: none;\n",
       "}\n",
       "\n",
       ".xr-header {\n",
       "  padding-top: 6px;\n",
       "  padding-bottom: 6px;\n",
       "  margin-bottom: 4px;\n",
       "  border-bottom: solid 1px var(--xr-border-color);\n",
       "}\n",
       "\n",
       ".xr-header > div,\n",
       ".xr-header > ul {\n",
       "  display: inline;\n",
       "  margin-top: 0;\n",
       "  margin-bottom: 0;\n",
       "}\n",
       "\n",
       ".xr-obj-type,\n",
       ".xr-array-name {\n",
       "  margin-left: 2px;\n",
       "  margin-right: 10px;\n",
       "}\n",
       "\n",
       ".xr-obj-type {\n",
       "  color: var(--xr-font-color2);\n",
       "}\n",
       "\n",
       ".xr-sections {\n",
       "  padding-left: 0 !important;\n",
       "  display: grid;\n",
       "  grid-template-columns: 150px auto auto 1fr 20px 20px;\n",
       "}\n",
       "\n",
       ".xr-section-item {\n",
       "  display: contents;\n",
       "}\n",
       "\n",
       ".xr-section-item input {\n",
       "  display: none;\n",
       "}\n",
       "\n",
       ".xr-section-item input + label {\n",
       "  color: var(--xr-disabled-color);\n",
       "}\n",
       "\n",
       ".xr-section-item input:enabled + label {\n",
       "  cursor: pointer;\n",
       "  color: var(--xr-font-color2);\n",
       "}\n",
       "\n",
       ".xr-section-item input:enabled + label:hover {\n",
       "  color: var(--xr-font-color0);\n",
       "}\n",
       "\n",
       ".xr-section-summary {\n",
       "  grid-column: 1;\n",
       "  color: var(--xr-font-color2);\n",
       "  font-weight: 500;\n",
       "}\n",
       "\n",
       ".xr-section-summary > span {\n",
       "  display: inline-block;\n",
       "  padding-left: 0.5em;\n",
       "}\n",
       "\n",
       ".xr-section-summary-in:disabled + label {\n",
       "  color: var(--xr-font-color2);\n",
       "}\n",
       "\n",
       ".xr-section-summary-in + label:before {\n",
       "  display: inline-block;\n",
       "  content: '►';\n",
       "  font-size: 11px;\n",
       "  width: 15px;\n",
       "  text-align: center;\n",
       "}\n",
       "\n",
       ".xr-section-summary-in:disabled + label:before {\n",
       "  color: var(--xr-disabled-color);\n",
       "}\n",
       "\n",
       ".xr-section-summary-in:checked + label:before {\n",
       "  content: '▼';\n",
       "}\n",
       "\n",
       ".xr-section-summary-in:checked + label > span {\n",
       "  display: none;\n",
       "}\n",
       "\n",
       ".xr-section-summary,\n",
       ".xr-section-inline-details {\n",
       "  padding-top: 4px;\n",
       "  padding-bottom: 4px;\n",
       "}\n",
       "\n",
       ".xr-section-inline-details {\n",
       "  grid-column: 2 / -1;\n",
       "}\n",
       "\n",
       ".xr-section-details {\n",
       "  display: none;\n",
       "  grid-column: 1 / -1;\n",
       "  margin-bottom: 5px;\n",
       "}\n",
       "\n",
       ".xr-section-summary-in:checked ~ .xr-section-details {\n",
       "  display: contents;\n",
       "}\n",
       "\n",
       ".xr-array-wrap {\n",
       "  grid-column: 1 / -1;\n",
       "  display: grid;\n",
       "  grid-template-columns: 20px auto;\n",
       "}\n",
       "\n",
       ".xr-array-wrap > label {\n",
       "  grid-column: 1;\n",
       "  vertical-align: top;\n",
       "}\n",
       "\n",
       ".xr-preview {\n",
       "  color: var(--xr-font-color3);\n",
       "}\n",
       "\n",
       ".xr-array-preview,\n",
       ".xr-array-data {\n",
       "  padding: 0 5px !important;\n",
       "  grid-column: 2;\n",
       "}\n",
       "\n",
       ".xr-array-data,\n",
       ".xr-array-in:checked ~ .xr-array-preview {\n",
       "  display: none;\n",
       "}\n",
       "\n",
       ".xr-array-in:checked ~ .xr-array-data,\n",
       ".xr-array-preview {\n",
       "  display: inline-block;\n",
       "}\n",
       "\n",
       ".xr-dim-list {\n",
       "  display: inline-block !important;\n",
       "  list-style: none;\n",
       "  padding: 0 !important;\n",
       "  margin: 0;\n",
       "}\n",
       "\n",
       ".xr-dim-list li {\n",
       "  display: inline-block;\n",
       "  padding: 0;\n",
       "  margin: 0;\n",
       "}\n",
       "\n",
       ".xr-dim-list:before {\n",
       "  content: '(';\n",
       "}\n",
       "\n",
       ".xr-dim-list:after {\n",
       "  content: ')';\n",
       "}\n",
       "\n",
       ".xr-dim-list li:not(:last-child):after {\n",
       "  content: ',';\n",
       "  padding-right: 5px;\n",
       "}\n",
       "\n",
       ".xr-has-index {\n",
       "  font-weight: bold;\n",
       "}\n",
       "\n",
       ".xr-var-list,\n",
       ".xr-var-item {\n",
       "  display: contents;\n",
       "}\n",
       "\n",
       ".xr-var-item > div,\n",
       ".xr-var-item label,\n",
       ".xr-var-item > .xr-var-name span {\n",
       "  background-color: var(--xr-background-color-row-even);\n",
       "  margin-bottom: 0;\n",
       "}\n",
       "\n",
       ".xr-var-item > .xr-var-name:hover span {\n",
       "  padding-right: 5px;\n",
       "}\n",
       "\n",
       ".xr-var-list > li:nth-child(odd) > div,\n",
       ".xr-var-list > li:nth-child(odd) > label,\n",
       ".xr-var-list > li:nth-child(odd) > .xr-var-name span {\n",
       "  background-color: var(--xr-background-color-row-odd);\n",
       "}\n",
       "\n",
       ".xr-var-name {\n",
       "  grid-column: 1;\n",
       "}\n",
       "\n",
       ".xr-var-dims {\n",
       "  grid-column: 2;\n",
       "}\n",
       "\n",
       ".xr-var-dtype {\n",
       "  grid-column: 3;\n",
       "  text-align: right;\n",
       "  color: var(--xr-font-color2);\n",
       "}\n",
       "\n",
       ".xr-var-preview {\n",
       "  grid-column: 4;\n",
       "}\n",
       "\n",
       ".xr-var-name,\n",
       ".xr-var-dims,\n",
       ".xr-var-dtype,\n",
       ".xr-preview,\n",
       ".xr-attrs dt {\n",
       "  white-space: nowrap;\n",
       "  overflow: hidden;\n",
       "  text-overflow: ellipsis;\n",
       "  padding-right: 10px;\n",
       "}\n",
       "\n",
       ".xr-var-name:hover,\n",
       ".xr-var-dims:hover,\n",
       ".xr-var-dtype:hover,\n",
       ".xr-attrs dt:hover {\n",
       "  overflow: visible;\n",
       "  width: auto;\n",
       "  z-index: 1;\n",
       "}\n",
       "\n",
       ".xr-var-attrs,\n",
       ".xr-var-data {\n",
       "  display: none;\n",
       "  background-color: var(--xr-background-color) !important;\n",
       "  padding-bottom: 5px !important;\n",
       "}\n",
       "\n",
       ".xr-var-attrs-in:checked ~ .xr-var-attrs,\n",
       ".xr-var-data-in:checked ~ .xr-var-data {\n",
       "  display: block;\n",
       "}\n",
       "\n",
       ".xr-var-data > table {\n",
       "  float: right;\n",
       "}\n",
       "\n",
       ".xr-var-name span,\n",
       ".xr-var-data,\n",
       ".xr-attrs {\n",
       "  padding-left: 25px !important;\n",
       "}\n",
       "\n",
       ".xr-attrs,\n",
       ".xr-var-attrs,\n",
       ".xr-var-data {\n",
       "  grid-column: 1 / -1;\n",
       "}\n",
       "\n",
       "dl.xr-attrs {\n",
       "  padding: 0;\n",
       "  margin: 0;\n",
       "  display: grid;\n",
       "  grid-template-columns: 125px auto;\n",
       "}\n",
       "\n",
       ".xr-attrs dt,\n",
       ".xr-attrs dd {\n",
       "  padding: 0;\n",
       "  margin: 0;\n",
       "  float: left;\n",
       "  padding-right: 10px;\n",
       "  width: auto;\n",
       "}\n",
       "\n",
       ".xr-attrs dt {\n",
       "  font-weight: normal;\n",
       "  grid-column: 1;\n",
       "}\n",
       "\n",
       ".xr-attrs dt:hover span {\n",
       "  display: inline-block;\n",
       "  background: var(--xr-background-color);\n",
       "  padding-right: 10px;\n",
       "}\n",
       "\n",
       ".xr-attrs dd {\n",
       "  grid-column: 2;\n",
       "  white-space: pre-wrap;\n",
       "  word-break: break-all;\n",
       "}\n",
       "\n",
       ".xr-icon-database,\n",
       ".xr-icon-file-text2 {\n",
       "  display: inline-block;\n",
       "  vertical-align: middle;\n",
       "  width: 1em;\n",
       "  height: 1.5em !important;\n",
       "  stroke-width: 0;\n",
       "  stroke: currentColor;\n",
       "  fill: currentColor;\n",
       "}\n",
       "</style><pre class='xr-text-repr-fallback'>&lt;xarray.DataArray &#x27;t2m&#x27; (time: 1, lat: 720, lon: 1440)&gt;\n",
       "array([[[249.1412312 , 249.14160123, 249.14160123, ..., 249.14049115,\n",
       "         249.14086117, 249.14086117],\n",
       "        [248.72607226, 248.72718234, 248.72755237, ..., 248.72347445,\n",
       "         248.72458834, 248.72533221],\n",
       "        [248.26721353, 248.26906366, 248.27017374, ..., 248.26201789,\n",
       "         248.26424187, 248.2657296 ],\n",
       "        ...,\n",
       "        [244.66409412, 244.66372409, 244.66224397, ..., 244.66631426,\n",
       "         244.66483416, 244.66409412],\n",
       "        [244.43225197, 244.43225197, 244.43225197, ..., 244.43373208,\n",
       "         244.43299203, 244.43225197],\n",
       "        [244.18560054, 244.18560054, 244.18560054, ..., 244.18560054,\n",
       "         244.18560054, 244.18560054]]])\n",
       "Coordinates:\n",
       "  * time     (time) datetime64[ns] 1979-01-01\n",
       "  * lon      (lon) float64 -179.9 -179.6 -179.4 -179.1 ... 179.4 179.6 179.9\n",
       "  * lat      (lat) float64 -89.88 -89.62 -89.38 -89.12 ... 89.38 89.62 89.88\n",
       "Attributes:\n",
       "    regrid_method:  bilinear</pre><div class='xr-wrap' hidden><div class='xr-header'><div class='xr-obj-type'>xarray.DataArray</div><div class='xr-array-name'>'t2m'</div><ul class='xr-dim-list'><li><span class='xr-has-index'>time</span>: 1</li><li><span class='xr-has-index'>lat</span>: 720</li><li><span class='xr-has-index'>lon</span>: 1440</li></ul></div><ul class='xr-sections'><li class='xr-section-item'><div class='xr-array-wrap'><input id='section-707d9fbf-7292-45d2-8b29-c59bf5deaf46' class='xr-array-in' type='checkbox' checked><label for='section-707d9fbf-7292-45d2-8b29-c59bf5deaf46' title='Show/hide data repr'><svg class='icon xr-icon-database'><use xlink:href='#icon-database'></use></svg></label><div class='xr-array-preview xr-preview'><span>249.1 249.1 249.1 249.1 249.1 249.1 ... 244.2 244.2 244.2 244.2 244.2</span></div><div class='xr-array-data'><pre>array([[[249.1412312 , 249.14160123, 249.14160123, ..., 249.14049115,\n",
       "         249.14086117, 249.14086117],\n",
       "        [248.72607226, 248.72718234, 248.72755237, ..., 248.72347445,\n",
       "         248.72458834, 248.72533221],\n",
       "        [248.26721353, 248.26906366, 248.27017374, ..., 248.26201789,\n",
       "         248.26424187, 248.2657296 ],\n",
       "        ...,\n",
       "        [244.66409412, 244.66372409, 244.66224397, ..., 244.66631426,\n",
       "         244.66483416, 244.66409412],\n",
       "        [244.43225197, 244.43225197, 244.43225197, ..., 244.43373208,\n",
       "         244.43299203, 244.43225197],\n",
       "        [244.18560054, 244.18560054, 244.18560054, ..., 244.18560054,\n",
       "         244.18560054, 244.18560054]]])</pre></div></div></li><li class='xr-section-item'><input id='section-cc3764ce-607f-443a-90ae-e557732cd7f1' class='xr-section-summary-in' type='checkbox'  checked><label for='section-cc3764ce-607f-443a-90ae-e557732cd7f1' class='xr-section-summary' >Coordinates: <span>(3)</span></label><div class='xr-section-inline-details'></div><div class='xr-section-details'><ul class='xr-var-list'><li class='xr-var-item'><div class='xr-var-name'><span class='xr-has-index'>time</span></div><div class='xr-var-dims'>(time)</div><div class='xr-var-dtype'>datetime64[ns]</div><div class='xr-var-preview xr-preview'>1979-01-01</div><input id='attrs-2a3d08a1-5f20-4c8a-8668-d392769cc152' class='xr-var-attrs-in' type='checkbox' ><label for='attrs-2a3d08a1-5f20-4c8a-8668-d392769cc152' title='Show/Hide attributes'><svg class='icon xr-icon-file-text2'><use xlink:href='#icon-file-text2'></use></svg></label><input id='data-ec71ef3d-05fc-47bf-9416-793147f3360c' class='xr-var-data-in' type='checkbox'><label for='data-ec71ef3d-05fc-47bf-9416-793147f3360c' title='Show/Hide data repr'><svg class='icon xr-icon-database'><use xlink:href='#icon-database'></use></svg></label><div class='xr-var-attrs'><dl class='xr-attrs'><dt><span>long_name :</span></dt><dd>time</dd></dl></div><div class='xr-var-data'><pre>array([&#x27;1979-01-01T00:00:00.000000000&#x27;], dtype=&#x27;datetime64[ns]&#x27;)</pre></div></li><li class='xr-var-item'><div class='xr-var-name'><span class='xr-has-index'>lon</span></div><div class='xr-var-dims'>(lon)</div><div class='xr-var-dtype'>float64</div><div class='xr-var-preview xr-preview'>-179.9 -179.6 ... 179.6 179.9</div><input id='attrs-a8129473-6641-4922-9169-9d99a770ffa0' class='xr-var-attrs-in' type='checkbox' ><label for='attrs-a8129473-6641-4922-9169-9d99a770ffa0' title='Show/Hide attributes'><svg class='icon xr-icon-file-text2'><use xlink:href='#icon-file-text2'></use></svg></label><input id='data-ac883cf3-131d-4213-860e-d9d2732be004' class='xr-var-data-in' type='checkbox'><label for='data-ac883cf3-131d-4213-860e-d9d2732be004' title='Show/Hide data repr'><svg class='icon xr-icon-database'><use xlink:href='#icon-database'></use></svg></label><div class='xr-var-attrs'><dl class='xr-attrs'><dt><span>long_name :</span></dt><dd>longitude of grid cell center</dd><dt><span>units :</span></dt><dd>degrees_east</dd></dl></div><div class='xr-var-data'><pre>array([-179.875, -179.625, -179.375, ...,  179.375,  179.625,  179.875])</pre></div></li><li class='xr-var-item'><div class='xr-var-name'><span class='xr-has-index'>lat</span></div><div class='xr-var-dims'>(lat)</div><div class='xr-var-dtype'>float64</div><div class='xr-var-preview xr-preview'>-89.88 -89.62 ... 89.62 89.88</div><input id='attrs-98e244f4-e03c-446e-a2be-f753b6550ed2' class='xr-var-attrs-in' type='checkbox' ><label for='attrs-98e244f4-e03c-446e-a2be-f753b6550ed2' title='Show/Hide attributes'><svg class='icon xr-icon-file-text2'><use xlink:href='#icon-file-text2'></use></svg></label><input id='data-1a592f28-be82-4dff-81db-df853d244c0b' class='xr-var-data-in' type='checkbox'><label for='data-1a592f28-be82-4dff-81db-df853d244c0b' title='Show/Hide data repr'><svg class='icon xr-icon-database'><use xlink:href='#icon-database'></use></svg></label><div class='xr-var-attrs'><dl class='xr-attrs'><dt><span>long_name :</span></dt><dd>latitude of grid cell center</dd><dt><span>units :</span></dt><dd>degrees_north</dd></dl></div><div class='xr-var-data'><pre>array([-89.875, -89.625, -89.375, ...,  89.375,  89.625,  89.875])</pre></div></li></ul></div></li><li class='xr-section-item'><input id='section-b431c8b6-5e78-4dd8-93e0-55480a34f409' class='xr-section-summary-in' type='checkbox'  checked><label for='section-b431c8b6-5e78-4dd8-93e0-55480a34f409' class='xr-section-summary' >Attributes: <span>(1)</span></label><div class='xr-section-inline-details'></div><div class='xr-section-details'><dl class='xr-attrs'><dt><span>regrid_method :</span></dt><dd>bilinear</dd></dl></div></li></ul></div></div>"
      ],
      "text/plain": [
       "<xarray.DataArray 't2m' (time: 1, lat: 720, lon: 1440)>\n",
       "array([[[249.1412312 , 249.14160123, 249.14160123, ..., 249.14049115,\n",
       "         249.14086117, 249.14086117],\n",
       "        [248.72607226, 248.72718234, 248.72755237, ..., 248.72347445,\n",
       "         248.72458834, 248.72533221],\n",
       "        [248.26721353, 248.26906366, 248.27017374, ..., 248.26201789,\n",
       "         248.26424187, 248.2657296 ],\n",
       "        ...,\n",
       "        [244.66409412, 244.66372409, 244.66224397, ..., 244.66631426,\n",
       "         244.66483416, 244.66409412],\n",
       "        [244.43225197, 244.43225197, 244.43225197, ..., 244.43373208,\n",
       "         244.43299203, 244.43225197],\n",
       "        [244.18560054, 244.18560054, 244.18560054, ..., 244.18560054,\n",
       "         244.18560054, 244.18560054]]])\n",
       "Coordinates:\n",
       "  * time     (time) datetime64[ns] 1979-01-01\n",
       "  * lon      (lon) float64 -179.9 -179.6 -179.4 -179.1 ... 179.4 179.6 179.9\n",
       "  * lat      (lat) float64 -89.88 -89.62 -89.38 -89.12 ... 89.38 89.62 89.88\n",
       "Attributes:\n",
       "    regrid_method:  bilinear"
      ]
     },
     "execution_count": 15,
     "metadata": {},
     "output_type": "execute_result"
    }
   ],
   "source": [
    "era5_regridded_zarr_fine"
   ]
  }
 ],
 "metadata": {
  "kernel_info": {
   "name": "downscale"
  },
  "kernelspec": {
   "display_name": "Python 3",
   "language": "python",
   "name": "python3"
  },
  "language_info": {
   "codemirror_mode": {
    "name": "ipython",
    "version": 3
   },
   "file_extension": ".py",
   "mimetype": "text/x-python",
   "name": "python",
   "nbconvert_exporter": "python",
   "pygments_lexer": "ipython3",
   "version": "3.8.6"
  },
  "nteract": {
   "version": "nteract-front-end@1.0.0"
  }
 },
 "nbformat": 4,
 "nbformat_minor": 4
}
