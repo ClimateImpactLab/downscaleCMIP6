{
 "cells": [
  {
   "cell_type": "code",
   "execution_count": 1,
   "metadata": {},
   "outputs": [],
   "source": [
    "%matplotlib inline \n",
    "import xarray as xr\n",
    "import os \n",
    "import pandas as pd\n",
    "import numpy as np\n",
    "\n",
    "import json"
   ]
  },
  {
   "cell_type": "markdown",
   "metadata": {},
   "source": [
    "load CMIP6 source id file, pulled from the WRCP_CMIP6_CVs GitHub repo: https://github.com/WCRP-CMIP/CMIP6_CVs"
   ]
  },
  {
   "cell_type": "code",
   "execution_count": 2,
   "metadata": {},
   "outputs": [],
   "source": [
    "cmip6_file = '/home/jovyan/CMIP6_CVs/CMIP6_source_id.json'"
   ]
  },
  {
   "cell_type": "code",
   "execution_count": 3,
   "metadata": {},
   "outputs": [],
   "source": [
    "with open(cmip6_file) as f:\n",
    "  data = json.load(f)"
   ]
  },
  {
   "cell_type": "code",
   "execution_count": 128,
   "metadata": {},
   "outputs": [],
   "source": [
    "# data['source_id']['FGOALS-g3']"
   ]
  },
  {
   "cell_type": "code",
   "execution_count": 104,
   "metadata": {},
   "outputs": [],
   "source": [
    "def parse_grid_description_str(grid_desc_str):\n",
    "    '''\n",
    "    used to parse the grid description for the atmosphere model \n",
    "    '''\n",
    "    parsed_str = grid_desc_str.split('(', 1)[1].split(';')\n",
    "    if len(parsed_str) == 2:\n",
    "        return(parsed_str[1])\n",
    "    elif len(parsed_str) == 3:\n",
    "        return(parsed_str[0])\n",
    "    elif len(parsed_str) == 4:\n",
    "        return(parsed_str[1])"
   ]
  },
  {
   "cell_type": "markdown",
   "metadata": {},
   "source": [
    "create DataFrame with resolution, grid info, modeling center, and whether or not the model is currently available in the CMIP6 google cloud archive"
   ]
  },
  {
   "cell_type": "code",
   "execution_count": 152,
   "metadata": {},
   "outputs": [],
   "source": [
    "import intake\n",
    "\n",
    "# search the cmip6 catalog\n",
    "col = intake.open_esm_datastore(\"https://storage.googleapis.com/cmip6/pangeo-cmip6.json\")\n",
    "cat = col.search(experiment_id=['historical', 'ssp126', 'ssp245', 'ssp370'], \n",
    "                 table_id='day', variable_id=['tasmax', 'tasmin', 'pr'])"
   ]
  },
  {
   "cell_type": "code",
   "execution_count": 153,
   "metadata": {},
   "outputs": [],
   "source": [
    "models_in_cmip6_archive = cat.df.source_id.unique()"
   ]
  },
  {
   "cell_type": "code",
   "execution_count": 158,
   "metadata": {},
   "outputs": [],
   "source": [
    "grid_info = {}\n",
    "\n",
    "for model in data['source_id'].keys():\n",
    "    if 'ScenarioMIP' in data['source_id'][model]['activity_participation']:\n",
    "        modeling_center = data['source_id'][model]['institution_id'][0]\n",
    "        atmos_model = data['source_id'][model]['model_component']['atmos']\n",
    "        grid_desc = parse_grid_description_str(atmos_model['description'])\n",
    "        if model in models_in_cmip6_archive:\n",
    "            cloudified = 'yes'\n",
    "        else:\n",
    "            cloudified = 'no'\n",
    "        grid_info[model] = {'modeling_center': modeling_center, \n",
    "                            'GCS archive?': cloudified,\n",
    "                            'resolution': atmos_model['native_nominal_resolution'], \n",
    "                            'grid_description': grid_desc}\n",
    "        \n",
    "df_grid = pd.DataFrame.from_dict(grid_info, orient='index')"
   ]
  },
  {
   "cell_type": "code",
   "execution_count": 162,
   "metadata": {},
   "outputs": [
    {
     "data": {
      "text/html": [
       "<div>\n",
       "<style scoped>\n",
       "    .dataframe tbody tr th:only-of-type {\n",
       "        vertical-align: middle;\n",
       "    }\n",
       "\n",
       "    .dataframe tbody tr th {\n",
       "        vertical-align: top;\n",
       "    }\n",
       "\n",
       "    .dataframe thead th {\n",
       "        text-align: right;\n",
       "    }\n",
       "</style>\n",
       "<table border=\"1\" class=\"dataframe\">\n",
       "  <thead>\n",
       "    <tr style=\"text-align: right;\">\n",
       "      <th></th>\n",
       "      <th>modeling_center</th>\n",
       "      <th>GCS archive?</th>\n",
       "      <th>resolution</th>\n",
       "      <th>grid_description</th>\n",
       "    </tr>\n",
       "  </thead>\n",
       "  <tbody>\n",
       "    <tr>\n",
       "      <th>ACCESS-CM2</th>\n",
       "      <td>CSIRO-ARCCSS</td>\n",
       "      <td>yes</td>\n",
       "      <td>250 km</td>\n",
       "      <td>192 x 144 longitude/latitude</td>\n",
       "    </tr>\n",
       "    <tr>\n",
       "      <th>ACCESS-ESM1-5</th>\n",
       "      <td>CSIRO</td>\n",
       "      <td>yes</td>\n",
       "      <td>250 km</td>\n",
       "      <td>192 x 145 longitude/latitude</td>\n",
       "    </tr>\n",
       "    <tr>\n",
       "      <th>AWI-CM-1-1-LR</th>\n",
       "      <td>AWI</td>\n",
       "      <td>no</td>\n",
       "      <td>250 km</td>\n",
       "      <td>192 x 96 longitude/latitude</td>\n",
       "    </tr>\n",
       "    <tr>\n",
       "      <th>AWI-CM-1-1-MR</th>\n",
       "      <td>AWI</td>\n",
       "      <td>yes</td>\n",
       "      <td>100 km</td>\n",
       "      <td>384 x 192 longitude/latitude</td>\n",
       "    </tr>\n",
       "    <tr>\n",
       "      <th>BCC-CSM2-MR</th>\n",
       "      <td>BCC</td>\n",
       "      <td>yes</td>\n",
       "      <td>100 km</td>\n",
       "      <td>320 x 160 longitude/latitude</td>\n",
       "    </tr>\n",
       "  </tbody>\n",
       "</table>\n",
       "</div>"
      ],
      "text/plain": [
       "              modeling_center GCS archive? resolution  \\\n",
       "ACCESS-CM2       CSIRO-ARCCSS          yes     250 km   \n",
       "ACCESS-ESM1-5           CSIRO          yes     250 km   \n",
       "AWI-CM-1-1-LR             AWI           no     250 km   \n",
       "AWI-CM-1-1-MR             AWI          yes     100 km   \n",
       "BCC-CSM2-MR               BCC          yes     100 km   \n",
       "\n",
       "                            grid_description  \n",
       "ACCESS-CM2      192 x 144 longitude/latitude  \n",
       "ACCESS-ESM1-5   192 x 145 longitude/latitude  \n",
       "AWI-CM-1-1-LR    192 x 96 longitude/latitude  \n",
       "AWI-CM-1-1-MR   384 x 192 longitude/latitude  \n",
       "BCC-CSM2-MR     320 x 160 longitude/latitude  "
      ]
     },
     "execution_count": 162,
     "metadata": {},
     "output_type": "execute_result"
    }
   ],
   "source": [
    "df_grid.head()"
   ]
  },
  {
   "cell_type": "code",
   "execution_count": 160,
   "metadata": {},
   "outputs": [],
   "source": [
    "df_grid.to_csv('CMIP6_grid_info.csv')"
   ]
  },
  {
   "cell_type": "markdown",
   "metadata": {},
   "source": [
    "look at grid labels for our MVP variables/experiments"
   ]
  },
  {
   "cell_type": "code",
   "execution_count": null,
   "metadata": {},
   "outputs": [],
   "source": [
    "cat_nogrids = col.search(activity_id=['CMIP', 'ScenarioMIP'], experiment_id=['historical', 'ssp126', 'ssp245', 'ssp370'], \n",
    "                         table_id='day', variable_id=['tasmax', 'tasmin', 'pr'])"
   ]
  },
  {
   "cell_type": "code",
   "execution_count": null,
   "metadata": {},
   "outputs": [],
   "source": [
    "cat_nogrids.df.groupby(\"grid_label\")[[\"experiment_id\", \"member_id\", \"source_id\"]\n",
    "].nunique()"
   ]
  }
 ],
 "metadata": {
  "kernelspec": {
   "display_name": "Python 3",
   "language": "python",
   "name": "python3"
  },
  "language_info": {
   "codemirror_mode": {
    "name": "ipython",
    "version": 3
   },
   "file_extension": ".py",
   "mimetype": "text/x-python",
   "name": "python",
   "nbconvert_exporter": "python",
   "pygments_lexer": "ipython3",
   "version": "3.8.6"
  }
 },
 "nbformat": 4,
 "nbformat_minor": 4
}
