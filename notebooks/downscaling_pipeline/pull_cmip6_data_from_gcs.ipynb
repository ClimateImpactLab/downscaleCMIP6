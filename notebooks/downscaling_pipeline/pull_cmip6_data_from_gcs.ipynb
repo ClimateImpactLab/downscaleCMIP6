{
 "cells": [
  {
   "cell_type": "code",
   "execution_count": 1,
   "metadata": {},
   "outputs": [],
   "source": [
    "import intake\n",
    "import xarray as xr\n",
    "import os \n",
    "import pandas as pd\n",
    "import numpy as np\n",
    "import zarr \n",
    "import rhg_compute_tools.kubernetes as rhgk"
   ]
  },
  {
   "cell_type": "code",
   "execution_count": 2,
   "metadata": {},
   "outputs": [],
   "source": [
    "import warnings\n",
    "warnings.filterwarnings(\"ignore\")"
   ]
  },
  {
   "cell_type": "code",
   "execution_count": 3,
   "metadata": {},
   "outputs": [],
   "source": [
    "write_direc = '/gcs/rhg-data/climate/downscaled/workdir'"
   ]
  },
  {
   "cell_type": "code",
   "execution_count": 4,
   "metadata": {},
   "outputs": [
    {
     "data": {
      "text/plain": [
       "'client, cluster = rhgk.get_standard_cluster()\\ncluster'"
      ]
     },
     "execution_count": 4,
     "metadata": {},
     "output_type": "execute_result"
    }
   ],
   "source": [
    "'''client, cluster = rhgk.get_standard_cluster()\n",
    "cluster'''"
   ]
  },
  {
   "cell_type": "markdown",
   "metadata": {},
   "source": [
    "get some CMIP6 data from GCS"
   ]
  },
  {
   "cell_type": "markdown",
   "metadata": {},
   "source": [
    "here we're going to get daily `tmax` from `IPSL` for historical and SSP370 runs. The ensemble member `r1i1p1f1` isn't available in GCS so we're using `r4i1p1f1` instead. \n",
    "\n",
    "Note that the `activity_id` for historical runs is `CMIP`, not `ScenarioMIP` as it is for the ssp-rcp scenarios. "
   ]
  },
  {
   "cell_type": "code",
   "execution_count": null,
   "metadata": {},
   "outputs": [],
   "source": [
    "activity_id = 'ScenarioMIP'\n",
    "experiment_id = 'ssp370'\n",
    "table_id = 'day'\n",
    "variable_id = 'tasmax'\n",
    "source_id = 'IPSL-CM6A-LR'\n",
    "institution_id = 'NCAR'\n",
    "member_id = 'r4i1p1f1'"
   ]
  },
  {
   "cell_type": "markdown",
   "metadata": {},
   "source": [
    "first we'll take a look at what our options are"
   ]
  },
  {
   "cell_type": "code",
   "execution_count": 7,
   "metadata": {},
   "outputs": [
    {
     "data": {
      "text/plain": [
       "519160"
      ]
     },
     "execution_count": 7,
     "metadata": {},
     "output_type": "execute_result"
    }
   ],
   "source": [
    "# df_cmip6 = pd.read_csv('https://cmip6.storage.googleapis.com/cmip6-zarr-consolidated-stores-noQC.csv', dtype={'version': 'unicode'})\n",
    "df_cmip6 = pd.read_csv('https://storage.googleapis.com/cmip6/cmip6-zarr-consolidated-stores.csv')\n",
    "len(df_cmip6)"
   ]
  },
  {
   "cell_type": "code",
   "execution_count": 201,
   "metadata": {},
   "outputs": [],
   "source": [
    "'''df_subset_future = df_cmip6.loc[(df_cmip6['activity_id'] == 'ScenarioMIP') \n",
    "             & (df_cmip6['table_id'] == 'day') & (df_cmip6['variable_id'] == 'tasmin')\n",
    "             & (df_cmip6['institution_id'] == 'NUIST') & (df_cmip6['source_id'] == 'NESM3')]'''\n",
    "\n",
    "df_subset_future = df_cmip6.loc[(df_cmip6['activity_id'] == 'ScenarioMIP') \n",
    "             & (df_cmip6['table_id'] == 'day') & (df_cmip6['variable_id'] == 'tasmin')\n",
    "             & (df_cmip6['source_id'] == 'HadGEM3-GC31-MM')]"
   ]
  },
  {
   "cell_type": "code",
   "execution_count": 202,
   "metadata": {},
   "outputs": [
    {
     "data": {
      "text/html": [
       "<div>\n",
       "<style scoped>\n",
       "    .dataframe tbody tr th:only-of-type {\n",
       "        vertical-align: middle;\n",
       "    }\n",
       "\n",
       "    .dataframe tbody tr th {\n",
       "        vertical-align: top;\n",
       "    }\n",
       "\n",
       "    .dataframe thead th {\n",
       "        text-align: right;\n",
       "    }\n",
       "</style>\n",
       "<table border=\"1\" class=\"dataframe\">\n",
       "  <thead>\n",
       "    <tr style=\"text-align: right;\">\n",
       "      <th></th>\n",
       "      <th>activity_id</th>\n",
       "      <th>institution_id</th>\n",
       "      <th>source_id</th>\n",
       "      <th>experiment_id</th>\n",
       "      <th>member_id</th>\n",
       "      <th>table_id</th>\n",
       "      <th>variable_id</th>\n",
       "      <th>grid_label</th>\n",
       "      <th>zstore</th>\n",
       "      <th>dcpp_init_year</th>\n",
       "      <th>version</th>\n",
       "    </tr>\n",
       "  </thead>\n",
       "  <tbody>\n",
       "    <tr>\n",
       "      <th>439121</th>\n",
       "      <td>ScenarioMIP</td>\n",
       "      <td>MOHC</td>\n",
       "      <td>HadGEM3-GC31-MM</td>\n",
       "      <td>ssp585</td>\n",
       "      <td>r3i1p1f3</td>\n",
       "      <td>day</td>\n",
       "      <td>tasmin</td>\n",
       "      <td>gn</td>\n",
       "      <td>gs://cmip6/CMIP6/ScenarioMIP/MOHC/HadGEM3-GC31...</td>\n",
       "      <td>NaN</td>\n",
       "      <td>20200507</td>\n",
       "    </tr>\n",
       "    <tr>\n",
       "      <th>439462</th>\n",
       "      <td>ScenarioMIP</td>\n",
       "      <td>MOHC</td>\n",
       "      <td>HadGEM3-GC31-MM</td>\n",
       "      <td>ssp585</td>\n",
       "      <td>r1i1p1f3</td>\n",
       "      <td>day</td>\n",
       "      <td>tasmin</td>\n",
       "      <td>gn</td>\n",
       "      <td>gs://cmip6/CMIP6/ScenarioMIP/MOHC/HadGEM3-GC31...</td>\n",
       "      <td>NaN</td>\n",
       "      <td>20200515</td>\n",
       "    </tr>\n",
       "    <tr>\n",
       "      <th>439538</th>\n",
       "      <td>ScenarioMIP</td>\n",
       "      <td>MOHC</td>\n",
       "      <td>HadGEM3-GC31-MM</td>\n",
       "      <td>ssp585</td>\n",
       "      <td>r2i1p1f3</td>\n",
       "      <td>day</td>\n",
       "      <td>tasmin</td>\n",
       "      <td>gn</td>\n",
       "      <td>gs://cmip6/CMIP6/ScenarioMIP/MOHC/HadGEM3-GC31...</td>\n",
       "      <td>NaN</td>\n",
       "      <td>20200515</td>\n",
       "    </tr>\n",
       "    <tr>\n",
       "      <th>439930</th>\n",
       "      <td>ScenarioMIP</td>\n",
       "      <td>MOHC</td>\n",
       "      <td>HadGEM3-GC31-MM</td>\n",
       "      <td>ssp126</td>\n",
       "      <td>r1i1p1f3</td>\n",
       "      <td>day</td>\n",
       "      <td>tasmin</td>\n",
       "      <td>gn</td>\n",
       "      <td>gs://cmip6/CMIP6/ScenarioMIP/MOHC/HadGEM3-GC31...</td>\n",
       "      <td>NaN</td>\n",
       "      <td>20200515</td>\n",
       "    </tr>\n",
       "    <tr>\n",
       "      <th>496033</th>\n",
       "      <td>ScenarioMIP</td>\n",
       "      <td>MOHC</td>\n",
       "      <td>HadGEM3-GC31-MM</td>\n",
       "      <td>ssp585</td>\n",
       "      <td>r4i1p1f3</td>\n",
       "      <td>day</td>\n",
       "      <td>tasmin</td>\n",
       "      <td>gn</td>\n",
       "      <td>gs://cmip6/CMIP6/ScenarioMIP/MOHC/HadGEM3-GC31...</td>\n",
       "      <td>NaN</td>\n",
       "      <td>20201026</td>\n",
       "    </tr>\n",
       "  </tbody>\n",
       "</table>\n",
       "</div>"
      ],
      "text/plain": [
       "        activity_id institution_id        source_id experiment_id member_id  \\\n",
       "439121  ScenarioMIP           MOHC  HadGEM3-GC31-MM        ssp585  r3i1p1f3   \n",
       "439462  ScenarioMIP           MOHC  HadGEM3-GC31-MM        ssp585  r1i1p1f3   \n",
       "439538  ScenarioMIP           MOHC  HadGEM3-GC31-MM        ssp585  r2i1p1f3   \n",
       "439930  ScenarioMIP           MOHC  HadGEM3-GC31-MM        ssp126  r1i1p1f3   \n",
       "496033  ScenarioMIP           MOHC  HadGEM3-GC31-MM        ssp585  r4i1p1f3   \n",
       "\n",
       "       table_id variable_id grid_label  \\\n",
       "439121      day      tasmin         gn   \n",
       "439462      day      tasmin         gn   \n",
       "439538      day      tasmin         gn   \n",
       "439930      day      tasmin         gn   \n",
       "496033      day      tasmin         gn   \n",
       "\n",
       "                                                   zstore  dcpp_init_year  \\\n",
       "439121  gs://cmip6/CMIP6/ScenarioMIP/MOHC/HadGEM3-GC31...             NaN   \n",
       "439462  gs://cmip6/CMIP6/ScenarioMIP/MOHC/HadGEM3-GC31...             NaN   \n",
       "439538  gs://cmip6/CMIP6/ScenarioMIP/MOHC/HadGEM3-GC31...             NaN   \n",
       "439930  gs://cmip6/CMIP6/ScenarioMIP/MOHC/HadGEM3-GC31...             NaN   \n",
       "496033  gs://cmip6/CMIP6/ScenarioMIP/MOHC/HadGEM3-GC31...             NaN   \n",
       "\n",
       "         version  \n",
       "439121  20200507  \n",
       "439462  20200515  \n",
       "439538  20200515  \n",
       "439930  20200515  \n",
       "496033  20201026  "
      ]
     },
     "execution_count": 202,
     "metadata": {},
     "output_type": "execute_result"
    }
   ],
   "source": [
    "df_subset_future "
   ]
  },
  {
   "cell_type": "code",
   "execution_count": 195,
   "metadata": {},
   "outputs": [],
   "source": [
    "'''df_subset_hist = df_cmip6.loc[(df_cmip6['activity_id'] == 'CMIP') \n",
    "             & (df_cmip6['table_id'] == 'day') & (df_cmip6['variable_id'] == 'pr')\n",
    "             & (df_cmip6['institution_id'] == 'NUIST') & (df_cmip6['source_id'] == 'NESM3')]'''\n",
    "\n",
    "df_subset_hist = df_cmip6.loc[(df_cmip6['activity_id'] == 'CMIP') \n",
    "             & (df_cmip6['table_id'] == 'day') & (df_cmip6['variable_id'] == 'tasmax')\n",
    "             & (df_cmip6['source_id'] == 'HadGEM3-GC31-MM')]"
   ]
  },
  {
   "cell_type": "code",
   "execution_count": 196,
   "metadata": {},
   "outputs": [
    {
     "data": {
      "text/html": [
       "<div>\n",
       "<style scoped>\n",
       "    .dataframe tbody tr th:only-of-type {\n",
       "        vertical-align: middle;\n",
       "    }\n",
       "\n",
       "    .dataframe tbody tr th {\n",
       "        vertical-align: top;\n",
       "    }\n",
       "\n",
       "    .dataframe thead th {\n",
       "        text-align: right;\n",
       "    }\n",
       "</style>\n",
       "<table border=\"1\" class=\"dataframe\">\n",
       "  <thead>\n",
       "    <tr style=\"text-align: right;\">\n",
       "      <th></th>\n",
       "      <th>activity_id</th>\n",
       "      <th>institution_id</th>\n",
       "      <th>source_id</th>\n",
       "      <th>experiment_id</th>\n",
       "      <th>member_id</th>\n",
       "      <th>table_id</th>\n",
       "      <th>variable_id</th>\n",
       "      <th>grid_label</th>\n",
       "      <th>zstore</th>\n",
       "      <th>dcpp_init_year</th>\n",
       "      <th>version</th>\n",
       "    </tr>\n",
       "  </thead>\n",
       "  <tbody>\n",
       "  </tbody>\n",
       "</table>\n",
       "</div>"
      ],
      "text/plain": [
       "Empty DataFrame\n",
       "Columns: [activity_id, institution_id, source_id, experiment_id, member_id, table_id, variable_id, grid_label, zstore, dcpp_init_year, version]\n",
       "Index: []"
      ]
     },
     "execution_count": 196,
     "metadata": {},
     "output_type": "execute_result"
    }
   ],
   "source": [
    "df_subset_hist"
   ]
  },
  {
   "cell_type": "markdown",
   "metadata": {},
   "source": [
    "now let's actually pull the data "
   ]
  },
  {
   "cell_type": "code",
   "execution_count": null,
   "metadata": {},
   "outputs": [],
   "source": [
    "# search the cmip6 catalog\n",
    "col = intake.open_esm_datastore(\"https://storage.googleapis.com/cmip6/pangeo-cmip6.json\")\n",
    "\n",
    "cat = col.search(activity_id=['CMIP', activity_id], \n",
    "                 experiment_id=['historical', experiment_id], table_id=table_id, variable_id=variable_id,\n",
    "                 source_id=source_id, member_id=member_id)"
   ]
  },
  {
   "cell_type": "code",
   "execution_count": null,
   "metadata": {},
   "outputs": [],
   "source": [
    "ds_model = {}\n",
    "ds_model['historical'] = cat['CMIP.IPSL.IPSL-CM6A-LR.historical.day.gr'].to_dask().isel(member_id=0\n",
    "                                                                                       ).squeeze(drop=True).drop(['member_id', \n",
    "                                                                                                                  'height',\n",
    "                                                                                                                  'time_bounds'])"
   ]
  },
  {
   "cell_type": "code",
   "execution_count": null,
   "metadata": {},
   "outputs": [],
   "source": [
    "ds_model['ssp370'] = cat['ScenarioMIP.IPSL.IPSL-CM6A-LR.ssp370.day.gr'].to_dask().isel(member_id=0\n",
    "                                                                                       ).squeeze(drop=True).drop(['member_id',\n",
    "                                                                                                                  'height',\n",
    "                                                                                                                  'time_bounds'])"
   ]
  },
  {
   "cell_type": "code",
   "execution_count": null,
   "metadata": {},
   "outputs": [],
   "source": [
    "ds_model['historical']"
   ]
  },
  {
   "cell_type": "markdown",
   "metadata": {},
   "source": [
    "rechunk in space for global bias correction "
   ]
  },
  {
   "cell_type": "code",
   "execution_count": null,
   "metadata": {},
   "outputs": [],
   "source": [
    "chunks = {'lat': 10, 'lon': 10, 'time': -1}\n",
    "\n",
    "ds_model['historical'] = ds_model['historical'].chunk(chunks)\n",
    "ds_model['historical'] = ds_model['historical'].persist()\n",
    "\n",
    "ds_model['historical'] = ds_model['historical'].load()\n",
    "\n",
    "ds_model['ssp370'] = ds_model['ssp370'].chunk(chunks)\n",
    "ds_model['ssp370'] = ds_model['ssp370'].persist()"
   ]
  },
  {
   "cell_type": "code",
   "execution_count": null,
   "metadata": {},
   "outputs": [],
   "source": [
    "ds_model['historical'].to_zarr(os.path.join(write_direc, 'cmip6_test_model_historical'), \n",
    "                               consolidated=True, compute=False, mode='w')"
   ]
  },
  {
   "cell_type": "code",
   "execution_count": null,
   "metadata": {},
   "outputs": [],
   "source": [
    "ds_test = xr.open_zarr(os.path.join(write_direc, 'cmip6_test_model_historical.zarr'))"
   ]
  },
  {
   "cell_type": "code",
   "execution_count": null,
   "metadata": {},
   "outputs": [],
   "source": [
    "ds_test"
   ]
  },
  {
   "cell_type": "code",
   "execution_count": null,
   "metadata": {},
   "outputs": [],
   "source": [
    "ds_test.info "
   ]
  },
  {
   "cell_type": "code",
   "execution_count": null,
   "metadata": {},
   "outputs": [],
   "source": [
    "ds_model['historical'].to_zarr(os.path.join(write_direc, 'cmip6_test_model_historical'), mode='w')"
   ]
  },
  {
   "cell_type": "code",
   "execution_count": null,
   "metadata": {},
   "outputs": [],
   "source": [
    "ds_model['ssp370'].to_netcdf(os.path.join(write_direc, 'cmip6_test_model_ssp370.nc'))"
   ]
  },
  {
   "cell_type": "markdown",
   "metadata": {},
   "source": [
    "read in the zarr stores and see how hard it is to rechunk them in time instead of space for computing weights"
   ]
  },
  {
   "cell_type": "code",
   "execution_count": null,
   "metadata": {},
   "outputs": [],
   "source": [
    "ds_hist = zarr.open(os.path.join(write_direc, 'cmip6_test_model_historical.zarr'), mode='r')"
   ]
  },
  {
   "cell_type": "code",
   "execution_count": null,
   "metadata": {},
   "outputs": [],
   "source": [
    "ds_hist"
   ]
  },
  {
   "cell_type": "code",
   "execution_count": null,
   "metadata": {},
   "outputs": [],
   "source": [
    "ds_hist.info"
   ]
  },
  {
   "cell_type": "code",
   "execution_count": null,
   "metadata": {},
   "outputs": [],
   "source": []
  }
 ],
 "metadata": {
  "kernelspec": {
   "display_name": "Python 3",
   "language": "python",
   "name": "python3"
  },
  "language_info": {
   "codemirror_mode": {
    "name": "ipython",
    "version": 3
   },
   "file_extension": ".py",
   "mimetype": "text/x-python",
   "name": "python",
   "nbconvert_exporter": "python",
   "pygments_lexer": "ipython3",
   "version": "3.8.6"
  },
  "widgets": {
   "application/vnd.jupyter.widget-state+json": {
    "state": {},
    "version_major": 2,
    "version_minor": 0
   }
  }
 },
 "nbformat": 4,
 "nbformat_minor": 4
}
