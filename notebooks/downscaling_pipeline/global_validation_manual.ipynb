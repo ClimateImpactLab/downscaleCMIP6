{
 "cells": [
  {
   "cell_type": "markdown",
   "metadata": {},
   "source": [
    "### Global Validation ###\n",
    "\n",
    "This notebook combines several validation notebooks: `global_validation_tasmax_v2.ipynb` and `global_validation_dtr_v2.ipynb` along with `check_aiqpd_downscaled_data.ipynb` to create a \"master\" global validation notebook. It also borrows validation code from the ERA-5 workflow, `validate_era5_hourlyORdaily_files.ipynb`. It is intended to be run with `papermill`. \n",
    "\n",
    "### Data Sources ###\n",
    "\n",
    "Coarse Resolution: \n",
    "- CMIP6 \n",
    "- Bias corrected data \n",
    "- ERA-5\n",
    "\n",
    "Fine Resolution: \n",
    "- Bias corrected data \n",
    "- Downscaled data \n",
    "- ERA-5 (fine resolution)\n",
    "- ERA-5 (coarse resolution resampled to fine resolution) \n",
    "\n",
    "### Types of Validation ### \n",
    "\n",
    "Basic: \n",
    "- maxes, means, mins  \n",
    "    - CMIP6, bias corrected and downscaled \n",
    "    - historical (1995-2014), 2020-2040, 2040-2060, 2060-2080, 2080-2100 \n",
    "- differences between historical and future time periods for bias corrected and downscaled\n",
    "- differences between bias corrected and downscaled data \n",
    "\n",
    "Variable-specific: \n",
    "- GMST\n",
    "- days over 95 (future-historical difference plots)\n",
    "- max # of consecutive dry days, highest precip amount over 5-day rolling window"
   ]
  },
  {
   "cell_type": "code",
   "execution_count": null,
   "metadata": {},
   "outputs": [],
   "source": [
    "! pip install xclim # we don't have this package on compute.impactlab"
   ]
  },
  {
   "cell_type": "code",
   "execution_count": null,
   "metadata": {},
   "outputs": [],
   "source": [
    "%matplotlib inline \n",
    "import xarray as xr\n",
    "import numpy as np\n",
    "import matplotlib.pyplot as plt\n",
    "from cartopy import config\n",
    "import cartopy.crs as ccrs\n",
    "import cartopy.feature as cfeature\n",
    "import os \n",
    "import gcsfs \n",
    "from matplotlib import cm\n",
    "import warnings \n",
    "\n",
    "from science_validation_manual import *"
   ]
  },
  {
   "cell_type": "code",
   "execution_count": 2,
   "metadata": {},
   "outputs": [],
   "source": [
    "import dask\n",
    "import dask.array as da\n",
    "import dask.distributed as dd\n",
    "import rhg_compute_tools.kubernetes as rhgk"
   ]
  },
  {
   "cell_type": "code",
   "execution_count": 3,
   "metadata": {},
   "outputs": [],
   "source": [
    "client, cluster = rhgk.get_standard_cluster()"
   ]
  },
  {
   "cell_type": "code",
   "execution_count": null,
   "metadata": {},
   "outputs": [],
   "source": [
    "cluster.scale(40)\n",
    "cluster"
   ]
  },
  {
   "cell_type": "markdown",
   "metadata": {},
   "source": [
    "### Set Validation Parameters ###"
   ]
  },
  {
   "cell_type": "code",
   "execution_count": 5,
   "metadata": {
    "tags": [
     "parameters"
    ]
   },
   "outputs": [],
   "source": [
    "# variable options: 'tasmax', 'tasmin', 'dtr', 'pr'\n",
    "argo_token = ''\n",
    "workflow = 'e2e-nesm3-tasmax-xh84r'\n",
    "variable = 'tasmax'\n",
    "# ssp options: 'ssp126', 'ssp245', 'ssp370', 'ssp585'\n",
    "ssp = 'ssp245'\n",
    "gcm = 'NESM3'\n",
    "\n",
    "# data output types for running validation \n",
    "cmip6 = True\n",
    "bias_corrected = False\n",
    "downscaled = False\n",
    "# projection time period options: '2020_2040', '2040_2060', '2060_2080', '2080_2100'\n",
    "projection_time_period = '2080_2100'\n",
    "\n",
    "# validation plot options\n",
    "basic_diagnostics = True\n",
    "\n",
    "# options: 'mean', 'max', 'min'\n",
    "basic_diag_type = 'mean'\n",
    "\n",
    "# historical paths are included in data_dict below (historical and ssp are separate model runs)\n",
    "historical = True\n",
    "\n",
    "gmst = False\n",
    "hot_days = False\n",
    "difference_plots = False\n",
    "\n",
    "# options: 'downscaled_minus_biascorrected' , 'change_from_historical'\n",
    "diff_type = 'change_from_historical'"
   ]
  },
  {
   "cell_type": "code",
   "execution_count": 6,
   "metadata": {},
   "outputs": [],
   "source": [
    "# retrieve the worfklow manifest\n",
    "manifest = get_manifest(workflow, argo_token)"
   ]
  },
  {
   "cell_type": "code",
   "execution_count": 7,
   "metadata": {},
   "outputs": [],
   "source": [
    "# collect intermediary output file paths (gcs URLs to zarr locations for each specified dataset)\n",
    "data_dict = collect_paths(manifest, gcm, ssp, variable)"
   ]
  },
  {
   "cell_type": "code",
   "execution_count": null,
   "metadata": {},
   "outputs": [],
   "source": [
    "data_dict"
   ]
  },
  {
   "cell_type": "code",
   "execution_count": 9,
   "metadata": {},
   "outputs": [],
   "source": [
    "# we only plot gmst if validation variable is tasmax \n",
    "if variable != 'tasmax': \n",
    "    gmst = False\n",
    "    hot_days = False\n",
    "    warnings.warn(\"gmst plotting option changed to False since validation variable is not tasmax\")"
   ]
  },
  {
   "cell_type": "markdown",
   "metadata": {
    "tags": []
   },
   "source": [
    "### other data inputs ### "
   ]
  },
  {
   "cell_type": "code",
   "execution_count": 9,
   "metadata": {},
   "outputs": [],
   "source": [
    "units = {'tasmax': 'K', 'tasmin': 'K', 'dtr': 'K', 'pr': 'mm'}\n",
    "if historical:\n",
    "    years = {'hist': {'start_yr': '1995', 'end_yr': '2014'}, \n",
    "                  '2020_2040': {'start_yr': '2020', 'end_yr': '2040'}, \n",
    "                  '2040_2060': {'start_yr': '2040', 'end_yr': '2060'}, \n",
    "                  '2060_2080': {'start_yr': '2060', 'end_yr': '2080'}, \n",
    "                  '2080_2100': {'start_yr': '2080', 'end_yr': '2100'}}\n",
    "else:\n",
    "    years = {'2020_2040': {'start_yr': '2020', 'end_yr': '2040'}, \n",
    "              '2040_2060': {'start_yr': '2040', 'end_yr': '2060'}, \n",
    "              '2060_2080': {'start_yr': '2060', 'end_yr': '2080'}, \n",
    "              '2080_2100': {'start_yr': '2080', 'end_yr': '2100'}}\n",
    "years_test = {'hist': {'start_yr': '1995', 'end_yr': '2014'}, \n",
    "              '2020_2040': {'start_yr': '2020', 'end_yr': '2040'}, \n",
    "              '2040_2060': {'start_yr': '2040', 'end_yr': '2060'}}"
   ]
  },
  {
   "cell_type": "markdown",
   "metadata": {},
   "source": [
    "### Validation ### "
   ]
  },
  {
   "cell_type": "markdown",
   "metadata": {},
   "source": [
    "### basic diagnostic plots: means, maxes, mins ### "
   ]
  },
  {
   "cell_type": "code",
   "execution_count": 15,
   "metadata": {},
   "outputs": [],
   "source": [
    "if cmip6 and basic_diagnostics: \n",
    "    if historical: \n",
    "        plot_diagnostic_climo_periods(read_gcs_zarr(data_dict['coarse']['cmip6'][ssp]), \n",
    "                                      ssp, years, variable, basic_diag_type, 'cmip6', \n",
    "                                      units[variable], ds_hist=read_gcs_zarr(data_dict['coarse']['cmip6']['historical']), \n",
    "                                      vmin=280, vmax=320)\n",
    "    else:\n",
    "        print(\"not including historical period in diagnostics\")\n",
    "        plot_diagnostic_climo_periods(read_gcs_zarr(data_dict['coarse']['cmip6'][ssp]), \n",
    "                                      ssp, years, variable, basic_diag_type, 'cmip6', \n",
    "                                      units[variable], \n",
    "                                      vmin=280, vmax=320)"
   ]
  },
  {
   "cell_type": "code",
   "execution_count": null,
   "metadata": {},
   "outputs": [],
   "source": [
    "if bias_corrected and basic_diagnostics: \n",
    "    if historical: \n",
    "        plot_diagnostic_climo_periods(read_gcs_zarr(data_dict['coarse']['bias_corrected'][ssp]), \n",
    "                                      ssp, years, variable, basic_diag_type, 'bias_corrected', \n",
    "                                      units[variable], ds_hist=read_gcs_zarr(data_dict['coarse']['bias_corrected']['historical']), \n",
    "                                      vmin=280, vmax=320)\n",
    "    else:\n",
    "        print(\"not including historical period in diagnostics\")\n",
    "        plot_diagnostic_climo_periods(read_gcs_zarr(data_dict['coarse']['bias_corrected'][ssp]), \n",
    "                                      ssp, years, variable, basic_diag_type, 'bias_corrected', \n",
    "                                      units[variable], \n",
    "                                      vmin=280, vmax=320)"
   ]
  },
  {
   "cell_type": "code",
   "execution_count": null,
   "metadata": {},
   "outputs": [],
   "source": [
    "if downscaled and basic_diagnostics: \n",
    "    if historical: \n",
    "        plot_diagnostic_climo_periods(read_gcs_zarr(data_dict['fine']['downscaled'][ssp]), \n",
    "                                      ssp, years, variable, basic_diag_type, 'downscaled', \n",
    "                                      units[variable], ds_hist=read_gcs_zarr(data_dict['fine']['downscaled']['historical']), \n",
    "                                      vmin=280, vmax=320)\n",
    "    else:\n",
    "        print(\"not including historical period in diagnostics\")\n",
    "        plot_diagnostic_climo_periods(read_gcs_zarr(data_dict['fine']['downscaled'][ssp]), \n",
    "                                      ssp, years, variable, basic_diag_type, 'downscaled', \n",
    "                                      units[variable], \n",
    "                                      vmin=280, vmax=320)"
   ]
  },
  {
   "cell_type": "markdown",
   "metadata": {},
   "source": [
    "### GMST ### "
   ]
  },
  {
   "cell_type": "code",
   "execution_count": null,
   "metadata": {},
   "outputs": [],
   "source": [
    "if gmst: \n",
    "    if historical:\n",
    "        plot_gmst_diagnostic(read_gcs_zarr(data_dict['coarse']['cmip6'][ssp]), \n",
    "                             read_gcs_zarr(data_dict['coarse']['bias_corrected'][ssp]), \n",
    "                             variable=variable, ssp=ssp, \n",
    "                             ds_hist_cmip6=read_gcs_zarr(data_dict['coarse']['cmip6']['historical']), \n",
    "                             ds_hist_bc=read_gcs_zarr(data_dict['coarse']['bias_corrected']['historical']))\n",
    "    else:\n",
    "        plot_gmst_diagnostic(read_gcs_zarr(data_dict['coarse']['cmip6'][ssp]), \n",
    "                             read_gcs_zarr(data_dict['coarse']['bias_corrected'][ssp]), \n",
    "                             variable=variable, ssp=ssp)"
   ]
  },
  {
   "cell_type": "markdown",
   "metadata": {},
   "source": [
    "### Difference plots: bias corrected - downscaled OR historical - future (bias corrected and downscaled data outputs) ###\n",
    "\n",
    "Note: if doing bias corrected - downscaled, these two cells produce the same figure. If doing historical - future, the first will show differences for bias corrected and the second for downscaled. For the latter option, `historical` must be `True` in the parameters cell and the correct `diff_type` must be set. "
   ]
  },
  {
   "cell_type": "code",
   "execution_count": null,
   "metadata": {},
   "outputs": [],
   "source": [
    "if bias_corrected and difference_plots:\n",
    "    if historical:\n",
    "        plot_bias_correction_downscale_differences(read_gcs_zarr(data_dict['fine']['bias_corrected'][ssp]), \n",
    "                                                   read_gcs_zarr(data_dict['fine']['downscaled'][ssp]), \n",
    "                                                   diff_type, 'bias_corrected', variable, units[variable], years, \n",
    "                                                   ds_hist_bc=read_gcs_zarr(data_dict['fine']['bias_corrected']['historical']),\n",
    "                                                   ds_hist_ds=read_gcs_zarr(data_dict['fine']['downscaled']['historical']),\n",
    "                                                       ssp=ssp, time_period=projection_time_period)\n",
    "    else:\n",
    "        plot_bias_correction_downscale_differences(read_gcs_zarr(data_dict['fine']['bias_corrected'][ssp]), \n",
    "                                                   read_gcs_zarr(data_dict['fine']['downscaled'][ssp]), \n",
    "                                                   diff_type, 'bias_corrected', variable, units[variable], years, \n",
    "                                                   ssp=ssp, time_period=projection_time_period)"
   ]
  },
  {
   "cell_type": "markdown",
   "metadata": {},
   "source": [
    "same figure, colorbar not constrained (controlled by optional argument `robust=False`)"
   ]
  },
  {
   "cell_type": "code",
   "execution_count": null,
   "metadata": {},
   "outputs": [],
   "source": [
    "if bias_corrected and difference_plots:\n",
    "    if historical:\n",
    "        plot_bias_correction_downscale_differences(read_gcs_zarr(data_dict['fine']['bias_corrected'][ssp]), \n",
    "                                                   read_gcs_zarr(data_dict['fine']['downscaled'][ssp]), \n",
    "                                                   diff_type, 'bias_corrected', variable, units[variable], years, robust=False,\n",
    "                                                   ds_hist_bc=read_gcs_zarr(data_dict['fine']['bias_corrected']['historical']),\n",
    "                                                   ds_hist_ds=read_gcs_zarr(data_dict['fine']['downscaled']['historical']),\n",
    "                                                       ssp=ssp, time_period=projection_time_period)\n",
    "    else:\n",
    "        plot_bias_correction_downscale_differences(read_gcs_zarr(data_dict['fine']['bias_corrected'][ssp]), \n",
    "                                                   read_gcs_zarr(data_dict['fine']['downscaled'][ssp]), \n",
    "                                                   diff_type, 'bias_corrected', variable, units[variable], years, robust=False,\n",
    "                                                   ssp=ssp, time_period=projection_time_period)"
   ]
  },
  {
   "cell_type": "code",
   "execution_count": null,
   "metadata": {},
   "outputs": [],
   "source": [
    "if downscaled and difference_plots:\n",
    "    if historical:\n",
    "        plot_bias_correction_downscale_differences(read_gcs_zarr(data_dict['fine']['bias_corrected'][ssp]), \n",
    "                                                   read_gcs_zarr(data_dict['fine']['downscaled'][ssp]), \n",
    "                                                   diff_type, 'downscaled', variable, units[variable], years, \n",
    "                                                   ds_hist_bc=read_gcs_zarr(data_dict['fine']['bias_corrected']['historical']),\n",
    "                                                   ds_hist_ds=read_gcs_zarr(data_dict['fine']['downscaled']['historical']),\n",
    "                                                       ssp=ssp, time_period=projection_time_period)\n",
    "    else:\n",
    "        plot_bias_correction_downscale_differences(read_gcs_zarr(data_dict['fine']['bias_corrected'][ssp]), \n",
    "                                                   read_gcs_zarr(data_dict['fine']['downscaled'][ssp]), \n",
    "                                                   diff_type, 'downscaled', variable, units[variable], years, \n",
    "                                                   ssp=ssp, time_period=projection_time_period)"
   ]
  },
  {
   "cell_type": "markdown",
   "metadata": {},
   "source": [
    "### Difference plots for days over 95 degrees F using tasmax ###"
   ]
  },
  {
   "cell_type": "code",
   "execution_count": null,
   "metadata": {},
   "outputs": [],
   "source": [
    "if hot_days and cmip6 and difference_plots and historical :\n",
    "        plot_bias_correction_downscale_differences(read_gcs_zarr(data_dict['fine']['bias_corrected'][ssp]), \n",
    "                                                   read_gcs_zarr(data_dict['fine']['downscaled'][ssp]),\n",
    "                                                   read_gcs_zarr(data_dict['coarse']['cmip6'][ssp]), \n",
    "                                                   'change_from_historical', 'cmip6', variable, 'days with tasmax >= 95F', years, \n",
    "                                                   ds_hist_bc=read_gcs_zarr(data_dict['fine']['bias_corrected']['historical']),\n",
    "                                                   ds_hist_ds=read_gcs_zarr(data_dict['fine']['downscaled']['historical']),\n",
    "                                                   ds_hist_cmip=read_gcs_zarr(data_dict['coarse']['cmip6']['historical']),\n",
    "                                                       ssp=ssp, time_period=projection_time_period, xr_func=xr_conditional_count)"
   ]
  },
  {
   "cell_type": "code",
   "execution_count": null,
   "metadata": {},
   "outputs": [],
   "source": [
    "if hot_days and bias_corrected and difference_plots and historical:\n",
    "        plot_bias_correction_downscale_differences(read_gcs_zarr(data_dict['fine']['bias_corrected'][ssp]), \n",
    "                                                   read_gcs_zarr(data_dict['fine']['downscaled'][ssp]),\n",
    "                                                   read_gcs_zarr(data_dict['coarse']['cmip6'][ssp]), \n",
    "                                                   'change_from_historical', 'bias_corrected', variable, 'days with tasmax >= 95F', years, \n",
    "                                                   ds_hist_bc=read_gcs_zarr(data_dict['fine']['bias_corrected']['historical']),\n",
    "                                                   ds_hist_ds=read_gcs_zarr(data_dict['fine']['downscaled']['historical']),\n",
    "                                                   ds_hist_cmip=read_gcs_zarr(data_dict['coarse']['cmip6']['historical']),\n",
    "                                                       ssp=ssp, time_period=projection_time_period, xr_func=xr_conditional_count)"
   ]
  },
  {
   "cell_type": "code",
   "execution_count": null,
   "metadata": {},
   "outputs": [],
   "source": [
    "if hot_days and downscaled and difference_plots and historical:\n",
    "        plot_bias_correction_downscale_differences(read_gcs_zarr(data_dict['fine']['bias_corrected'][ssp]), \n",
    "                                                   read_gcs_zarr(data_dict['fine']['downscaled'][ssp]),\n",
    "                                                   read_gcs_zarr(data_dict['coarse']['cmip6'][ssp]), \n",
    "                                                   'change_from_historical', 'downscaled', variable, 'days with tasmax >= 95F', years, \n",
    "                                                   ds_hist_bc=read_gcs_zarr(data_dict['fine']['bias_corrected']['historical']),\n",
    "                                                   ds_hist_ds=read_gcs_zarr(data_dict['fine']['downscaled']['historical']),\n",
    "                                                   ds_hist_cmip=read_gcs_zarr(data_dict['coarse']['cmip6']['historical']),\n",
    "                                                       ssp=ssp, time_period=projection_time_period, xr_func=xr_conditional_count)"
   ]
  },
  {
   "cell_type": "markdown",
   "metadata": {},
   "source": [
    "### Precip - dry days ###"
   ]
  },
  {
   "cell_type": "code",
   "execution_count": null,
   "metadata": {},
   "outputs": [],
   "source": [
    "if variable=='pr'\n",
    "    plot_diagnostic_climo_periods(read_gcs_zarr(data_dict['fine']['downscaled'][ssp]), \n",
    "                                  ssp, years, variable, basic_diag_type, 'downscaled', \n",
    "                                  units[variable], ds_hist=read_gcs_zarr(data_dict['fine']['downscaled']['historical']), \n",
    "                                  vmin=0, vmax=200, xr_func=xc_maximum_consecutive_dry_days)"
   ]
  },
  {
   "cell_type": "markdown",
   "metadata": {},
   "source": [
    "### Precip - accumulated ###"
   ]
  },
  {
   "cell_type": "code",
   "execution_count": null,
   "metadata": {},
   "outputs": [],
   "source": [
    "if variable=='pr'\n",
    "    plot_diagnostic_climo_periods(read_gcs_zarr(data_dict['fine']['downscaled'][ssp]), \n",
    "                                  ssp, years, variable, basic_diag_type, 'downscaled', \n",
    "                                  units[variable], ds_hist=read_gcs_zarr(data_dict['fine']['downscaled']['historical']), \n",
    "                                  vmin=0, vmax=200, xr_func=xc_maximum_consecutive_dry_days)"
   ]
  }
 ],
 "metadata": {
  "kernelspec": {
   "display_name": "Python 3",
   "language": "python",
   "name": "python3"
  },
  "language_info": {
   "codemirror_mode": {
    "name": "ipython",
    "version": 3
   },
   "file_extension": ".py",
   "mimetype": "text/x-python",
   "name": "python",
   "nbconvert_exporter": "python",
   "pygments_lexer": "ipython3",
   "version": "3.8.6"
  },
  "widgets": {
   "application/vnd.jupyter.widget-state+json": {
    "state": {},
    "version_major": 2,
    "version_minor": 0
   }
  }
 },
 "nbformat": 4,
 "nbformat_minor": 4
}
