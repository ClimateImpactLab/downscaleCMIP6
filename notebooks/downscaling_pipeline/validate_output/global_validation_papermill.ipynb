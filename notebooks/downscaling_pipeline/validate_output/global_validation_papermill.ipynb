{
 "cells": [
  {
   "cell_type": "markdown",
   "metadata": {},
   "source": [
    "### Global Validation ###\n",
    "\n",
    "This notebook combines several validation notebooks: `global_validation_tasmax_v2.ipynb` and `global_validation_dtr_v2.ipynb` along with `check_aiqpd_downscaled_data.ipynb` to create a \"master\" global validation notebook. It also borrows validation code from the ERA-5 workflow, `validate_era5_hourlyORdaily_files.ipynb`. It is intended to be run with `papermill`. \n",
    "\n",
    "### Data Sources ###\n",
    "\n",
    "Coarse Resolution: \n",
    "- CMIP6 \n",
    "- Bias corrected data \n",
    "- ERA-5\n",
    "\n",
    "Fine Resolution: \n",
    "- Bias corrected data \n",
    "- Downscaled data \n",
    "- ERA-5 (fine resolution)\n",
    "- ERA-5 (coarse resolution resampled to fine resolution) \n",
    "\n",
    "### Types of Validation ### \n",
    "\n",
    "Basic: \n",
    "- maxes, means, mins  \n",
    "    - CMIP6, bias corrected and downscaled \n",
    "    - historical (1995-2014), 2020-2040, 2040-2060, 2060-2080, 2080-2100 \n",
    "- differences between historical and future time periods for bias corrected and downscaled\n",
    "- differences between bias corrected and downscaled data \n",
    "\n",
    "Variable-specific: \n",
    "- GMST\n",
    "- days over 95 (TO-DO)\n",
    "- max # of consecutive dry days, highest precip amt over 5-day rolling window (TO-DO) "
   ]
  },
  {
   "cell_type": "code",
   "execution_count": 19,
   "metadata": {},
   "outputs": [],
   "source": [
    "%matplotlib inline \n",
    "import xarray as xr\n",
    "import numpy as np\n",
    "import matplotlib.pyplot as plt\n",
    "from cartopy import config\n",
    "import cartopy.crs as ccrs\n",
    "import cartopy.feature as cfeature\n",
    "import os \n",
    "import gcsfs \n",
    "from matplotlib import cm\n",
    "import warnings \n",
    "\n",
    "from validation import *"
   ]
  },
  {
   "cell_type": "markdown",
   "metadata": {},
   "source": [
    "### Set Validation Parameters ###"
   ]
  },
  {
   "cell_type": "code",
   "execution_count": 23,
   "metadata": {
    "tags": [
     "parameters"
    ]
   },
   "outputs": [],
   "source": [
    "# variable options: 'tasmax', 'tasmin', 'dtr', 'pr'\n",
    "variable = 'tasmax'\n",
    "# ssp options: 'ssp126', 'ssp245', 'ssp370', 'ssp585'\n",
    "ssp = 'ssp370'\n",
    "\n",
    "# data output types for running validation \n",
    "cmip6 = True\n",
    "bias_corrected = True\n",
    "downscaled = True\n",
    "# projection time period options: '2020_2040', '2040_2060', '2060_2080', '2080_2100'\n",
    "projection_time_period = '2080_2100'\n",
    "\n",
    "# validation plot options\n",
    "basic_diagnostics = True\n",
    "\n",
    "# options: 'mean', 'max', 'min'\n",
    "basic_diag_type = 'mean'\n",
    "\n",
    "gmst = True\n",
    "difference_plots = True\n",
    "\n",
    "# options: 'downscaled_minus_biascorrected' , 'change_from_historical'\n",
    "diff_type = 'downscaled_minus_biascorrected'\n",
    "\n",
    "# contains the gcs URLs to zarr locations for each specified dataset\n",
    "data_dict = {'coarse': {'cmip6': {'historical': 'scratch/biascorrectdownscale-bk6n8/biascorrectdownscale-bk6n8-858077599/out.zarr', \n",
    "                                  ssp: 'scratch/biascorrectdownscale-bk6n8/biascorrectdownscale-bk6n8-269778292/out.zarr'}, \n",
    "                        'bias_corrected': {'historical': 'az://biascorrected-stage/CMIP/NOAA-GFDL/GFDL-ESM4/historical/r1i1p1f1/day/tasmax/gr1/v20210920214427.zarr', \n",
    "                                                                                      ssp: 'az://biascorrected-stage/ScenarioMIP/NOAA-GFDL/GFDL-ESM4/ssp370/r1i1p1f1/day/tasmax/gr1/v20210920214427.zarr'}, \n",
    "                        'ERA-5':'az://scratch/biascorrectdownscale-bk6n8/biascorrectdownscale-bk6n8-131793962/out.zarr'}, \n",
    "             'fine': {'bias_corrected': {'historical': 'az://scratch/biascorrectdownscale-bk6n8/biascorrectdownscale-bk6n8-1362934973/regridded.zarr', \n",
    "                                         ssp: 'az://scratch/biascorrectdownscale-bk6n8/biascorrectdownscale-bk6n8-377595554/regridded.zarr'}, \n",
    "                      'downscaled': {'historical': 'az://downscaled-stage/CMIP/NOAA-GFDL/GFDL-ESM4/historical/r1i1p1f1/day/tasmax/gr1/v20210920214427.zarr', \n",
    "                                     ssp: 'az://downscaled-stage/ScenarioMIP/NOAA-GFDL/GFDL-ESM4/ssp370/r1i1p1f1/day/tasmax/gr1/v20210920214427.zarr'}, \n",
    "                      'ERA-5_fine': 'az://scratch/biascorrectdownscale-bk6n8/biascorrectdownscale-bk6n8-491178896/rechunked.zarr', \n",
    "                      'ERA-5_coarse': 'az://scratch/biascorrectdownscale-bk6n8/biascorrectdownscale-bk6n8-1213790070/rechunked.zarr'}}\n"
   ]
  },
  {
   "cell_type": "code",
   "execution_count": null,
   "metadata": {},
   "outputs": [],
   "source": [
    "# we only plot gmst if validation variable is tasmax \n",
    "if variable != 'tasmax': \n",
    "    gmst = False\n",
    "    warnings.warn(\"gmst plotting option changed to False since validation variable is not tasmax\")"
   ]
  },
  {
   "cell_type": "markdown",
   "metadata": {
    "tags": []
   },
   "source": [
    "### other data inputs ### "
   ]
  },
  {
   "cell_type": "code",
   "execution_count": null,
   "metadata": {},
   "outputs": [],
   "source": [
    "units = {'tasmax': 'K', 'tasmin': 'K', 'dtr': 'K', 'pr': 'mm'}\n",
    "years = {'hist': {'start_yr': '1995', 'end_yr': '2014'}, \n",
    "              '2020_2040': {'start_yr': '2020', 'end_yr': '2040'}, \n",
    "              '2040_2060': {'start_yr': '2040', 'end_yr': '2060'}, \n",
    "              '2060_2080': {'start_yr': '2060', 'end_yr': '2080'}, \n",
    "              '2080_2100': {'start_yr': '2080', 'end_yr': '2100'}}\n",
    "years_test = {'hist': {'start_yr': '1995', 'end_yr': '2014'}, \n",
    "              '2020_2040': {'start_yr': '2020', 'end_yr': '2040'}, \n",
    "              '2040_2060': {'start_yr': '2040', 'end_yr': '2060'}}"
   ]
  },
  {
   "cell_type": "markdown",
   "metadata": {},
   "source": [
    "### Validation ### "
   ]
  },
  {
   "cell_type": "markdown",
   "metadata": {},
   "source": [
    "### basic diagnostic plots: means, maxes, mins ### "
   ]
  },
  {
   "cell_type": "code",
   "execution_count": null,
   "metadata": {},
   "outputs": [],
   "source": [
    "if cmip6 and basic_diagnostics: \n",
    "    plot_diagnostic_climo_periods(read_gcs_zarr(data_dict['coarse']['cmip6']['historical']), \n",
    "                                  read_gcs_zarr(data_dict['coarse']['cmip6'][ssp]), \n",
    "                                  ssp, years, variable, basic_diag_type, 'cmip6', \n",
    "                                  units, vmin=280, vmax=320)"
   ]
  },
  {
   "cell_type": "code",
   "execution_count": null,
   "metadata": {},
   "outputs": [],
   "source": [
    "if bias_corrected and basic_diagnostics: \n",
    "    plot_diagnostic_climo_periods(read_gcs_zarr(data_dict['coarse']['bias_corrected']['historical']), \n",
    "                                  read_gcs_zarr(data_dict['coarse']['bias_corrected'][ssp]), \n",
    "                                  ssp, years, variable, basic_diag_type, 'bias_corrected', \n",
    "                                  units, vmin=280, vmax=320)"
   ]
  },
  {
   "cell_type": "code",
   "execution_count": null,
   "metadata": {},
   "outputs": [],
   "source": [
    "if downscaled and basic_diagnostics: \n",
    "    plot_diagnostic_climo_periods(read_gcs_zarr(data_dict['coarse']['downscaled']['historical']), \n",
    "                                  read_gcs_zarr(data_dict['coarse']['downscaled'][ssp]), \n",
    "                                  ssp, years, variable, basic_diag_type, 'downscaled', \n",
    "                                  units, vmin=280, vmax=320)"
   ]
  },
  {
   "cell_type": "markdown",
   "metadata": {},
   "source": [
    "### GMST ### "
   ]
  },
  {
   "cell_type": "code",
   "execution_count": null,
   "metadata": {},
   "outputs": [],
   "source": [
    "if gmst: \n",
    "    plot_gmst_diagnostic(read_gcs_zarr(data_dict['coarse']['cmip6']['historical']), \n",
    "                         read_gcs_zarr(data_dict['coarse']['cmip6'][ssp]), \n",
    "                         read_gcs_zarr(data_dict['coarse']['bias_corrected']['historical']), \n",
    "                         read_gcs_zarr(data_dict['coarse']['bias_corrected'][ssp]), \n",
    "                         variable=variable, ssp=ssp, ds_hist_downscaled=None, ds_fut_downscaled=None)"
   ]
  },
  {
   "cell_type": "markdown",
   "metadata": {},
   "source": [
    "### Difference plots: bias corrected and downscaled OR historical/future (bias corrected and downscaled data outputs) ###"
   ]
  },
  {
   "cell_type": "code",
   "execution_count": null,
   "metadata": {},
   "outputs": [],
   "source": [
    "if bias_corrected and difference_plots:\n",
    "    plot_bias_correction_downscale_differences(read_gcs_zarr(data_dict['fine']['bias_corrected']['historical']), \n",
    "                                               read_gcs_zarr(data_dict['fine']['downscaled']['historical']), \n",
    "                                               read_gcs_zarr(data_dict['fine']['bias_corrected'][ssp]), \n",
    "                                               read_gcs_zarr(data_dict['fine']['downscaled'][ssp]), \n",
    "                                               diff_type, 'bias_corrected', variable,\n",
    "                                                   ssp=ssp, time_period=projection_time_period)"
   ]
  },
  {
   "cell_type": "code",
   "execution_count": null,
   "metadata": {},
   "outputs": [],
   "source": [
    "if downscaled and difference_plots:\n",
    "    plot_bias_correction_downscale_differences(read_gcs_zarr(data_dict['fine']['bias_corrected']['historical']), \n",
    "                                               read_gcs_zarr(data_dict['fine']['downscaled']['historical']), \n",
    "                                               read_gcs_zarr(data_dict['fine']['bias_corrected'][ssp]), \n",
    "                                               read_gcs_zarr(data_dict['fine']['downscaled'][ssp]), \n",
    "                                               diff_type, 'downscaled', variable,\n",
    "                                                   ssp=ssp, time_period=projection_time_period)"
   ]
  },
  {
   "cell_type": "markdown",
   "metadata": {},
   "source": [
    "### TO-DO: Days over 95 degrees F/extreme precip metrics ###"
   ]
  },
  {
   "cell_type": "code",
   "execution_count": null,
   "metadata": {},
   "outputs": [],
   "source": []
  }
 ],
 "metadata": {
  "kernelspec": {
   "display_name": "Python 3",
   "language": "python",
   "name": "python3"
  },
  "language_info": {
   "codemirror_mode": {
    "name": "ipython",
    "version": 3
   },
   "file_extension": ".py",
   "mimetype": "text/x-python",
   "name": "python",
   "nbconvert_exporter": "python",
   "pygments_lexer": "ipython3",
   "version": "3.8.12"
  },
  "widgets": {
   "application/vnd.jupyter.widget-state+json": {
    "state": {},
    "version_major": 2,
    "version_minor": 0
   }
  }
 },
 "nbformat": 4,
 "nbformat_minor": 4
}
