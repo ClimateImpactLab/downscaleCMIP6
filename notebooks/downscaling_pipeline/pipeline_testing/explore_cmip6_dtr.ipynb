{
 "cells": [
  {
   "cell_type": "code",
   "execution_count": 1,
   "metadata": {},
   "outputs": [],
   "source": [
    "%matplotlib inline\n",
    "import intake\n",
    "import xarray as xr\n",
    "import os \n",
    "import pandas as pd\n",
    "import numpy as np\n",
    "import zarr \n",
    "import gcsfs\n",
    "from xarray.ufuncs import maximum, minimum\n",
    "import rhg_compute_tools.kubernetes as rhgk\n",
    "\n",
    "import matplotlib.pyplot as plt\n",
    "import re\n",
    "import yaml\n",
    "import ast\n",
    "import warnings "
   ]
  },
  {
   "cell_type": "code",
   "execution_count": 2,
   "metadata": {},
   "outputs": [],
   "source": [
    "from science_validation_manual import read_gcs_zarr"
   ]
  },
  {
   "cell_type": "code",
   "execution_count": 3,
   "metadata": {},
   "outputs": [],
   "source": [
    "fs = gcsfs.GCSFileSystem(token='/opt/gcsfuse_tokens/impactlab-data.json')"
   ]
  },
  {
   "cell_type": "code",
   "execution_count": 4,
   "metadata": {},
   "outputs": [
    {
     "data": {
      "text/plain": [
       "'client, cluster = rhgk.get_standard_cluster()\\ncluster'"
      ]
     },
     "execution_count": 4,
     "metadata": {},
     "output_type": "execute_result"
    }
   ],
   "source": [
    "'''client, cluster = rhgk.get_standard_cluster()\n",
    "cluster'''"
   ]
  },
  {
   "cell_type": "code",
   "execution_count": 5,
   "metadata": {},
   "outputs": [],
   "source": [
    "col = intake.open_esm_datastore(\"https://storage.googleapis.com/cmip6/pangeo-cmip6.json\")"
   ]
  },
  {
   "cell_type": "code",
   "execution_count": 6,
   "metadata": {},
   "outputs": [],
   "source": [
    "def _paramfile_to_tuple(model, variable):\n",
    "    \"\"\"\n",
    "    takes in a model and variable, returns tuple from parameter file. \n",
    "    \"\"\"\n",
    "    param_file = '/home/jovyan/downscaling/downscale/workflows/parameters/{}-{}.yaml'.format(model, variable)\n",
    "    with open(param_file, 'r') as f:\n",
    "        var_dict = yaml.full_load(f)\n",
    "    # some string parsing \n",
    "    line = var_dict['jobs']\n",
    "    line1 = re.sub(r\"\\n\", \"\", line)\n",
    "    line2 = re.sub(r\"[\\[\\]]\", \"\", line1)\n",
    "    return ast.literal_eval(line2.strip())\n",
    "\n",
    "def _get_cmip6_dataset(model, variable, tuple_id, period='ssp'):\n",
    "    d_ssp = _paramfile_to_tuple(model, variable)[tuple_id][period]\n",
    "    cat = col.search(\n",
    "              activity_id=d_ssp['activity_id'],\n",
    "              experiment_id=d_ssp['experiment_id'],\n",
    "              table_id=d_ssp['table_id'],\n",
    "              variable_id=d_ssp['variable_id'],\n",
    "              source_id=d_ssp['source_id'],\n",
    "              member_id=d_ssp['member_id'],\n",
    "              grid_label=d_ssp['grid_label'],\n",
    "              version=int(d_ssp['version']),\n",
    "          )\n",
    "    return cat.to_dataset_dict(progressbar=False)\n",
    "\n",
    "def compute_dtr(model, tuple_id=1):\n",
    "    \"\"\"\n",
    "    takes in tasmax and tasmin Datasets, computes DTR (returns it lazily)\n",
    "    \"\"\"\n",
    "    tasmax = _get_cmip6_dataset(model, 'tasmax', tuple_id)\n",
    "    k_tasmax = list(tasmax.keys())\n",
    "    if len(k_tasmax) != 1:\n",
    "        raise ValueError(\"there is likely an issue with {} tasmax\".format(model))\n",
    "    tasmin = _get_cmip6_dataset(model, 'tasmin', tuple_id)\n",
    "    k_tasmin = list(tasmin.keys())\n",
    "    if len(k_tasmin) != 1:\n",
    "        raise ValueError(\"there is likely an issue with {} tasmin\".format(model))\n",
    "    return tasmax[k_tasmax[0]]['tasmax'] - tasmin[k_tasmin[0]]['tasmin'] \n",
    "\n",
    "def check_dtr(dtr, model):\n",
    "    \"\"\"\n",
    "    \"\"\"\n",
    "    min_dtr = dtr.min('time')\n",
    "    neg_count = min_dtr.where(min_dtr <= 0).count().values\n",
    "    if neg_count > 0:\n",
    "        warnings.warn(\"DTR has negative values for {}\".format(model))"
   ]
  },
  {
   "cell_type": "markdown",
   "metadata": {},
   "source": [
    "checking models "
   ]
  },
  {
   "cell_type": "markdown",
   "metadata": {},
   "source": [
    "DTR negative: \n",
    "- GFDL-ESM4\n",
    "- GFDL-CM4\n",
    "\n",
    "DTR positive: \n",
    "- CanESM5\n",
    "- INM-CM4-8\n",
    "- INM-CM5-0\n",
    "- NorESM2-MM\n",
    "- NorESM2-LM\n",
    "- MIROC6\n",
    "- EC-Earth3-Veg-LR\n",
    "- EC-Earth3-Veg\n",
    "- EC-Earth3\n",
    "- KIOST-ESM\n",
    "- MIROC-ES2L\n",
    "- MPI-ESM1-2-LR\n",
    "- MPI-ESM1-2-HR\n",
    "- NESM3\n",
    "- MRI-ESM2-0\n",
    "- FGOALS-g3\n",
    "- CMCC-ESM2\n",
    "- BCC-CSM2-MR\n",
    "- AWI-CM-1-1-MR\n",
    "- ACCESS-CM2\n",
    "\n",
    "Parameter files to add or fix (could not check DTR): \n",
    "- UKESM1-0-LL\n",
    "- ACCESS-ESM1-5\n",
    "\n",
    "Tasmin parameter files to add (could not check DTR): \n",
    "- CAMS-CSM1-0"
   ]
  },
  {
   "cell_type": "code",
   "execution_count": null,
   "metadata": {},
   "outputs": [],
   "source": [
    "model = 'NorESM2-MM'"
   ]
  },
  {
   "cell_type": "code",
   "execution_count": null,
   "metadata": {},
   "outputs": [],
   "source": [
    "dtr = compute_dtr(model, tuple_id=0)\n",
    "check_dtr(dtr, model)"
   ]
  },
  {
   "cell_type": "markdown",
   "metadata": {},
   "source": [
    "### for models with negative DTR, swap tasmax and tasmin ### \n",
    "\n",
    "GFDL-CM4: historical, ssp245, ssp585\n",
    "\n",
    "GFDL-ESM4: historical, ssp126, ssp245, ssp370, ssp585"
   ]
  },
  {
   "cell_type": "code",
   "execution_count": 12,
   "metadata": {},
   "outputs": [],
   "source": [
    "def _compute_max_or_min_temperature(model, tuple_id=1, variable='tasmax'):\n",
    "    \"\"\"\n",
    "    takes in a model source_id, pulls in the required parameter file info, \n",
    "    gets the tasmax and tasmin Datasets from the CMIP6 archive, computes tasmax or tasmin (returns it lazily)\n",
    "    \"\"\"\n",
    "    tasmax = _get_cmip6_dataset(model, 'tasmax', tuple_id)\n",
    "    k_tasmax = list(tasmax.keys())\n",
    "    if len(k_tasmax) != 1:\n",
    "        raise ValueError(\"there is likely an issue with {} tasmax\".format(model))\n",
    "    tasmin = _get_cmip6_dataset(model, 'tasmin', tuple_id)\n",
    "    k_tasmin = list(tasmin.keys())\n",
    "    if len(k_tasmin) != 1:\n",
    "        raise ValueError(\"there is likely an issue with {} tasmin\".format(model))\n",
    "        \n",
    "    # compute max or min \n",
    "    if variable == 'tasmax':\n",
    "        return (maximum(tasmax[k_tasmax[0]]['tasmax'], tasmin[k_tasmin[0]]['tasmin']), tasmax[k_tasmax[0]].attrs)\n",
    "    elif variable == 'tasmin':\n",
    "        return (minimum(tasmax[k_tasmax[0]]['tasmax'], tasmin[k_tasmin[0]]['tasmin']), tasmin[k_tasmin[0]].attrs)\n",
    "\n",
    "def swap_cmip6_tasmax_or_tasmin(model, tuple_id, variable, ssp):\n",
    "    \"\"\"\n",
    "    for select GCMs with negative DTR, this swaps tasmax and tasmin so that tasmax > tasmin \n",
    "    \"\"\"\n",
    "    temp_var, attribs = _compute_max_or_min_temperature(model, tuple_id=tuple_id, variable=variable)\n",
    "    temp_var_computed = temp_var.persist()\n",
    "    \n",
    "    store_filename = 'gs://impactlab-data/climate/source_data/CMIP6/downscaling/{}-{}-{}.zarr'.format(model, variable, ssp)\n",
    "    store = fs.get_mapper(store_filename, check=False)\n",
    "    \n",
    "    ds_temp = temp_var_computed.to_dataset(name=variable)\n",
    "    ds_temp.attrs = attribs\n",
    "    \n",
    "    ds_temp.chunk({'member_id': 1, 'time': 830, 'lat': len(ds_temp.lat), 'lon': len(ds_temp.lon)}).to_zarr(store, consolidated=True, mode=\"w\")"
   ]
  },
  {
   "cell_type": "code",
   "execution_count": 13,
   "metadata": {},
   "outputs": [],
   "source": [
    "# historical: _get_cmip6_dataset('GFDL-CM4', 'tasmin', 0, period='historical')\n",
    "# ssp245: _get_cmip6_dataset('GFDL-CM4', 'tasmin', 1, period='ssp')\n",
    "# ssp585: _get_cmip6_dataset('GFDL-CM4', 'tasmin', 2, period='ssp')"
   ]
  },
  {
   "cell_type": "code",
   "execution_count": 14,
   "metadata": {},
   "outputs": [],
   "source": [
    "# _get_cmip6_dataset('GFDL-CM4', 'tasmax', 2, period='ssp')"
   ]
  },
  {
   "cell_type": "code",
   "execution_count": 16,
   "metadata": {},
   "outputs": [
    {
     "name": "stderr",
     "output_type": "stream",
     "text": [
      "<ipython-input-12-af01ed171ff5>:19: FutureWarning: xarray.ufuncs is deprecated. Instead, use numpy ufuncs directly.\n",
      "  return (minimum(tasmax[k_tasmax[0]]['tasmax'], tasmin[k_tasmin[0]]['tasmin']), tasmin[k_tasmin[0]].attrs)\n",
      "/srv/conda/envs/notebook/lib/python3.8/site-packages/xarray/core/dataarray.py:3081: FutureWarning: xarray.ufuncs is deprecated. Instead, use numpy ufuncs directly.\n",
      "  f(self.variable, other_variable)\n",
      "/srv/conda/envs/notebook/lib/python3.8/site-packages/xarray/core/variable.py:2409: FutureWarning: xarray.ufuncs is deprecated. Instead, use numpy ufuncs directly.\n",
      "  f(self_data, other_data) if not reflexive else f(other_data, self_data)\n"
     ]
    }
   ],
   "source": [
    "swap_cmip6_tasmax_or_tasmin('GFDL-CM4', 1, 'tasmin', 'ssp245')"
   ]
  },
  {
   "cell_type": "code",
   "execution_count": null,
   "metadata": {},
   "outputs": [],
   "source": [
    "(tasmax, attribs) = compute_max_or_min_temperature('GFDL-CM4', tuple_id=1, variable='tasmax')\n",
    "tasmax_computed = tasmax.persist()\n",
    "\n",
    "test_store_filename = 'gs://impactlab-data/climate/source_data/CMIP6/downscaling/gfdl-cm4-tasmax-historical.zarr' \n",
    "test_store = fs.get_mapper(test_store_filename, check=False)\n",
    "\n",
    "tasmax_computed = tasmax_computed.to_dataset(name='tasmax')\n",
    "tasmax_computed.attrs = attribs\n",
    "\n",
    "# write new zarr (note the rechunking is necessary to avoid an error in saving the zarr where chunks are different sizes)\n",
    "tasmax_computed.chunk({'member_id': 1, 'time': 830, 'lat': len(tasmax_computed.lat), 'lon': len(tasmax_computed.lon)}).to_zarr(test_store, consolidated=True, mode=\"w\")"
   ]
  },
  {
   "cell_type": "code",
   "execution_count": 17,
   "metadata": {},
   "outputs": [],
   "source": [
    "tasmax_gfdlcm4_ssp245 = read_gcs_zarr('gs://impactlab-data/climate/source_data/CMIP6/downscaling/{}-{}-{}.zarr'.format('GFDL-CM4', 'tasmax', 'ssp245'))\n",
    "tasmin_gfdlcm4_ssp245 = read_gcs_zarr('gs://impactlab-data/climate/source_data/CMIP6/downscaling/{}-{}-{}.zarr'.format('GFDL-CM4', 'tasmin', 'ssp245'))"
   ]
  },
  {
   "cell_type": "code",
   "execution_count": 23,
   "metadata": {},
   "outputs": [],
   "source": [
    "dtr_gfdlcm4_ssp245 = tasmax_gfdlcm4_ssp245['tasmax'] - tasmin_gfdlcm4_ssp245['tasmin']"
   ]
  },
  {
   "cell_type": "code",
   "execution_count": 26,
   "metadata": {},
   "outputs": [],
   "source": [
    "min_dtr = dtr_gfdlcm4_ssp245.min('time')\n",
    "neg_count = min_dtr.where(min_dtr < 0).count().values\n",
    "if neg_count > 0:\n",
    "    warnings.warn(\"DTR has negative values for {} STILL\".format('GFDL-CM4 ssp245'))"
   ]
  },
  {
   "cell_type": "code",
   "execution_count": null,
   "metadata": {},
   "outputs": [],
   "source": []
  }
 ],
 "metadata": {
  "kernelspec": {
   "display_name": "Python 3",
   "language": "python",
   "name": "python3"
  },
  "language_info": {
   "codemirror_mode": {
    "name": "ipython",
    "version": 3
   },
   "file_extension": ".py",
   "mimetype": "text/x-python",
   "name": "python",
   "nbconvert_exporter": "python",
   "pygments_lexer": "ipython3",
   "version": "3.8.12"
  },
  "widgets": {
   "application/vnd.jupyter.widget-state+json": {
    "state": {},
    "version_major": 2,
    "version_minor": 0
   }
  }
 },
 "nbformat": 4,
 "nbformat_minor": 4
}
