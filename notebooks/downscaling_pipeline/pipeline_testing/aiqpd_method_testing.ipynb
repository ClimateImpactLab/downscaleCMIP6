{
 "cells": [
  {
   "cell_type": "code",
   "execution_count": null,
   "metadata": {},
   "outputs": [],
   "source": [
    "# ! pip install -e /home/jovyan/downscaling/xclim/"
   ]
  },
  {
   "cell_type": "code",
   "execution_count": 1,
   "metadata": {},
   "outputs": [
    {
     "name": "stderr",
     "output_type": "stream",
     "text": [
      "/srv/conda/envs/notebook/lib/python3.8/site-packages/dask_gateway/client.py:21: FutureWarning: format_bytes is deprecated and will be removed in a future release. Please use dask.utils.format_bytes instead.\n",
      "  from distributed.utils import LoopRunner, format_bytes\n"
     ]
    }
   ],
   "source": [
    "%matplotlib inline\n",
    "import xarray as xr\n",
    "import scipy as sp\n",
    "import numpy as np \n",
    "import pandas as pd\n",
    "import matplotlib.pyplot as plt\n",
    "import os \n",
    "import gcsfs\n",
    "\n",
    "import dask.distributed as dd\n",
    "import dask\n",
    "import rhg_compute_tools.kubernetes as rhgk"
   ]
  },
  {
   "cell_type": "code",
   "execution_count": 2,
   "metadata": {},
   "outputs": [],
   "source": [
    "from xclim import sdba"
   ]
  },
  {
   "cell_type": "code",
   "execution_count": 3,
   "metadata": {},
   "outputs": [],
   "source": [
    "from xclim.sdba.adjustment import AnalogQuantilePreservingDownscaling, QuantileDeltaMapping\n",
    "from xclim.sdba.utils import equally_spaced_nodes\n",
    "from xclim.core.calendar import convert_calendar\n",
    "from xclim import set_options"
   ]
  },
  {
   "cell_type": "code",
   "execution_count": 4,
   "metadata": {},
   "outputs": [],
   "source": [
    "def convert_to_noleap_calendar(ds, target='noleap'):\n",
    "    ds_noleap = convert_calendar(ds, target=target)\n",
    "    return ds_noleap"
   ]
  },
  {
   "cell_type": "code",
   "execution_count": 5,
   "metadata": {},
   "outputs": [
    {
     "data": {
      "text/plain": [
       "\"tas_eager = xr.open_dataset('/home/jovyan/analog_method_prototype_wastate_era5_data.nc')\\ntas_eager = convert_calendar(tas_eager, target='noleap')\\nref = tas_eager['tas']\\nhist = tas_eager['tas'] + 3\\nsim = tas_eager['tas'] + 5\""
      ]
     },
     "execution_count": 5,
     "metadata": {},
     "output_type": "execute_result"
    }
   ],
   "source": [
    "'''tas_eager = xr.open_dataset('/home/jovyan/analog_method_prototype_wastate_era5_data.nc')\n",
    "tas_eager = convert_calendar(tas_eager, target='noleap')\n",
    "ref = tas_eager['tas']\n",
    "hist = tas_eager['tas'] + 3\n",
    "sim = tas_eager['tas'] + 5'''"
   ]
  },
  {
   "cell_type": "code",
   "execution_count": 6,
   "metadata": {},
   "outputs": [],
   "source": [
    "np.random.seed(0)\n",
    "\n",
    "lon = [-99.83, -99.32, -99.79, -99.23]\n",
    "lat = [42.25, 42.21, 42.63, 42.59]\n",
    "# time = pd.date_range(start='1994-12-17', end='2015-01-15')\n",
    "# time = pd.date_range(start='1995-01-01', end='2014-12-31')\n",
    "time = xr.cftime_range(start=\"1994-12-17\", end=\"2015-01-15\", calendar=\"noleap\")\n",
    "temperature_ref = 15 + 8 * np.random.randn(len(time), 4, 4)\n",
    "temperature_train = 15 + 8 * np.random.randn(len(time), 4, 4)\n",
    "variable = \"scen\"\n",
    "\n",
    "ref_fine = xr.Dataset(\n",
    "     data_vars=dict(\n",
    "         scen=([\"time\", \"lat\", \"lon\"], temperature_ref),\n",
    "     ),\n",
    "     coords=dict(\n",
    "         time=time,\n",
    "         lon=([\"lon\"], lon),\n",
    "         lat=([\"lat\"], lat),\n",
    "         # reference_time=reference_time,\n",
    "     ),\n",
    "     attrs=dict(description=\"Weather related data.\"),\n",
    "     )\n",
    "ref_fine[\"scen\"].attrs[\"units\"] = 'K'\n",
    "\n",
    "ds_train = xr.Dataset(\n",
    "     data_vars=dict(\n",
    "         scen=([\"time\", \"lat\", \"lon\"], temperature_train),\n",
    "     ),\n",
    "     coords=dict(\n",
    "         time=time,\n",
    "         lon=([\"lon\"], lon),\n",
    "         lat=([\"lat\"], lat),\n",
    "         # reference_time=reference_time,\n",
    "     ),\n",
    "     attrs=dict(description=\"Weather related data.\"),\n",
    "     )"
   ]
  },
  {
   "cell_type": "code",
   "execution_count": 7,
   "metadata": {},
   "outputs": [],
   "source": [
    "# ref_fine['scen']"
   ]
  },
  {
   "cell_type": "code",
   "execution_count": 8,
   "metadata": {},
   "outputs": [
    {
     "data": {
      "text/plain": [
       "\"ref_fine = convert_to_noleap_calendar(ref_fine['temperature'], target='noleap')\\nds_train = convert_to_noleap_calendar(ds_train['temperature'], target='noleap')\""
      ]
     },
     "execution_count": 8,
     "metadata": {},
     "output_type": "execute_result"
    }
   ],
   "source": [
    "# ds = xr.tutorial.load_dataset(\"air_temperature\").resample(time=\"D\").mean()\n",
    "# temp_slice = convert_to_noleap_calendar(ds['air'][:, :2, :2], target='noleap')\n",
    "'''ref_fine = convert_to_noleap_calendar(ref_fine['temperature'], target='noleap')\n",
    "ds_train = convert_to_noleap_calendar(ds_train['temperature'], target='noleap')'''"
   ]
  },
  {
   "cell_type": "code",
   "execution_count": 9,
   "metadata": {},
   "outputs": [],
   "source": [
    "# ds_train"
   ]
  },
  {
   "cell_type": "code",
   "execution_count": 10,
   "metadata": {},
   "outputs": [],
   "source": [
    "# temp_slice_mean = temp_slice.mean(['lat', 'lon'])\n",
    "ds_ref_coarse = ref_fine.mean(['lat', 'lon'])\n",
    "ds_train = ds_train.mean(['lat', 'lon'])\n",
    "# temp_slice_mean_resampled = temp_slice_mean.broadcast_like(temp_slice)\n",
    "ref_coarse = ds_ref_coarse.broadcast_like(ref_fine)\n",
    "# temp_slice_mean_climatechange = temp_slice_mean_resampled + 3\n",
    "ds_bc = ds_train + 3\n",
    "\n",
    "ref_coarse[\"scen\"].attrs[\"units\"] = 'K'\n",
    "ds_ref_coarse[\"scen\"].attrs[\"units\"] = 'K'\n",
    "ds_train[\"scen\"].attrs[\"units\"] = 'K'\n",
    "ds_bc[\"scen\"].attrs[\"units\"] = 'K'"
   ]
  },
  {
   "cell_type": "code",
   "execution_count": 11,
   "metadata": {},
   "outputs": [],
   "source": [
    "with set_options(sdba_extra_output=True):\n",
    "    quantiles = equally_spaced_nodes(620, eps=None)\n",
    "    QDM = QuantileDeltaMapping.train(ds_ref_coarse[\"scen\"], ds_train[\"scen\"], kind='+', nquantiles=quantiles, \n",
    "                               group=sdba.Grouper(\"time.dayofyear\", window=31))\n",
    "    # QDM.train(temp_slice_mean + 2, temp_slice_mean)\n",
    "    # QDM.train(ds_ref_coarse, ds_train)\n",
    "    # fake_biascorrected = QDM.adjust(temp_slice_mean + 4)\n",
    "    fake_biascorrected = QDM.adjust(ds_bc[\"scen\"])\n",
    "    fake_biascorrected = fake_biascorrected['scen'].assign_coords(sim_q=fake_biascorrected.sim_q).to_dataset()"
   ]
  },
  {
   "cell_type": "code",
   "execution_count": 12,
   "metadata": {},
   "outputs": [
    {
     "data": {
      "text/plain": [
       "'print(ds_ref_coarse)\\nprint(ds_train)\\nprint(ds_bc)'"
      ]
     },
     "execution_count": 12,
     "metadata": {},
     "output_type": "execute_result"
    }
   ],
   "source": [
    "'''print(ds_ref_coarse)\n",
    "print(ds_train)\n",
    "print(ds_bc)'''\n",
    "# print(fake_biascorrected)"
   ]
  },
  {
   "cell_type": "code",
   "execution_count": 13,
   "metadata": {},
   "outputs": [],
   "source": [
    "# biascorrected = fake_biascorrected['scen'].broadcast_like(temp_slice)\n",
    "biascorrected = fake_biascorrected['scen'].broadcast_like(ref_fine)\n",
    "biascorrected[\"sim_q\"] = fake_biascorrected['sim_q'].broadcast_like(ref_fine)\n",
    "year = 2005\n",
    "biascorrected_year = biascorrected.sel(time=slice(\"{}-01-01\".format(year), \"{}-12-31\".format(year)))\n",
    "biascorrected_year = biascorrected_year.assign_coords(sim_q=biascorrected_year.sim_q).to_dataset()"
   ]
  },
  {
   "cell_type": "code",
   "execution_count": 14,
   "metadata": {},
   "outputs": [],
   "source": [
    "# biascorrected_year[\"scen\"]"
   ]
  },
  {
   "cell_type": "code",
   "execution_count": 15,
   "metadata": {},
   "outputs": [
    {
     "data": {
      "text/plain": [
       "'AIQPD = AnalogQuantilePreservingDownscaling.train(ref=ref_coarse[\\'scen\\'], \\n                                                  hist=ref_fine[\\'scen\\'], {\\'kind\\': \\'+\\', \\'nquantiles\\': int(620), \\n                                                  \\'group\\': sdba.Grouper(\"time.dayofyear\", window=31)})'"
      ]
     },
     "execution_count": 15,
     "metadata": {},
     "output_type": "execute_result"
    }
   ],
   "source": [
    "AIQPD = AnalogQuantilePreservingDownscaling.train(ref=ref_coarse['scen'], \n",
    "                                                  hist=ref_fine['scen'], kind='+', nquantiles=int(620), \n",
    "                                                  group=sdba.Grouper(\"time.dayofyear\", window=31))\n",
    "\n",
    "'''AIQPD = AnalogQuantilePreservingDownscaling.train(ref=ref_coarse['scen'], \n",
    "                                                  hist=ref_fine['scen'], {'kind': '+', 'nquantiles': int(620), \n",
    "                                                  'group': sdba.Grouper(\"time.dayofyear\", window=31)})'''"
   ]
  },
  {
   "cell_type": "code",
   "execution_count": 16,
   "metadata": {},
   "outputs": [],
   "source": [
    "# biascorrected_year[\"scen\"].drop('sim_q')"
   ]
  },
  {
   "cell_type": "code",
   "execution_count": 17,
   "metadata": {},
   "outputs": [],
   "source": [
    "'''ds_test = xr.Dataset({\"sim\": biascorrected_year[\"scen\"], \n",
    "                      \"af\": AIQPD.ds.af, \"sim_q\": biascorrected_year.scen.sim_q, \"ref_coarse_q\": AIQPD.ds.ref_coarse_q})'''\n",
    "\n",
    "ds_test = xr.Dataset({\"sim\": biascorrected_year[\"scen\"].drop('sim_q'), \n",
    "                      \"af\": AIQPD.ds.af, \"sim_q\": biascorrected_year.scen.sim_q, \"ref_coarse_q\": AIQPD.ds.ref_coarse_q})"
   ]
  },
  {
   "cell_type": "code",
   "execution_count": 18,
   "metadata": {},
   "outputs": [],
   "source": [
    "# ds_test"
   ]
  },
  {
   "cell_type": "code",
   "execution_count": 19,
   "metadata": {},
   "outputs": [],
   "source": [
    "# aiqpd_downscaled = AIQPD.adjust(biascorrected)\n",
    "aiqpd_downscaled = AIQPD.adjust(biascorrected_year[\"scen\"])"
   ]
  },
  {
   "cell_type": "code",
   "execution_count": 20,
   "metadata": {},
   "outputs": [
    {
     "data": {
      "text/html": [
       "<div><svg style=\"position: absolute; width: 0; height: 0; overflow: hidden\">\n",
       "<defs>\n",
       "<symbol id=\"icon-database\" viewBox=\"0 0 32 32\">\n",
       "<path d=\"M16 0c-8.837 0-16 2.239-16 5v4c0 2.761 7.163 5 16 5s16-2.239 16-5v-4c0-2.761-7.163-5-16-5z\"></path>\n",
       "<path d=\"M16 17c-8.837 0-16-2.239-16-5v6c0 2.761 7.163 5 16 5s16-2.239 16-5v-6c0 2.761-7.163 5-16 5z\"></path>\n",
       "<path d=\"M16 26c-8.837 0-16-2.239-16-5v6c0 2.761 7.163 5 16 5s16-2.239 16-5v-6c0 2.761-7.163 5-16 5z\"></path>\n",
       "</symbol>\n",
       "<symbol id=\"icon-file-text2\" viewBox=\"0 0 32 32\">\n",
       "<path d=\"M28.681 7.159c-0.694-0.947-1.662-2.053-2.724-3.116s-2.169-2.030-3.116-2.724c-1.612-1.182-2.393-1.319-2.841-1.319h-15.5c-1.378 0-2.5 1.121-2.5 2.5v27c0 1.378 1.122 2.5 2.5 2.5h23c1.378 0 2.5-1.122 2.5-2.5v-19.5c0-0.448-0.137-1.23-1.319-2.841zM24.543 5.457c0.959 0.959 1.712 1.825 2.268 2.543h-4.811v-4.811c0.718 0.556 1.584 1.309 2.543 2.268zM28 29.5c0 0.271-0.229 0.5-0.5 0.5h-23c-0.271 0-0.5-0.229-0.5-0.5v-27c0-0.271 0.229-0.5 0.5-0.5 0 0 15.499-0 15.5 0v7c0 0.552 0.448 1 1 1h7v19.5z\"></path>\n",
       "<path d=\"M23 26h-14c-0.552 0-1-0.448-1-1s0.448-1 1-1h14c0.552 0 1 0.448 1 1s-0.448 1-1 1z\"></path>\n",
       "<path d=\"M23 22h-14c-0.552 0-1-0.448-1-1s0.448-1 1-1h14c0.552 0 1 0.448 1 1s-0.448 1-1 1z\"></path>\n",
       "<path d=\"M23 18h-14c-0.552 0-1-0.448-1-1s0.448-1 1-1h14c0.552 0 1 0.448 1 1s-0.448 1-1 1z\"></path>\n",
       "</symbol>\n",
       "</defs>\n",
       "</svg>\n",
       "<style>/* CSS stylesheet for displaying xarray objects in jupyterlab.\n",
       " *\n",
       " */\n",
       "\n",
       ":root {\n",
       "  --xr-font-color0: var(--jp-content-font-color0, rgba(0, 0, 0, 1));\n",
       "  --xr-font-color2: var(--jp-content-font-color2, rgba(0, 0, 0, 0.54));\n",
       "  --xr-font-color3: var(--jp-content-font-color3, rgba(0, 0, 0, 0.38));\n",
       "  --xr-border-color: var(--jp-border-color2, #e0e0e0);\n",
       "  --xr-disabled-color: var(--jp-layout-color3, #bdbdbd);\n",
       "  --xr-background-color: var(--jp-layout-color0, white);\n",
       "  --xr-background-color-row-even: var(--jp-layout-color1, white);\n",
       "  --xr-background-color-row-odd: var(--jp-layout-color2, #eeeeee);\n",
       "}\n",
       "\n",
       "html[theme=dark],\n",
       "body.vscode-dark {\n",
       "  --xr-font-color0: rgba(255, 255, 255, 1);\n",
       "  --xr-font-color2: rgba(255, 255, 255, 0.54);\n",
       "  --xr-font-color3: rgba(255, 255, 255, 0.38);\n",
       "  --xr-border-color: #1F1F1F;\n",
       "  --xr-disabled-color: #515151;\n",
       "  --xr-background-color: #111111;\n",
       "  --xr-background-color-row-even: #111111;\n",
       "  --xr-background-color-row-odd: #313131;\n",
       "}\n",
       "\n",
       ".xr-wrap {\n",
       "  display: block;\n",
       "  min-width: 300px;\n",
       "  max-width: 700px;\n",
       "}\n",
       "\n",
       ".xr-text-repr-fallback {\n",
       "  /* fallback to plain text repr when CSS is not injected (untrusted notebook) */\n",
       "  display: none;\n",
       "}\n",
       "\n",
       ".xr-header {\n",
       "  padding-top: 6px;\n",
       "  padding-bottom: 6px;\n",
       "  margin-bottom: 4px;\n",
       "  border-bottom: solid 1px var(--xr-border-color);\n",
       "}\n",
       "\n",
       ".xr-header > div,\n",
       ".xr-header > ul {\n",
       "  display: inline;\n",
       "  margin-top: 0;\n",
       "  margin-bottom: 0;\n",
       "}\n",
       "\n",
       ".xr-obj-type,\n",
       ".xr-array-name {\n",
       "  margin-left: 2px;\n",
       "  margin-right: 10px;\n",
       "}\n",
       "\n",
       ".xr-obj-type {\n",
       "  color: var(--xr-font-color2);\n",
       "}\n",
       "\n",
       ".xr-sections {\n",
       "  padding-left: 0 !important;\n",
       "  display: grid;\n",
       "  grid-template-columns: 150px auto auto 1fr 20px 20px;\n",
       "}\n",
       "\n",
       ".xr-section-item {\n",
       "  display: contents;\n",
       "}\n",
       "\n",
       ".xr-section-item input {\n",
       "  display: none;\n",
       "}\n",
       "\n",
       ".xr-section-item input + label {\n",
       "  color: var(--xr-disabled-color);\n",
       "}\n",
       "\n",
       ".xr-section-item input:enabled + label {\n",
       "  cursor: pointer;\n",
       "  color: var(--xr-font-color2);\n",
       "}\n",
       "\n",
       ".xr-section-item input:enabled + label:hover {\n",
       "  color: var(--xr-font-color0);\n",
       "}\n",
       "\n",
       ".xr-section-summary {\n",
       "  grid-column: 1;\n",
       "  color: var(--xr-font-color2);\n",
       "  font-weight: 500;\n",
       "}\n",
       "\n",
       ".xr-section-summary > span {\n",
       "  display: inline-block;\n",
       "  padding-left: 0.5em;\n",
       "}\n",
       "\n",
       ".xr-section-summary-in:disabled + label {\n",
       "  color: var(--xr-font-color2);\n",
       "}\n",
       "\n",
       ".xr-section-summary-in + label:before {\n",
       "  display: inline-block;\n",
       "  content: '►';\n",
       "  font-size: 11px;\n",
       "  width: 15px;\n",
       "  text-align: center;\n",
       "}\n",
       "\n",
       ".xr-section-summary-in:disabled + label:before {\n",
       "  color: var(--xr-disabled-color);\n",
       "}\n",
       "\n",
       ".xr-section-summary-in:checked + label:before {\n",
       "  content: '▼';\n",
       "}\n",
       "\n",
       ".xr-section-summary-in:checked + label > span {\n",
       "  display: none;\n",
       "}\n",
       "\n",
       ".xr-section-summary,\n",
       ".xr-section-inline-details {\n",
       "  padding-top: 4px;\n",
       "  padding-bottom: 4px;\n",
       "}\n",
       "\n",
       ".xr-section-inline-details {\n",
       "  grid-column: 2 / -1;\n",
       "}\n",
       "\n",
       ".xr-section-details {\n",
       "  display: none;\n",
       "  grid-column: 1 / -1;\n",
       "  margin-bottom: 5px;\n",
       "}\n",
       "\n",
       ".xr-section-summary-in:checked ~ .xr-section-details {\n",
       "  display: contents;\n",
       "}\n",
       "\n",
       ".xr-array-wrap {\n",
       "  grid-column: 1 / -1;\n",
       "  display: grid;\n",
       "  grid-template-columns: 20px auto;\n",
       "}\n",
       "\n",
       ".xr-array-wrap > label {\n",
       "  grid-column: 1;\n",
       "  vertical-align: top;\n",
       "}\n",
       "\n",
       ".xr-preview {\n",
       "  color: var(--xr-font-color3);\n",
       "}\n",
       "\n",
       ".xr-array-preview,\n",
       ".xr-array-data {\n",
       "  padding: 0 5px !important;\n",
       "  grid-column: 2;\n",
       "}\n",
       "\n",
       ".xr-array-data,\n",
       ".xr-array-in:checked ~ .xr-array-preview {\n",
       "  display: none;\n",
       "}\n",
       "\n",
       ".xr-array-in:checked ~ .xr-array-data,\n",
       ".xr-array-preview {\n",
       "  display: inline-block;\n",
       "}\n",
       "\n",
       ".xr-dim-list {\n",
       "  display: inline-block !important;\n",
       "  list-style: none;\n",
       "  padding: 0 !important;\n",
       "  margin: 0;\n",
       "}\n",
       "\n",
       ".xr-dim-list li {\n",
       "  display: inline-block;\n",
       "  padding: 0;\n",
       "  margin: 0;\n",
       "}\n",
       "\n",
       ".xr-dim-list:before {\n",
       "  content: '(';\n",
       "}\n",
       "\n",
       ".xr-dim-list:after {\n",
       "  content: ')';\n",
       "}\n",
       "\n",
       ".xr-dim-list li:not(:last-child):after {\n",
       "  content: ',';\n",
       "  padding-right: 5px;\n",
       "}\n",
       "\n",
       ".xr-has-index {\n",
       "  font-weight: bold;\n",
       "}\n",
       "\n",
       ".xr-var-list,\n",
       ".xr-var-item {\n",
       "  display: contents;\n",
       "}\n",
       "\n",
       ".xr-var-item > div,\n",
       ".xr-var-item label,\n",
       ".xr-var-item > .xr-var-name span {\n",
       "  background-color: var(--xr-background-color-row-even);\n",
       "  margin-bottom: 0;\n",
       "}\n",
       "\n",
       ".xr-var-item > .xr-var-name:hover span {\n",
       "  padding-right: 5px;\n",
       "}\n",
       "\n",
       ".xr-var-list > li:nth-child(odd) > div,\n",
       ".xr-var-list > li:nth-child(odd) > label,\n",
       ".xr-var-list > li:nth-child(odd) > .xr-var-name span {\n",
       "  background-color: var(--xr-background-color-row-odd);\n",
       "}\n",
       "\n",
       ".xr-var-name {\n",
       "  grid-column: 1;\n",
       "}\n",
       "\n",
       ".xr-var-dims {\n",
       "  grid-column: 2;\n",
       "}\n",
       "\n",
       ".xr-var-dtype {\n",
       "  grid-column: 3;\n",
       "  text-align: right;\n",
       "  color: var(--xr-font-color2);\n",
       "}\n",
       "\n",
       ".xr-var-preview {\n",
       "  grid-column: 4;\n",
       "}\n",
       "\n",
       ".xr-var-name,\n",
       ".xr-var-dims,\n",
       ".xr-var-dtype,\n",
       ".xr-preview,\n",
       ".xr-attrs dt {\n",
       "  white-space: nowrap;\n",
       "  overflow: hidden;\n",
       "  text-overflow: ellipsis;\n",
       "  padding-right: 10px;\n",
       "}\n",
       "\n",
       ".xr-var-name:hover,\n",
       ".xr-var-dims:hover,\n",
       ".xr-var-dtype:hover,\n",
       ".xr-attrs dt:hover {\n",
       "  overflow: visible;\n",
       "  width: auto;\n",
       "  z-index: 1;\n",
       "}\n",
       "\n",
       ".xr-var-attrs,\n",
       ".xr-var-data {\n",
       "  display: none;\n",
       "  background-color: var(--xr-background-color) !important;\n",
       "  padding-bottom: 5px !important;\n",
       "}\n",
       "\n",
       ".xr-var-attrs-in:checked ~ .xr-var-attrs,\n",
       ".xr-var-data-in:checked ~ .xr-var-data {\n",
       "  display: block;\n",
       "}\n",
       "\n",
       ".xr-var-data > table {\n",
       "  float: right;\n",
       "}\n",
       "\n",
       ".xr-var-name span,\n",
       ".xr-var-data,\n",
       ".xr-attrs {\n",
       "  padding-left: 25px !important;\n",
       "}\n",
       "\n",
       ".xr-attrs,\n",
       ".xr-var-attrs,\n",
       ".xr-var-data {\n",
       "  grid-column: 1 / -1;\n",
       "}\n",
       "\n",
       "dl.xr-attrs {\n",
       "  padding: 0;\n",
       "  margin: 0;\n",
       "  display: grid;\n",
       "  grid-template-columns: 125px auto;\n",
       "}\n",
       "\n",
       ".xr-attrs dt,\n",
       ".xr-attrs dd {\n",
       "  padding: 0;\n",
       "  margin: 0;\n",
       "  float: left;\n",
       "  padding-right: 10px;\n",
       "  width: auto;\n",
       "}\n",
       "\n",
       ".xr-attrs dt {\n",
       "  font-weight: normal;\n",
       "  grid-column: 1;\n",
       "}\n",
       "\n",
       ".xr-attrs dt:hover span {\n",
       "  display: inline-block;\n",
       "  background: var(--xr-background-color);\n",
       "  padding-right: 10px;\n",
       "}\n",
       "\n",
       ".xr-attrs dd {\n",
       "  grid-column: 2;\n",
       "  white-space: pre-wrap;\n",
       "  word-break: break-all;\n",
       "}\n",
       "\n",
       ".xr-icon-database,\n",
       ".xr-icon-file-text2 {\n",
       "  display: inline-block;\n",
       "  vertical-align: middle;\n",
       "  width: 1em;\n",
       "  height: 1.5em !important;\n",
       "  stroke-width: 0;\n",
       "  stroke: currentColor;\n",
       "  fill: currentColor;\n",
       "}\n",
       "</style><pre class='xr-text-repr-fallback'>&lt;xarray.DataArray &#x27;scen&#x27; (lon: 4, time: 365, lat: 4)&gt;\n",
       "array([[[15.56018454, 25.0351381 , 19.46581122, 20.40543795],\n",
       "        [19.88532988, 21.50093264, 32.48568965, 25.73045065],\n",
       "        [17.10273569, 14.54645606, 12.21171904, 15.66753275],\n",
       "        ...,\n",
       "        [11.69954029, 16.43709874, 17.62883181, 20.93797062],\n",
       "        [11.13565763, 13.88428021, 26.68001593, 21.42118727],\n",
       "        [14.82490971, 14.6196171 , 24.15682879, 24.10213445]],\n",
       "\n",
       "       [[28.33823362, 17.17996039, 14.14056723, 23.19140451],\n",
       "        [12.18405001, 31.63784109, 17.53394933, 11.00612086],\n",
       "        [15.38177335, 18.47042092, 18.83244855, 10.95564698],\n",
       "        ...,\n",
       "        [13.33943485,  8.19617131, 13.3190681 , 22.94168295],\n",
       "        [12.45080539, 29.47125594, 32.6671893 , 19.09060382],\n",
       "        [16.95392835, 25.91156292, 19.30079561, 15.77585833]],\n",
       "\n",
       "       [[11.7951727 , 11.29910936, 30.73478249, 10.33294585],\n",
       "        [22.3254122 , 27.08090258, 14.11421237, 19.99852943],\n",
       "        [23.90261442, 23.43500433, 28.70070918,  4.48492774],\n",
       "        ...,\n",
       "        [21.30143479, 18.07098234, 18.48886504, 17.22439403],\n",
       "        [26.91100808, 14.56727445, 23.50561848, 29.41120573],\n",
       "        [34.06932714, 22.92547502, 18.89427567, 10.15973255]],\n",
       "\n",
       "       [[23.94326634,  9.12417649,  1.83477836, 22.19402338],\n",
       "        [25.51260147, 21.93026227, 11.77232565,  8.37498556],\n",
       "        [17.50571346, 15.00955063, 14.63114846, 24.40081937],\n",
       "        ...,\n",
       "        [14.14546734, 22.56057417, 24.07684325, 24.11779569],\n",
       "        [ 9.72717095, 18.43029929, 27.32958069,  7.32852625],\n",
       "        [11.60541599, 30.05809448, 28.90143484, 13.21679741]]])\n",
       "Coordinates:\n",
       "  * time     (time) object 2005-01-01 00:00:00 ... 2005-12-31 00:00:00\n",
       "  * lat      (lat) float64 42.25 42.21 42.63 42.59\n",
       "  * lon      (lon) float64 -99.83 -99.32 -99.79 -99.23\n",
       "Attributes:\n",
       "    units:            K\n",
       "    history:          [2021-10-29 23:45:02] : Bias-adjusted with QuantileDelt...\n",
       "    bias_adjustment:  AnalogQuantilePreservingDownscaling(group=Grouper(add_d...</pre><div class='xr-wrap' hidden><div class='xr-header'><div class='xr-obj-type'>xarray.DataArray</div><div class='xr-array-name'>'scen'</div><ul class='xr-dim-list'><li><span class='xr-has-index'>lon</span>: 4</li><li><span class='xr-has-index'>time</span>: 365</li><li><span class='xr-has-index'>lat</span>: 4</li></ul></div><ul class='xr-sections'><li class='xr-section-item'><div class='xr-array-wrap'><input id='section-8ceedb9e-f2bb-440f-b1fc-91c4f187e351' class='xr-array-in' type='checkbox' checked><label for='section-8ceedb9e-f2bb-440f-b1fc-91c4f187e351' title='Show/hide data repr'><svg class='icon xr-icon-database'><use xlink:href='#icon-database'></use></svg></label><div class='xr-array-preview xr-preview'><span>15.56 25.04 19.47 20.41 19.89 21.5 ... 7.329 11.61 30.06 28.9 13.22</span></div><div class='xr-array-data'><pre>array([[[15.56018454, 25.0351381 , 19.46581122, 20.40543795],\n",
       "        [19.88532988, 21.50093264, 32.48568965, 25.73045065],\n",
       "        [17.10273569, 14.54645606, 12.21171904, 15.66753275],\n",
       "        ...,\n",
       "        [11.69954029, 16.43709874, 17.62883181, 20.93797062],\n",
       "        [11.13565763, 13.88428021, 26.68001593, 21.42118727],\n",
       "        [14.82490971, 14.6196171 , 24.15682879, 24.10213445]],\n",
       "\n",
       "       [[28.33823362, 17.17996039, 14.14056723, 23.19140451],\n",
       "        [12.18405001, 31.63784109, 17.53394933, 11.00612086],\n",
       "        [15.38177335, 18.47042092, 18.83244855, 10.95564698],\n",
       "        ...,\n",
       "        [13.33943485,  8.19617131, 13.3190681 , 22.94168295],\n",
       "        [12.45080539, 29.47125594, 32.6671893 , 19.09060382],\n",
       "        [16.95392835, 25.91156292, 19.30079561, 15.77585833]],\n",
       "\n",
       "       [[11.7951727 , 11.29910936, 30.73478249, 10.33294585],\n",
       "        [22.3254122 , 27.08090258, 14.11421237, 19.99852943],\n",
       "        [23.90261442, 23.43500433, 28.70070918,  4.48492774],\n",
       "        ...,\n",
       "        [21.30143479, 18.07098234, 18.48886504, 17.22439403],\n",
       "        [26.91100808, 14.56727445, 23.50561848, 29.41120573],\n",
       "        [34.06932714, 22.92547502, 18.89427567, 10.15973255]],\n",
       "\n",
       "       [[23.94326634,  9.12417649,  1.83477836, 22.19402338],\n",
       "        [25.51260147, 21.93026227, 11.77232565,  8.37498556],\n",
       "        [17.50571346, 15.00955063, 14.63114846, 24.40081937],\n",
       "        ...,\n",
       "        [14.14546734, 22.56057417, 24.07684325, 24.11779569],\n",
       "        [ 9.72717095, 18.43029929, 27.32958069,  7.32852625],\n",
       "        [11.60541599, 30.05809448, 28.90143484, 13.21679741]]])</pre></div></div></li><li class='xr-section-item'><input id='section-92da2036-2d11-43f9-aada-0ec3dedf6890' class='xr-section-summary-in' type='checkbox'  checked><label for='section-92da2036-2d11-43f9-aada-0ec3dedf6890' class='xr-section-summary' >Coordinates: <span>(3)</span></label><div class='xr-section-inline-details'></div><div class='xr-section-details'><ul class='xr-var-list'><li class='xr-var-item'><div class='xr-var-name'><span class='xr-has-index'>time</span></div><div class='xr-var-dims'>(time)</div><div class='xr-var-dtype'>object</div><div class='xr-var-preview xr-preview'>2005-01-01 00:00:00 ... 2005-12-...</div><input id='attrs-1007f588-dfb8-4afb-a2ea-e8cc308e4d84' class='xr-var-attrs-in' type='checkbox' disabled><label for='attrs-1007f588-dfb8-4afb-a2ea-e8cc308e4d84' title='Show/Hide attributes'><svg class='icon xr-icon-file-text2'><use xlink:href='#icon-file-text2'></use></svg></label><input id='data-01c4229b-ff55-4b8d-8542-65eca666be73' class='xr-var-data-in' type='checkbox'><label for='data-01c4229b-ff55-4b8d-8542-65eca666be73' title='Show/Hide data repr'><svg class='icon xr-icon-database'><use xlink:href='#icon-database'></use></svg></label><div class='xr-var-attrs'><dl class='xr-attrs'></dl></div><div class='xr-var-data'><pre>array([cftime.DatetimeNoLeap(2005, 1, 1, 0, 0, 0, 0, has_year_zero=True),\n",
       "       cftime.DatetimeNoLeap(2005, 1, 2, 0, 0, 0, 0, has_year_zero=True),\n",
       "       cftime.DatetimeNoLeap(2005, 1, 3, 0, 0, 0, 0, has_year_zero=True), ...,\n",
       "       cftime.DatetimeNoLeap(2005, 12, 29, 0, 0, 0, 0, has_year_zero=True),\n",
       "       cftime.DatetimeNoLeap(2005, 12, 30, 0, 0, 0, 0, has_year_zero=True),\n",
       "       cftime.DatetimeNoLeap(2005, 12, 31, 0, 0, 0, 0, has_year_zero=True)],\n",
       "      dtype=object)</pre></div></li><li class='xr-var-item'><div class='xr-var-name'><span class='xr-has-index'>lat</span></div><div class='xr-var-dims'>(lat)</div><div class='xr-var-dtype'>float64</div><div class='xr-var-preview xr-preview'>42.25 42.21 42.63 42.59</div><input id='attrs-570eeb9a-86dd-4ae8-b8ed-440d227f2f37' class='xr-var-attrs-in' type='checkbox' disabled><label for='attrs-570eeb9a-86dd-4ae8-b8ed-440d227f2f37' title='Show/Hide attributes'><svg class='icon xr-icon-file-text2'><use xlink:href='#icon-file-text2'></use></svg></label><input id='data-a7302b0a-167e-4add-9163-56daa21e9f3c' class='xr-var-data-in' type='checkbox'><label for='data-a7302b0a-167e-4add-9163-56daa21e9f3c' title='Show/Hide data repr'><svg class='icon xr-icon-database'><use xlink:href='#icon-database'></use></svg></label><div class='xr-var-attrs'><dl class='xr-attrs'></dl></div><div class='xr-var-data'><pre>array([42.25, 42.21, 42.63, 42.59])</pre></div></li><li class='xr-var-item'><div class='xr-var-name'><span class='xr-has-index'>lon</span></div><div class='xr-var-dims'>(lon)</div><div class='xr-var-dtype'>float64</div><div class='xr-var-preview xr-preview'>-99.83 -99.32 -99.79 -99.23</div><input id='attrs-87951660-8d28-4dc1-8e8a-23227021e148' class='xr-var-attrs-in' type='checkbox' disabled><label for='attrs-87951660-8d28-4dc1-8e8a-23227021e148' title='Show/Hide attributes'><svg class='icon xr-icon-file-text2'><use xlink:href='#icon-file-text2'></use></svg></label><input id='data-a548f051-8f32-4c91-911f-101cea8c6bed' class='xr-var-data-in' type='checkbox'><label for='data-a548f051-8f32-4c91-911f-101cea8c6bed' title='Show/Hide data repr'><svg class='icon xr-icon-database'><use xlink:href='#icon-database'></use></svg></label><div class='xr-var-attrs'><dl class='xr-attrs'></dl></div><div class='xr-var-data'><pre>array([-99.83, -99.32, -99.79, -99.23])</pre></div></li></ul></div></li><li class='xr-section-item'><input id='section-e128fea1-2619-4574-b70f-41627c7cc2bd' class='xr-section-summary-in' type='checkbox'  checked><label for='section-e128fea1-2619-4574-b70f-41627c7cc2bd' class='xr-section-summary' >Attributes: <span>(3)</span></label><div class='xr-section-inline-details'></div><div class='xr-section-details'><dl class='xr-attrs'><dt><span>units :</span></dt><dd>K</dd><dt><span>history :</span></dt><dd>[2021-10-29 23:45:02] : Bias-adjusted with QuantileDeltaMapping(group=Grouper(add_dims=[], name=&#x27;time.dayofyear&#x27;, window=31, interp=False), kind=&#x27;+&#x27;).adjust(sim, ) - xclim version: 0.30.5-beta.\n",
       "[2021-10-29 23:45:08] : Bias-adjusted with AnalogQuantilePreservingDownscaling(group=Grouper(add_dims=[], name=&#x27;time.dayofyear&#x27;, window=31, interp=False), kind=&#x27;+&#x27;).adjust(sim, ) - xclim version: 0.30.5-beta.</dd><dt><span>bias_adjustment :</span></dt><dd>AnalogQuantilePreservingDownscaling(group=Grouper(add_dims=[], name=&#x27;time.dayofyear&#x27;, window=31, interp=False), kind=&#x27;+&#x27;).adjust(sim, )</dd></dl></div></li></ul></div></div>"
      ],
      "text/plain": [
       "<xarray.DataArray 'scen' (lon: 4, time: 365, lat: 4)>\n",
       "array([[[15.56018454, 25.0351381 , 19.46581122, 20.40543795],\n",
       "        [19.88532988, 21.50093264, 32.48568965, 25.73045065],\n",
       "        [17.10273569, 14.54645606, 12.21171904, 15.66753275],\n",
       "        ...,\n",
       "        [11.69954029, 16.43709874, 17.62883181, 20.93797062],\n",
       "        [11.13565763, 13.88428021, 26.68001593, 21.42118727],\n",
       "        [14.82490971, 14.6196171 , 24.15682879, 24.10213445]],\n",
       "\n",
       "       [[28.33823362, 17.17996039, 14.14056723, 23.19140451],\n",
       "        [12.18405001, 31.63784109, 17.53394933, 11.00612086],\n",
       "        [15.38177335, 18.47042092, 18.83244855, 10.95564698],\n",
       "        ...,\n",
       "        [13.33943485,  8.19617131, 13.3190681 , 22.94168295],\n",
       "        [12.45080539, 29.47125594, 32.6671893 , 19.09060382],\n",
       "        [16.95392835, 25.91156292, 19.30079561, 15.77585833]],\n",
       "\n",
       "       [[11.7951727 , 11.29910936, 30.73478249, 10.33294585],\n",
       "        [22.3254122 , 27.08090258, 14.11421237, 19.99852943],\n",
       "        [23.90261442, 23.43500433, 28.70070918,  4.48492774],\n",
       "        ...,\n",
       "        [21.30143479, 18.07098234, 18.48886504, 17.22439403],\n",
       "        [26.91100808, 14.56727445, 23.50561848, 29.41120573],\n",
       "        [34.06932714, 22.92547502, 18.89427567, 10.15973255]],\n",
       "\n",
       "       [[23.94326634,  9.12417649,  1.83477836, 22.19402338],\n",
       "        [25.51260147, 21.93026227, 11.77232565,  8.37498556],\n",
       "        [17.50571346, 15.00955063, 14.63114846, 24.40081937],\n",
       "        ...,\n",
       "        [14.14546734, 22.56057417, 24.07684325, 24.11779569],\n",
       "        [ 9.72717095, 18.43029929, 27.32958069,  7.32852625],\n",
       "        [11.60541599, 30.05809448, 28.90143484, 13.21679741]]])\n",
       "Coordinates:\n",
       "  * time     (time) object 2005-01-01 00:00:00 ... 2005-12-31 00:00:00\n",
       "  * lat      (lat) float64 42.25 42.21 42.63 42.59\n",
       "  * lon      (lon) float64 -99.83 -99.32 -99.79 -99.23\n",
       "Attributes:\n",
       "    units:            K\n",
       "    history:          [2021-10-29 23:45:02] : Bias-adjusted with QuantileDelt...\n",
       "    bias_adjustment:  AnalogQuantilePreservingDownscaling(group=Grouper(add_d..."
      ]
     },
     "execution_count": 20,
     "metadata": {},
     "output_type": "execute_result"
    }
   ],
   "source": [
    "aiqpd_downscaled"
   ]
  },
  {
   "cell_type": "code",
   "execution_count": null,
   "metadata": {},
   "outputs": [],
   "source": [
    "# AIQPD"
   ]
  },
  {
   "cell_type": "code",
   "execution_count": null,
   "metadata": {},
   "outputs": [],
   "source": [
    "'''print(ds['temperature'].shape)\n",
    "print(temp_slice_mean_resampled.shape)\n",
    "\n",
    "print(20*365)\n",
    "print(31*20)\n",
    "\n",
    "print(temp_slice.shape)\n",
    "print(temp_slice_mean_resampled.shape)'''"
   ]
  },
  {
   "cell_type": "code",
   "execution_count": null,
   "metadata": {},
   "outputs": [],
   "source": [
    "# AIQPD.train(ref[:5000, :, :], hist[:5000, :, :])\n",
    "# AIQPD.train(temp_slice_mean_resampled, temp_slice)\n",
    "'''AIQPD.train(ref_coarse, ref_fine)\n",
    "AIQPD'''"
   ]
  },
  {
   "cell_type": "code",
   "execution_count": null,
   "metadata": {},
   "outputs": [],
   "source": [
    "print(AIQPD.ds.af.shape)"
   ]
  },
  {
   "cell_type": "code",
   "execution_count": null,
   "metadata": {},
   "outputs": [],
   "source": [
    "AIQPD.ds.af"
   ]
  },
  {
   "cell_type": "code",
   "execution_count": null,
   "metadata": {},
   "outputs": [],
   "source": [
    "'''len(np.unique(biascorrected.time.dt.year))\n",
    "365*20'''"
   ]
  },
  {
   "cell_type": "code",
   "execution_count": null,
   "metadata": {},
   "outputs": [],
   "source": [
    "# AIQPD.ds.af[0, 0, 0, :].isel(dayofyear=352)\n",
    "# AIQPD.ds.af[0, 0, :, :].isel(dayofyear=362)"
   ]
  },
  {
   "cell_type": "code",
   "execution_count": null,
   "metadata": {},
   "outputs": [],
   "source": [
    "biascorrected_year.chunks"
   ]
  },
  {
   "cell_type": "code",
   "execution_count": null,
   "metadata": {},
   "outputs": [],
   "source": [
    "AIQPD.ds.af.shape"
   ]
  },
  {
   "cell_type": "code",
   "execution_count": null,
   "metadata": {},
   "outputs": [],
   "source": [
    "AIQPD.ds.af"
   ]
  },
  {
   "cell_type": "code",
   "execution_count": null,
   "metadata": {},
   "outputs": [],
   "source": [
    "# aiqpd_downscaled = AIQPD.adjust(biascorrected)\n",
    "aiqpd_downscaled = AIQPD.adjust(biascorrected_year)"
   ]
  },
  {
   "cell_type": "code",
   "execution_count": null,
   "metadata": {},
   "outputs": [],
   "source": []
  },
  {
   "cell_type": "code",
   "execution_count": null,
   "metadata": {},
   "outputs": [],
   "source": [
    "sim_year_slice = ds_bc.sel(time=slice(\"{}-01-01\".format(year), \"{}-12-31\".format(year)))\n",
    "\n",
    "# pick a day\n",
    "# print(\"bias corrected value is {}\".format(temp_slice_mean_climatechange.isel(time=100).values[0][0]))\n",
    "print(\"simulation value is {}\".format(sim_year_slice.isel(time=100).values))\n",
    "quantile = 0.75\n",
    "\n",
    "print(\"test quantile is {}\".format(quantile))\n",
    "\n",
    "closest_quantile_index = np.argmin(np.abs(AIQPD.ds.af.quantiles.values - quantile))\n",
    "\n",
    "'''downscaled = (AIQPD.ds.af.isel(dayofyear=100).isel(quantiles=closest_quantile_index) \n",
    "              + temp_slice_mean_climatechange.isel(time=100))'''\n",
    "\n",
    "'''downscaled = (AIQPD.ds.af.isel(dayofyear=100).isel(quantiles=closest_quantile_index) \n",
    "              + ds_bc.isel(time=100))'''\n",
    "downscaled = (AIQPD.ds.af.isel(dayofyear=100).isel(quantiles=closest_quantile_index) \n",
    "              + biascorrected_year.isel(time=100))\n",
    "\n",
    "print(\"klugey downscaled mean value (where I apply adjustment factors to the bias corrected values from above) is {}\".format(downscaled.mean().values))\n",
    "# print(\"fake bias corrected value is {}\".format(biascorrected.isel(time=100).values[0][0]))\n",
    "\n",
    "print(\"fake bias corrected value is {}\".format(biascorrected_year.isel(time=100).values[0][0]))\n",
    "\n",
    "print(\"aiqpd adjusted downscaled values are {}\".format(aiqpd_downscaled.isel(time=100)))\n",
    "\n",
    "print(\"aiqpd adjusted downscaled value is {}\".format(aiqpd_downscaled.isel(time=100).mean().values))"
   ]
  },
  {
   "cell_type": "code",
   "execution_count": null,
   "metadata": {},
   "outputs": [],
   "source": []
  },
  {
   "cell_type": "code",
   "execution_count": null,
   "metadata": {},
   "outputs": [],
   "source": []
  }
 ],
 "metadata": {
  "kernelspec": {
   "display_name": "Python 3",
   "language": "python",
   "name": "python3"
  },
  "language_info": {
   "codemirror_mode": {
    "name": "ipython",
    "version": 3
   },
   "file_extension": ".py",
   "mimetype": "text/x-python",
   "name": "python",
   "nbconvert_exporter": "python",
   "pygments_lexer": "ipython3",
   "version": "3.8.6"
  },
  "widgets": {
   "application/vnd.jupyter.widget-state+json": {
    "state": {},
    "version_major": 2,
    "version_minor": 0
   }
  }
 },
 "nbformat": 4,
 "nbformat_minor": 4
}
