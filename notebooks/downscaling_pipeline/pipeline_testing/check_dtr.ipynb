{
 "cells": [
  {
   "cell_type": "code",
   "execution_count": 1,
   "metadata": {},
   "outputs": [],
   "source": [
    "%matplotlib inline\n",
    "import intake\n",
    "import xarray as xr\n",
    "import os \n",
    "import pandas as pd\n",
    "import numpy as np\n",
    "import zarr \n",
    "import rhg_compute_tools.kubernetes as rhgk\n",
    "\n",
    "import matplotlib.pyplot as plt\n",
    "\n",
    "import re\n",
    "import yaml\n",
    "\n",
    "import ast\n",
    "\n",
    "import warnings "
   ]
  },
  {
   "cell_type": "code",
   "execution_count": 2,
   "metadata": {},
   "outputs": [
    {
     "data": {
      "text/plain": [
       "'client, cluster = rhgk.get_standard_cluster()\\ncluster'"
      ]
     },
     "execution_count": 2,
     "metadata": {},
     "output_type": "execute_result"
    }
   ],
   "source": [
    "'''client, cluster = rhgk.get_standard_cluster()\n",
    "cluster'''"
   ]
  },
  {
   "cell_type": "code",
   "execution_count": 3,
   "metadata": {},
   "outputs": [],
   "source": [
    "col = intake.open_esm_datastore(\"https://storage.googleapis.com/cmip6/pangeo-cmip6.json\")"
   ]
  },
  {
   "cell_type": "code",
   "execution_count": 4,
   "metadata": {},
   "outputs": [],
   "source": [
    "def _paramfile_to_tuple(model, variable):\n",
    "    \"\"\"\n",
    "    takes in a model and variable, returns tuple from parameter file. \n",
    "    \"\"\"\n",
    "    param_file = '/home/jovyan/downscaling/downscale/workflows/parameters/{}-{}.yaml'.format(model, variable)\n",
    "    with open(param_file, 'r') as f:\n",
    "        var_dict = yaml.full_load(f)\n",
    "    # some string parsing \n",
    "    line = var_dict['jobs']\n",
    "    line1 = re.sub(r\"\\n\", \"\", line)\n",
    "    line2 = re.sub(r\"[\\[\\]]\", \"\", line1)\n",
    "    return ast.literal_eval(line2.strip())\n",
    "\n",
    "def _get_cmip6_dataset(model, variable, tuple_id, period='ssp'):\n",
    "    d_ssp = _paramfile_to_tuple(model, variable)[tuple_id][period]\n",
    "    cat = col.search(\n",
    "              activity_id=d_ssp['activity_id'],\n",
    "              experiment_id=d_ssp['experiment_id'],\n",
    "              table_id=d_ssp['table_id'],\n",
    "              variable_id=d_ssp['variable_id'],\n",
    "              source_id=d_ssp['source_id'],\n",
    "              member_id=d_ssp['member_id'],\n",
    "              grid_label=d_ssp['grid_label'],\n",
    "              version=int(d_ssp['version']),\n",
    "          )\n",
    "    return cat.to_dataset_dict(progressbar=False)\n",
    "\n",
    "def compute_dtr(model, tuple_id=1):\n",
    "    \"\"\"\n",
    "    takes in tasmax and tasmin Datasets, computes DTR (returns it lazily)\n",
    "    \"\"\"\n",
    "    tasmax = _get_cmip6_dataset(model, 'tasmax', tuple_id)\n",
    "    k_tasmax = list(tasmax.keys())\n",
    "    if len(k_tasmax) != 1:\n",
    "        raise ValueError(\"there is likely an issue with {} tasmax\".format(model))\n",
    "    tasmin = _get_cmip6_dataset(model, 'tasmin', tuple_id)\n",
    "    k_tasmin = list(tasmin.keys())\n",
    "    if len(k_tasmin) != 1:\n",
    "        raise ValueError(\"there is likely an issue with {} tasmin\".format(model))\n",
    "    return tasmax[k_tasmax[0]]['tasmax'] - tasmin[k_tasmin[0]]['tasmin'] \n",
    "\n",
    "def check_dtr(dtr, model):\n",
    "    \"\"\"\n",
    "    \"\"\"\n",
    "    min_dtr = dtr.min('time')\n",
    "    neg_count = min_dtr.where(min_dtr <= 0).count().values\n",
    "    if neg_count > 0:\n",
    "        warnings.warn(\"DTR has negative values for {}\".format(model))"
   ]
  },
  {
   "cell_type": "markdown",
   "metadata": {},
   "source": [
    "checking models "
   ]
  },
  {
   "cell_type": "markdown",
   "metadata": {},
   "source": [
    "DTR negative: \n",
    "- GFDL-ESM4\n",
    "- GFDL-CM4\n",
    "\n",
    "DTR positive: \n",
    "- CanESM5\n",
    "- INM-CM4-8\n",
    "- INM-CM5-0\n",
    "- NorESM2-MM\n",
    "- NorESM2-LM\n",
    "- MIROC6\n",
    "- EC-Earth3-Veg-LR\n",
    "- EC-Earth3-Veg\n",
    "- EC-Earth3\n",
    "- KIOST-ESM\n",
    "- MIROC-ES2L\n",
    "- MPI-ESM1-2-LR\n",
    "- MPI-ESM1-2-HR\n",
    "- NESM3\n",
    "- MRI-ESM2-0\n",
    "- FGOALS-g3\n",
    "- CMCC-ESM2\n",
    "- BCC-CSM2-MR\n",
    "- AWI-CM-1-1-MR\n",
    "- ACCESS-CM2\n",
    "\n",
    "Parameter files to add or fix (could not check DTR): \n",
    "- UKESM1-0-LL\n",
    "- ACCESS-ESM1-5\n",
    "- MPI-ESM1-2-HAM\n",
    "\n",
    "Tasmin parameter files to add (could not check DTR): \n",
    "- CAMS-CSM1-0"
   ]
  },
  {
   "cell_type": "code",
   "execution_count": 5,
   "metadata": {},
   "outputs": [],
   "source": [
    "model = 'NorESM2-MM'"
   ]
  },
  {
   "cell_type": "code",
   "execution_count": 8,
   "metadata": {},
   "outputs": [],
   "source": [
    "# _get_cmip6_dataset(model, 'tasmax', 0)"
   ]
  },
  {
   "cell_type": "code",
   "execution_count": 6,
   "metadata": {},
   "outputs": [],
   "source": [
    "dtr = compute_dtr(model, tuple_id=0)"
   ]
  },
  {
   "cell_type": "code",
   "execution_count": 39,
   "metadata": {},
   "outputs": [],
   "source": [
    "check_dtr(dtr, model)"
   ]
  },
  {
   "cell_type": "code",
   "execution_count": null,
   "metadata": {},
   "outputs": [],
   "source": []
  }
 ],
 "metadata": {
  "kernelspec": {
   "display_name": "Python 3",
   "language": "python",
   "name": "python3"
  },
  "language_info": {
   "codemirror_mode": {
    "name": "ipython",
    "version": 3
   },
   "file_extension": ".py",
   "mimetype": "text/x-python",
   "name": "python",
   "nbconvert_exporter": "python",
   "pygments_lexer": "ipython3",
   "version": "3.8.6"
  },
  "widgets": {
   "application/vnd.jupyter.widget-state+json": {
    "state": {},
    "version_major": 2,
    "version_minor": 0
   }
  }
 },
 "nbformat": 4,
 "nbformat_minor": 4
}
