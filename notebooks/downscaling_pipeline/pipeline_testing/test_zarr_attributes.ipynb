{
 "cells": [
  {
   "cell_type": "code",
   "execution_count": 1,
   "id": "97ffc84e-d847-4a14-88c6-891196a732df",
   "metadata": {},
   "outputs": [],
   "source": [
    "%matplotlib inline\n",
    "import xarray as xr\n",
    "import numpy as np \n",
    "import os \n",
    "\n",
    "import intake\n",
    "import zarr \n",
    "import gcsfs"
   ]
  },
  {
   "cell_type": "code",
   "execution_count": 28,
   "id": "786e791e-e5fa-46ee-aed3-2fed379942a2",
   "metadata": {},
   "outputs": [],
   "source": [
    "# grab a CMIP6 store with a bunch of attributes \n",
    "fs = gcsfs.GCSFileSystem(token='/opt/gcsfuse_tokens/impactlab-data.json')\n",
    "store_filename = 'gs://impactlab-data/climate/source_data/downscaling/GFDL-ESM4.ssp370.zarr'\n",
    "new_store_filename = 'gs://impactlab-data/climate/source_data/downscaling/attributes/GFDL-ESM4.ssp370.zarr'\n",
    "store = fs.get_mapper(store_filename, check=False)\n",
    "new_store = fs.get_mapper(new_store_filename, check=False)"
   ]
  },
  {
   "cell_type": "code",
   "execution_count": 13,
   "id": "23daff5f-00aa-4737-8504-375279555330",
   "metadata": {},
   "outputs": [],
   "source": [
    "ds = xr.open_zarr(store)\n",
    "attrs = ds.attrs\n",
    "\n",
    "# add an attribute\n",
    "attrs['downscaling_method'] = \"the catchiest name ever\""
   ]
  },
  {
   "cell_type": "code",
   "execution_count": 24,
   "id": "8063345e-8074-423a-89c7-95dcc8745859",
   "metadata": {},
   "outputs": [],
   "source": [
    "# inspect the attributes to make sure it got added to the original attributes dict\n",
    "ds.attrs = attrs"
   ]
  },
  {
   "cell_type": "code",
   "execution_count": 29,
   "id": "a206f975-c805-4ff8-b843-63b7685db575",
   "metadata": {},
   "outputs": [
    {
     "data": {
      "text/plain": [
       "<xarray.backends.zarr.ZarrStore at 0x7fdde3d58c80>"
      ]
     },
     "execution_count": 29,
     "metadata": {},
     "output_type": "execute_result"
    }
   ],
   "source": [
    "# write the zarr with the new attributes to a new path \n",
    "ds.to_zarr(new_store, consolidated=True, mode=\"w\")"
   ]
  },
  {
   "cell_type": "code",
   "execution_count": 31,
   "id": "4b185569-5224-4796-a375-28bd034d62b8",
   "metadata": {},
   "outputs": [
    {
     "data": {
      "text/plain": [
       "{'Conventions': 'CF-1.7 CMIP-6.0 UGRID-1.0',\n",
       " 'activity_id': 'ScenarioMIP',\n",
       " 'branch_method': 'standard',\n",
       " 'branch_time_in_child': 60225.0,\n",
       " 'branch_time_in_parent': 60225.0,\n",
       " 'comment': '<null ref>',\n",
       " 'contact': 'gfdl.climate.model.info@noaa.gov',\n",
       " 'creation_date': '2019-06-19T14:36:33Z',\n",
       " 'data_specs_version': '01.00.27',\n",
       " 'downscaling_method': 'the catchiest name ever',\n",
       " 'experiment': 'gap-filling scenario reaching 7.0 based on SSP3',\n",
       " 'experiment_id': 'ssp370',\n",
       " 'external_variables': 'areacella',\n",
       " 'forcing_index': 1,\n",
       " 'frequency': 'day',\n",
       " 'further_info_url': 'https://furtherinfo.es-doc.org/CMIP6.NOAA-GFDL.GFDL-ESM4.ssp370.none.r1i1p1f1',\n",
       " 'grid': 'atmos data regridded from Cubed-sphere (c96) to 180,288; interpolation method: conserve_order2',\n",
       " 'grid_label': 'gr1',\n",
       " 'history': 'File was processed by fremetar (GFDL analog of CMOR). TripleID: [exper_id_T9mm5v9pOZ,realiz_id_ur28EZVKVR,run_id_DymhTr1vMZ]',\n",
       " 'initialization_index': 1,\n",
       " 'institution': 'National Oceanic and Atmospheric Administration, Geophysical Fluid Dynamics Laboratory, Princeton, NJ 08540, USA',\n",
       " 'institution_id': 'NOAA-GFDL',\n",
       " 'intake_esm_dataset_key': 'ScenarioMIP.NOAA-GFDL.GFDL-ESM4.ssp370.day.gr1',\n",
       " 'intake_esm_varname': ['tasmax'],\n",
       " 'license': 'CMIP6 model data produced by NOAA-GFDL is licensed under a Creative Commons Attribution-ShareAlike 4.0 International License (https://creativecommons.org/licenses/). Consult https://pcmdi.llnl.gov/CMIP6/TermsOfUse for terms of use governing CMIP6 output, including citation requirements and proper acknowledgment. Further information about this data, including some limitations, can be found via the further_info_url (recorded as a global attribute in this file). The data producers and data providers make no warranty, either express or implied, including, but not limited to, warranties of merchantability and fitness for a particular purpose. All liabilities arising from the supply of the information (including any liability arising in negligence) are excluded to the fullest extent permitted by law.',\n",
       " 'mip_era': 'CMIP6',\n",
       " 'netcdf_tracking_ids': 'hdl:21.14100/968a1f24-b80f-41bc-99e4-6e22d2fccc42\\nhdl:21.14100/17393b1a-15be-4b27-bb4c-38c2efabd347\\nhdl:21.14100/4e52fa56-3858-43e8-890c-cf2f80f2beaa\\nhdl:21.14100/8a594a92-15ab-454a-b4ed-8e1f995d42b6\\nhdl:21.14100/3a4ba421-1a97-4659-83f9-36f16dfec285',\n",
       " 'nominal_resolution': '100 km',\n",
       " 'parent_activity_id': 'CMIP',\n",
       " 'parent_experiment_id': 'historical',\n",
       " 'parent_mip_era': 'CMIP6',\n",
       " 'parent_source_id': 'GFDL-ESM4',\n",
       " 'parent_time_units': 'days since 1850-1-1',\n",
       " 'parent_variant_label': 'r1i1p1f1',\n",
       " 'physics_index': 1,\n",
       " 'product': 'model-output',\n",
       " 'realization_index': 1,\n",
       " 'realm': 'atmos',\n",
       " 'references': 'see further_info_url attribute',\n",
       " 'source': 'GFDL-ESM4 (2018):\\natmos: GFDL-AM4.1 (Cubed-sphere (c96) - 1 degree nominal horizontal resolution; 360 x 180 longitude/latitude; 49 levels; top level 1 Pa)\\nocean: GFDL-OM4p5 (GFDL-MOM6, tripolar - nominal 0.5 deg; 720 x 576 longitude/latitude; 75 levels; top grid cell 0-2 m)\\nseaIce: GFDL-SIM4p5 (GFDL-SIS2.0, tripolar - nominal 0.5 deg; 720 x 576 longitude/latitude; 5 layers; 5 thickness categories)\\nland: GFDL-LM4.1\\naerosol: interactive\\natmosChem: GFDL-ATMCHEM4.1 (full atmospheric chemistry)\\nocnBgchem: GFDL-COBALTv2\\nlandIce: GFDL-LM4.1\\n(GFDL ID: 2019_0302)',\n",
       " 'source_id': 'GFDL-ESM4',\n",
       " 'source_type': 'AOGCM AER CHEM BGC',\n",
       " 'status': '2020-02-05;created; by gcs.cmip6.ldeo@gmail.com',\n",
       " 'sub_experiment': 'none',\n",
       " 'sub_experiment_id': 'none',\n",
       " 'table_id': 'day',\n",
       " 'title': 'NOAA GFDL GFDL-ESM4 model output prepared for CMIP6 gap-filling scenario reaching 7.0 based on SSP3',\n",
       " 'tracking_id': 'hdl:21.14100/968a1f24-b80f-41bc-99e4-6e22d2fccc42\\nhdl:21.14100/17393b1a-15be-4b27-bb4c-38c2efabd347\\nhdl:21.14100/4e52fa56-3858-43e8-890c-cf2f80f2beaa\\nhdl:21.14100/8a594a92-15ab-454a-b4ed-8e1f995d42b6\\nhdl:21.14100/3a4ba421-1a97-4659-83f9-36f16dfec285',\n",
       " 'variable_id': 'tasmax',\n",
       " 'variant_info': 'N/A',\n",
       " 'variant_label': 'r1i1p1f1',\n",
       " 'version_id': 'v20180701'}"
      ]
     },
     "execution_count": 31,
     "metadata": {},
     "output_type": "execute_result"
    }
   ],
   "source": [
    "# open the new store path and check to see if attributes have a downscaling method \n",
    "ds_new_attrs = xr.open_zarr(new_store)\n",
    "ds_new_attrs.attrs"
   ]
  }
 ],
 "metadata": {
  "kernelspec": {
   "display_name": "Python 3",
   "language": "python",
   "name": "python3"
  },
  "language_info": {
   "codemirror_mode": {
    "name": "ipython",
    "version": 3
   },
   "file_extension": ".py",
   "mimetype": "text/x-python",
   "name": "python",
   "nbconvert_exporter": "python",
   "pygments_lexer": "ipython3",
   "version": "3.8.12"
  },
  "widgets": {
   "application/vnd.jupyter.widget-state+json": {
    "state": {},
    "version_major": 2,
    "version_minor": 0
   }
  }
 },
 "nbformat": 4,
 "nbformat_minor": 5
}
