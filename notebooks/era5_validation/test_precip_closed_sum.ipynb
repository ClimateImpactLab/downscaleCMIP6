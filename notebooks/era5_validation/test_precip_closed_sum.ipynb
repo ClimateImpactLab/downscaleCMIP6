{
 "cells": [
  {
   "cell_type": "code",
   "execution_count": 1,
   "metadata": {},
   "outputs": [],
   "source": [
    "%matplotlib inline\n",
    "import xarray as xr\n",
    "import numpy as np \n",
    "import os "
   ]
  },
  {
   "cell_type": "code",
   "execution_count": 2,
   "metadata": {},
   "outputs": [],
   "source": [
    "# load some ERA-5 data, using incorrect precip data just for example purposes \n",
    "direc = '/gcs/impactlab-data/climate/source_data/ERA-5/day/precip_total/v1.0'\n",
    "filename = 'precip_total_daily_2000-2000.nc'"
   ]
  },
  {
   "cell_type": "code",
   "execution_count": 4,
   "metadata": {},
   "outputs": [],
   "source": [
    "day_data = xr.open_dataset(os.path.join(direc, filename))\n",
    "day_slice = day_data.loc[dict(time=slice(\"2000-01-01\", \"2000-01-03\"))]\n",
    "\n",
    "# resample it to hourly for example \n",
    "day_slice_hourly = day_slice.resample(time='1H').pad()"
   ]
  },
  {
   "cell_type": "code",
   "execution_count": 5,
   "metadata": {},
   "outputs": [],
   "source": [
    "# roll timestamps \n",
    "data_rolled = day_slice_hourly['precip_total'].roll(time=-1, roll_coords=True)"
   ]
  },
  {
   "cell_type": "code",
   "execution_count": 6,
   "metadata": {},
   "outputs": [
    {
     "data": {
      "text/plain": [
       "array([5.2340329e-05, 5.2340329e-05, 5.2340329e-05, 5.2340329e-05,\n",
       "       5.2340329e-05, 5.2340329e-05, 5.2340329e-05, 5.2340329e-05,\n",
       "       5.2340329e-05, 5.2340329e-05, 5.2340329e-05, 5.2340329e-05,\n",
       "       5.2340329e-05, 5.2340329e-05, 5.2340329e-05, 5.2340329e-05,\n",
       "       5.2340329e-05, 5.2340329e-05, 5.2340329e-05, 5.2340329e-05,\n",
       "       5.2340329e-05, 5.2340329e-05, 5.2340329e-05, 5.2340329e-05,\n",
       "       3.6637858e-04, 3.6637858e-04, 3.6637858e-04, 3.6637858e-04,\n",
       "       3.6637858e-04, 3.6637858e-04, 3.6637858e-04, 3.6637858e-04,\n",
       "       3.6637858e-04, 3.6637858e-04, 3.6637858e-04, 3.6637858e-04,\n",
       "       3.6637858e-04, 3.6637858e-04, 3.6637858e-04, 3.6637858e-04,\n",
       "       3.6637858e-04, 3.6637858e-04, 3.6637858e-04, 3.6637858e-04,\n",
       "       3.6637858e-04, 3.6637858e-04, 3.6637858e-04, 3.6637858e-04,\n",
       "       3.8295984e-06], dtype=float32)"
      ]
     },
     "execution_count": 6,
     "metadata": {},
     "output_type": "execute_result"
    }
   ],
   "source": [
    "# check the values for Seattle \n",
    "day_slice_hourly['precip_total'].sel(latitude=47.6, longitude=-122.33, method='nearest').values"
   ]
  },
  {
   "cell_type": "code",
   "execution_count": 7,
   "metadata": {},
   "outputs": [
    {
     "data": {
      "text/plain": [
       "array([5.2340329e-05, 5.2340329e-05, 5.2340329e-05, 5.2340329e-05,\n",
       "       5.2340329e-05, 5.2340329e-05, 5.2340329e-05, 5.2340329e-05,\n",
       "       5.2340329e-05, 5.2340329e-05, 5.2340329e-05, 5.2340329e-05,\n",
       "       5.2340329e-05, 5.2340329e-05, 5.2340329e-05, 5.2340329e-05,\n",
       "       5.2340329e-05, 5.2340329e-05, 5.2340329e-05, 5.2340329e-05,\n",
       "       5.2340329e-05, 5.2340329e-05, 5.2340329e-05, 3.6637858e-04,\n",
       "       3.6637858e-04, 3.6637858e-04, 3.6637858e-04, 3.6637858e-04,\n",
       "       3.6637858e-04, 3.6637858e-04, 3.6637858e-04, 3.6637858e-04,\n",
       "       3.6637858e-04, 3.6637858e-04, 3.6637858e-04, 3.6637858e-04,\n",
       "       3.6637858e-04, 3.6637858e-04, 3.6637858e-04, 3.6637858e-04,\n",
       "       3.6637858e-04, 3.6637858e-04, 3.6637858e-04, 3.6637858e-04,\n",
       "       3.6637858e-04, 3.6637858e-04, 3.6637858e-04, 3.8295984e-06,\n",
       "       5.2340329e-05], dtype=float32)"
      ]
     },
     "execution_count": 7,
     "metadata": {},
     "output_type": "execute_result"
    }
   ],
   "source": [
    "# compare to the rolled ones \n",
    "data_rolled.sel(latitude=47.6, longitude=-122.33, method='nearest').values"
   ]
  },
  {
   "cell_type": "code",
   "execution_count": 8,
   "metadata": {},
   "outputs": [],
   "source": [
    "# resample to daily, eliminate the very last timestamp since it's the first timestamp rolled to the end \n",
    "data_sum = data_rolled[:-1].resample(time='1D', closed='right').sum(dim='time')"
   ]
  },
  {
   "cell_type": "code",
   "execution_count": 9,
   "metadata": {},
   "outputs": [
    {
     "data": {
      "text/plain": [
       "array([0.00157021, 0.00843054], dtype=float32)"
      ]
     },
     "execution_count": 9,
     "metadata": {},
     "output_type": "execute_result"
    }
   ],
   "source": [
    "# look at the daily values \n",
    "data_sum.sel(latitude=47.6, longitude=-122.33, method='nearest').values"
   ]
  },
  {
   "cell_type": "code",
   "execution_count": 10,
   "metadata": {},
   "outputs": [
    {
     "data": {
      "text/plain": [
       "0.0015702061"
      ]
     },
     "execution_count": 10,
     "metadata": {},
     "output_type": "execute_result"
    }
   ],
   "source": [
    "# make sure that this sum is equal to the first value in the array above \n",
    "data_rolled.sel(latitude=47.6, longitude=-122.33, method='nearest').values[:24].sum()"
   ]
  },
  {
   "cell_type": "code",
   "execution_count": null,
   "metadata": {},
   "outputs": [],
   "source": []
  }
 ],
 "metadata": {
  "kernelspec": {
   "display_name": "Python 3",
   "language": "python",
   "name": "python3"
  },
  "language_info": {
   "codemirror_mode": {
    "name": "ipython",
    "version": 3
   },
   "file_extension": ".py",
   "mimetype": "text/x-python",
   "name": "python",
   "nbconvert_exporter": "python",
   "pygments_lexer": "ipython3",
   "version": "3.8.8"
  },
  "widgets": {
   "application/vnd.jupyter.widget-state+json": {
    "state": {},
    "version_major": 2,
    "version_minor": 0
   }
  }
 },
 "nbformat": 4,
 "nbformat_minor": 4
}
